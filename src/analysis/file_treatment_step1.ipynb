{
 "cells": [
  {
   "cell_type": "markdown",
   "metadata": {},
   "source": [
    "### Importando as bibliotecas necessárias para iniciar a leitura dos arquivos"
   ]
  },
  {
   "cell_type": "code",
   "execution_count": null,
   "metadata": {},
   "outputs": [],
   "source": [
    "import pandas as pd"
   ]
  },
  {
   "cell_type": "markdown",
   "metadata": {},
   "source": [
    "#### Lendo os dados da base única de 2011 a 2021"
   ]
  },
  {
   "cell_type": "code",
   "execution_count": null,
   "metadata": {},
   "outputs": [],
   "source": [
    "df_accidents = pd.read_csv(\"../../databases/acidentes2011_2021.csv\")\n",
    "df_accidents.info()\n",
    "df_accidents.describe(include=\"all\").T"
   ]
  },
  {
   "cell_type": "markdown",
   "metadata": {},
   "source": [
    "#### Verificando se o dataframe tem linhas duplicadas"
   ]
  },
  {
   "cell_type": "code",
   "execution_count": null,
   "metadata": {},
   "outputs": [],
   "source": [
    "df_accidents.duplicated().sum()"
   ]
  },
  {
   "cell_type": "markdown",
   "metadata": {},
   "source": [
    "#### Verificando dados faltantes na coluna \"br\" antes do tratamento"
   ]
  },
  {
   "cell_type": "code",
   "execution_count": null,
   "metadata": {},
   "outputs": [],
   "source": [
    "df_accidents[\"br\"].isna().sum()"
   ]
  },
  {
   "cell_type": "markdown",
   "metadata": {},
   "source": [
    "#### Verificando os tipos de dados presentes na coluna \"br\""
   ]
  },
  {
   "cell_type": "code",
   "execution_count": null,
   "metadata": {},
   "outputs": [],
   "source": [
    "df_accidents[\"br\"].apply(type).value_counts()\n",
    "#id 1058931.0"
   ]
  },
  {
   "cell_type": "markdown",
   "metadata": {},
   "source": [
    "#### Alterando o tipo de dados da coluna \"br\" para \"str\" e tratando dados faltantes como \"Desconhecido\", pois é apenas uma informação que não necessita ser numérica para esta análise"
   ]
  },
  {
   "cell_type": "code",
   "execution_count": null,
   "metadata": {},
   "outputs": [],
   "source": [
    "df_accidents[\"br\"] = df_accidents[\"br\"].fillna(\"Desconhecido\").astype(\"str\")\n",
    "df_accidents[\"br\"].apply(type).value_counts()\n",
    "df_accidents[df_accidents[\"br\"] == \"Desconhecido\"].shape"
   ]
  },
  {
   "cell_type": "markdown",
   "metadata": {},
   "source": [
    "#### Verificando dados faltantes na coluna \"km\" antes do tratamento"
   ]
  },
  {
   "cell_type": "code",
   "execution_count": null,
   "metadata": {},
   "outputs": [],
   "source": [
    "df_accidents[\"km\"].isna().sum()"
   ]
  },
  {
   "cell_type": "markdown",
   "metadata": {},
   "source": [
    "#### Verificando os tipos de dados presentes na coluna \"km\""
   ]
  },
  {
   "cell_type": "code",
   "execution_count": null,
   "metadata": {},
   "outputs": [],
   "source": [
    "df_accidents[\"km\"].apply(type).value_counts()"
   ]
  },
  {
   "cell_type": "markdown",
   "metadata": {},
   "source": [
    "#### Alterando o tipo de dados da coluna \"km\" para \"str\" e tratando dados faltantes como \"Desconhecido\", pois é apenas uma informação que não necessita ser numérica para esta análise"
   ]
  },
  {
   "cell_type": "code",
   "execution_count": null,
   "metadata": {},
   "outputs": [],
   "source": [
    "df_accidents[\"km\"] = df_accidents[\"km\"].fillna(\"Desconhecido\").astype(\"str\")\n",
    "df_accidents[\"km\"].apply(type).value_counts()\n",
    "df_accidents[df_accidents[\"km\"] == \"Desconhecido\"].shape"
   ]
  },
  {
   "cell_type": "markdown",
   "metadata": {},
   "source": [
    "#### Verificando dados faltantes na coluna \"id_veiculo\" antes do tratamento"
   ]
  },
  {
   "cell_type": "code",
   "execution_count": null,
   "metadata": {},
   "outputs": [],
   "source": [
    "df_accidents[\"id_veiculo\"].isna().sum()"
   ]
  },
  {
   "cell_type": "markdown",
   "metadata": {},
   "source": [
    "#### Verificando os tipos de dados presentes na coluna \"id_veiculo\""
   ]
  },
  {
   "cell_type": "code",
   "execution_count": null,
   "metadata": {},
   "outputs": [],
   "source": [
    "df_accidents[\"id_veiculo\"].apply(type).value_counts()"
   ]
  },
  {
   "cell_type": "markdown",
   "metadata": {},
   "source": [
    "#### Alterando o tipo de dados da coluna \"id_veiculo\" para \"str\" e tratando dados faltantes como \"Desconhecido\", pois é apenas uma informação que não necessita ser numérica para esta análise"
   ]
  },
  {
   "cell_type": "code",
   "execution_count": null,
   "metadata": {},
   "outputs": [],
   "source": [
    "df_accidents[\"id_veiculo\"] = df_accidents[\"id_veiculo\"].fillna(\"Desconhecido\").astype(\"str\")\n",
    "df_accidents[\"id_veiculo\"].apply(type).value_counts()\n",
    "df_accidents[df_accidents[\"id_veiculo\"] == \"Desconhecido\"].shape"
   ]
  },
  {
   "cell_type": "markdown",
   "metadata": {},
   "source": [
    "#### Verificando dados faltantes na coluna \"ano_fabricacao_veiculo\" antes do tratamento"
   ]
  },
  {
   "cell_type": "code",
   "execution_count": null,
   "metadata": {},
   "outputs": [],
   "source": [
    "df_accidents[\"ano_fabricacao_veiculo\"].isna().sum()"
   ]
  },
  {
   "cell_type": "markdown",
   "metadata": {},
   "source": [
    "#### Verificando os tipos de dados presentes na coluna \"ano_fabricacao_veiculo\""
   ]
  },
  {
   "cell_type": "code",
   "execution_count": null,
   "metadata": {},
   "outputs": [],
   "source": [
    "df_accidents[\"ano_fabricacao_veiculo\"].apply(type).value_counts()"
   ]
  },
  {
   "cell_type": "markdown",
   "metadata": {},
   "source": [
    "#### Alterando o tipo de dados da coluna \"ano_fabricacao_veiculo\" para \"str\" e tratando dados faltantes como \"Desconhecido\", pois é apenas uma informação que não necessita ser numérica para esta análise"
   ]
  },
  {
   "cell_type": "code",
   "execution_count": null,
   "metadata": {},
   "outputs": [],
   "source": [
    "df_accidents[\"ano_fabricacao_veiculo\"] = df_accidents[\"ano_fabricacao_veiculo\"].fillna(\"Desconhecido\").astype(\"str\")\n",
    "df_accidents[\"ano_fabricacao_veiculo\"].apply(type).value_counts()\n",
    "df_accidents[df_accidents[\"ano_fabricacao_veiculo\"] == \"Desconhecido\"].shape"
   ]
  },
  {
   "cell_type": "markdown",
   "metadata": {},
   "source": [
    "#### Verificando dados faltantes na coluna \"nacionalidade\" antes do tratamento"
   ]
  },
  {
   "cell_type": "code",
   "execution_count": null,
   "metadata": {},
   "outputs": [],
   "source": [
    "df_accidents[\"nacionalidade\"].isna().sum()"
   ]
  },
  {
   "cell_type": "markdown",
   "metadata": {},
   "source": [
    "#### Verificando os tipos de dados presentes na coluna \"nacionalidade\""
   ]
  },
  {
   "cell_type": "code",
   "execution_count": null,
   "metadata": {},
   "outputs": [],
   "source": [
    "df_accidents[\"nacionalidade\"].apply(type).value_counts()"
   ]
  },
  {
   "cell_type": "markdown",
   "metadata": {},
   "source": [
    "#### Alterando o tipo de dados da coluna \"nacionalidade\" para \"str\" e tratando dados faltantes como \"Não Informado\", seguindo os padrões da própria base de dados"
   ]
  },
  {
   "cell_type": "code",
   "execution_count": null,
   "metadata": {},
   "outputs": [],
   "source": [
    "df_accidents[\"nacionalidade\"] = df_accidents[\"nacionalidade\"].fillna(\"Não Informado\").astype(\"str\")\n",
    "df_accidents[\"nacionalidade\"].apply(type).value_counts()\n",
    "df_accidents[df_accidents[\"nacionalidade\"] == \"Não Informado\"].shape"
   ]
  },
  {
   "cell_type": "markdown",
   "metadata": {},
   "source": [
    "#### Verificando dados faltantes na coluna \"naturalidade\" antes do tratamento"
   ]
  },
  {
   "cell_type": "code",
   "execution_count": null,
   "metadata": {},
   "outputs": [],
   "source": [
    "df_accidents[\"naturalidade\"].isna().sum()"
   ]
  },
  {
   "cell_type": "markdown",
   "metadata": {},
   "source": [
    "#### Verificando os tipos de dados presentes na coluna \"naturalidade\""
   ]
  },
  {
   "cell_type": "code",
   "execution_count": null,
   "metadata": {},
   "outputs": [],
   "source": [
    "df_accidents[\"naturalidade\"].apply(type).value_counts()"
   ]
  },
  {
   "cell_type": "markdown",
   "metadata": {},
   "source": [
    "#### Alterando o tipo de dados da coluna \"naturalidade\" para \"str\" e tratando dados faltantes como \"Não Informado\", seguindo os padrões da própria base de dados"
   ]
  },
  {
   "cell_type": "code",
   "execution_count": null,
   "metadata": {},
   "outputs": [],
   "source": [
    "df_accidents[\"naturalidade\"] = df_accidents[\"naturalidade\"].fillna(\"Não Informado\").astype(\"str\")\n",
    "df_accidents[\"naturalidade\"].apply(type).value_counts()\n",
    "df_accidents[df_accidents[\"naturalidade\"] == \"Não Informado\"].shape"
   ]
  },
  {
   "cell_type": "markdown",
   "metadata": {},
   "source": [
    "#### Verificando dados faltantes na coluna \"latitude\" antes do tratamento"
   ]
  },
  {
   "cell_type": "code",
   "execution_count": null,
   "metadata": {},
   "outputs": [],
   "source": [
    "df_accidents[\"latitude\"].isna().sum()"
   ]
  },
  {
   "cell_type": "markdown",
   "metadata": {},
   "source": [
    "#### Verificando os tipos de dados presentes na coluna \"latitude\""
   ]
  },
  {
   "cell_type": "code",
   "execution_count": null,
   "metadata": {},
   "outputs": [],
   "source": [
    "df_accidents[\"latitude\"].apply(type).value_counts()"
   ]
  },
  {
   "cell_type": "markdown",
   "metadata": {},
   "source": [
    "#### Alterando o tipo de dados da coluna \"latitude\" para \"str\" e tratando dados faltantes como \"Desconhecida\", pois dos anos de 2011 a 2016 essa informação não existia"
   ]
  },
  {
   "cell_type": "code",
   "execution_count": null,
   "metadata": {},
   "outputs": [],
   "source": [
    "df_accidents[\"latitude\"] = df_accidents[\"latitude\"].fillna(\"Desconhecida\").astype(\"str\")\n",
    "df_accidents[\"latitude\"].apply(type).value_counts()\n",
    "df_accidents[df_accidents[\"latitude\"] == \"Desconhecida\"].shape"
   ]
  },
  {
   "cell_type": "markdown",
   "metadata": {},
   "source": [
    "#### Verificando dados faltantes na coluna \"longitude\" antes do tratamento"
   ]
  },
  {
   "cell_type": "code",
   "execution_count": null,
   "metadata": {},
   "outputs": [],
   "source": [
    "df_accidents[\"longitude\"].isna().sum()"
   ]
  },
  {
   "cell_type": "markdown",
   "metadata": {},
   "source": [
    "#### Verificando os tipos de dados presentes na coluna \"longitude\""
   ]
  },
  {
   "cell_type": "code",
   "execution_count": null,
   "metadata": {},
   "outputs": [],
   "source": [
    "df_accidents[\"longitude\"].apply(type).value_counts()"
   ]
  },
  {
   "cell_type": "markdown",
   "metadata": {},
   "source": [
    "#### Alterando o tipo de dados da coluna \"longitude\" para \"str\" e tratando dados faltantes como \"Desconhecida\", pois dos anos de 2011 a 2016 essa informação não existia"
   ]
  },
  {
   "cell_type": "code",
   "execution_count": null,
   "metadata": {},
   "outputs": [],
   "source": [
    "df_accidents[\"longitude\"] = df_accidents[\"longitude\"].fillna(\"Desconhecida\").astype(\"str\")\n",
    "df_accidents[\"longitude\"].apply(type).value_counts()\n",
    "df_accidents[df_accidents[\"longitude\"] == \"Desconhecida\"].shape"
   ]
  },
  {
   "cell_type": "markdown",
   "metadata": {},
   "source": [
    "#### Salvando os dados em um novo CSV após o tratamento de dados das colunas acima para ter uma base mais limpa"
   ]
  },
  {
   "cell_type": "code",
   "execution_count": null,
   "metadata": {},
   "outputs": [],
   "source": [
    "with open(\"../../databases/acidentes2011_2021_tratada_v1.csv\", \"w\") as f:\n",
    "    df_accidents.to_csv(f, index=False)"
   ]
  }
 ],
 "metadata": {
  "kernelspec": {
   "display_name": "venv",
   "language": "python",
   "name": "python3"
  },
  "language_info": {
   "codemirror_mode": {
    "name": "ipython",
    "version": 3
   },
   "file_extension": ".py",
   "mimetype": "text/x-python",
   "name": "python",
   "nbconvert_exporter": "python",
   "pygments_lexer": "ipython3",
   "version": "3.13.2"
  }
 },
 "nbformat": 4,
 "nbformat_minor": 2
}
