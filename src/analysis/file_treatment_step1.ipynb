{
 "cells": [
  {
   "cell_type": "markdown",
   "metadata": {},
   "source": [
    "### Importando as bibliotecas necessárias para iniciar a leitura dos arquivos"
   ]
  },
  {
   "cell_type": "code",
   "execution_count": 1,
   "metadata": {},
   "outputs": [],
   "source": [
    "import pandas as pd"
   ]
  },
  {
   "cell_type": "markdown",
   "metadata": {},
   "source": [
    "#### Lendo os dados da base única de 2011 a 2021"
   ]
  },
  {
   "cell_type": "code",
   "execution_count": 35,
   "metadata": {},
   "outputs": [
    {
     "name": "stderr",
     "output_type": "stream",
     "text": [
      "/var/folders/z1/3syxl8gd5ks431s8c9n9mrs00000gn/T/ipykernel_16844/1914107478.py:1: DtypeWarning: Columns (6,7,18,21,26,27,32,33) have mixed types. Specify dtype option on import or set low_memory=False.\n",
      "  df_accidents = pd.read_csv(\"../../databases/acidentes2011_2021.csv\")\n"
     ]
    },
    {
     "name": "stdout",
     "output_type": "stream",
     "text": [
      "<class 'pandas.core.frame.DataFrame'>\n",
      "RangeIndex: 2818892 entries, 0 to 2818891\n",
      "Data columns (total 34 columns):\n",
      " #   Column                  Dtype  \n",
      "---  ------                  -----  \n",
      " 0   id                      float64\n",
      " 1   pesid                   float64\n",
      " 2   data_inversa            object \n",
      " 3   dia_semana              object \n",
      " 4   horario                 object \n",
      " 5   uf                      object \n",
      " 6   br                      object \n",
      " 7   km                      object \n",
      " 8   municipio               object \n",
      " 9   causa_acidente          object \n",
      " 10  tipo_acidente           object \n",
      " 11  classificacao_acidente  object \n",
      " 12  fase_dia                object \n",
      " 13  sentido_via             object \n",
      " 14  condicao_metereologica  object \n",
      " 15  tipo_pista              object \n",
      " 16  tracado_via             object \n",
      " 17  uso_solo                object \n",
      " 18  id_veiculo              object \n",
      " 19  tipo_veiculo            object \n",
      " 20  marca                   object \n",
      " 21  ano_fabricacao_veiculo  object \n",
      " 22  tipo_envolvido          object \n",
      " 23  estado_fisico           object \n",
      " 24  idade                   float64\n",
      " 25  sexo                    object \n",
      " 26  nacionalidade           object \n",
      " 27  naturalidade            object \n",
      " 28  ilesos                  float64\n",
      " 29  feridos_leves           float64\n",
      " 30  feridos_graves          float64\n",
      " 31  mortos                  float64\n",
      " 32  latitude                object \n",
      " 33  longitude               object \n",
      "dtypes: float64(7), object(27)\n",
      "memory usage: 731.2+ MB\n"
     ]
    },
    {
     "data": {
      "text/html": [
       "<div>\n",
       "<style scoped>\n",
       "    .dataframe tbody tr th:only-of-type {\n",
       "        vertical-align: middle;\n",
       "    }\n",
       "\n",
       "    .dataframe tbody tr th {\n",
       "        vertical-align: top;\n",
       "    }\n",
       "\n",
       "    .dataframe thead th {\n",
       "        text-align: right;\n",
       "    }\n",
       "</style>\n",
       "<table border=\"1\" class=\"dataframe\">\n",
       "  <thead>\n",
       "    <tr style=\"text-align: right;\">\n",
       "      <th></th>\n",
       "      <th>count</th>\n",
       "      <th>unique</th>\n",
       "      <th>top</th>\n",
       "      <th>freq</th>\n",
       "      <th>mean</th>\n",
       "      <th>std</th>\n",
       "      <th>min</th>\n",
       "      <th>25%</th>\n",
       "      <th>50%</th>\n",
       "      <th>75%</th>\n",
       "      <th>max</th>\n",
       "    </tr>\n",
       "  </thead>\n",
       "  <tbody>\n",
       "    <tr>\n",
       "      <th>id</th>\n",
       "      <td>2818892.0</td>\n",
       "      <td>NaN</td>\n",
       "      <td>NaN</td>\n",
       "      <td>NaN</td>\n",
       "      <td>31081836.95494</td>\n",
       "      <td>39821890.171416</td>\n",
       "      <td>8.0</td>\n",
       "      <td>345112.0</td>\n",
       "      <td>1158363.5</td>\n",
       "      <td>83197564.0</td>\n",
       "      <td>83529889.0</td>\n",
       "    </tr>\n",
       "    <tr>\n",
       "      <th>pesid</th>\n",
       "      <td>2818887.0</td>\n",
       "      <td>NaN</td>\n",
       "      <td>NaN</td>\n",
       "      <td>NaN</td>\n",
       "      <td>14122555.72547</td>\n",
       "      <td>28095952.168417</td>\n",
       "      <td>1.0</td>\n",
       "      <td>769528.5</td>\n",
       "      <td>3589676.0</td>\n",
       "      <td>4740393.5</td>\n",
       "      <td>83988085.0</td>\n",
       "    </tr>\n",
       "    <tr>\n",
       "      <th>data_inversa</th>\n",
       "      <td>2818892</td>\n",
       "      <td>3834</td>\n",
       "      <td>21/04/2011</td>\n",
       "      <td>2696</td>\n",
       "      <td>NaN</td>\n",
       "      <td>NaN</td>\n",
       "      <td>NaN</td>\n",
       "      <td>NaN</td>\n",
       "      <td>NaN</td>\n",
       "      <td>NaN</td>\n",
       "      <td>NaN</td>\n",
       "    </tr>\n",
       "    <tr>\n",
       "      <th>dia_semana</th>\n",
       "      <td>2818892</td>\n",
       "      <td>25</td>\n",
       "      <td>Domingo</td>\n",
       "      <td>319570</td>\n",
       "      <td>NaN</td>\n",
       "      <td>NaN</td>\n",
       "      <td>NaN</td>\n",
       "      <td>NaN</td>\n",
       "      <td>NaN</td>\n",
       "      <td>NaN</td>\n",
       "      <td>NaN</td>\n",
       "    </tr>\n",
       "    <tr>\n",
       "      <th>horario</th>\n",
       "      <td>2818892</td>\n",
       "      <td>1473</td>\n",
       "      <td>18:00:00</td>\n",
       "      <td>45772</td>\n",
       "      <td>NaN</td>\n",
       "      <td>NaN</td>\n",
       "      <td>NaN</td>\n",
       "      <td>NaN</td>\n",
       "      <td>NaN</td>\n",
       "      <td>NaN</td>\n",
       "      <td>NaN</td>\n",
       "    </tr>\n",
       "    <tr>\n",
       "      <th>uf</th>\n",
       "      <td>2818892</td>\n",
       "      <td>28</td>\n",
       "      <td>MG</td>\n",
       "      <td>375157</td>\n",
       "      <td>NaN</td>\n",
       "      <td>NaN</td>\n",
       "      <td>NaN</td>\n",
       "      <td>NaN</td>\n",
       "      <td>NaN</td>\n",
       "      <td>NaN</td>\n",
       "      <td>NaN</td>\n",
       "    </tr>\n",
       "    <tr>\n",
       "      <th>br</th>\n",
       "      <td>2817501.0</td>\n",
       "      <td>286.0</td>\n",
       "      <td>101.0</td>\n",
       "      <td>458769.0</td>\n",
       "      <td>NaN</td>\n",
       "      <td>NaN</td>\n",
       "      <td>NaN</td>\n",
       "      <td>NaN</td>\n",
       "      <td>NaN</td>\n",
       "      <td>NaN</td>\n",
       "      <td>NaN</td>\n",
       "    </tr>\n",
       "    <tr>\n",
       "      <th>km</th>\n",
       "      <td>2817501.0</td>\n",
       "      <td>25668.0</td>\n",
       "      <td>1.0</td>\n",
       "      <td>7681.0</td>\n",
       "      <td>NaN</td>\n",
       "      <td>NaN</td>\n",
       "      <td>NaN</td>\n",
       "      <td>NaN</td>\n",
       "      <td>NaN</td>\n",
       "      <td>NaN</td>\n",
       "      <td>NaN</td>\n",
       "    </tr>\n",
       "    <tr>\n",
       "      <th>municipio</th>\n",
       "      <td>2818892</td>\n",
       "      <td>2238</td>\n",
       "      <td>CURITIBA</td>\n",
       "      <td>38511</td>\n",
       "      <td>NaN</td>\n",
       "      <td>NaN</td>\n",
       "      <td>NaN</td>\n",
       "      <td>NaN</td>\n",
       "      <td>NaN</td>\n",
       "      <td>NaN</td>\n",
       "      <td>NaN</td>\n",
       "    </tr>\n",
       "    <tr>\n",
       "      <th>causa_acidente</th>\n",
       "      <td>2818892</td>\n",
       "      <td>132</td>\n",
       "      <td>Falta de atenção</td>\n",
       "      <td>700975</td>\n",
       "      <td>NaN</td>\n",
       "      <td>NaN</td>\n",
       "      <td>NaN</td>\n",
       "      <td>NaN</td>\n",
       "      <td>NaN</td>\n",
       "      <td>NaN</td>\n",
       "      <td>NaN</td>\n",
       "    </tr>\n",
       "    <tr>\n",
       "      <th>tipo_acidente</th>\n",
       "      <td>2818892</td>\n",
       "      <td>43</td>\n",
       "      <td>Colisão traseira</td>\n",
       "      <td>838135</td>\n",
       "      <td>NaN</td>\n",
       "      <td>NaN</td>\n",
       "      <td>NaN</td>\n",
       "      <td>NaN</td>\n",
       "      <td>NaN</td>\n",
       "      <td>NaN</td>\n",
       "      <td>NaN</td>\n",
       "    </tr>\n",
       "    <tr>\n",
       "      <th>classificacao_acidente</th>\n",
       "      <td>2818890</td>\n",
       "      <td>11</td>\n",
       "      <td>Com Vítimas Feridas</td>\n",
       "      <td>1318172</td>\n",
       "      <td>NaN</td>\n",
       "      <td>NaN</td>\n",
       "      <td>NaN</td>\n",
       "      <td>NaN</td>\n",
       "      <td>NaN</td>\n",
       "      <td>NaN</td>\n",
       "      <td>NaN</td>\n",
       "    </tr>\n",
       "    <tr>\n",
       "      <th>fase_dia</th>\n",
       "      <td>2818891</td>\n",
       "      <td>6</td>\n",
       "      <td>Pleno dia</td>\n",
       "      <td>1651766</td>\n",
       "      <td>NaN</td>\n",
       "      <td>NaN</td>\n",
       "      <td>NaN</td>\n",
       "      <td>NaN</td>\n",
       "      <td>NaN</td>\n",
       "      <td>NaN</td>\n",
       "      <td>NaN</td>\n",
       "    </tr>\n",
       "    <tr>\n",
       "      <th>sentido_via</th>\n",
       "      <td>2818892</td>\n",
       "      <td>5</td>\n",
       "      <td>Decrescente</td>\n",
       "      <td>1356733</td>\n",
       "      <td>NaN</td>\n",
       "      <td>NaN</td>\n",
       "      <td>NaN</td>\n",
       "      <td>NaN</td>\n",
       "      <td>NaN</td>\n",
       "      <td>NaN</td>\n",
       "      <td>NaN</td>\n",
       "    </tr>\n",
       "    <tr>\n",
       "      <th>condicao_metereologica</th>\n",
       "      <td>2818885</td>\n",
       "      <td>15</td>\n",
       "      <td>Ceu Claro</td>\n",
       "      <td>1034564</td>\n",
       "      <td>NaN</td>\n",
       "      <td>NaN</td>\n",
       "      <td>NaN</td>\n",
       "      <td>NaN</td>\n",
       "      <td>NaN</td>\n",
       "      <td>NaN</td>\n",
       "      <td>NaN</td>\n",
       "    </tr>\n",
       "    <tr>\n",
       "      <th>tipo_pista</th>\n",
       "      <td>2818892</td>\n",
       "      <td>7</td>\n",
       "      <td>Simples</td>\n",
       "      <td>966483</td>\n",
       "      <td>NaN</td>\n",
       "      <td>NaN</td>\n",
       "      <td>NaN</td>\n",
       "      <td>NaN</td>\n",
       "      <td>NaN</td>\n",
       "      <td>NaN</td>\n",
       "      <td>NaN</td>\n",
       "    </tr>\n",
       "    <tr>\n",
       "      <th>tracado_via</th>\n",
       "      <td>2818892</td>\n",
       "      <td>19</td>\n",
       "      <td>Reta</td>\n",
       "      <td>1387613</td>\n",
       "      <td>NaN</td>\n",
       "      <td>NaN</td>\n",
       "      <td>NaN</td>\n",
       "      <td>NaN</td>\n",
       "      <td>NaN</td>\n",
       "      <td>NaN</td>\n",
       "      <td>NaN</td>\n",
       "    </tr>\n",
       "    <tr>\n",
       "      <th>uso_solo</th>\n",
       "      <td>2818892</td>\n",
       "      <td>7</td>\n",
       "      <td>Urbano</td>\n",
       "      <td>1119505</td>\n",
       "      <td>NaN</td>\n",
       "      <td>NaN</td>\n",
       "      <td>NaN</td>\n",
       "      <td>NaN</td>\n",
       "      <td>NaN</td>\n",
       "      <td>NaN</td>\n",
       "      <td>NaN</td>\n",
       "    </tr>\n",
       "    <tr>\n",
       "      <th>id_veiculo</th>\n",
       "      <td>2814893</td>\n",
       "      <td>2195242</td>\n",
       "      <td>(null)</td>\n",
       "      <td>25468</td>\n",
       "      <td>NaN</td>\n",
       "      <td>NaN</td>\n",
       "      <td>NaN</td>\n",
       "      <td>NaN</td>\n",
       "      <td>NaN</td>\n",
       "      <td>NaN</td>\n",
       "      <td>NaN</td>\n",
       "    </tr>\n",
       "    <tr>\n",
       "      <th>tipo_veiculo</th>\n",
       "      <td>2814890</td>\n",
       "      <td>48</td>\n",
       "      <td>Automóvel</td>\n",
       "      <td>1292387</td>\n",
       "      <td>NaN</td>\n",
       "      <td>NaN</td>\n",
       "      <td>NaN</td>\n",
       "      <td>NaN</td>\n",
       "      <td>NaN</td>\n",
       "      <td>NaN</td>\n",
       "      <td>NaN</td>\n",
       "    </tr>\n",
       "    <tr>\n",
       "      <th>marca</th>\n",
       "      <td>2747372</td>\n",
       "      <td>21331</td>\n",
       "      <td>(null)</td>\n",
       "      <td>275944</td>\n",
       "      <td>NaN</td>\n",
       "      <td>NaN</td>\n",
       "      <td>NaN</td>\n",
       "      <td>NaN</td>\n",
       "      <td>NaN</td>\n",
       "      <td>NaN</td>\n",
       "      <td>NaN</td>\n",
       "    </tr>\n",
       "    <tr>\n",
       "      <th>ano_fabricacao_veiculo</th>\n",
       "      <td>2759168</td>\n",
       "      <td>248</td>\n",
       "      <td>2010</td>\n",
       "      <td>187477</td>\n",
       "      <td>NaN</td>\n",
       "      <td>NaN</td>\n",
       "      <td>NaN</td>\n",
       "      <td>NaN</td>\n",
       "      <td>NaN</td>\n",
       "      <td>NaN</td>\n",
       "      <td>NaN</td>\n",
       "    </tr>\n",
       "    <tr>\n",
       "      <th>tipo_envolvido</th>\n",
       "      <td>2818892</td>\n",
       "      <td>11</td>\n",
       "      <td>Condutor</td>\n",
       "      <td>2194918</td>\n",
       "      <td>NaN</td>\n",
       "      <td>NaN</td>\n",
       "      <td>NaN</td>\n",
       "      <td>NaN</td>\n",
       "      <td>NaN</td>\n",
       "      <td>NaN</td>\n",
       "      <td>NaN</td>\n",
       "    </tr>\n",
       "    <tr>\n",
       "      <th>estado_fisico</th>\n",
       "      <td>2818889</td>\n",
       "      <td>18</td>\n",
       "      <td>Ileso</td>\n",
       "      <td>1226974</td>\n",
       "      <td>NaN</td>\n",
       "      <td>NaN</td>\n",
       "      <td>NaN</td>\n",
       "      <td>NaN</td>\n",
       "      <td>NaN</td>\n",
       "      <td>NaN</td>\n",
       "      <td>NaN</td>\n",
       "    </tr>\n",
       "    <tr>\n",
       "      <th>idade</th>\n",
       "      <td>2708913.0</td>\n",
       "      <td>NaN</td>\n",
       "      <td>NaN</td>\n",
       "      <td>NaN</td>\n",
       "      <td>34.457141</td>\n",
       "      <td>35.983494</td>\n",
       "      <td>-1.0</td>\n",
       "      <td>24.0</td>\n",
       "      <td>34.0</td>\n",
       "      <td>46.0</td>\n",
       "      <td>2020.0</td>\n",
       "    </tr>\n",
       "    <tr>\n",
       "      <th>sexo</th>\n",
       "      <td>2818317</td>\n",
       "      <td>9</td>\n",
       "      <td>Masculino</td>\n",
       "      <td>2004391</td>\n",
       "      <td>NaN</td>\n",
       "      <td>NaN</td>\n",
       "      <td>NaN</td>\n",
       "      <td>NaN</td>\n",
       "      <td>NaN</td>\n",
       "      <td>NaN</td>\n",
       "      <td>NaN</td>\n",
       "    </tr>\n",
       "    <tr>\n",
       "      <th>nacionalidade</th>\n",
       "      <td>2058328</td>\n",
       "      <td>115</td>\n",
       "      <td>Brasil</td>\n",
       "      <td>1772473</td>\n",
       "      <td>NaN</td>\n",
       "      <td>NaN</td>\n",
       "      <td>NaN</td>\n",
       "      <td>NaN</td>\n",
       "      <td>NaN</td>\n",
       "      <td>NaN</td>\n",
       "      <td>NaN</td>\n",
       "    </tr>\n",
       "    <tr>\n",
       "      <th>naturalidade</th>\n",
       "      <td>1927911</td>\n",
       "      <td>9468</td>\n",
       "      <td>Não Informado</td>\n",
       "      <td>970502</td>\n",
       "      <td>NaN</td>\n",
       "      <td>NaN</td>\n",
       "      <td>NaN</td>\n",
       "      <td>NaN</td>\n",
       "      <td>NaN</td>\n",
       "      <td>NaN</td>\n",
       "      <td>NaN</td>\n",
       "    </tr>\n",
       "    <tr>\n",
       "      <th>ilesos</th>\n",
       "      <td>750048.0</td>\n",
       "      <td>NaN</td>\n",
       "      <td>NaN</td>\n",
       "      <td>NaN</td>\n",
       "      <td>0.448387</td>\n",
       "      <td>0.497329</td>\n",
       "      <td>0.0</td>\n",
       "      <td>0.0</td>\n",
       "      <td>0.0</td>\n",
       "      <td>1.0</td>\n",
       "      <td>1.0</td>\n",
       "    </tr>\n",
       "    <tr>\n",
       "      <th>feridos_leves</th>\n",
       "      <td>750048.0</td>\n",
       "      <td>NaN</td>\n",
       "      <td>NaN</td>\n",
       "      <td>NaN</td>\n",
       "      <td>0.353597</td>\n",
       "      <td>0.478086</td>\n",
       "      <td>0.0</td>\n",
       "      <td>0.0</td>\n",
       "      <td>0.0</td>\n",
       "      <td>1.0</td>\n",
       "      <td>1.0</td>\n",
       "    </tr>\n",
       "    <tr>\n",
       "      <th>feridos_graves</th>\n",
       "      <td>750048.0</td>\n",
       "      <td>NaN</td>\n",
       "      <td>NaN</td>\n",
       "      <td>NaN</td>\n",
       "      <td>0.1071</td>\n",
       "      <td>0.30924</td>\n",
       "      <td>0.0</td>\n",
       "      <td>0.0</td>\n",
       "      <td>0.0</td>\n",
       "      <td>0.0</td>\n",
       "      <td>1.0</td>\n",
       "    </tr>\n",
       "    <tr>\n",
       "      <th>mortos</th>\n",
       "      <td>750048.0</td>\n",
       "      <td>NaN</td>\n",
       "      <td>NaN</td>\n",
       "      <td>NaN</td>\n",
       "      <td>0.032811</td>\n",
       "      <td>0.178142</td>\n",
       "      <td>0.0</td>\n",
       "      <td>0.0</td>\n",
       "      <td>0.0</td>\n",
       "      <td>0.0</td>\n",
       "      <td>1.0</td>\n",
       "    </tr>\n",
       "    <tr>\n",
       "      <th>latitude</th>\n",
       "      <td>750048</td>\n",
       "      <td>188725</td>\n",
       "      <td>-3,76999035</td>\n",
       "      <td>460</td>\n",
       "      <td>NaN</td>\n",
       "      <td>NaN</td>\n",
       "      <td>NaN</td>\n",
       "      <td>NaN</td>\n",
       "      <td>NaN</td>\n",
       "      <td>NaN</td>\n",
       "      <td>NaN</td>\n",
       "    </tr>\n",
       "    <tr>\n",
       "      <th>longitude</th>\n",
       "      <td>750048</td>\n",
       "      <td>188874</td>\n",
       "      <td>-38,67006282</td>\n",
       "      <td>460</td>\n",
       "      <td>NaN</td>\n",
       "      <td>NaN</td>\n",
       "      <td>NaN</td>\n",
       "      <td>NaN</td>\n",
       "      <td>NaN</td>\n",
       "      <td>NaN</td>\n",
       "      <td>NaN</td>\n",
       "    </tr>\n",
       "  </tbody>\n",
       "</table>\n",
       "</div>"
      ],
      "text/plain": [
       "                            count   unique                  top      freq  \\\n",
       "id                      2818892.0      NaN                  NaN       NaN   \n",
       "pesid                   2818887.0      NaN                  NaN       NaN   \n",
       "data_inversa              2818892     3834           21/04/2011      2696   \n",
       "dia_semana                2818892       25              Domingo    319570   \n",
       "horario                   2818892     1473             18:00:00     45772   \n",
       "uf                        2818892       28                   MG    375157   \n",
       "br                      2817501.0    286.0                101.0  458769.0   \n",
       "km                      2817501.0  25668.0                  1.0    7681.0   \n",
       "municipio                 2818892     2238             CURITIBA     38511   \n",
       "causa_acidente            2818892      132     Falta de atenção    700975   \n",
       "tipo_acidente             2818892       43     Colisão traseira    838135   \n",
       "classificacao_acidente    2818890       11  Com Vítimas Feridas   1318172   \n",
       "fase_dia                  2818891        6            Pleno dia   1651766   \n",
       "sentido_via               2818892        5          Decrescente   1356733   \n",
       "condicao_metereologica    2818885       15            Ceu Claro   1034564   \n",
       "tipo_pista                2818892        7             Simples     966483   \n",
       "tracado_via               2818892       19           Reta         1387613   \n",
       "uso_solo                  2818892        7               Urbano   1119505   \n",
       "id_veiculo                2814893  2195242               (null)     25468   \n",
       "tipo_veiculo              2814890       48            Automóvel   1292387   \n",
       "marca                     2747372    21331               (null)    275944   \n",
       "ano_fabricacao_veiculo    2759168      248                 2010    187477   \n",
       "tipo_envolvido            2818892       11             Condutor   2194918   \n",
       "estado_fisico             2818889       18         Ileso          1226974   \n",
       "idade                   2708913.0      NaN                  NaN       NaN   \n",
       "sexo                      2818317        9            Masculino   2004391   \n",
       "nacionalidade             2058328      115               Brasil   1772473   \n",
       "naturalidade              1927911     9468        Não Informado    970502   \n",
       "ilesos                   750048.0      NaN                  NaN       NaN   \n",
       "feridos_leves            750048.0      NaN                  NaN       NaN   \n",
       "feridos_graves           750048.0      NaN                  NaN       NaN   \n",
       "mortos                   750048.0      NaN                  NaN       NaN   \n",
       "latitude                   750048   188725          -3,76999035       460   \n",
       "longitude                  750048   188874         -38,67006282       460   \n",
       "\n",
       "                                  mean              std  min       25%  \\\n",
       "id                      31081836.95494  39821890.171416  8.0  345112.0   \n",
       "pesid                   14122555.72547  28095952.168417  1.0  769528.5   \n",
       "data_inversa                       NaN              NaN  NaN       NaN   \n",
       "dia_semana                         NaN              NaN  NaN       NaN   \n",
       "horario                            NaN              NaN  NaN       NaN   \n",
       "uf                                 NaN              NaN  NaN       NaN   \n",
       "br                                 NaN              NaN  NaN       NaN   \n",
       "km                                 NaN              NaN  NaN       NaN   \n",
       "municipio                          NaN              NaN  NaN       NaN   \n",
       "causa_acidente                     NaN              NaN  NaN       NaN   \n",
       "tipo_acidente                      NaN              NaN  NaN       NaN   \n",
       "classificacao_acidente             NaN              NaN  NaN       NaN   \n",
       "fase_dia                           NaN              NaN  NaN       NaN   \n",
       "sentido_via                        NaN              NaN  NaN       NaN   \n",
       "condicao_metereologica             NaN              NaN  NaN       NaN   \n",
       "tipo_pista                         NaN              NaN  NaN       NaN   \n",
       "tracado_via                        NaN              NaN  NaN       NaN   \n",
       "uso_solo                           NaN              NaN  NaN       NaN   \n",
       "id_veiculo                         NaN              NaN  NaN       NaN   \n",
       "tipo_veiculo                       NaN              NaN  NaN       NaN   \n",
       "marca                              NaN              NaN  NaN       NaN   \n",
       "ano_fabricacao_veiculo             NaN              NaN  NaN       NaN   \n",
       "tipo_envolvido                     NaN              NaN  NaN       NaN   \n",
       "estado_fisico                      NaN              NaN  NaN       NaN   \n",
       "idade                        34.457141        35.983494 -1.0      24.0   \n",
       "sexo                               NaN              NaN  NaN       NaN   \n",
       "nacionalidade                      NaN              NaN  NaN       NaN   \n",
       "naturalidade                       NaN              NaN  NaN       NaN   \n",
       "ilesos                        0.448387         0.497329  0.0       0.0   \n",
       "feridos_leves                 0.353597         0.478086  0.0       0.0   \n",
       "feridos_graves                  0.1071          0.30924  0.0       0.0   \n",
       "mortos                        0.032811         0.178142  0.0       0.0   \n",
       "latitude                           NaN              NaN  NaN       NaN   \n",
       "longitude                          NaN              NaN  NaN       NaN   \n",
       "\n",
       "                              50%         75%         max  \n",
       "id                      1158363.5  83197564.0  83529889.0  \n",
       "pesid                   3589676.0   4740393.5  83988085.0  \n",
       "data_inversa                  NaN         NaN         NaN  \n",
       "dia_semana                    NaN         NaN         NaN  \n",
       "horario                       NaN         NaN         NaN  \n",
       "uf                            NaN         NaN         NaN  \n",
       "br                            NaN         NaN         NaN  \n",
       "km                            NaN         NaN         NaN  \n",
       "municipio                     NaN         NaN         NaN  \n",
       "causa_acidente                NaN         NaN         NaN  \n",
       "tipo_acidente                 NaN         NaN         NaN  \n",
       "classificacao_acidente        NaN         NaN         NaN  \n",
       "fase_dia                      NaN         NaN         NaN  \n",
       "sentido_via                   NaN         NaN         NaN  \n",
       "condicao_metereologica        NaN         NaN         NaN  \n",
       "tipo_pista                    NaN         NaN         NaN  \n",
       "tracado_via                   NaN         NaN         NaN  \n",
       "uso_solo                      NaN         NaN         NaN  \n",
       "id_veiculo                    NaN         NaN         NaN  \n",
       "tipo_veiculo                  NaN         NaN         NaN  \n",
       "marca                         NaN         NaN         NaN  \n",
       "ano_fabricacao_veiculo        NaN         NaN         NaN  \n",
       "tipo_envolvido                NaN         NaN         NaN  \n",
       "estado_fisico                 NaN         NaN         NaN  \n",
       "idade                        34.0        46.0      2020.0  \n",
       "sexo                          NaN         NaN         NaN  \n",
       "nacionalidade                 NaN         NaN         NaN  \n",
       "naturalidade                  NaN         NaN         NaN  \n",
       "ilesos                        0.0         1.0         1.0  \n",
       "feridos_leves                 0.0         1.0         1.0  \n",
       "feridos_graves                0.0         0.0         1.0  \n",
       "mortos                        0.0         0.0         1.0  \n",
       "latitude                      NaN         NaN         NaN  \n",
       "longitude                     NaN         NaN         NaN  "
      ]
     },
     "execution_count": 35,
     "metadata": {},
     "output_type": "execute_result"
    }
   ],
   "source": [
    "df_accidents = pd.read_csv(\"../../databases/acidentes2011_2021.csv\")\n",
    "df_accidents.info()\n",
    "df_accidents.describe(include=\"all\").T"
   ]
  },
  {
   "cell_type": "markdown",
   "metadata": {},
   "source": [
    "#### Verificando se o dataframe tem linhas duplicadas"
   ]
  },
  {
   "cell_type": "code",
   "execution_count": 3,
   "metadata": {},
   "outputs": [
    {
     "data": {
      "text/plain": [
       "np.int64(0)"
      ]
     },
     "execution_count": 3,
     "metadata": {},
     "output_type": "execute_result"
    }
   ],
   "source": [
    "df_accidents.duplicated().sum()"
   ]
  },
  {
   "cell_type": "markdown",
   "metadata": {},
   "source": [
    "#### Verificando dados faltantes na coluna \"br\" antes do tratamento"
   ]
  },
  {
   "cell_type": "code",
   "execution_count": 4,
   "metadata": {},
   "outputs": [
    {
     "data": {
      "text/plain": [
       "np.int64(1391)"
      ]
     },
     "execution_count": 4,
     "metadata": {},
     "output_type": "execute_result"
    }
   ],
   "source": [
    "df_accidents[\"br\"].isna().sum()"
   ]
  },
  {
   "cell_type": "markdown",
   "metadata": {},
   "source": [
    "#### Verificando os tipos de dados presentes na coluna \"br\""
   ]
  },
  {
   "cell_type": "code",
   "execution_count": 5,
   "metadata": {},
   "outputs": [
    {
     "data": {
      "text/plain": [
       "br\n",
       "<class 'int'>      1998848\n",
       "<class 'float'>     754508\n",
       "<class 'str'>        65536\n",
       "Name: count, dtype: int64"
      ]
     },
     "execution_count": 5,
     "metadata": {},
     "output_type": "execute_result"
    }
   ],
   "source": [
    "df_accidents[\"br\"].apply(type).value_counts()\n",
    "#id 1058931.0"
   ]
  },
  {
   "cell_type": "markdown",
   "metadata": {},
   "source": [
    "#### Alterando o tipo de dados da coluna \"br\" para \"str\" e tratando dados faltantes como \"Desconhecido\", pois é apenas uma informação que não necessita ser numérica para esta análise"
   ]
  },
  {
   "cell_type": "code",
   "execution_count": 6,
   "metadata": {},
   "outputs": [
    {
     "data": {
      "text/plain": [
       "(1391, 34)"
      ]
     },
     "execution_count": 6,
     "metadata": {},
     "output_type": "execute_result"
    }
   ],
   "source": [
    "df_accidents[\"br\"] = df_accidents[\"br\"].fillna(\"Desconhecido\").astype(\"str\")\n",
    "df_accidents[\"br\"].apply(type).value_counts()\n",
    "df_accidents[df_accidents[\"br\"] == \"Desconhecido\"].shape"
   ]
  },
  {
   "cell_type": "markdown",
   "metadata": {},
   "source": [
    "#### Verificando dados faltantes na coluna \"km\" antes do tratamento"
   ]
  },
  {
   "cell_type": "code",
   "execution_count": 15,
   "metadata": {},
   "outputs": [
    {
     "data": {
      "text/plain": [
       "np.int64(1391)"
      ]
     },
     "execution_count": 15,
     "metadata": {},
     "output_type": "execute_result"
    }
   ],
   "source": [
    "df_accidents[\"km\"].isna().sum()"
   ]
  },
  {
   "cell_type": "markdown",
   "metadata": {},
   "source": [
    "#### Verificando os tipos de dados presentes na coluna \"km\""
   ]
  },
  {
   "cell_type": "code",
   "execution_count": 16,
   "metadata": {},
   "outputs": [
    {
     "data": {
      "text/plain": [
       "km\n",
       "<class 'float'>    1787247\n",
       "<class 'str'>      1031645\n",
       "Name: count, dtype: int64"
      ]
     },
     "execution_count": 16,
     "metadata": {},
     "output_type": "execute_result"
    }
   ],
   "source": [
    "df_accidents[\"km\"].apply(type).value_counts()"
   ]
  },
  {
   "cell_type": "markdown",
   "metadata": {},
   "source": [
    "#### Alterando o tipo de dados da coluna \"km\" para \"str\" e tratando dados faltantes como \"Desconhecido\", pois é apenas uma informação que não necessita ser numérica para esta análise"
   ]
  },
  {
   "cell_type": "code",
   "execution_count": 17,
   "metadata": {},
   "outputs": [
    {
     "data": {
      "text/plain": [
       "(1391, 34)"
      ]
     },
     "execution_count": 17,
     "metadata": {},
     "output_type": "execute_result"
    }
   ],
   "source": [
    "df_accidents[\"km\"] = df_accidents[\"km\"].fillna(\"Desconhecido\").astype(\"str\")\n",
    "df_accidents[\"km\"].apply(type).value_counts()\n",
    "df_accidents[df_accidents[\"km\"] == \"Desconhecido\"].shape"
   ]
  },
  {
   "cell_type": "markdown",
   "metadata": {},
   "source": [
    "#### Verificando dados faltantes na coluna \"id_veiculo\" antes do tratamento"
   ]
  },
  {
   "cell_type": "code",
   "execution_count": 45,
   "metadata": {},
   "outputs": [
    {
     "data": {
      "text/plain": [
       "np.int64(3999)"
      ]
     },
     "execution_count": 45,
     "metadata": {},
     "output_type": "execute_result"
    }
   ],
   "source": [
    "df_accidents[\"id_veiculo\"].isna().sum()"
   ]
  },
  {
   "cell_type": "markdown",
   "metadata": {},
   "source": [
    "#### Verificando os tipos de dados presentes na coluna \"id_veiculo\""
   ]
  },
  {
   "cell_type": "code",
   "execution_count": 32,
   "metadata": {},
   "outputs": [
    {
     "data": {
      "text/plain": [
       "id_veiculo\n",
       "<class 'str'>      1867589\n",
       "<class 'int'>       541516\n",
       "<class 'float'>     409787\n",
       "Name: count, dtype: int64"
      ]
     },
     "execution_count": 32,
     "metadata": {},
     "output_type": "execute_result"
    }
   ],
   "source": [
    "df_accidents[\"id_veiculo\"].apply(type).value_counts()"
   ]
  },
  {
   "cell_type": "markdown",
   "metadata": {},
   "source": [
    "#### Alterando o tipo de dados da coluna \"id_veiculo\" para \"str\" e tratando dados faltantes como \"Desconhecido\", pois é apenas uma informação que não necessita ser numérica para esta análise"
   ]
  },
  {
   "cell_type": "code",
   "execution_count": null,
   "metadata": {},
   "outputs": [
    {
     "data": {
      "text/plain": [
       "count     2818892\n",
       "unique    2195239\n",
       "top        (null)\n",
       "freq        25468\n",
       "Name: id_veiculo, dtype: object"
      ]
     },
     "execution_count": 79,
     "metadata": {},
     "output_type": "execute_result"
    }
   ],
   "source": [
    "df_accidents[\"id_veiculo\"] = df_accidents[\"id_veiculo\"].fillna(\"Desconhecido\").astype(\"str\")\n",
    "df_accidents[\"id_veiculo\"].apply(type).value_counts()\n",
    "df_accidents[df_accidents[\"id_veiculo\"] == \"Desconhecido\"].shape"
   ]
  },
  {
   "cell_type": "markdown",
   "metadata": {},
   "source": [
    "#### Verificando dados faltantes na coluna \"ano_fabricacao_veiculo\" antes do tratamento"
   ]
  },
  {
   "cell_type": "code",
   "execution_count": 50,
   "metadata": {},
   "outputs": [
    {
     "data": {
      "text/plain": [
       "np.int64(59724)"
      ]
     },
     "execution_count": 50,
     "metadata": {},
     "output_type": "execute_result"
    }
   ],
   "source": [
    "df_accidents[\"ano_fabricacao_veiculo\"].isna().sum()"
   ]
  },
  {
   "cell_type": "markdown",
   "metadata": {},
   "source": [
    "#### Verificando os tipos de dados presentes na coluna \"ano_fabricacao_veiculo\""
   ]
  },
  {
   "cell_type": "code",
   "execution_count": 51,
   "metadata": {},
   "outputs": [
    {
     "data": {
      "text/plain": [
       "ano_fabricacao_veiculo\n",
       "<class 'str'>      1866811\n",
       "<class 'float'>     952081\n",
       "Name: count, dtype: int64"
      ]
     },
     "execution_count": 51,
     "metadata": {},
     "output_type": "execute_result"
    }
   ],
   "source": [
    "df_accidents[\"ano_fabricacao_veiculo\"].apply(type).value_counts()"
   ]
  },
  {
   "cell_type": "markdown",
   "metadata": {},
   "source": [
    "#### Alterando o tipo de dados da coluna \"ano_fabricacao_veiculo\" para \"str\" e tratando dados faltantes como \"Desconhecido\", pois é apenas uma informação que não necessita ser numérica para esta análise"
   ]
  },
  {
   "cell_type": "code",
   "execution_count": 52,
   "metadata": {},
   "outputs": [
    {
     "data": {
      "text/plain": [
       "(59724, 34)"
      ]
     },
     "execution_count": 52,
     "metadata": {},
     "output_type": "execute_result"
    }
   ],
   "source": [
    "df_accidents[\"ano_fabricacao_veiculo\"] = df_accidents[\"ano_fabricacao_veiculo\"].fillna(\"Desconhecido\").astype(\"str\")\n",
    "df_accidents[\"ano_fabricacao_veiculo\"].apply(type).value_counts()\n",
    "df_accidents[df_accidents[\"ano_fabricacao_veiculo\"] == \"Desconhecido\"].shape"
   ]
  },
  {
   "cell_type": "markdown",
   "metadata": {},
   "source": [
    "#### Verificando dados faltantes na coluna \"nacionalidade\" antes do tratamento"
   ]
  },
  {
   "cell_type": "code",
   "execution_count": 53,
   "metadata": {},
   "outputs": [
    {
     "data": {
      "text/plain": [
       "np.int64(760564)"
      ]
     },
     "execution_count": 53,
     "metadata": {},
     "output_type": "execute_result"
    }
   ],
   "source": [
    "df_accidents[\"nacionalidade\"].isna().sum()"
   ]
  },
  {
   "cell_type": "markdown",
   "metadata": {},
   "source": [
    "#### Verificando os tipos de dados presentes na coluna \"nacionalidade\""
   ]
  },
  {
   "cell_type": "code",
   "execution_count": 60,
   "metadata": {},
   "outputs": [
    {
     "data": {
      "text/plain": [
       "nacionalidade\n",
       "<class 'str'>      2058328\n",
       "<class 'float'>     760564\n",
       "Name: count, dtype: int64"
      ]
     },
     "execution_count": 60,
     "metadata": {},
     "output_type": "execute_result"
    }
   ],
   "source": [
    "df_accidents[\"nacionalidade\"].apply(type).value_counts()"
   ]
  },
  {
   "cell_type": "markdown",
   "metadata": {},
   "source": [
    "#### Alterando o tipo de dados da coluna \"nacionalidade\" para \"str\" e tratando dados faltantes como \"Não Informado\", seguindo os padrões da própria base de dados"
   ]
  },
  {
   "cell_type": "code",
   "execution_count": 64,
   "metadata": {},
   "outputs": [
    {
     "data": {
      "text/plain": [
       "(835767, 34)"
      ]
     },
     "execution_count": 64,
     "metadata": {},
     "output_type": "execute_result"
    }
   ],
   "source": [
    "df_accidents[\"nacionalidade\"] = df_accidents[\"nacionalidade\"].fillna(\"Não Informado\").astype(\"str\")\n",
    "df_accidents[\"nacionalidade\"].apply(type).value_counts()\n",
    "df_accidents[df_accidents[\"nacionalidade\"] == \"Não Informado\"].shape"
   ]
  },
  {
   "cell_type": "markdown",
   "metadata": {},
   "source": [
    "#### Verificando dados faltantes na coluna \"naturalidade\" antes do tratamento"
   ]
  },
  {
   "cell_type": "code",
   "execution_count": 67,
   "metadata": {},
   "outputs": [
    {
     "data": {
      "text/plain": [
       "np.int64(890981)"
      ]
     },
     "execution_count": 67,
     "metadata": {},
     "output_type": "execute_result"
    }
   ],
   "source": [
    "df_accidents[\"naturalidade\"].isna().sum()"
   ]
  },
  {
   "cell_type": "markdown",
   "metadata": {},
   "source": [
    "#### Verificando os tipos de dados presentes na coluna \"naturalidade\""
   ]
  },
  {
   "cell_type": "code",
   "execution_count": 66,
   "metadata": {},
   "outputs": [
    {
     "data": {
      "text/plain": [
       "naturalidade\n",
       "<class 'str'>      1927911\n",
       "<class 'float'>     890981\n",
       "Name: count, dtype: int64"
      ]
     },
     "execution_count": 66,
     "metadata": {},
     "output_type": "execute_result"
    }
   ],
   "source": [
    "df_accidents[\"naturalidade\"].apply(type).value_counts()"
   ]
  },
  {
   "cell_type": "markdown",
   "metadata": {},
   "source": [
    "#### Alterando o tipo de dados da coluna \"naturalidade\" para \"str\" e tratando dados faltantes como \"Não Informado\", seguindo os padrões da própria base de dados"
   ]
  },
  {
   "cell_type": "code",
   "execution_count": 68,
   "metadata": {},
   "outputs": [
    {
     "data": {
      "text/plain": [
       "(1861483, 34)"
      ]
     },
     "execution_count": 68,
     "metadata": {},
     "output_type": "execute_result"
    }
   ],
   "source": [
    "df_accidents[\"naturalidade\"] = df_accidents[\"naturalidade\"].fillna(\"Não Informado\").astype(\"str\")\n",
    "df_accidents[\"naturalidade\"].apply(type).value_counts()\n",
    "df_accidents[df_accidents[\"naturalidade\"] == \"Não Informado\"].shape"
   ]
  },
  {
   "cell_type": "markdown",
   "metadata": {},
   "source": [
    "#### Verificando dados faltantes na coluna \"latitude\" antes do tratamento"
   ]
  },
  {
   "cell_type": "code",
   "execution_count": null,
   "metadata": {},
   "outputs": [],
   "source": []
  },
  {
   "cell_type": "code",
   "execution_count": 69,
   "metadata": {},
   "outputs": [
    {
     "data": {
      "text/plain": [
       "np.int64(2068844)"
      ]
     },
     "execution_count": 69,
     "metadata": {},
     "output_type": "execute_result"
    }
   ],
   "source": [
    "df_accidents[\"latitude\"].isna().sum()"
   ]
  },
  {
   "cell_type": "markdown",
   "metadata": {},
   "source": [
    "#### Verificando os tipos de dados presentes na coluna \"latitude\""
   ]
  },
  {
   "cell_type": "code",
   "execution_count": null,
   "metadata": {},
   "outputs": [
    {
     "data": {
      "text/plain": [
       "latitude\n",
       "<class 'float'>    2068844\n",
       "<class 'str'>       750048\n",
       "Name: count, dtype: int64"
      ]
     },
     "execution_count": 70,
     "metadata": {},
     "output_type": "execute_result"
    }
   ],
   "source": [
    "df_accidents[\"latitude\"].apply(type).value_counts()"
   ]
  },
  {
   "cell_type": "markdown",
   "metadata": {},
   "source": [
    "#### Alterando o tipo de dados da coluna \"latitude\" para \"str\" e tratando dados faltantes como \"Desconhecida\", pois dos anos de 2011 a 2016 essa informação não existia"
   ]
  },
  {
   "cell_type": "code",
   "execution_count": 72,
   "metadata": {},
   "outputs": [
    {
     "data": {
      "text/plain": [
       "(2068844, 34)"
      ]
     },
     "execution_count": 72,
     "metadata": {},
     "output_type": "execute_result"
    }
   ],
   "source": [
    "df_accidents[\"latitude\"] = df_accidents[\"latitude\"].fillna(\"Desconhecida\").astype(\"str\")\n",
    "df_accidents[\"latitude\"].apply(type).value_counts()\n",
    "df_accidents[df_accidents[\"latitude\"] == \"Desconhecida\"].shape"
   ]
  },
  {
   "cell_type": "markdown",
   "metadata": {},
   "source": [
    "#### Verificando dados faltantes na coluna \"longitude\" antes do tratamento"
   ]
  },
  {
   "cell_type": "code",
   "execution_count": 73,
   "metadata": {},
   "outputs": [
    {
     "data": {
      "text/plain": [
       "np.int64(2068844)"
      ]
     },
     "execution_count": 73,
     "metadata": {},
     "output_type": "execute_result"
    }
   ],
   "source": [
    "df_accidents[\"longitude\"].isna().sum()"
   ]
  },
  {
   "cell_type": "markdown",
   "metadata": {},
   "source": [
    "#### Verificando os tipos de dados presentes na coluna \"longitude\""
   ]
  },
  {
   "cell_type": "code",
   "execution_count": 74,
   "metadata": {},
   "outputs": [
    {
     "data": {
      "text/plain": [
       "longitude\n",
       "<class 'float'>    2068844\n",
       "<class 'str'>       750048\n",
       "Name: count, dtype: int64"
      ]
     },
     "execution_count": 74,
     "metadata": {},
     "output_type": "execute_result"
    }
   ],
   "source": [
    "df_accidents[\"longitude\"].apply(type).value_counts()"
   ]
  },
  {
   "cell_type": "markdown",
   "metadata": {},
   "source": [
    "#### Alterando o tipo de dados da coluna \"longitude\" para \"str\" e tratando dados faltantes como \"Desconhecida\", pois dos anos de 2011 a 2016 essa informação não existia"
   ]
  },
  {
   "cell_type": "code",
   "execution_count": 75,
   "metadata": {},
   "outputs": [
    {
     "data": {
      "text/plain": [
       "(2068844, 34)"
      ]
     },
     "execution_count": 75,
     "metadata": {},
     "output_type": "execute_result"
    }
   ],
   "source": [
    "df_accidents[\"longitude\"] = df_accidents[\"longitude\"].fillna(\"Desconhecida\").astype(\"str\")\n",
    "df_accidents[\"longitude\"].apply(type).value_counts()\n",
    "df_accidents[df_accidents[\"longitude\"] == \"Desconhecida\"].shape"
   ]
  },
  {
   "cell_type": "markdown",
   "metadata": {},
   "source": [
    "#### Salvando os dados em um novo CSV após o tratamento de dados das colunas acima para ter uma base mais limpa"
   ]
  },
  {
   "cell_type": "code",
   "execution_count": 76,
   "metadata": {},
   "outputs": [],
   "source": [
    "with open(\"../../databases/acidentes2011_2021_tratada_v1.csv\", \"w\") as f:\n",
    "    df_accidents.to_csv(f, index=False)"
   ]
  }
 ],
 "metadata": {
  "kernelspec": {
   "display_name": "venv",
   "language": "python",
   "name": "python3"
  },
  "language_info": {
   "codemirror_mode": {
    "name": "ipython",
    "version": 3
   },
   "file_extension": ".py",
   "mimetype": "text/x-python",
   "name": "python",
   "nbconvert_exporter": "python",
   "pygments_lexer": "ipython3",
   "version": "3.13.2"
  }
 },
 "nbformat": 4,
 "nbformat_minor": 2
}
