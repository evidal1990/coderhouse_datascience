{
 "cells": [
  {
   "cell_type": "markdown",
   "metadata": {},
   "source": [
    "### Importando as bibliotecas necessárias para iniciar a leitura dos arquivos"
   ]
  },
  {
   "cell_type": "code",
   "execution_count": null,
   "metadata": {},
   "outputs": [],
   "source": [
    "import matplotlib.pyplot as plt\n",
    "import seaborn as sns\n",
    "import pandas as pd"
   ]
  },
  {
   "cell_type": "markdown",
   "metadata": {},
   "source": [
    "#### Lendo os dados da base única de 2011 a 2021"
   ]
  },
  {
   "cell_type": "code",
   "execution_count": 108,
   "metadata": {},
   "outputs": [
    {
     "name": "stderr",
     "output_type": "stream",
     "text": [
      "/var/folders/z1/3syxl8gd5ks431s8c9n9mrs00000gn/T/ipykernel_24089/4028140512.py:1: DtypeWarning: Columns (7,18,21,26,27,32,33) have mixed types. Specify dtype option on import or set low_memory=False.\n",
      "  df_accidents = pd.read_csv(\n"
     ]
    },
    {
     "name": "stdout",
     "output_type": "stream",
     "text": [
      "<class 'pandas.core.frame.DataFrame'>\n",
      "RangeIndex: 2818848 entries, 0 to 2818847\n",
      "Data columns (total 34 columns):\n",
      " #   Column                  Dtype  \n",
      "---  ------                  -----  \n",
      " 0   id                      float64\n",
      " 1   pesid                   float64\n",
      " 2   data_inversa            object \n",
      " 3   dia_semana              object \n",
      " 4   horario                 object \n",
      " 5   uf                      object \n",
      " 6   br                      float64\n",
      " 7   km                      object \n",
      " 8   municipio               object \n",
      " 9   causa_acidente          object \n",
      " 10  tipo_acidente           object \n",
      " 11  classificacao_acidente  object \n",
      " 12  fase_dia                object \n",
      " 13  sentido_via             object \n",
      " 14  condicao_metereologica  object \n",
      " 15  tipo_pista              object \n",
      " 16  tracado_via             object \n",
      " 17  uso_solo                object \n",
      " 18  id_veiculo              object \n",
      " 19  tipo_veiculo            object \n",
      " 20  marca                   object \n",
      " 21  ano_fabricacao_veiculo  object \n",
      " 22  tipo_envolvido          object \n",
      " 23  estado_fisico           object \n",
      " 24  idade                   float64\n",
      " 25  sexo                    object \n",
      " 26  nacionalidade           object \n",
      " 27  naturalidade            object \n",
      " 28  ilesos                  float64\n",
      " 29  feridos_leves           float64\n",
      " 30  feridos_graves          float64\n",
      " 31  mortos                  float64\n",
      " 32  latitude                object \n",
      " 33  longitude               object \n",
      "dtypes: float64(8), object(26)\n",
      "memory usage: 731.2+ MB\n"
     ]
    }
   ],
   "source": [
    "df_accidents = pd.read_csv(\n",
    "    \"../../databases/acidentes2011_2021_tratado_v1.csv\"\n",
    ")\n",
    "df_accidents.info()"
   ]
  },
  {
   "cell_type": "markdown",
   "metadata": {},
   "source": [
    "#### Verificando informações da coluna"
   ]
  },
  {
   "cell_type": "code",
   "execution_count": 99,
   "metadata": {},
   "outputs": [
    {
     "name": "stdout",
     "output_type": "stream",
     "text": [
      "<class 'pandas.core.series.Series'>\n",
      "RangeIndex: 2818848 entries, 0 to 2818847\n",
      "Series name: br\n",
      "Non-Null Count    Dtype  \n",
      "--------------    -----  \n",
      "2817449 non-null  float64\n",
      "dtypes: float64(1)\n",
      "memory usage: 21.5 MB\n"
     ]
    }
   ],
   "source": [
    "df_accidents[\"br\"].info()"
   ]
  },
  {
   "cell_type": "markdown",
   "metadata": {},
   "source": [
    "#### Verificando dados estatísticos da coluna antes do tratamento dos dados"
   ]
  },
  {
   "cell_type": "code",
   "execution_count": 100,
   "metadata": {},
   "outputs": [
    {
     "data": {
      "text/plain": [
       "count    2.817449e+06\n",
       "mean     2.137297e+02\n",
       "std      1.292065e+02\n",
       "min      0.000000e+00\n",
       "25%      1.010000e+02\n",
       "50%      1.630000e+02\n",
       "75%      3.240000e+02\n",
       "max      9.310000e+02\n",
       "Name: br, dtype: float64"
      ]
     },
     "execution_count": 100,
     "metadata": {},
     "output_type": "execute_result"
    }
   ],
   "source": [
    "df_accidents[\"br\"].describe()"
   ]
  },
  {
   "cell_type": "markdown",
   "metadata": {},
   "source": [
    "#### Verificando dados faltantes na coluna \"br\" antes do tratamento"
   ]
  },
  {
   "cell_type": "code",
   "execution_count": 109,
   "metadata": {},
   "outputs": [
    {
     "data": {
      "text/plain": [
       "np.int64(1399)"
      ]
     },
     "execution_count": 109,
     "metadata": {},
     "output_type": "execute_result"
    }
   ],
   "source": [
    "df_accidents[\"br\"].isna().sum()"
   ]
  },
  {
   "cell_type": "markdown",
   "metadata": {},
   "source": [
    "#### Tratando os dados para um único tipo"
   ]
  },
  {
   "cell_type": "code",
   "execution_count": 104,
   "metadata": {},
   "outputs": [
    {
     "data": {
      "text/plain": [
       "np.int64(1399)"
      ]
     },
     "execution_count": 104,
     "metadata": {},
     "output_type": "execute_result"
    }
   ],
   "source": [
    "df_accidents[\"br\"] = pd.to_numeric(df_accidents[\"br\"], errors=\"coerce\").astype(\"Int64\")\n",
    "df_accidents[\"br\"].isna().sum()"
   ]
  },
  {
   "cell_type": "markdown",
   "metadata": {},
   "source": [
    "#### Tratando dados faltantes como \"Desconhecido\""
   ]
  },
  {
   "cell_type": "code",
   "execution_count": 91,
   "metadata": {},
   "outputs": [
    {
     "data": {
      "text/plain": [
       "(0, 34)"
      ]
     },
     "execution_count": 91,
     "metadata": {},
     "output_type": "execute_result"
    }
   ],
   "source": [
    "df_accidents[df_accidents[\"br\"] == \"Desconhecido\"].shape"
   ]
  },
  {
   "cell_type": "markdown",
   "metadata": {},
   "source": [
    "#### Verificando dados estatísticos da coluna após do tratamento dos dados"
   ]
  },
  {
   "cell_type": "code",
   "execution_count": 105,
   "metadata": {},
   "outputs": [
    {
     "data": {
      "text/plain": [
       "count     2817449.0\n",
       "mean     213.729652\n",
       "std      129.206516\n",
       "min             0.0\n",
       "25%           101.0\n",
       "50%           163.0\n",
       "75%           324.0\n",
       "max           931.0\n",
       "Name: br, dtype: Float64"
      ]
     },
     "execution_count": 105,
     "metadata": {},
     "output_type": "execute_result"
    }
   ],
   "source": [
    "df_accidents[\"br\"].describe()"
   ]
  },
  {
   "cell_type": "markdown",
   "metadata": {},
   "source": [
    "#### Gerando gráfico de pizza dos dados para uma análise univariada, com os top 5 rodovias com mais acidentes para uma melhor visualização."
   ]
  },
  {
   "cell_type": "code",
   "execution_count": 106,
   "metadata": {},
   "outputs": [
    {
     "data": {
      "image/png": "[encoded data removed]",
      "text/plain": [
       "<Figure size 800x800 with 1 Axes>"
      ]
     },
     "metadata": {},
     "output_type": "display_data"
    }
   ],
   "source": [
    "top_n = 5\n",
    "\n",
    "df_counts = df_accidents[\"br\"].value_counts().nlargest(top_n).reset_index()\n",
    "df_counts.columns = [\"Categoria\", \"Frequência\"]\n",
    "\n",
    "plt.figure(figsize=(8, 8))\n",
    "plt.pie(df_counts[\"Frequência\"], labels=df_counts[\"Categoria\"], autopct=\"%1.1f%%\", colors=sns.color_palette(\"pastel\", len(df_counts)))\n",
    "plt.title(f'Top {top_n} Rodovias com mais acidentes de 2011 a 2021')\n",
    "plt.show()"
   ]
  },
  {
   "cell_type": "markdown",
   "metadata": {},
   "source": [
    "#### Salvando os dados em um novo CSV após o tratamento de dados das colunas acima para ter uma base mais limpa"
   ]
  },
  {
   "cell_type": "code",
   "execution_count": 107,
   "metadata": {},
   "outputs": [],
   "source": [
    "with open(\"../../databases/acidentes2011_2021_tratado_v1.csv\", \"w\") as f:\n",
    "    df_accidents.to_csv(f, index=False)"
   ]
  }
 ],
 "metadata": {
  "kernelspec": {
   "display_name": "venv",
   "language": "python",
   "name": "python3"
  },
  "language_info": {
   "codemirror_mode": {
    "name": "ipython",
    "version": 3
   },
   "file_extension": ".py",
   "mimetype": "text/x-python",
   "name": "python",
   "nbconvert_exporter": "python",
   "pygments_lexer": "ipython3",
   "version": "3.13.2"
  }
 },
 "nbformat": 4,
 "nbformat_minor": 2
}
