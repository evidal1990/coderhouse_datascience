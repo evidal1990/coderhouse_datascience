{
 "cells": [
  {
   "cell_type": "markdown",
   "metadata": {},
   "source": [
    "#### Importando as bibliotecas necessárias para iniciar a leitura dos arquivos"
   ]
  },
  {
   "cell_type": "code",
   "execution_count": 1,
   "metadata": {},
   "outputs": [],
   "source": [
    "import pandas as pd"
   ]
  },
  {
   "cell_type": "markdown",
   "metadata": {},
   "source": [
    "#### Importando arquivos do período de 2011 a 2021"
   ]
  },
  {
   "cell_type": "code",
   "execution_count": null,
   "metadata": {},
   "outputs": [],
   "source": [
    "\n",
    "df_2011 = pd.read_csv(\"../databases/acidentes2011.csv\", encoding=\"latin\")\n",
    "df_2012 = pd.read_csv(\"../databases/acidentes2012.csv\", encoding=\"latin\")\n",
    "df_2013 = pd.read_csv(\"../databases/acidentes2013.csv\", encoding=\"latin\")\n",
    "df_2014 = pd.read_csv(\"../databases/acidentes2014.csv\", encoding=\"latin\")\n",
    "df_2015 = pd.read_csv(\"../databases/acidentes2015.csv\", encoding=\"latin\")\n",
    "df_2016 = pd.read_csv(\"../databases/acidentes2016.csv\", encoding=\"latin\", sep=\";\")\n",
    "df_2017 = pd.read_csv(\"../databases/acidentes2017.csv\", encoding=\"latin\", sep=\";\")\n",
    "df_2018 = pd.read_csv(\"../databases/acidentes2018.csv\", encoding=\"latin\", sep=\";\")\n",
    "df_2019 = pd.read_csv(\"../databases/acidentes2019.csv\", encoding=\"latin\", sep=\";\")\n",
    "df_2020 = pd.read_csv(\"../databases/acidentes2020.csv\", encoding=\"latin\", sep=\";\")\n",
    "df_2021 = pd.read_csv(\"../databases/acidentes2021.csv\", encoding=\"latin\", sep=\";\")"
   ]
  },
  {
   "cell_type": "markdown",
   "metadata": {},
   "source": [
    "#### Verificando as informações dos dados presentes em cada arquivo"
   ]
  },
  {
   "cell_type": "code",
   "execution_count": null,
   "metadata": {},
   "outputs": [],
   "source": [
    "df_2011.info()\n",
    "df_2012.info()\n",
    "df_2013.info()\n",
    "df_2014.info()\n",
    "df_2015.info()\n",
    "df_2016.info()\n",
    "df_2017.info()\n",
    "df_2018.info()\n",
    "df_2019.info()\n",
    "df_2020.info()\n",
    "df_2021.info()"
   ]
  },
  {
   "cell_type": "markdown",
   "metadata": {},
   "source": [
    "#### Unificando arquivos do período de 2011 a 2021 em um único arquivo"
   ]
  },
  {
   "cell_type": "code",
   "execution_count": null,
   "metadata": {},
   "outputs": [],
   "source": [
    "df_2011_2021 = pd.concat([\n",
    "    df_2011,\n",
    "    df_2012,\n",
    "    df_2013,\n",
    "    df_2014,\n",
    "    df_2015,\n",
    "    df_2016,\n",
    "    df_2017,\n",
    "    df_2018,\n",
    "    df_2019,\n",
    "    df_2020,\n",
    "    df_2021\n",
    "],\n",
    "    ignore_index=True\n",
    ")\n",
    "df_2011_2021.head()"
   ]
  },
  {
   "cell_type": "markdown",
   "metadata": {},
   "source": [
    "#### Verificando as informações dos dados após a concatenação"
   ]
  },
  {
   "cell_type": "code",
   "execution_count": null,
   "metadata": {},
   "outputs": [],
   "source": [
    "df_2011_2021.info()"
   ]
  },
  {
   "cell_type": "markdown",
   "metadata": {},
   "source": [
    "#### Removendo colunas que não considero necessárias para a análise, provenientes dos arquivos à partir do ano de 2017 (latitude, longitude, regional, delegacia, uop)"
   ]
  },
  {
   "cell_type": "code",
   "execution_count": null,
   "metadata": {},
   "outputs": [],
   "source": [
    "df_2011_2021 = df_2011_2021.drop(columns=[\n",
    "    \"regional\",\n",
    "    \"delegacia\",\n",
    "    \"uop\"\n",
    "])\n",
    "df_2011_2021.head()"
   ]
  },
  {
   "cell_type": "markdown",
   "metadata": {},
   "source": [
    "#### Salvando nova base de dados gerada à partir dos arquivos de 2011 a 2021"
   ]
  },
  {
   "cell_type": "code",
   "execution_count": null,
   "metadata": {},
   "outputs": [],
   "source": [
    "with open(\"../databases/acidentes2011_2021.csv\", \"w\") as f:\n",
    "    df_2011_2021.to_csv(f, index=False)"
   ]
  },
  {
   "cell_type": "markdown",
   "metadata": {},
   "source": [
    "#### Lendo os dados da base gerada acima"
   ]
  },
  {
   "cell_type": "code",
   "execution_count": null,
   "metadata": {},
   "outputs": [],
   "source": [
    "df_accidents = pd.read_csv(\"../databases/acidentes2011_2021.csv\")\n",
    "df_accidents.info()\n",
    "df_accidents.describe(include=\"all\").T"
   ]
  }
 ],
 "metadata": {
  "kernelspec": {
   "display_name": "venv",
   "language": "python",
   "name": "python3"
  },
  "language_info": {
   "codemirror_mode": {
    "name": "ipython",
    "version": 3
   },
   "file_extension": ".py",
   "mimetype": "text/x-python",
   "name": "python",
   "nbconvert_exporter": "python",
   "pygments_lexer": "ipython3",
   "version": "3.13.2"
  }
 },
 "nbformat": 4,
 "nbformat_minor": 2
}
