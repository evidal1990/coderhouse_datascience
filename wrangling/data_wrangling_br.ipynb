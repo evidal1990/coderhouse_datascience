{
 "cells": [
  {
   "cell_type": "markdown",
   "metadata": {},
   "source": [
    "### Importando as bibliotecas necessárias para iniciar a leitura dos arquivos"
   ]
  },
  {
   "cell_type": "code",
   "execution_count": 1,
   "metadata": {},
   "outputs": [
    {
     "name": "stdout",
     "output_type": "stream",
     "text": [
      "Requirement already satisfied: missingno in /Users/edithvidal/Documents/Github/data_science_analysis/venv/lib/python3.13/site-packages (0.5.2)\n",
      "Requirement already satisfied: numpy in /Users/edithvidal/Documents/Github/data_science_analysis/venv/lib/python3.13/site-packages (from missingno) (2.2.2)\n",
      "Requirement already satisfied: matplotlib in /Users/edithvidal/Documents/Github/data_science_analysis/venv/lib/python3.13/site-packages (from missingno) (3.10.0)\n",
      "Requirement already satisfied: scipy in /Users/edithvidal/Documents/Github/data_science_analysis/venv/lib/python3.13/site-packages (from missingno) (1.15.2)\n",
      "Requirement already satisfied: seaborn in /Users/edithvidal/Documents/Github/data_science_analysis/venv/lib/python3.13/site-packages (from missingno) (0.13.2)\n",
      "Requirement already satisfied: contourpy>=1.0.1 in /Users/edithvidal/Documents/Github/data_science_analysis/venv/lib/python3.13/site-packages (from matplotlib->missingno) (1.3.1)\n",
      "Requirement already satisfied: cycler>=0.10 in /Users/edithvidal/Documents/Github/data_science_analysis/venv/lib/python3.13/site-packages (from matplotlib->missingno) (0.12.1)\n",
      "Requirement already satisfied: fonttools>=4.22.0 in /Users/edithvidal/Documents/Github/data_science_analysis/venv/lib/python3.13/site-packages (from matplotlib->missingno) (4.56.0)\n",
      "Requirement already satisfied: kiwisolver>=1.3.1 in /Users/edithvidal/Documents/Github/data_science_analysis/venv/lib/python3.13/site-packages (from matplotlib->missingno) (1.4.8)\n",
      "Requirement already satisfied: packaging>=20.0 in /Users/edithvidal/Documents/Github/data_science_analysis/venv/lib/python3.13/site-packages (from matplotlib->missingno) (24.2)\n",
      "Requirement already satisfied: pillow>=8 in /Users/edithvidal/Documents/Github/data_science_analysis/venv/lib/python3.13/site-packages (from matplotlib->missingno) (11.1.0)\n",
      "Requirement already satisfied: pyparsing>=2.3.1 in /Users/edithvidal/Documents/Github/data_science_analysis/venv/lib/python3.13/site-packages (from matplotlib->missingno) (3.2.1)\n",
      "Requirement already satisfied: python-dateutil>=2.7 in /Users/edithvidal/Documents/Github/data_science_analysis/venv/lib/python3.13/site-packages (from matplotlib->missingno) (2.9.0.post0)\n",
      "Requirement already satisfied: pandas>=1.2 in /Users/edithvidal/Documents/Github/data_science_analysis/venv/lib/python3.13/site-packages (from seaborn->missingno) (2.2.3)\n",
      "Requirement already satisfied: pytz>=2020.1 in /Users/edithvidal/Documents/Github/data_science_analysis/venv/lib/python3.13/site-packages (from pandas>=1.2->seaborn->missingno) (2025.1)\n",
      "Requirement already satisfied: tzdata>=2022.7 in /Users/edithvidal/Documents/Github/data_science_analysis/venv/lib/python3.13/site-packages (from pandas>=1.2->seaborn->missingno) (2025.1)\n",
      "Requirement already satisfied: six>=1.5 in /Users/edithvidal/Documents/Github/data_science_analysis/venv/lib/python3.13/site-packages (from python-dateutil>=2.7->matplotlib->missingno) (1.17.0)\n",
      "Note: you may need to restart the kernel to use updated packages.\n",
      "Requirement already satisfied: requests in /Users/edithvidal/Documents/Github/data_science_analysis/venv/lib/python3.13/site-packages (2.32.3)\n",
      "Requirement already satisfied: charset-normalizer<4,>=2 in /Users/edithvidal/Documents/Github/data_science_analysis/venv/lib/python3.13/site-packages (from requests) (3.4.1)\n",
      "Requirement already satisfied: idna<4,>=2.5 in /Users/edithvidal/Documents/Github/data_science_analysis/venv/lib/python3.13/site-packages (from requests) (3.10)\n",
      "Requirement already satisfied: urllib3<3,>=1.21.1 in /Users/edithvidal/Documents/Github/data_science_analysis/venv/lib/python3.13/site-packages (from requests) (2.3.0)\n",
      "Requirement already satisfied: certifi>=2017.4.17 in /Users/edithvidal/Documents/Github/data_science_analysis/venv/lib/python3.13/site-packages (from requests) (2025.1.31)\n",
      "Note: you may need to restart the kernel to use updated packages.\n"
     ]
    }
   ],
   "source": [
    "%pip install missingno\n",
    "%pip install requests\n",
    "\n",
    "import pandas as pd\n",
    "import missingno as msno\n",
    "import requests\n",
    "%matplotlib inline"
   ]
  },
  {
   "cell_type": "markdown",
   "metadata": {},
   "source": [
    "#### Lendo os dados da base única de 2015 a 2021"
   ]
  },
  {
   "cell_type": "code",
   "execution_count": 2,
   "metadata": {},
   "outputs": [
    {
     "name": "stderr",
     "output_type": "stream",
     "text": [
      "/var/folders/z1/3syxl8gd5ks431s8c9n9mrs00000gn/T/ipykernel_26372/244838934.py:1: DtypeWarning: Columns (7) have mixed types. Specify dtype option on import or set low_memory=False.\n",
      "  df_accidents = pd.read_csv(\n"
     ]
    },
    {
     "name": "stdout",
     "output_type": "stream",
     "text": [
      "<class 'pandas.core.frame.DataFrame'>\n",
      "RangeIndex: 1235361 entries, 0 to 1235360\n",
      "Data columns (total 27 columns):\n",
      " #   Column                  Non-Null Count    Dtype  \n",
      "---  ------                  --------------    -----  \n",
      " 0   id                      1235361 non-null  float64\n",
      " 1   pesid                   1235356 non-null  float64\n",
      " 2   data_inversa            1235361 non-null  object \n",
      " 3   dia_semana              1235361 non-null  object \n",
      " 4   horario                 1235361 non-null  object \n",
      " 5   uf                      1235361 non-null  object \n",
      " 6   br                      1233970 non-null  float64\n",
      " 7   km                      1233970 non-null  object \n",
      " 8   municipio               1235361 non-null  object \n",
      " 9   causa_acidente          1235361 non-null  object \n",
      " 10  tipo_acidente           1235361 non-null  object \n",
      " 11  classificacao_acidente  1235359 non-null  object \n",
      " 12  fase_dia                1235360 non-null  object \n",
      " 13  sentido_via             1235361 non-null  object \n",
      " 14  condicao_metereologica  1235354 non-null  object \n",
      " 15  tipo_pista              1235361 non-null  object \n",
      " 16  tracado_via             1235361 non-null  object \n",
      " 17  uso_solo                1235361 non-null  object \n",
      " 18  tipo_veiculo            1231359 non-null  object \n",
      " 19  tipo_envolvido          1235361 non-null  object \n",
      " 20  estado_fisico           1235358 non-null  object \n",
      " 21  idade                   1125780 non-null  float64\n",
      " 22  sexo                    1235184 non-null  object \n",
      " 23  ilesos                  750048 non-null   float64\n",
      " 24  feridos_leves           750048 non-null   float64\n",
      " 25  feridos_graves          750048 non-null   float64\n",
      " 26  mortos                  750048 non-null   float64\n",
      "dtypes: float64(8), object(19)\n",
      "memory usage: 254.5+ MB\n"
     ]
    }
   ],
   "source": [
    "df_accidents = pd.read_csv(\n",
    "    \"../databases/acidentes2015_2021.csv\"\n",
    ")\n",
    "df_accidents.info()"
   ]
  },
  {
   "cell_type": "markdown",
   "metadata": {},
   "source": [
    "#### Verificando os dados faltantes de cada coluna para ter uma visão geral da base"
   ]
  },
  {
   "cell_type": "code",
   "execution_count": 3,
   "metadata": {},
   "outputs": [
    {
     "data": {
      "text/plain": [
       "<Axes: >"
      ]
     },
     "execution_count": 3,
     "metadata": {},
     "output_type": "execute_result"
    },
    {
     "data": {
      "image/png": "[encoded data removed]",
      "text/plain": [
       "<Figure size 2500x1000 with 2 Axes>"
      ]
     },
     "metadata": {},
     "output_type": "display_data"
    }
   ],
   "source": [
    "msno.matrix(df=df_accidents)"
   ]
  },
  {
   "cell_type": "markdown",
   "metadata": {},
   "source": [
    "#### Verificando informações da coluna \"br\""
   ]
  },
  {
   "cell_type": "code",
   "execution_count": 4,
   "metadata": {},
   "outputs": [
    {
     "name": "stdout",
     "output_type": "stream",
     "text": [
      "<class 'pandas.core.series.Series'>\n",
      "RangeIndex: 1235361 entries, 0 to 1235360\n",
      "Series name: br\n",
      "Non-Null Count    Dtype  \n",
      "--------------    -----  \n",
      "1233970 non-null  float64\n",
      "dtypes: float64(1)\n",
      "memory usage: 9.4 MB\n"
     ]
    }
   ],
   "source": [
    "df_accidents[\"br\"].info()"
   ]
  },
  {
   "cell_type": "markdown",
   "metadata": {},
   "source": [
    "#### Verificando dados estatísticos da coluna \"br\" antes do tratamento dos dados"
   ]
  },
  {
   "cell_type": "code",
   "execution_count": 5,
   "metadata": {},
   "outputs": [
    {
     "data": {
      "text/plain": [
       "count    1.233970e+06\n",
       "mean     2.145969e+02\n",
       "std      1.299661e+02\n",
       "min      0.000000e+00\n",
       "25%      1.010000e+02\n",
       "50%      1.630000e+02\n",
       "75%      3.240000e+02\n",
       "max      6.600000e+02\n",
       "Name: br, dtype: float64"
      ]
     },
     "execution_count": 5,
     "metadata": {},
     "output_type": "execute_result"
    }
   ],
   "source": [
    "df_accidents[\"br\"].describe()"
   ]
  },
  {
   "cell_type": "markdown",
   "metadata": {},
   "source": [
    "#### Verificando dados faltantes na coluna \"br\" antes do tratamento"
   ]
  },
  {
   "cell_type": "code",
   "execution_count": 6,
   "metadata": {},
   "outputs": [
    {
     "data": {
      "text/plain": [
       "np.int64(1391)"
      ]
     },
     "execution_count": 6,
     "metadata": {},
     "output_type": "execute_result"
    }
   ],
   "source": [
    "df_accidents[\"br\"].isna().sum()"
   ]
  },
  {
   "cell_type": "markdown",
   "metadata": {},
   "source": [
    "#### Tratando os dados para serem do tipo string e tratando dados faltantes como \"Desconhecido\" na coluna \"br\""
   ]
  },
  {
   "cell_type": "code",
   "execution_count": 7,
   "metadata": {},
   "outputs": [],
   "source": [
    "br_column = pd.to_numeric(\n",
    "    df_accidents[\"br\"], errors=\"coerce\").fillna(0).astype(\"int\")\n",
    "br_column = br_column.apply(\n",
    "    lambda data: f'BR-{data}' if data != 0 else \"Desconhecido\")\n",
    "df_accidents[\"br\"] = br_column"
   ]
  },
  {
   "cell_type": "markdown",
   "metadata": {},
   "source": [
    "#### Verificando dados faltantes categorizados como \"Desconhecido\" na coluna \"br\""
   ]
  },
  {
   "cell_type": "code",
   "execution_count": 8,
   "metadata": {},
   "outputs": [
    {
     "data": {
      "text/plain": [
       "(1395, 27)"
      ]
     },
     "execution_count": 8,
     "metadata": {},
     "output_type": "execute_result"
    }
   ],
   "source": [
    "df_accidents[df_accidents[\"br\"] == \"Desconhecido\"].shape"
   ]
  },
  {
   "cell_type": "markdown",
   "metadata": {},
   "source": [
    "#### Verificando dados estatísticos da coluna \"br\" após o tratamento dos dados"
   ]
  },
  {
   "cell_type": "code",
   "execution_count": 9,
   "metadata": {},
   "outputs": [
    {
     "data": {
      "text/plain": [
       "count     1235361\n",
       "unique        138\n",
       "top        BR-101\n",
       "freq       196223\n",
       "Name: br, dtype: object"
      ]
     },
     "execution_count": 9,
     "metadata": {},
     "output_type": "execute_result"
    }
   ],
   "source": [
    "df_accidents[\"br\"].describe()"
   ]
  },
  {
   "cell_type": "markdown",
   "metadata": {},
   "source": [
    "#### Verificando informações da coluna \"km\""
   ]
  },
  {
   "cell_type": "code",
   "execution_count": 10,
   "metadata": {},
   "outputs": [
    {
     "name": "stdout",
     "output_type": "stream",
     "text": [
      "<class 'pandas.core.series.Series'>\n",
      "RangeIndex: 1235361 entries, 0 to 1235360\n",
      "Series name: km\n",
      "Non-Null Count    Dtype \n",
      "--------------    ----- \n",
      "1233970 non-null  object\n",
      "dtypes: object(1)\n",
      "memory usage: 9.4+ MB\n"
     ]
    }
   ],
   "source": [
    "df_accidents[\"km\"].info()"
   ]
  },
  {
   "cell_type": "markdown",
   "metadata": {},
   "source": [
    "#### Verificando dados estatísticos da coluna \"km\" antes do tratamento dos dados"
   ]
  },
  {
   "cell_type": "code",
   "execution_count": 11,
   "metadata": {},
   "outputs": [
    {
     "data": {
      "text/plain": [
       "count     1233970\n",
       "unique      19831\n",
       "top             1\n",
       "freq         3829\n",
       "Name: km, dtype: object"
      ]
     },
     "execution_count": 11,
     "metadata": {},
     "output_type": "execute_result"
    }
   ],
   "source": [
    "df_accidents[\"km\"].describe()"
   ]
  },
  {
   "cell_type": "markdown",
   "metadata": {},
   "source": [
    "#### Verificando dados faltantes na coluna \"km\" antes do tratamento"
   ]
  },
  {
   "cell_type": "code",
   "execution_count": 12,
   "metadata": {},
   "outputs": [
    {
     "data": {
      "text/plain": [
       "np.int64(1391)"
      ]
     },
     "execution_count": 12,
     "metadata": {},
     "output_type": "execute_result"
    }
   ],
   "source": [
    "df_accidents[\"km\"].isna().sum()"
   ]
  },
  {
   "cell_type": "markdown",
   "metadata": {},
   "source": [
    "#### Tratando os dados para serem do tipo string e tratando dados faltantes como \"Desconhecido\" na coluna \"km\""
   ]
  },
  {
   "cell_type": "code",
   "execution_count": 13,
   "metadata": {},
   "outputs": [
    {
     "data": {
      "text/plain": [
       "0    KM-327\n",
       "1    KM-327\n",
       "2    KM-434\n",
       "3    KM-434\n",
       "4     KM-64\n",
       "Name: km, dtype: object"
      ]
     },
     "execution_count": 13,
     "metadata": {},
     "output_type": "execute_result"
    }
   ],
   "source": [
    "km_column = pd.to_numeric(\n",
    "    df_accidents[\"km\"], errors=\"coerce\").fillna(0).astype(\"int\")\n",
    "km_column = km_column.apply(\n",
    "    lambda data: f'KM-{data}' if data != 0 else \"Desconhecido\")\n",
    "df_accidents[\"km\"] = km_column\n",
    "df_accidents[\"km\"].head()"
   ]
  },
  {
   "cell_type": "markdown",
   "metadata": {},
   "source": [
    "#### Verificando dados faltantes categorizados como \"Desconhecido\" na coluna \"km\""
   ]
  },
  {
   "cell_type": "code",
   "execution_count": 14,
   "metadata": {},
   "outputs": [
    {
     "data": {
      "text/plain": [
       "(485285, 27)"
      ]
     },
     "execution_count": 14,
     "metadata": {},
     "output_type": "execute_result"
    }
   ],
   "source": [
    "df_accidents[df_accidents[\"km\"] == \"Desconhecido\"].shape"
   ]
  },
  {
   "cell_type": "markdown",
   "metadata": {},
   "source": [
    "#### Verificando dados estatísticos da coluna \"km\" após o tratamento dos dados"
   ]
  },
  {
   "cell_type": "code",
   "execution_count": 15,
   "metadata": {},
   "outputs": [
    {
     "data": {
      "text/plain": [
       "count          1235361\n",
       "unique            1168\n",
       "top       Desconhecido\n",
       "freq            485285\n",
       "Name: km, dtype: object"
      ]
     },
     "execution_count": 15,
     "metadata": {},
     "output_type": "execute_result"
    }
   ],
   "source": [
    "df_accidents[\"km\"].describe()"
   ]
  },
  {
   "cell_type": "markdown",
   "metadata": {},
   "source": [
    "#### Verificando informações da coluna \"data_inversa\""
   ]
  },
  {
   "cell_type": "code",
   "execution_count": 16,
   "metadata": {},
   "outputs": [
    {
     "name": "stdout",
     "output_type": "stream",
     "text": [
      "<class 'pandas.core.series.Series'>\n",
      "RangeIndex: 1235361 entries, 0 to 1235360\n",
      "Series name: data_inversa\n",
      "Non-Null Count    Dtype \n",
      "--------------    ----- \n",
      "1235361 non-null  object\n",
      "dtypes: object(1)\n",
      "memory usage: 9.4+ MB\n"
     ]
    }
   ],
   "source": [
    "df_accidents[\"data_inversa\"].info()"
   ]
  },
  {
   "cell_type": "markdown",
   "metadata": {},
   "source": [
    "#### Verificando dados estatísticos da coluna \"data_inversa\" antes do tratamento dos dados"
   ]
  },
  {
   "cell_type": "code",
   "execution_count": 17,
   "metadata": {},
   "outputs": [
    {
     "data": {
      "text/plain": [
       "count        1235361\n",
       "unique          2373\n",
       "top       05/04/2015\n",
       "freq            1536\n",
       "Name: data_inversa, dtype: object"
      ]
     },
     "execution_count": 17,
     "metadata": {},
     "output_type": "execute_result"
    }
   ],
   "source": [
    "df_accidents[\"data_inversa\"].describe()"
   ]
  },
  {
   "cell_type": "markdown",
   "metadata": {},
   "source": [
    "#### Verificando a frequência dos valores da coluna \"data_inversa\" antes do tratamento dos dados"
   ]
  },
  {
   "cell_type": "code",
   "execution_count": 18,
   "metadata": {},
   "outputs": [
    {
     "data": {
      "text/plain": [
       "data_inversa\n",
       "05/04/2015    1536\n",
       "14/02/2015    1436\n",
       "02/04/2015    1364\n",
       "13/02/2015    1354\n",
       "2017-12-23    1280\n",
       "              ... \n",
       "2020-03-30     183\n",
       "2018-05-29     173\n",
       "2020-03-25     163\n",
       "2020-03-23     154\n",
       "2020-03-26     148\n",
       "Name: count, Length: 2373, dtype: int64"
      ]
     },
     "execution_count": 18,
     "metadata": {},
     "output_type": "execute_result"
    }
   ],
   "source": [
    "df_accidents[\"data_inversa\"].value_counts()"
   ]
  },
  {
   "cell_type": "markdown",
   "metadata": {},
   "source": [
    "#### Verificando dados faltantes na coluna \"data_inversa\" antes do tratamento"
   ]
  },
  {
   "cell_type": "code",
   "execution_count": 19,
   "metadata": {},
   "outputs": [
    {
     "data": {
      "text/plain": [
       "np.int64(0)"
      ]
     },
     "execution_count": 19,
     "metadata": {},
     "output_type": "execute_result"
    }
   ],
   "source": [
    "df_accidents[\"data_inversa\"].isna().sum()"
   ]
  },
  {
   "cell_type": "markdown",
   "metadata": {},
   "source": [
    "#### Padronizando o formato da data do campo data_inversa para dd/MM/yyyy"
   ]
  },
  {
   "cell_type": "code",
   "execution_count": 20,
   "metadata": {},
   "outputs": [
    {
     "data": {
      "text/plain": [
       "data_inversa\n",
       "05/04/2015    1536\n",
       "14/02/2015    1436\n",
       "02/04/2015    1364\n",
       "13/02/2015    1354\n",
       "23/12/2017    1280\n",
       "              ... \n",
       "30/03/2020     183\n",
       "29/05/2018     173\n",
       "25/03/2020     163\n",
       "23/03/2020     154\n",
       "26/03/2020     148\n",
       "Name: count, Length: 2373, dtype: int64"
      ]
     },
     "execution_count": 20,
     "metadata": {},
     "output_type": "execute_result"
    }
   ],
   "source": [
    "df_accidents[\"data_inversa\"] = pd.to_datetime(\n",
    "    df_accidents[\"data_inversa\"], format='mixed', dayfirst=True).dt.strftime('%d/%m/%Y').to_frame()\n",
    "df_accidents[\"data_inversa\"].value_counts()"
   ]
  },
  {
   "cell_type": "markdown",
   "metadata": {},
   "source": [
    "#### Verificando dados estatísticos da coluna \"data_inversa\" após do tratamento dos dados"
   ]
  },
  {
   "cell_type": "code",
   "execution_count": 21,
   "metadata": {},
   "outputs": [
    {
     "data": {
      "text/plain": [
       "count        1235361\n",
       "unique          2373\n",
       "top       05/04/2015\n",
       "freq            1536\n",
       "Name: data_inversa, dtype: object"
      ]
     },
     "execution_count": 21,
     "metadata": {},
     "output_type": "execute_result"
    }
   ],
   "source": [
    "df_accidents[\"data_inversa\"].describe()"
   ]
  },
  {
   "cell_type": "markdown",
   "metadata": {},
   "source": [
    "#### Criando coluna auxiliar mês para facilitar análise futura"
   ]
  },
  {
   "cell_type": "code",
   "execution_count": 22,
   "metadata": {},
   "outputs": [
    {
     "data": {
      "text/html": [
       "<div>\n",
       "<style scoped>\n",
       "    .dataframe tbody tr th:only-of-type {\n",
       "        vertical-align: middle;\n",
       "    }\n",
       "\n",
       "    .dataframe tbody tr th {\n",
       "        vertical-align: top;\n",
       "    }\n",
       "\n",
       "    .dataframe thead th {\n",
       "        text-align: right;\n",
       "    }\n",
       "</style>\n",
       "<table border=\"1\" class=\"dataframe\">\n",
       "  <thead>\n",
       "    <tr style=\"text-align: right;\">\n",
       "      <th></th>\n",
       "      <th>id</th>\n",
       "      <th>pesid</th>\n",
       "      <th>data_inversa</th>\n",
       "      <th>dia_semana</th>\n",
       "      <th>horario</th>\n",
       "      <th>uf</th>\n",
       "      <th>br</th>\n",
       "      <th>km</th>\n",
       "      <th>municipio</th>\n",
       "      <th>causa_acidente</th>\n",
       "      <th>...</th>\n",
       "      <th>tipo_veiculo</th>\n",
       "      <th>tipo_envolvido</th>\n",
       "      <th>estado_fisico</th>\n",
       "      <th>idade</th>\n",
       "      <th>sexo</th>\n",
       "      <th>ilesos</th>\n",
       "      <th>feridos_leves</th>\n",
       "      <th>feridos_graves</th>\n",
       "      <th>mortos</th>\n",
       "      <th>mes</th>\n",
       "    </tr>\n",
       "  </thead>\n",
       "  <tbody>\n",
       "    <tr>\n",
       "      <th>0</th>\n",
       "      <td>83298209.0</td>\n",
       "      <td>5085680.0</td>\n",
       "      <td>01/01/2015</td>\n",
       "      <td>Quinta</td>\n",
       "      <td>00:05:00</td>\n",
       "      <td>RJ</td>\n",
       "      <td>BR-101</td>\n",
       "      <td>KM-327</td>\n",
       "      <td>NITEROI</td>\n",
       "      <td>Outras</td>\n",
       "      <td>...</td>\n",
       "      <td>Automóvel</td>\n",
       "      <td>Condutor</td>\n",
       "      <td>Ileso</td>\n",
       "      <td>31.0</td>\n",
       "      <td>Feminino</td>\n",
       "      <td>NaN</td>\n",
       "      <td>NaN</td>\n",
       "      <td>NaN</td>\n",
       "      <td>NaN</td>\n",
       "      <td>Janeiro</td>\n",
       "    </tr>\n",
       "    <tr>\n",
       "      <th>1</th>\n",
       "      <td>83298209.0</td>\n",
       "      <td>5085683.0</td>\n",
       "      <td>01/01/2015</td>\n",
       "      <td>Quinta</td>\n",
       "      <td>00:05:00</td>\n",
       "      <td>RJ</td>\n",
       "      <td>BR-101</td>\n",
       "      <td>KM-327</td>\n",
       "      <td>NITEROI</td>\n",
       "      <td>Outras</td>\n",
       "      <td>...</td>\n",
       "      <td>Automóvel</td>\n",
       "      <td>Condutor</td>\n",
       "      <td>Ileso</td>\n",
       "      <td>54.0</td>\n",
       "      <td>Masculino</td>\n",
       "      <td>NaN</td>\n",
       "      <td>NaN</td>\n",
       "      <td>NaN</td>\n",
       "      <td>NaN</td>\n",
       "      <td>Janeiro</td>\n",
       "    </tr>\n",
       "    <tr>\n",
       "      <th>2</th>\n",
       "      <td>83298218.0</td>\n",
       "      <td>5085748.0</td>\n",
       "      <td>01/01/2015</td>\n",
       "      <td>Quinta</td>\n",
       "      <td>01:20:00</td>\n",
       "      <td>MS</td>\n",
       "      <td>BR-163</td>\n",
       "      <td>KM-434</td>\n",
       "      <td>CAMPO GRANDE</td>\n",
       "      <td>Animais na Pista</td>\n",
       "      <td>...</td>\n",
       "      <td>Automóvel</td>\n",
       "      <td>Condutor</td>\n",
       "      <td>Ileso</td>\n",
       "      <td>45.0</td>\n",
       "      <td>Masculino</td>\n",
       "      <td>NaN</td>\n",
       "      <td>NaN</td>\n",
       "      <td>NaN</td>\n",
       "      <td>NaN</td>\n",
       "      <td>Janeiro</td>\n",
       "    </tr>\n",
       "    <tr>\n",
       "      <th>3</th>\n",
       "      <td>83298218.0</td>\n",
       "      <td>5085750.0</td>\n",
       "      <td>01/01/2015</td>\n",
       "      <td>Quinta</td>\n",
       "      <td>01:20:00</td>\n",
       "      <td>MS</td>\n",
       "      <td>BR-163</td>\n",
       "      <td>KM-434</td>\n",
       "      <td>CAMPO GRANDE</td>\n",
       "      <td>Animais na Pista</td>\n",
       "      <td>...</td>\n",
       "      <td>Automóvel</td>\n",
       "      <td>Passageiro</td>\n",
       "      <td>Ferido Leve</td>\n",
       "      <td>52.0</td>\n",
       "      <td>Feminino</td>\n",
       "      <td>NaN</td>\n",
       "      <td>NaN</td>\n",
       "      <td>NaN</td>\n",
       "      <td>NaN</td>\n",
       "      <td>Janeiro</td>\n",
       "    </tr>\n",
       "    <tr>\n",
       "      <th>4</th>\n",
       "      <td>83298220.0</td>\n",
       "      <td>5090792.0</td>\n",
       "      <td>01/01/2015</td>\n",
       "      <td>Quinta</td>\n",
       "      <td>01:45:00</td>\n",
       "      <td>RJ</td>\n",
       "      <td>BR-40</td>\n",
       "      <td>KM-64</td>\n",
       "      <td>PETROPOLIS</td>\n",
       "      <td>Outras</td>\n",
       "      <td>...</td>\n",
       "      <td>Automóvel</td>\n",
       "      <td>Condutor</td>\n",
       "      <td>Ileso</td>\n",
       "      <td>33.0</td>\n",
       "      <td>Feminino</td>\n",
       "      <td>NaN</td>\n",
       "      <td>NaN</td>\n",
       "      <td>NaN</td>\n",
       "      <td>NaN</td>\n",
       "      <td>Janeiro</td>\n",
       "    </tr>\n",
       "  </tbody>\n",
       "</table>\n",
       "<p>5 rows × 28 columns</p>\n",
       "</div>"
      ],
      "text/plain": [
       "           id      pesid data_inversa dia_semana   horario  uf      br  \\\n",
       "0  83298209.0  5085680.0   01/01/2015    Quinta   00:05:00  RJ  BR-101   \n",
       "1  83298209.0  5085683.0   01/01/2015    Quinta   00:05:00  RJ  BR-101   \n",
       "2  83298218.0  5085748.0   01/01/2015    Quinta   01:20:00  MS  BR-163   \n",
       "3  83298218.0  5085750.0   01/01/2015    Quinta   01:20:00  MS  BR-163   \n",
       "4  83298220.0  5090792.0   01/01/2015    Quinta   01:45:00  RJ   BR-40   \n",
       "\n",
       "       km     municipio    causa_acidente  ... tipo_veiculo tipo_envolvido  \\\n",
       "0  KM-327       NITEROI            Outras  ...    Automóvel       Condutor   \n",
       "1  KM-327       NITEROI            Outras  ...    Automóvel       Condutor   \n",
       "2  KM-434  CAMPO GRANDE  Animais na Pista  ...    Automóvel       Condutor   \n",
       "3  KM-434  CAMPO GRANDE  Animais na Pista  ...    Automóvel     Passageiro   \n",
       "4   KM-64    PETROPOLIS            Outras  ...    Automóvel       Condutor   \n",
       "\n",
       "  estado_fisico idade       sexo ilesos feridos_leves feridos_graves mortos  \\\n",
       "0  Ileso         31.0   Feminino    NaN           NaN            NaN    NaN   \n",
       "1  Ileso         54.0  Masculino    NaN           NaN            NaN    NaN   \n",
       "2  Ileso         45.0  Masculino    NaN           NaN            NaN    NaN   \n",
       "3  Ferido Leve   52.0   Feminino    NaN           NaN            NaN    NaN   \n",
       "4  Ileso         33.0   Feminino    NaN           NaN            NaN    NaN   \n",
       "\n",
       "       mes  \n",
       "0  Janeiro  \n",
       "1  Janeiro  \n",
       "2  Janeiro  \n",
       "3  Janeiro  \n",
       "4  Janeiro  \n",
       "\n",
       "[5 rows x 28 columns]"
      ]
     },
     "execution_count": 22,
     "metadata": {},
     "output_type": "execute_result"
    }
   ],
   "source": [
    "column_name = \"mes\"\n",
    "months = {\n",
    "    1: \"Janeiro\",\n",
    "    2: \"Fevereiro\",\n",
    "    3: \"Março\",\n",
    "    4: \"Abril\",\n",
    "    5: \"Maio\",\n",
    "    6: \"Junho\",\n",
    "    7: \"Julho\",\n",
    "    8: \"Agosto\",\n",
    "    9: \"Setembro\",\n",
    "    10: \"Outubro\",\n",
    "    11: \"Novembro\",\n",
    "    12: \"Dezembro\",\n",
    "}\n",
    "\n",
    "formatted_month = pd.to_datetime(\n",
    "    df_accidents[\"data_inversa\"], format='%d/%m/%Y').dt.month.map(months)\n",
    "formatted_month\n",
    "\n",
    "if column_name in df_accidents.columns:\n",
    "    df_accidents[column_name] = formatted_month\n",
    "else:\n",
    "    df_accidents = df_accidents.assign(**{column_name: formatted_month})\n",
    "df_accidents.head()"
   ]
  },
  {
   "cell_type": "markdown",
   "metadata": {},
   "source": [
    "#### Verificando informações da coluna mes após sua inserção"
   ]
  },
  {
   "cell_type": "code",
   "execution_count": 23,
   "metadata": {},
   "outputs": [
    {
     "data": {
      "text/plain": [
       "mes\n",
       "Janeiro      124018\n",
       "Março        111120\n",
       "Maio         109401\n",
       "Dezembro     108934\n",
       "Fevereiro    108681\n",
       "Abril        107251\n",
       "Junho        106435\n",
       "Julho         94848\n",
       "Outubro       93645\n",
       "Agosto        91021\n",
       "Setembro      90067\n",
       "Novembro      89940\n",
       "Name: count, dtype: int64"
      ]
     },
     "execution_count": 23,
     "metadata": {},
     "output_type": "execute_result"
    }
   ],
   "source": [
    "df_accidents[\"mes\"].value_counts()"
   ]
  },
  {
   "cell_type": "markdown",
   "metadata": {},
   "source": [
    "#### Criando coluna auxiliar ano para facilitar análise futura"
   ]
  },
  {
   "cell_type": "code",
   "execution_count": 24,
   "metadata": {},
   "outputs": [
    {
     "data": {
      "text/html": [
       "<div>\n",
       "<style scoped>\n",
       "    .dataframe tbody tr th:only-of-type {\n",
       "        vertical-align: middle;\n",
       "    }\n",
       "\n",
       "    .dataframe tbody tr th {\n",
       "        vertical-align: top;\n",
       "    }\n",
       "\n",
       "    .dataframe thead th {\n",
       "        text-align: right;\n",
       "    }\n",
       "</style>\n",
       "<table border=\"1\" class=\"dataframe\">\n",
       "  <thead>\n",
       "    <tr style=\"text-align: right;\">\n",
       "      <th></th>\n",
       "      <th>id</th>\n",
       "      <th>pesid</th>\n",
       "      <th>data_inversa</th>\n",
       "      <th>dia_semana</th>\n",
       "      <th>horario</th>\n",
       "      <th>uf</th>\n",
       "      <th>br</th>\n",
       "      <th>km</th>\n",
       "      <th>municipio</th>\n",
       "      <th>causa_acidente</th>\n",
       "      <th>...</th>\n",
       "      <th>tipo_envolvido</th>\n",
       "      <th>estado_fisico</th>\n",
       "      <th>idade</th>\n",
       "      <th>sexo</th>\n",
       "      <th>ilesos</th>\n",
       "      <th>feridos_leves</th>\n",
       "      <th>feridos_graves</th>\n",
       "      <th>mortos</th>\n",
       "      <th>mes</th>\n",
       "      <th>ano</th>\n",
       "    </tr>\n",
       "  </thead>\n",
       "  <tbody>\n",
       "    <tr>\n",
       "      <th>0</th>\n",
       "      <td>83298209.0</td>\n",
       "      <td>5085680.0</td>\n",
       "      <td>01/01/2015</td>\n",
       "      <td>Quinta</td>\n",
       "      <td>00:05:00</td>\n",
       "      <td>RJ</td>\n",
       "      <td>BR-101</td>\n",
       "      <td>KM-327</td>\n",
       "      <td>NITEROI</td>\n",
       "      <td>Outras</td>\n",
       "      <td>...</td>\n",
       "      <td>Condutor</td>\n",
       "      <td>Ileso</td>\n",
       "      <td>31.0</td>\n",
       "      <td>Feminino</td>\n",
       "      <td>NaN</td>\n",
       "      <td>NaN</td>\n",
       "      <td>NaN</td>\n",
       "      <td>NaN</td>\n",
       "      <td>Janeiro</td>\n",
       "      <td>2015</td>\n",
       "    </tr>\n",
       "    <tr>\n",
       "      <th>1</th>\n",
       "      <td>83298209.0</td>\n",
       "      <td>5085683.0</td>\n",
       "      <td>01/01/2015</td>\n",
       "      <td>Quinta</td>\n",
       "      <td>00:05:00</td>\n",
       "      <td>RJ</td>\n",
       "      <td>BR-101</td>\n",
       "      <td>KM-327</td>\n",
       "      <td>NITEROI</td>\n",
       "      <td>Outras</td>\n",
       "      <td>...</td>\n",
       "      <td>Condutor</td>\n",
       "      <td>Ileso</td>\n",
       "      <td>54.0</td>\n",
       "      <td>Masculino</td>\n",
       "      <td>NaN</td>\n",
       "      <td>NaN</td>\n",
       "      <td>NaN</td>\n",
       "      <td>NaN</td>\n",
       "      <td>Janeiro</td>\n",
       "      <td>2015</td>\n",
       "    </tr>\n",
       "    <tr>\n",
       "      <th>2</th>\n",
       "      <td>83298218.0</td>\n",
       "      <td>5085748.0</td>\n",
       "      <td>01/01/2015</td>\n",
       "      <td>Quinta</td>\n",
       "      <td>01:20:00</td>\n",
       "      <td>MS</td>\n",
       "      <td>BR-163</td>\n",
       "      <td>KM-434</td>\n",
       "      <td>CAMPO GRANDE</td>\n",
       "      <td>Animais na Pista</td>\n",
       "      <td>...</td>\n",
       "      <td>Condutor</td>\n",
       "      <td>Ileso</td>\n",
       "      <td>45.0</td>\n",
       "      <td>Masculino</td>\n",
       "      <td>NaN</td>\n",
       "      <td>NaN</td>\n",
       "      <td>NaN</td>\n",
       "      <td>NaN</td>\n",
       "      <td>Janeiro</td>\n",
       "      <td>2015</td>\n",
       "    </tr>\n",
       "    <tr>\n",
       "      <th>3</th>\n",
       "      <td>83298218.0</td>\n",
       "      <td>5085750.0</td>\n",
       "      <td>01/01/2015</td>\n",
       "      <td>Quinta</td>\n",
       "      <td>01:20:00</td>\n",
       "      <td>MS</td>\n",
       "      <td>BR-163</td>\n",
       "      <td>KM-434</td>\n",
       "      <td>CAMPO GRANDE</td>\n",
       "      <td>Animais na Pista</td>\n",
       "      <td>...</td>\n",
       "      <td>Passageiro</td>\n",
       "      <td>Ferido Leve</td>\n",
       "      <td>52.0</td>\n",
       "      <td>Feminino</td>\n",
       "      <td>NaN</td>\n",
       "      <td>NaN</td>\n",
       "      <td>NaN</td>\n",
       "      <td>NaN</td>\n",
       "      <td>Janeiro</td>\n",
       "      <td>2015</td>\n",
       "    </tr>\n",
       "    <tr>\n",
       "      <th>4</th>\n",
       "      <td>83298220.0</td>\n",
       "      <td>5090792.0</td>\n",
       "      <td>01/01/2015</td>\n",
       "      <td>Quinta</td>\n",
       "      <td>01:45:00</td>\n",
       "      <td>RJ</td>\n",
       "      <td>BR-40</td>\n",
       "      <td>KM-64</td>\n",
       "      <td>PETROPOLIS</td>\n",
       "      <td>Outras</td>\n",
       "      <td>...</td>\n",
       "      <td>Condutor</td>\n",
       "      <td>Ileso</td>\n",
       "      <td>33.0</td>\n",
       "      <td>Feminino</td>\n",
       "      <td>NaN</td>\n",
       "      <td>NaN</td>\n",
       "      <td>NaN</td>\n",
       "      <td>NaN</td>\n",
       "      <td>Janeiro</td>\n",
       "      <td>2015</td>\n",
       "    </tr>\n",
       "  </tbody>\n",
       "</table>\n",
       "<p>5 rows × 29 columns</p>\n",
       "</div>"
      ],
      "text/plain": [
       "           id      pesid data_inversa dia_semana   horario  uf      br  \\\n",
       "0  83298209.0  5085680.0   01/01/2015    Quinta   00:05:00  RJ  BR-101   \n",
       "1  83298209.0  5085683.0   01/01/2015    Quinta   00:05:00  RJ  BR-101   \n",
       "2  83298218.0  5085748.0   01/01/2015    Quinta   01:20:00  MS  BR-163   \n",
       "3  83298218.0  5085750.0   01/01/2015    Quinta   01:20:00  MS  BR-163   \n",
       "4  83298220.0  5090792.0   01/01/2015    Quinta   01:45:00  RJ   BR-40   \n",
       "\n",
       "       km     municipio    causa_acidente  ... tipo_envolvido estado_fisico  \\\n",
       "0  KM-327       NITEROI            Outras  ...       Condutor  Ileso          \n",
       "1  KM-327       NITEROI            Outras  ...       Condutor  Ileso          \n",
       "2  KM-434  CAMPO GRANDE  Animais na Pista  ...       Condutor  Ileso          \n",
       "3  KM-434  CAMPO GRANDE  Animais na Pista  ...     Passageiro  Ferido Leve    \n",
       "4   KM-64    PETROPOLIS            Outras  ...       Condutor  Ileso          \n",
       "\n",
       "  idade       sexo ilesos feridos_leves feridos_graves mortos      mes   ano  \n",
       "0  31.0   Feminino    NaN           NaN            NaN    NaN  Janeiro  2015  \n",
       "1  54.0  Masculino    NaN           NaN            NaN    NaN  Janeiro  2015  \n",
       "2  45.0  Masculino    NaN           NaN            NaN    NaN  Janeiro  2015  \n",
       "3  52.0   Feminino    NaN           NaN            NaN    NaN  Janeiro  2015  \n",
       "4  33.0   Feminino    NaN           NaN            NaN    NaN  Janeiro  2015  \n",
       "\n",
       "[5 rows x 29 columns]"
      ]
     },
     "execution_count": 24,
     "metadata": {},
     "output_type": "execute_result"
    }
   ],
   "source": [
    "column_name = \"ano\"\n",
    "formatted_year = pd.to_datetime(\n",
    "    df_accidents[\"data_inversa\"], format='%d/%m/%Y').dt.year\n",
    "\n",
    "if column_name in df_accidents.columns:\n",
    "    df_accidents[column_name] = formatted_year\n",
    "else:\n",
    "    df_accidents = df_accidents.assign(**{column_name: formatted_year})\n",
    "\n",
    "df_accidents.head()"
   ]
  },
  {
   "cell_type": "markdown",
   "metadata": {},
   "source": [
    "#### Verificando informações da coluna ano após sua inserção"
   ]
  },
  {
   "cell_type": "code",
   "execution_count": 25,
   "metadata": {},
   "outputs": [
    {
     "data": {
      "text/plain": [
       "ano\n",
       "2015    269052\n",
       "2016    216261\n",
       "2017    204395\n",
       "2018    164802\n",
       "2019    162273\n",
       "2020    147642\n",
       "2021     70936\n",
       "Name: count, dtype: int64"
      ]
     },
     "execution_count": 25,
     "metadata": {},
     "output_type": "execute_result"
    }
   ],
   "source": [
    "df_accidents[\"ano\"].value_counts()"
   ]
  },
  {
   "cell_type": "markdown",
   "metadata": {},
   "source": [
    "#### Obtendo lista de feriados à partir de um determinado ano"
   ]
  },
  {
   "cell_type": "code",
   "execution_count": 26,
   "metadata": {},
   "outputs": [
    {
     "name": "stdout",
     "output_type": "stream",
     "text": [
      "[{'date': '01/01/2015', 'name': 'Confraternização mundial'}, {'date': '17/02/2015', 'name': 'Carnaval'}, {'date': '03/04/2015', 'name': 'Sexta-feira Santa'}, {'date': '05/04/2015', 'name': 'Páscoa'}, {'date': '21/04/2015', 'name': 'Tiradentes'}, {'date': '01/05/2015', 'name': 'Dia do trabalho'}, {'date': '04/06/2015', 'name': 'Corpus Christi'}, {'date': '07/09/2015', 'name': 'Independência do Brasil'}, {'date': '12/10/2015', 'name': 'Nossa Senhora Aparecida'}, {'date': '02/11/2015', 'name': 'Finados'}, {'date': '15/11/2015', 'name': 'Proclamação da República'}, {'date': '25/12/2015', 'name': 'Natal'}, {'date': '01/01/2016', 'name': 'Confraternização mundial'}, {'date': '09/02/2016', 'name': 'Carnaval'}, {'date': '25/03/2016', 'name': 'Sexta-feira Santa'}, {'date': '27/03/2016', 'name': 'Páscoa'}, {'date': '21/04/2016', 'name': 'Tiradentes'}, {'date': '01/05/2016', 'name': 'Dia do trabalho'}, {'date': '26/05/2016', 'name': 'Corpus Christi'}, {'date': '07/09/2016', 'name': 'Independência do Brasil'}, {'date': '12/10/2016', 'name': 'Nossa Senhora Aparecida'}, {'date': '02/11/2016', 'name': 'Finados'}, {'date': '15/11/2016', 'name': 'Proclamação da República'}, {'date': '25/12/2016', 'name': 'Natal'}, {'date': '01/01/2017', 'name': 'Confraternização mundial'}, {'date': '28/02/2017', 'name': 'Carnaval'}, {'date': '14/04/2017', 'name': 'Sexta-feira Santa'}, {'date': '16/04/2017', 'name': 'Páscoa'}, {'date': '21/04/2017', 'name': 'Tiradentes'}, {'date': '01/05/2017', 'name': 'Dia do trabalho'}, {'date': '15/06/2017', 'name': 'Corpus Christi'}, {'date': '07/09/2017', 'name': 'Independência do Brasil'}, {'date': '12/10/2017', 'name': 'Nossa Senhora Aparecida'}, {'date': '02/11/2017', 'name': 'Finados'}, {'date': '15/11/2017', 'name': 'Proclamação da República'}, {'date': '25/12/2017', 'name': 'Natal'}, {'date': '01/01/2018', 'name': 'Confraternização mundial'}, {'date': '13/02/2018', 'name': 'Carnaval'}, {'date': '30/03/2018', 'name': 'Sexta-feira Santa'}, {'date': '01/04/2018', 'name': 'Páscoa'}, {'date': '21/04/2018', 'name': 'Tiradentes'}, {'date': '01/05/2018', 'name': 'Dia do trabalho'}, {'date': '31/05/2018', 'name': 'Corpus Christi'}, {'date': '07/09/2018', 'name': 'Independência do Brasil'}, {'date': '12/10/2018', 'name': 'Nossa Senhora Aparecida'}, {'date': '02/11/2018', 'name': 'Finados'}, {'date': '15/11/2018', 'name': 'Proclamação da República'}, {'date': '25/12/2018', 'name': 'Natal'}, {'date': '01/01/2019', 'name': 'Confraternização mundial'}, {'date': '05/03/2019', 'name': 'Carnaval'}, {'date': '19/04/2019', 'name': 'Sexta-feira Santa'}, {'date': '21/04/2019', 'name': 'Páscoa'}, {'date': '21/04/2019', 'name': 'Tiradentes'}, {'date': '01/05/2019', 'name': 'Dia do trabalho'}, {'date': '20/06/2019', 'name': 'Corpus Christi'}, {'date': '07/09/2019', 'name': 'Independência do Brasil'}, {'date': '12/10/2019', 'name': 'Nossa Senhora Aparecida'}, {'date': '02/11/2019', 'name': 'Finados'}, {'date': '15/11/2019', 'name': 'Proclamação da República'}, {'date': '25/12/2019', 'name': 'Natal'}, {'date': '01/01/2020', 'name': 'Confraternização mundial'}, {'date': '25/02/2020', 'name': 'Carnaval'}, {'date': '10/04/2020', 'name': 'Sexta-feira Santa'}, {'date': '12/04/2020', 'name': 'Páscoa'}, {'date': '21/04/2020', 'name': 'Tiradentes'}, {'date': '01/05/2020', 'name': 'Dia do trabalho'}, {'date': '11/06/2020', 'name': 'Corpus Christi'}, {'date': '07/09/2020', 'name': 'Independência do Brasil'}, {'date': '12/10/2020', 'name': 'Nossa Senhora Aparecida'}, {'date': '02/11/2020', 'name': 'Finados'}, {'date': '15/11/2020', 'name': 'Proclamação da República'}, {'date': '25/12/2020', 'name': 'Natal'}, {'date': '01/01/2021', 'name': 'Confraternização mundial'}, {'date': '16/02/2021', 'name': 'Carnaval'}, {'date': '02/04/2021', 'name': 'Sexta-feira Santa'}, {'date': '04/04/2021', 'name': 'Páscoa'}, {'date': '21/04/2021', 'name': 'Tiradentes'}, {'date': '01/05/2021', 'name': 'Dia do trabalho'}, {'date': '03/06/2021', 'name': 'Corpus Christi'}, {'date': '07/09/2021', 'name': 'Independência do Brasil'}, {'date': '12/10/2021', 'name': 'Nossa Senhora Aparecida'}, {'date': '02/11/2021', 'name': 'Finados'}, {'date': '15/11/2021', 'name': 'Proclamação da República'}, {'date': '25/12/2021', 'name': 'Natal'}]\n"
     ]
    }
   ],
   "source": [
    "from datetime import datetime\n",
    "\n",
    "years = [2015, 2016, 2017, 2018, 2019, 2020, 2021]\n",
    "holidays = []\n",
    "\n",
    "for year in years:\n",
    "    try:\n",
    "        response = requests.get(\n",
    "            f\"https://brasilapi.com.br/api/feriados/v1/{year}\")\n",
    "        response.raise_for_status()\n",
    "        holidays.extend([{\n",
    "            \"date\": datetime.strptime(data[\"date\"], \"%Y-%m-%d\").strftime(\"%d/%m/%Y\"),\n",
    "            \"name\": data[\"name\"]\n",
    "        } for data in response.json()])\n",
    "    except requests.exceptions.RequestException as e:\n",
    "        print(f\"Erro ao buscar feriados de {year}: {e}\")\n",
    "print(holidays)"
   ]
  },
  {
   "cell_type": "markdown",
   "metadata": {},
   "source": [
    "#### Criando coluna feriado preenchendo os registros com o nome do feriado ou dia útil"
   ]
  },
  {
   "cell_type": "code",
   "execution_count": 27,
   "metadata": {},
   "outputs": [
    {
     "data": {
      "text/html": [
       "<div>\n",
       "<style scoped>\n",
       "    .dataframe tbody tr th:only-of-type {\n",
       "        vertical-align: middle;\n",
       "    }\n",
       "\n",
       "    .dataframe tbody tr th {\n",
       "        vertical-align: top;\n",
       "    }\n",
       "\n",
       "    .dataframe thead th {\n",
       "        text-align: right;\n",
       "    }\n",
       "</style>\n",
       "<table border=\"1\" class=\"dataframe\">\n",
       "  <thead>\n",
       "    <tr style=\"text-align: right;\">\n",
       "      <th></th>\n",
       "      <th>id</th>\n",
       "      <th>pesid</th>\n",
       "      <th>data_inversa</th>\n",
       "      <th>dia_semana</th>\n",
       "      <th>horario</th>\n",
       "      <th>uf</th>\n",
       "      <th>br</th>\n",
       "      <th>km</th>\n",
       "      <th>municipio</th>\n",
       "      <th>causa_acidente</th>\n",
       "      <th>...</th>\n",
       "      <th>estado_fisico</th>\n",
       "      <th>idade</th>\n",
       "      <th>sexo</th>\n",
       "      <th>ilesos</th>\n",
       "      <th>feridos_leves</th>\n",
       "      <th>feridos_graves</th>\n",
       "      <th>mortos</th>\n",
       "      <th>mes</th>\n",
       "      <th>ano</th>\n",
       "      <th>feriado</th>\n",
       "    </tr>\n",
       "  </thead>\n",
       "  <tbody>\n",
       "    <tr>\n",
       "      <th>0</th>\n",
       "      <td>83298209.0</td>\n",
       "      <td>5085680.0</td>\n",
       "      <td>01/01/2015</td>\n",
       "      <td>Quinta</td>\n",
       "      <td>00:05:00</td>\n",
       "      <td>RJ</td>\n",
       "      <td>BR-101</td>\n",
       "      <td>KM-327</td>\n",
       "      <td>NITEROI</td>\n",
       "      <td>Outras</td>\n",
       "      <td>...</td>\n",
       "      <td>Ileso</td>\n",
       "      <td>31.0</td>\n",
       "      <td>Feminino</td>\n",
       "      <td>NaN</td>\n",
       "      <td>NaN</td>\n",
       "      <td>NaN</td>\n",
       "      <td>NaN</td>\n",
       "      <td>Janeiro</td>\n",
       "      <td>2015</td>\n",
       "      <td>Confraternização mundial</td>\n",
       "    </tr>\n",
       "    <tr>\n",
       "      <th>1</th>\n",
       "      <td>83298209.0</td>\n",
       "      <td>5085683.0</td>\n",
       "      <td>01/01/2015</td>\n",
       "      <td>Quinta</td>\n",
       "      <td>00:05:00</td>\n",
       "      <td>RJ</td>\n",
       "      <td>BR-101</td>\n",
       "      <td>KM-327</td>\n",
       "      <td>NITEROI</td>\n",
       "      <td>Outras</td>\n",
       "      <td>...</td>\n",
       "      <td>Ileso</td>\n",
       "      <td>54.0</td>\n",
       "      <td>Masculino</td>\n",
       "      <td>NaN</td>\n",
       "      <td>NaN</td>\n",
       "      <td>NaN</td>\n",
       "      <td>NaN</td>\n",
       "      <td>Janeiro</td>\n",
       "      <td>2015</td>\n",
       "      <td>Confraternização mundial</td>\n",
       "    </tr>\n",
       "    <tr>\n",
       "      <th>2</th>\n",
       "      <td>83298218.0</td>\n",
       "      <td>5085748.0</td>\n",
       "      <td>01/01/2015</td>\n",
       "      <td>Quinta</td>\n",
       "      <td>01:20:00</td>\n",
       "      <td>MS</td>\n",
       "      <td>BR-163</td>\n",
       "      <td>KM-434</td>\n",
       "      <td>CAMPO GRANDE</td>\n",
       "      <td>Animais na Pista</td>\n",
       "      <td>...</td>\n",
       "      <td>Ileso</td>\n",
       "      <td>45.0</td>\n",
       "      <td>Masculino</td>\n",
       "      <td>NaN</td>\n",
       "      <td>NaN</td>\n",
       "      <td>NaN</td>\n",
       "      <td>NaN</td>\n",
       "      <td>Janeiro</td>\n",
       "      <td>2015</td>\n",
       "      <td>Confraternização mundial</td>\n",
       "    </tr>\n",
       "    <tr>\n",
       "      <th>3</th>\n",
       "      <td>83298218.0</td>\n",
       "      <td>5085750.0</td>\n",
       "      <td>01/01/2015</td>\n",
       "      <td>Quinta</td>\n",
       "      <td>01:20:00</td>\n",
       "      <td>MS</td>\n",
       "      <td>BR-163</td>\n",
       "      <td>KM-434</td>\n",
       "      <td>CAMPO GRANDE</td>\n",
       "      <td>Animais na Pista</td>\n",
       "      <td>...</td>\n",
       "      <td>Ferido Leve</td>\n",
       "      <td>52.0</td>\n",
       "      <td>Feminino</td>\n",
       "      <td>NaN</td>\n",
       "      <td>NaN</td>\n",
       "      <td>NaN</td>\n",
       "      <td>NaN</td>\n",
       "      <td>Janeiro</td>\n",
       "      <td>2015</td>\n",
       "      <td>Confraternização mundial</td>\n",
       "    </tr>\n",
       "    <tr>\n",
       "      <th>4</th>\n",
       "      <td>83298220.0</td>\n",
       "      <td>5090792.0</td>\n",
       "      <td>01/01/2015</td>\n",
       "      <td>Quinta</td>\n",
       "      <td>01:45:00</td>\n",
       "      <td>RJ</td>\n",
       "      <td>BR-40</td>\n",
       "      <td>KM-64</td>\n",
       "      <td>PETROPOLIS</td>\n",
       "      <td>Outras</td>\n",
       "      <td>...</td>\n",
       "      <td>Ileso</td>\n",
       "      <td>33.0</td>\n",
       "      <td>Feminino</td>\n",
       "      <td>NaN</td>\n",
       "      <td>NaN</td>\n",
       "      <td>NaN</td>\n",
       "      <td>NaN</td>\n",
       "      <td>Janeiro</td>\n",
       "      <td>2015</td>\n",
       "      <td>Confraternização mundial</td>\n",
       "    </tr>\n",
       "  </tbody>\n",
       "</table>\n",
       "<p>5 rows × 30 columns</p>\n",
       "</div>"
      ],
      "text/plain": [
       "           id      pesid data_inversa dia_semana   horario  uf      br  \\\n",
       "0  83298209.0  5085680.0   01/01/2015    Quinta   00:05:00  RJ  BR-101   \n",
       "1  83298209.0  5085683.0   01/01/2015    Quinta   00:05:00  RJ  BR-101   \n",
       "2  83298218.0  5085748.0   01/01/2015    Quinta   01:20:00  MS  BR-163   \n",
       "3  83298218.0  5085750.0   01/01/2015    Quinta   01:20:00  MS  BR-163   \n",
       "4  83298220.0  5090792.0   01/01/2015    Quinta   01:45:00  RJ   BR-40   \n",
       "\n",
       "       km     municipio    causa_acidente  ... estado_fisico idade       sexo  \\\n",
       "0  KM-327       NITEROI            Outras  ...  Ileso         31.0   Feminino   \n",
       "1  KM-327       NITEROI            Outras  ...  Ileso         54.0  Masculino   \n",
       "2  KM-434  CAMPO GRANDE  Animais na Pista  ...  Ileso         45.0  Masculino   \n",
       "3  KM-434  CAMPO GRANDE  Animais na Pista  ...  Ferido Leve   52.0   Feminino   \n",
       "4   KM-64    PETROPOLIS            Outras  ...  Ileso         33.0   Feminino   \n",
       "\n",
       "  ilesos feridos_leves feridos_graves mortos      mes   ano  \\\n",
       "0    NaN           NaN            NaN    NaN  Janeiro  2015   \n",
       "1    NaN           NaN            NaN    NaN  Janeiro  2015   \n",
       "2    NaN           NaN            NaN    NaN  Janeiro  2015   \n",
       "3    NaN           NaN            NaN    NaN  Janeiro  2015   \n",
       "4    NaN           NaN            NaN    NaN  Janeiro  2015   \n",
       "\n",
       "                    feriado  \n",
       "0  Confraternização mundial  \n",
       "1  Confraternização mundial  \n",
       "2  Confraternização mundial  \n",
       "3  Confraternização mundial  \n",
       "4  Confraternização mundial  \n",
       "\n",
       "[5 rows x 30 columns]"
      ]
     },
     "execution_count": 27,
     "metadata": {},
     "output_type": "execute_result"
    }
   ],
   "source": [
    "\n",
    "holidays_dict = {holiday[\"date\"]: holiday[\"name\"] for holiday in holidays}\n",
    "\n",
    "df_accidents[\"feriado\"] = df_accidents[\"data_inversa\"].map(\n",
    "    holidays_dict).fillna(\"Dia útil\")\n",
    "df_accidents.head()"
   ]
  },
  {
   "cell_type": "markdown",
   "metadata": {},
   "source": [
    "#### Verificando informações da coluna \"dia_semana\""
   ]
  },
  {
   "cell_type": "code",
   "execution_count": 28,
   "metadata": {},
   "outputs": [
    {
     "name": "stdout",
     "output_type": "stream",
     "text": [
      "<class 'pandas.core.series.Series'>\n",
      "RangeIndex: 1235361 entries, 0 to 1235360\n",
      "Series name: dia_semana\n",
      "Non-Null Count    Dtype \n",
      "--------------    ----- \n",
      "1235361 non-null  object\n",
      "dtypes: object(1)\n",
      "memory usage: 9.4+ MB\n"
     ]
    }
   ],
   "source": [
    "df_accidents[\"dia_semana\"].info()"
   ]
  },
  {
   "cell_type": "markdown",
   "metadata": {},
   "source": [
    "#### Verificando dados estatísticos da coluna \"dia_semana antes do tratamento dos dados"
   ]
  },
  {
   "cell_type": "code",
   "execution_count": 29,
   "metadata": {},
   "outputs": [
    {
     "data": {
      "text/plain": [
       "count     1235361\n",
       "unique         25\n",
       "top       domingo\n",
       "freq       128202\n",
       "Name: dia_semana, dtype: object"
      ]
     },
     "execution_count": 29,
     "metadata": {},
     "output_type": "execute_result"
    }
   ],
   "source": [
    "df_accidents[\"dia_semana\"].describe()"
   ]
  },
  {
   "cell_type": "markdown",
   "metadata": {},
   "source": [
    "#### Verificando a frequência dos valores da coluna \"dia_semana\" antes do tratamento dos dados"
   ]
  },
  {
   "cell_type": "code",
   "execution_count": 30,
   "metadata": {},
   "outputs": [
    {
     "data": {
      "text/plain": [
       "dia_semana\n",
       "domingo          128202\n",
       "sábado           101792\n",
       "sexta-feira       93630\n",
       "segunda-feira     80967\n",
       "Domingo           79380\n",
       "quinta-feira      77032\n",
       "quarta-feira      73547\n",
       "terça-feira       72079\n",
       "Segunda           66222\n",
       "Sábado            42616\n",
       "Sexta             42044\n",
       "Sábado            36770\n",
       "Quinta            36455\n",
       "Quarta            34686\n",
       "Sexta             34072\n",
       "Terça             33309\n",
       "Quinta            28003\n",
       "Quarta            26388\n",
       "Terça             25368\n",
       "sÃ¡bado           24906\n",
       "sexta             22901\n",
       "segunda           19774\n",
       "quinta            18896\n",
       "quarta            18504\n",
       "terÃ§a            17818\n",
       "Name: count, dtype: int64"
      ]
     },
     "execution_count": 30,
     "metadata": {},
     "output_type": "execute_result"
    }
   ],
   "source": [
    "df_accidents[\"dia_semana\"].value_counts()"
   ]
  },
  {
   "cell_type": "markdown",
   "metadata": {},
   "source": [
    "#### Tratamento da coluna \"dia_semana\" para corrigir codificação"
   ]
  },
  {
   "cell_type": "code",
   "execution_count": 31,
   "metadata": {},
   "outputs": [
    {
     "data": {
      "text/plain": [
       "0    Quinta-feira\n",
       "1    Quinta-feira\n",
       "2    Quinta-feira\n",
       "3    Quinta-feira\n",
       "4    Quinta-feira\n",
       "Name: dia_semana, dtype: object"
      ]
     },
     "execution_count": 31,
     "metadata": {},
     "output_type": "execute_result"
    }
   ],
   "source": [
    "days_of_week = {\n",
    "    0: \"Segunda-feira\",\n",
    "    1: \"Terça-feira\",\n",
    "    2: \"Quarta-feira\",\n",
    "    3: \"Quinta-feira\",\n",
    "    4: \"Sexta-feira\",\n",
    "    5: \"Sábado\",\n",
    "    6: \"Domingo\"\n",
    "}\n",
    "\n",
    "df_accidents[\"dia_semana\"] = pd.to_datetime(\n",
    "    df_accidents[\"data_inversa\"], format='%d/%m/%Y').dt.day_of_week.map(days_of_week)\n",
    "df_accidents[\"dia_semana\"].head()"
   ]
  },
  {
   "cell_type": "markdown",
   "metadata": {},
   "source": [
    "#### Verificando a frequência dos valores da coluna \"dia_semana\" após o tratamento dos dados"
   ]
  },
  {
   "cell_type": "code",
   "execution_count": 32,
   "metadata": {},
   "outputs": [
    {
     "data": {
      "text/plain": [
       "dia_semana\n",
       "Domingo          207582\n",
       "Sábado           206084\n",
       "Sexta-feira      192647\n",
       "Segunda-feira    166963\n",
       "Quinta-feira     160386\n",
       "Quarta-feira     153125\n",
       "Terça-feira      148574\n",
       "Name: count, dtype: int64"
      ]
     },
     "execution_count": 32,
     "metadata": {},
     "output_type": "execute_result"
    }
   ],
   "source": [
    "df_accidents[\"dia_semana\"].value_counts()"
   ]
  },
  {
   "cell_type": "code",
   "execution_count": 58,
   "metadata": {},
   "outputs": [],
   "source": [
    "df_causas = pd.DataFrame(df_accidents[\"causa_acidente\"].unique(), columns=[\n",
    "                         \"causa_acidente\"]).to_csv(\"causas_acidentes.csv\", index=False)"
   ]
  },
  {
   "cell_type": "markdown",
   "metadata": {},
   "source": [
    "#### Reordenando o dataframe antes de salvar"
   ]
  },
  {
   "cell_type": "code",
   "execution_count": 33,
   "metadata": {},
   "outputs": [
    {
     "data": {
      "text/html": [
       "<div>\n",
       "<style scoped>\n",
       "    .dataframe tbody tr th:only-of-type {\n",
       "        vertical-align: middle;\n",
       "    }\n",
       "\n",
       "    .dataframe tbody tr th {\n",
       "        vertical-align: top;\n",
       "    }\n",
       "\n",
       "    .dataframe thead th {\n",
       "        text-align: right;\n",
       "    }\n",
       "</style>\n",
       "<table border=\"1\" class=\"dataframe\">\n",
       "  <thead>\n",
       "    <tr style=\"text-align: right;\">\n",
       "      <th></th>\n",
       "      <th>id</th>\n",
       "      <th>pesid</th>\n",
       "      <th>data_inversa</th>\n",
       "      <th>ano</th>\n",
       "      <th>mes</th>\n",
       "      <th>dia_semana</th>\n",
       "      <th>horario</th>\n",
       "      <th>fase_dia</th>\n",
       "      <th>condicao_metereologica</th>\n",
       "      <th>uf</th>\n",
       "      <th>...</th>\n",
       "      <th>tipo_veiculo</th>\n",
       "      <th>classificacao_acidente</th>\n",
       "      <th>estado_fisico</th>\n",
       "      <th>tipo_envolvido</th>\n",
       "      <th>sexo</th>\n",
       "      <th>idade</th>\n",
       "      <th>ilesos</th>\n",
       "      <th>feridos_leves</th>\n",
       "      <th>feridos_graves</th>\n",
       "      <th>mortos</th>\n",
       "    </tr>\n",
       "  </thead>\n",
       "  <tbody>\n",
       "    <tr>\n",
       "      <th>0</th>\n",
       "      <td>83298209.0</td>\n",
       "      <td>5085680.0</td>\n",
       "      <td>01/01/2015</td>\n",
       "      <td>2015</td>\n",
       "      <td>Janeiro</td>\n",
       "      <td>Quinta-feira</td>\n",
       "      <td>00:05:00</td>\n",
       "      <td>Plena noite</td>\n",
       "      <td>Ceu Claro</td>\n",
       "      <td>RJ</td>\n",
       "      <td>...</td>\n",
       "      <td>Automóvel</td>\n",
       "      <td>Sem Vítimas</td>\n",
       "      <td>Ileso</td>\n",
       "      <td>Condutor</td>\n",
       "      <td>Feminino</td>\n",
       "      <td>31.0</td>\n",
       "      <td>NaN</td>\n",
       "      <td>NaN</td>\n",
       "      <td>NaN</td>\n",
       "      <td>NaN</td>\n",
       "    </tr>\n",
       "    <tr>\n",
       "      <th>1</th>\n",
       "      <td>83298209.0</td>\n",
       "      <td>5085683.0</td>\n",
       "      <td>01/01/2015</td>\n",
       "      <td>2015</td>\n",
       "      <td>Janeiro</td>\n",
       "      <td>Quinta-feira</td>\n",
       "      <td>00:05:00</td>\n",
       "      <td>Plena noite</td>\n",
       "      <td>Ceu Claro</td>\n",
       "      <td>RJ</td>\n",
       "      <td>...</td>\n",
       "      <td>Automóvel</td>\n",
       "      <td>Sem Vítimas</td>\n",
       "      <td>Ileso</td>\n",
       "      <td>Condutor</td>\n",
       "      <td>Masculino</td>\n",
       "      <td>54.0</td>\n",
       "      <td>NaN</td>\n",
       "      <td>NaN</td>\n",
       "      <td>NaN</td>\n",
       "      <td>NaN</td>\n",
       "    </tr>\n",
       "    <tr>\n",
       "      <th>2</th>\n",
       "      <td>83298218.0</td>\n",
       "      <td>5085748.0</td>\n",
       "      <td>01/01/2015</td>\n",
       "      <td>2015</td>\n",
       "      <td>Janeiro</td>\n",
       "      <td>Quinta-feira</td>\n",
       "      <td>01:20:00</td>\n",
       "      <td>Plena noite</td>\n",
       "      <td>Ceu Claro</td>\n",
       "      <td>MS</td>\n",
       "      <td>...</td>\n",
       "      <td>Automóvel</td>\n",
       "      <td>Com Vítimas Feridas</td>\n",
       "      <td>Ileso</td>\n",
       "      <td>Condutor</td>\n",
       "      <td>Masculino</td>\n",
       "      <td>45.0</td>\n",
       "      <td>NaN</td>\n",
       "      <td>NaN</td>\n",
       "      <td>NaN</td>\n",
       "      <td>NaN</td>\n",
       "    </tr>\n",
       "    <tr>\n",
       "      <th>3</th>\n",
       "      <td>83298218.0</td>\n",
       "      <td>5085750.0</td>\n",
       "      <td>01/01/2015</td>\n",
       "      <td>2015</td>\n",
       "      <td>Janeiro</td>\n",
       "      <td>Quinta-feira</td>\n",
       "      <td>01:20:00</td>\n",
       "      <td>Plena noite</td>\n",
       "      <td>Ceu Claro</td>\n",
       "      <td>MS</td>\n",
       "      <td>...</td>\n",
       "      <td>Automóvel</td>\n",
       "      <td>Com Vítimas Feridas</td>\n",
       "      <td>Ferido Leve</td>\n",
       "      <td>Passageiro</td>\n",
       "      <td>Feminino</td>\n",
       "      <td>52.0</td>\n",
       "      <td>NaN</td>\n",
       "      <td>NaN</td>\n",
       "      <td>NaN</td>\n",
       "      <td>NaN</td>\n",
       "    </tr>\n",
       "    <tr>\n",
       "      <th>4</th>\n",
       "      <td>83298220.0</td>\n",
       "      <td>5090792.0</td>\n",
       "      <td>01/01/2015</td>\n",
       "      <td>2015</td>\n",
       "      <td>Janeiro</td>\n",
       "      <td>Quinta-feira</td>\n",
       "      <td>01:45:00</td>\n",
       "      <td>Plena noite</td>\n",
       "      <td>Nublado</td>\n",
       "      <td>RJ</td>\n",
       "      <td>...</td>\n",
       "      <td>Automóvel</td>\n",
       "      <td>Sem Vítimas</td>\n",
       "      <td>Ileso</td>\n",
       "      <td>Condutor</td>\n",
       "      <td>Feminino</td>\n",
       "      <td>33.0</td>\n",
       "      <td>NaN</td>\n",
       "      <td>NaN</td>\n",
       "      <td>NaN</td>\n",
       "      <td>NaN</td>\n",
       "    </tr>\n",
       "  </tbody>\n",
       "</table>\n",
       "<p>5 rows × 29 columns</p>\n",
       "</div>"
      ],
      "text/plain": [
       "           id      pesid data_inversa   ano      mes    dia_semana   horario  \\\n",
       "0  83298209.0  5085680.0   01/01/2015  2015  Janeiro  Quinta-feira  00:05:00   \n",
       "1  83298209.0  5085683.0   01/01/2015  2015  Janeiro  Quinta-feira  00:05:00   \n",
       "2  83298218.0  5085748.0   01/01/2015  2015  Janeiro  Quinta-feira  01:20:00   \n",
       "3  83298218.0  5085750.0   01/01/2015  2015  Janeiro  Quinta-feira  01:20:00   \n",
       "4  83298220.0  5090792.0   01/01/2015  2015  Janeiro  Quinta-feira  01:45:00   \n",
       "\n",
       "      fase_dia condicao_metereologica  uf  ... tipo_veiculo  \\\n",
       "0  Plena noite              Ceu Claro  RJ  ...    Automóvel   \n",
       "1  Plena noite              Ceu Claro  RJ  ...    Automóvel   \n",
       "2  Plena noite              Ceu Claro  MS  ...    Automóvel   \n",
       "3  Plena noite              Ceu Claro  MS  ...    Automóvel   \n",
       "4  Plena noite                Nublado  RJ  ...    Automóvel   \n",
       "\n",
       "  classificacao_acidente estado_fisico tipo_envolvido       sexo idade ilesos  \\\n",
       "0    Sem Vítimas          Ileso              Condutor   Feminino  31.0    NaN   \n",
       "1    Sem Vítimas          Ileso              Condutor  Masculino  54.0    NaN   \n",
       "2    Com Vítimas Feridas  Ileso              Condutor  Masculino  45.0    NaN   \n",
       "3    Com Vítimas Feridas  Ferido Leve      Passageiro   Feminino  52.0    NaN   \n",
       "4    Sem Vítimas          Ileso              Condutor   Feminino  33.0    NaN   \n",
       "\n",
       "  feridos_leves feridos_graves mortos  \n",
       "0           NaN            NaN    NaN  \n",
       "1           NaN            NaN    NaN  \n",
       "2           NaN            NaN    NaN  \n",
       "3           NaN            NaN    NaN  \n",
       "4           NaN            NaN    NaN  \n",
       "\n",
       "[5 rows x 29 columns]"
      ]
     },
     "execution_count": 33,
     "metadata": {},
     "output_type": "execute_result"
    }
   ],
   "source": [
    "df_accidents = df_accidents[[\n",
    "    \"id\",\n",
    "    \"pesid\",\n",
    "    \"data_inversa\",\n",
    "    \"ano\", \"mes\",\n",
    "    \"dia_semana\",\n",
    "    \"horario\",\n",
    "    \"fase_dia\",\n",
    "    \"condicao_metereologica\",\n",
    "    \"uf\",\n",
    "    \"municipio\",\n",
    "    \"br\",\n",
    "    \"km\",\n",
    "    \"uso_solo\",\n",
    "    \"tipo_pista\",\n",
    "    \"sentido_via\",\n",
    "    \"tracado_via\",\n",
    "    \"tipo_acidente\",\n",
    "    \"causa_acidente\",\n",
    "    \"tipo_veiculo\",\n",
    "    \"classificacao_acidente\",\n",
    "    \"estado_fisico\",\n",
    "    \"tipo_envolvido\",\n",
    "    \"sexo\",\n",
    "    \"idade\",\n",
    "    \"ilesos\",\n",
    "    \"feridos_leves\",\n",
    "    \"feridos_graves\",\n",
    "    \"mortos\"\n",
    "]]\n",
    "df_accidents.head()"
   ]
  },
  {
   "cell_type": "markdown",
   "metadata": {},
   "source": [
    "#### Salvando os dados em um novo CSV após o tratamento de dados"
   ]
  },
  {
   "cell_type": "code",
   "execution_count": 34,
   "metadata": {},
   "outputs": [],
   "source": [
    "with open(\"../databases/acidentes2015_2021_tratado_v1.csv\", \"w\") as f:\n",
    "    df_accidents.to_csv(f, index=False)"
   ]
  }
 ],
 "metadata": {
  "kernelspec": {
   "display_name": "venv",
   "language": "python",
   "name": "python3"
  },
  "language_info": {
   "codemirror_mode": {
    "name": "ipython",
    "version": 3
   },
   "file_extension": ".py",
   "mimetype": "text/x-python",
   "name": "python",
   "nbconvert_exporter": "python",
   "pygments_lexer": "ipython3",
   "version": "3.13.2"
  }
 },
 "nbformat": 4,
 "nbformat_minor": 2
}
