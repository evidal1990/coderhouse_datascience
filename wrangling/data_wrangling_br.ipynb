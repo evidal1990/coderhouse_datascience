{
 "cells": [
  {
   "cell_type": "markdown",
   "metadata": {},
   "source": [
    "### Importando as bibliotecas necessárias para iniciar a leitura dos arquivos"
   ]
  },
  {
   "cell_type": "code",
   "execution_count": 1,
   "metadata": {},
   "outputs": [
    {
     "name": "stdout",
     "output_type": "stream",
     "text": [
      "Requirement already satisfied: missingno in /Users/edithvidal/Documents/Github/data_science_analysis/venv/lib/python3.13/site-packages (0.5.2)\n",
      "Requirement already satisfied: numpy in /Users/edithvidal/Documents/Github/data_science_analysis/venv/lib/python3.13/site-packages (from missingno) (2.2.2)\n",
      "Requirement already satisfied: matplotlib in /Users/edithvidal/Documents/Github/data_science_analysis/venv/lib/python3.13/site-packages (from missingno) (3.10.0)\n",
      "Requirement already satisfied: scipy in /Users/edithvidal/Documents/Github/data_science_analysis/venv/lib/python3.13/site-packages (from missingno) (1.15.2)\n",
      "Requirement already satisfied: seaborn in /Users/edithvidal/Documents/Github/data_science_analysis/venv/lib/python3.13/site-packages (from missingno) (0.13.2)\n",
      "Requirement already satisfied: contourpy>=1.0.1 in /Users/edithvidal/Documents/Github/data_science_analysis/venv/lib/python3.13/site-packages (from matplotlib->missingno) (1.3.1)\n",
      "Requirement already satisfied: cycler>=0.10 in /Users/edithvidal/Documents/Github/data_science_analysis/venv/lib/python3.13/site-packages (from matplotlib->missingno) (0.12.1)\n",
      "Requirement already satisfied: fonttools>=4.22.0 in /Users/edithvidal/Documents/Github/data_science_analysis/venv/lib/python3.13/site-packages (from matplotlib->missingno) (4.56.0)\n",
      "Requirement already satisfied: kiwisolver>=1.3.1 in /Users/edithvidal/Documents/Github/data_science_analysis/venv/lib/python3.13/site-packages (from matplotlib->missingno) (1.4.8)\n",
      "Requirement already satisfied: packaging>=20.0 in /Users/edithvidal/Documents/Github/data_science_analysis/venv/lib/python3.13/site-packages (from matplotlib->missingno) (24.2)\n",
      "Requirement already satisfied: pillow>=8 in /Users/edithvidal/Documents/Github/data_science_analysis/venv/lib/python3.13/site-packages (from matplotlib->missingno) (11.1.0)\n",
      "Requirement already satisfied: pyparsing>=2.3.1 in /Users/edithvidal/Documents/Github/data_science_analysis/venv/lib/python3.13/site-packages (from matplotlib->missingno) (3.2.1)\n",
      "Requirement already satisfied: python-dateutil>=2.7 in /Users/edithvidal/Documents/Github/data_science_analysis/venv/lib/python3.13/site-packages (from matplotlib->missingno) (2.9.0.post0)\n",
      "Requirement already satisfied: pandas>=1.2 in /Users/edithvidal/Documents/Github/data_science_analysis/venv/lib/python3.13/site-packages (from seaborn->missingno) (2.2.3)\n",
      "Requirement already satisfied: pytz>=2020.1 in /Users/edithvidal/Documents/Github/data_science_analysis/venv/lib/python3.13/site-packages (from pandas>=1.2->seaborn->missingno) (2025.1)\n",
      "Requirement already satisfied: tzdata>=2022.7 in /Users/edithvidal/Documents/Github/data_science_analysis/venv/lib/python3.13/site-packages (from pandas>=1.2->seaborn->missingno) (2025.1)\n",
      "Requirement already satisfied: six>=1.5 in /Users/edithvidal/Documents/Github/data_science_analysis/venv/lib/python3.13/site-packages (from python-dateutil>=2.7->matplotlib->missingno) (1.17.0)\n",
      "Note: you may need to restart the kernel to use updated packages.\n"
     ]
    }
   ],
   "source": [
    "%pip install missingno\n",
    "\n",
    "import matplotlib.pyplot as plt\n",
    "import seaborn as sns\n",
    "import pandas as pd\n",
    "import missingno as msno\n",
    "%matplotlib inline"
   ]
  },
  {
   "cell_type": "markdown",
   "metadata": {},
   "source": [
    "#### Lendo os dados da base única de 2015 a 2021"
   ]
  },
  {
   "cell_type": "code",
   "execution_count": 2,
   "metadata": {},
   "outputs": [
    {
     "name": "stderr",
     "output_type": "stream",
     "text": [
      "/var/folders/z1/3syxl8gd5ks431s8c9n9mrs00000gn/T/ipykernel_18935/244838934.py:1: DtypeWarning: Columns (7,27,28) have mixed types. Specify dtype option on import or set low_memory=False.\n",
      "  df_accidents = pd.read_csv(\n"
     ]
    },
    {
     "name": "stdout",
     "output_type": "stream",
     "text": [
      "<class 'pandas.core.frame.DataFrame'>\n",
      "RangeIndex: 1235361 entries, 0 to 1235360\n",
      "Data columns (total 29 columns):\n",
      " #   Column                  Non-Null Count    Dtype  \n",
      "---  ------                  --------------    -----  \n",
      " 0   id                      1235361 non-null  float64\n",
      " 1   pesid                   1235356 non-null  float64\n",
      " 2   data_inversa            1235361 non-null  object \n",
      " 3   dia_semana              1235361 non-null  object \n",
      " 4   horario                 1235361 non-null  object \n",
      " 5   uf                      1235361 non-null  object \n",
      " 6   br                      1233970 non-null  float64\n",
      " 7   km                      1233970 non-null  object \n",
      " 8   municipio               1235361 non-null  object \n",
      " 9   causa_acidente          1235361 non-null  object \n",
      " 10  tipo_acidente           1235361 non-null  object \n",
      " 11  classificacao_acidente  1235359 non-null  object \n",
      " 12  fase_dia                1235360 non-null  object \n",
      " 13  sentido_via             1235361 non-null  object \n",
      " 14  condicao_metereologica  1235354 non-null  object \n",
      " 15  tipo_pista              1235361 non-null  object \n",
      " 16  tracado_via             1235361 non-null  object \n",
      " 17  uso_solo                1235361 non-null  object \n",
      " 18  tipo_veiculo            1231359 non-null  object \n",
      " 19  tipo_envolvido          1235361 non-null  object \n",
      " 20  estado_fisico           1235358 non-null  object \n",
      " 21  idade                   1125780 non-null  float64\n",
      " 22  sexo                    1235184 non-null  object \n",
      " 23  ilesos                  750048 non-null   float64\n",
      " 24  feridos_leves           750048 non-null   float64\n",
      " 25  feridos_graves          750048 non-null   float64\n",
      " 26  mortos                  750048 non-null   float64\n",
      " 27  latitude                750048 non-null   object \n",
      " 28  longitude               750048 non-null   object \n",
      "dtypes: float64(8), object(21)\n",
      "memory usage: 273.3+ MB\n"
     ]
    }
   ],
   "source": [
    "df_accidents = pd.read_csv(\n",
    "    \"../databases/acidentes2015_2021.csv\"\n",
    ")\n",
    "df_accidents.info()"
   ]
  },
  {
   "cell_type": "markdown",
   "metadata": {},
   "source": [
    "#### Verificando os dados faltantes de cada coluna para ter uma visão geral da base"
   ]
  },
  {
   "cell_type": "code",
   "execution_count": 3,
   "metadata": {},
   "outputs": [
    {
     "data": {
      "text/plain": [
       "<Axes: >"
      ]
     },
     "execution_count": 3,
     "metadata": {},
     "output_type": "execute_result"
    },
    {
     "data": {
      "image/png": "[encoded data removed]",
      "text/plain": [
       "<Figure size 2500x1000 with 2 Axes>"
      ]
     },
     "metadata": {},
     "output_type": "display_data"
    }
   ],
   "source": [
    "msno.matrix(df=df_accidents)"
   ]
  },
  {
   "cell_type": "markdown",
   "metadata": {},
   "source": [
    "#### Verificando informações da coluna \"br\""
   ]
  },
  {
   "cell_type": "code",
   "execution_count": 4,
   "metadata": {},
   "outputs": [
    {
     "name": "stdout",
     "output_type": "stream",
     "text": [
      "<class 'pandas.core.series.Series'>\n",
      "RangeIndex: 1235361 entries, 0 to 1235360\n",
      "Series name: br\n",
      "Non-Null Count    Dtype  \n",
      "--------------    -----  \n",
      "1233970 non-null  float64\n",
      "dtypes: float64(1)\n",
      "memory usage: 9.4 MB\n"
     ]
    }
   ],
   "source": [
    "df_accidents[\"br\"].info()"
   ]
  },
  {
   "cell_type": "markdown",
   "metadata": {},
   "source": [
    "#### Verificando dados estatísticos da coluna \"br\" antes do tratamento dos dados"
   ]
  },
  {
   "cell_type": "code",
   "execution_count": 5,
   "metadata": {},
   "outputs": [
    {
     "data": {
      "text/plain": [
       "count    1.233970e+06\n",
       "mean     2.145969e+02\n",
       "std      1.299661e+02\n",
       "min      0.000000e+00\n",
       "25%      1.010000e+02\n",
       "50%      1.630000e+02\n",
       "75%      3.240000e+02\n",
       "max      6.600000e+02\n",
       "Name: br, dtype: float64"
      ]
     },
     "execution_count": 5,
     "metadata": {},
     "output_type": "execute_result"
    }
   ],
   "source": [
    "df_accidents[\"br\"].describe()"
   ]
  },
  {
   "cell_type": "markdown",
   "metadata": {},
   "source": [
    "#### Verificando dados faltantes na coluna \"br\" antes do tratamento"
   ]
  },
  {
   "cell_type": "code",
   "execution_count": 6,
   "metadata": {},
   "outputs": [
    {
     "data": {
      "text/plain": [
       "np.int64(1391)"
      ]
     },
     "execution_count": 6,
     "metadata": {},
     "output_type": "execute_result"
    }
   ],
   "source": [
    "df_accidents[\"br\"].isna().sum()"
   ]
  },
  {
   "cell_type": "markdown",
   "metadata": {},
   "source": [
    "#### Tratando os dados para serem do tipo string e tratando dados faltantes como \"Desconhecido\" na coluna \"br\""
   ]
  },
  {
   "cell_type": "code",
   "execution_count": 7,
   "metadata": {},
   "outputs": [],
   "source": [
    "br_column = pd.to_numeric(\n",
    "    df_accidents[\"br\"], errors=\"coerce\").fillna(0).astype(\"int\")\n",
    "br_column = br_column.apply(\n",
    "    lambda data: f'BR-{data}' if data != 0 else \"Desconhecido\")\n",
    "df_accidents[\"br\"] = br_column"
   ]
  },
  {
   "cell_type": "markdown",
   "metadata": {},
   "source": [
    "#### Verificando dados faltantes categorizados como \"Desconhecido\" na coluna \"br\""
   ]
  },
  {
   "cell_type": "code",
   "execution_count": 8,
   "metadata": {},
   "outputs": [
    {
     "data": {
      "text/plain": [
       "(1395, 29)"
      ]
     },
     "execution_count": 8,
     "metadata": {},
     "output_type": "execute_result"
    }
   ],
   "source": [
    "df_accidents[df_accidents[\"br\"] == \"Desconhecido\"].shape"
   ]
  },
  {
   "cell_type": "markdown",
   "metadata": {},
   "source": [
    "#### Verificando dados estatísticos da coluna \"br\" após do tratamento dos dados"
   ]
  },
  {
   "cell_type": "code",
   "execution_count": 9,
   "metadata": {},
   "outputs": [
    {
     "data": {
      "text/plain": [
       "count     1235361\n",
       "unique        138\n",
       "top        BR-101\n",
       "freq       196223\n",
       "Name: br, dtype: object"
      ]
     },
     "execution_count": 9,
     "metadata": {},
     "output_type": "execute_result"
    }
   ],
   "source": [
    "df_accidents[\"br\"].describe()"
   ]
  },
  {
   "cell_type": "markdown",
   "metadata": {},
   "source": [
    "#### Salvando os dados em um novo CSV após o tratamento de dados da coluna \"br\" acima para ter uma base mais limpa"
   ]
  },
  {
   "cell_type": "code",
   "execution_count": 10,
   "metadata": {},
   "outputs": [],
   "source": [
    "with open(\"../databases/acidentes2015_2021_tratado_v1.csv\", \"w\") as f:\n",
    "    df_accidents.to_csv(f, index=False)"
   ]
  },
  {
   "cell_type": "markdown",
   "metadata": {},
   "source": [
    "#### Gerando gráfico de pizza dos dados para uma análise univariada, com os top 5 rodovias com mais acidentes para uma melhor visualização."
   ]
  },
  {
   "cell_type": "code",
   "execution_count": 11,
   "metadata": {},
   "outputs": [
    {
     "data": {
      "image/png": "[encoded data removed]",
      "text/plain": [
       "<Figure size 400x400 with 1 Axes>"
      ]
     },
     "metadata": {},
     "output_type": "display_data"
    }
   ],
   "source": [
    "top_n = 5\n",
    "\n",
    "df_br = df_accidents[\"br\"].value_counts().nlargest(top_n).reset_index()\n",
    "df_br.columns = [\"br\", \"Frequência\"]\n",
    "\n",
    "plt.figure(figsize=(4, 4))\n",
    "plt.pie(df_br[\"Frequência\"], labels=df_br[\"br\"],\n",
    "        autopct=\"%1.1f%%\", colors=sns.color_palette(\"pastel\", len(df_br)))\n",
    "plt.title(f'Top {top_n} Rodovias com maior número de vítimas (2015-2021)')\n",
    "plt.show()"
   ]
  },
  {
   "cell_type": "markdown",
   "metadata": {},
   "source": [
    "#### Verificando informações da coluna \"km\""
   ]
  },
  {
   "cell_type": "code",
   "execution_count": 12,
   "metadata": {},
   "outputs": [
    {
     "name": "stdout",
     "output_type": "stream",
     "text": [
      "<class 'pandas.core.series.Series'>\n",
      "RangeIndex: 1235361 entries, 0 to 1235360\n",
      "Series name: km\n",
      "Non-Null Count    Dtype \n",
      "--------------    ----- \n",
      "1233970 non-null  object\n",
      "dtypes: object(1)\n",
      "memory usage: 9.4+ MB\n"
     ]
    }
   ],
   "source": [
    "df_accidents[\"km\"].info()"
   ]
  },
  {
   "cell_type": "markdown",
   "metadata": {},
   "source": [
    "#### Verificando dados estatísticos da coluna \"km\" antes do tratamento dos dados"
   ]
  },
  {
   "cell_type": "code",
   "execution_count": 13,
   "metadata": {},
   "outputs": [
    {
     "data": {
      "text/plain": [
       "count     1233970\n",
       "unique      19831\n",
       "top             1\n",
       "freq         3829\n",
       "Name: km, dtype: object"
      ]
     },
     "execution_count": 13,
     "metadata": {},
     "output_type": "execute_result"
    }
   ],
   "source": [
    "df_accidents[\"km\"].describe()"
   ]
  },
  {
   "cell_type": "markdown",
   "metadata": {},
   "source": [
    "#### Verificando dados faltantes na coluna \"km\" antes do tratamento"
   ]
  },
  {
   "cell_type": "code",
   "execution_count": 14,
   "metadata": {},
   "outputs": [
    {
     "data": {
      "text/plain": [
       "np.int64(1391)"
      ]
     },
     "execution_count": 14,
     "metadata": {},
     "output_type": "execute_result"
    }
   ],
   "source": [
    "df_accidents[\"km\"].isna().sum()"
   ]
  },
  {
   "cell_type": "markdown",
   "metadata": {},
   "source": [
    "#### Tratando os dados para serem do tipo string e tratando dados faltantes como \"Desconhecido\" na coluna \"km\""
   ]
  },
  {
   "cell_type": "code",
   "execution_count": 15,
   "metadata": {},
   "outputs": [
    {
     "data": {
      "text/plain": [
       "0    KM-327\n",
       "1    KM-327\n",
       "2    KM-434\n",
       "3    KM-434\n",
       "4     KM-64\n",
       "Name: km, dtype: object"
      ]
     },
     "execution_count": 15,
     "metadata": {},
     "output_type": "execute_result"
    }
   ],
   "source": [
    "km_column = pd.to_numeric(\n",
    "    df_accidents[\"km\"], errors=\"coerce\").fillna(0).astype(\"int\")\n",
    "km_column = km_column.apply(\n",
    "    lambda data: f'KM-{data}' if data != 0 else \"Desconhecido\")\n",
    "df_accidents[\"km\"] = km_column\n",
    "df_accidents[\"km\"].head()"
   ]
  },
  {
   "cell_type": "markdown",
   "metadata": {},
   "source": [
    "#### Verificando dados faltantes categorizados como \"Desconhecido\" na coluna \"km\""
   ]
  },
  {
   "cell_type": "code",
   "execution_count": 16,
   "metadata": {},
   "outputs": [
    {
     "data": {
      "text/plain": [
       "(485285, 29)"
      ]
     },
     "execution_count": 16,
     "metadata": {},
     "output_type": "execute_result"
    }
   ],
   "source": [
    "df_accidents[df_accidents[\"km\"] == \"Desconhecido\"].shape"
   ]
  },
  {
   "cell_type": "markdown",
   "metadata": {},
   "source": [
    "#### Verificando dados estatísticos da coluna \"km\" após do tratamento dos dados"
   ]
  },
  {
   "cell_type": "code",
   "execution_count": 17,
   "metadata": {},
   "outputs": [
    {
     "data": {
      "text/plain": [
       "count          1235361\n",
       "unique            1168\n",
       "top       Desconhecido\n",
       "freq            485285\n",
       "Name: km, dtype: object"
      ]
     },
     "execution_count": 17,
     "metadata": {},
     "output_type": "execute_result"
    }
   ],
   "source": [
    "df_accidents[\"km\"].describe()"
   ]
  },
  {
   "cell_type": "markdown",
   "metadata": {},
   "source": [
    "#### Verificando informações da coluna \"data_inversa\""
   ]
  },
  {
   "cell_type": "code",
   "execution_count": 18,
   "metadata": {},
   "outputs": [
    {
     "name": "stdout",
     "output_type": "stream",
     "text": [
      "<class 'pandas.core.series.Series'>\n",
      "RangeIndex: 1235361 entries, 0 to 1235360\n",
      "Series name: data_inversa\n",
      "Non-Null Count    Dtype \n",
      "--------------    ----- \n",
      "1235361 non-null  object\n",
      "dtypes: object(1)\n",
      "memory usage: 9.4+ MB\n"
     ]
    }
   ],
   "source": [
    "df_accidents[\"data_inversa\"].info()"
   ]
  },
  {
   "cell_type": "markdown",
   "metadata": {},
   "source": [
    "#### Verificando dados estatísticos da coluna \"data_inversa\" antes do tratamento dos dados"
   ]
  },
  {
   "cell_type": "code",
   "execution_count": 19,
   "metadata": {},
   "outputs": [
    {
     "data": {
      "text/plain": [
       "count        1235361\n",
       "unique          2373\n",
       "top       05/04/2015\n",
       "freq            1536\n",
       "Name: data_inversa, dtype: object"
      ]
     },
     "execution_count": 19,
     "metadata": {},
     "output_type": "execute_result"
    }
   ],
   "source": [
    "df_accidents[\"data_inversa\"].describe()"
   ]
  },
  {
   "cell_type": "markdown",
   "metadata": {},
   "source": [
    "#### Verificando a frequência dos valores da coluna \"data_inversa\" antes do tratamento dos dados"
   ]
  },
  {
   "cell_type": "code",
   "execution_count": 20,
   "metadata": {},
   "outputs": [
    {
     "data": {
      "text/plain": [
       "data_inversa\n",
       "05/04/2015    1536\n",
       "14/02/2015    1436\n",
       "02/04/2015    1364\n",
       "13/02/2015    1354\n",
       "2017-12-23    1280\n",
       "              ... \n",
       "2020-03-30     183\n",
       "2018-05-29     173\n",
       "2020-03-25     163\n",
       "2020-03-23     154\n",
       "2020-03-26     148\n",
       "Name: count, Length: 2373, dtype: int64"
      ]
     },
     "execution_count": 20,
     "metadata": {},
     "output_type": "execute_result"
    }
   ],
   "source": [
    "df_accidents[\"data_inversa\"].value_counts()"
   ]
  },
  {
   "cell_type": "markdown",
   "metadata": {},
   "source": [
    "#### Verificando dados faltantes na coluna \"data_inversa\" antes do tratamento"
   ]
  },
  {
   "cell_type": "code",
   "execution_count": 21,
   "metadata": {},
   "outputs": [
    {
     "data": {
      "text/plain": [
       "np.int64(0)"
      ]
     },
     "execution_count": 21,
     "metadata": {},
     "output_type": "execute_result"
    }
   ],
   "source": [
    "df_accidents[\"data_inversa\"].isna().sum()"
   ]
  },
  {
   "cell_type": "markdown",
   "metadata": {},
   "source": [
    "#### Padronizando o formato da data do campo data_inversa para dd/MM/yyyy"
   ]
  },
  {
   "cell_type": "code",
   "execution_count": 43,
   "metadata": {},
   "outputs": [
    {
     "data": {
      "text/plain": [
       "data_inversa\n",
       "05/04/2015    1536\n",
       "14/02/2015    1436\n",
       "02/04/2015    1364\n",
       "13/02/2015    1354\n",
       "23/12/2017    1280\n",
       "              ... \n",
       "30/03/2020     183\n",
       "29/05/2018     173\n",
       "25/03/2020     163\n",
       "23/03/2020     154\n",
       "26/03/2020     148\n",
       "Name: count, Length: 2373, dtype: int64"
      ]
     },
     "execution_count": 43,
     "metadata": {},
     "output_type": "execute_result"
    }
   ],
   "source": [
    "df_accidents[\"data_inversa\"] = pd.to_datetime(\n",
    "    df_accidents[\"data_inversa\"], format='mixed', dayfirst=True).dt.strftime('%d/%m/%Y').to_frame()\n",
    "df_accidents[\"data_inversa\"].value_counts()"
   ]
  },
  {
   "cell_type": "markdown",
   "metadata": {},
   "source": [
    "#### Verificando dados estatísticos da coluna \"data_inversa\" após do tratamento dos dados"
   ]
  },
  {
   "cell_type": "code",
   "execution_count": 28,
   "metadata": {},
   "outputs": [
    {
     "data": {
      "text/plain": [
       "count        1235361\n",
       "unique          2373\n",
       "top       05/04/2015\n",
       "freq            1536\n",
       "Name: data_inversa, dtype: object"
      ]
     },
     "execution_count": 28,
     "metadata": {},
     "output_type": "execute_result"
    }
   ],
   "source": [
    "df_accidents[\"data_inversa\"].describe()"
   ]
  },
  {
   "cell_type": "markdown",
   "metadata": {},
   "source": [
    "#### Criando coluna auxiliar mês para facilitar análise futura"
   ]
  },
  {
   "cell_type": "code",
   "execution_count": 99,
   "metadata": {},
   "outputs": [
    {
     "data": {
      "text/html": [
       "<div>\n",
       "<style scoped>\n",
       "    .dataframe tbody tr th:only-of-type {\n",
       "        vertical-align: middle;\n",
       "    }\n",
       "\n",
       "    .dataframe tbody tr th {\n",
       "        vertical-align: top;\n",
       "    }\n",
       "\n",
       "    .dataframe thead th {\n",
       "        text-align: right;\n",
       "    }\n",
       "</style>\n",
       "<table border=\"1\" class=\"dataframe\">\n",
       "  <thead>\n",
       "    <tr style=\"text-align: right;\">\n",
       "      <th></th>\n",
       "      <th>id</th>\n",
       "      <th>pesid</th>\n",
       "      <th>data_inversa</th>\n",
       "      <th>mes</th>\n",
       "      <th>dia_semana</th>\n",
       "      <th>horario</th>\n",
       "      <th>uf</th>\n",
       "      <th>br</th>\n",
       "      <th>km</th>\n",
       "      <th>municipio</th>\n",
       "      <th>...</th>\n",
       "      <th>tipo_envolvido</th>\n",
       "      <th>estado_fisico</th>\n",
       "      <th>idade</th>\n",
       "      <th>sexo</th>\n",
       "      <th>ilesos</th>\n",
       "      <th>feridos_leves</th>\n",
       "      <th>feridos_graves</th>\n",
       "      <th>mortos</th>\n",
       "      <th>latitude</th>\n",
       "      <th>longitude</th>\n",
       "    </tr>\n",
       "  </thead>\n",
       "  <tbody>\n",
       "    <tr>\n",
       "      <th>0</th>\n",
       "      <td>83298209.0</td>\n",
       "      <td>5085680.0</td>\n",
       "      <td>01/01/2015</td>\n",
       "      <td>Janeiro</td>\n",
       "      <td>Quinta</td>\n",
       "      <td>00:05:00</td>\n",
       "      <td>RJ</td>\n",
       "      <td>BR-101</td>\n",
       "      <td>KM-327</td>\n",
       "      <td>NITEROI</td>\n",
       "      <td>...</td>\n",
       "      <td>Condutor</td>\n",
       "      <td>Ileso</td>\n",
       "      <td>31.0</td>\n",
       "      <td>Feminino</td>\n",
       "      <td>NaN</td>\n",
       "      <td>NaN</td>\n",
       "      <td>NaN</td>\n",
       "      <td>NaN</td>\n",
       "      <td>NaN</td>\n",
       "      <td>NaN</td>\n",
       "    </tr>\n",
       "    <tr>\n",
       "      <th>1</th>\n",
       "      <td>83298209.0</td>\n",
       "      <td>5085683.0</td>\n",
       "      <td>01/01/2015</td>\n",
       "      <td>Janeiro</td>\n",
       "      <td>Quinta</td>\n",
       "      <td>00:05:00</td>\n",
       "      <td>RJ</td>\n",
       "      <td>BR-101</td>\n",
       "      <td>KM-327</td>\n",
       "      <td>NITEROI</td>\n",
       "      <td>...</td>\n",
       "      <td>Condutor</td>\n",
       "      <td>Ileso</td>\n",
       "      <td>54.0</td>\n",
       "      <td>Masculino</td>\n",
       "      <td>NaN</td>\n",
       "      <td>NaN</td>\n",
       "      <td>NaN</td>\n",
       "      <td>NaN</td>\n",
       "      <td>NaN</td>\n",
       "      <td>NaN</td>\n",
       "    </tr>\n",
       "    <tr>\n",
       "      <th>2</th>\n",
       "      <td>83298218.0</td>\n",
       "      <td>5085748.0</td>\n",
       "      <td>01/01/2015</td>\n",
       "      <td>Janeiro</td>\n",
       "      <td>Quinta</td>\n",
       "      <td>01:20:00</td>\n",
       "      <td>MS</td>\n",
       "      <td>BR-163</td>\n",
       "      <td>KM-434</td>\n",
       "      <td>CAMPO GRANDE</td>\n",
       "      <td>...</td>\n",
       "      <td>Condutor</td>\n",
       "      <td>Ileso</td>\n",
       "      <td>45.0</td>\n",
       "      <td>Masculino</td>\n",
       "      <td>NaN</td>\n",
       "      <td>NaN</td>\n",
       "      <td>NaN</td>\n",
       "      <td>NaN</td>\n",
       "      <td>NaN</td>\n",
       "      <td>NaN</td>\n",
       "    </tr>\n",
       "    <tr>\n",
       "      <th>3</th>\n",
       "      <td>83298218.0</td>\n",
       "      <td>5085750.0</td>\n",
       "      <td>01/01/2015</td>\n",
       "      <td>Janeiro</td>\n",
       "      <td>Quinta</td>\n",
       "      <td>01:20:00</td>\n",
       "      <td>MS</td>\n",
       "      <td>BR-163</td>\n",
       "      <td>KM-434</td>\n",
       "      <td>CAMPO GRANDE</td>\n",
       "      <td>...</td>\n",
       "      <td>Passageiro</td>\n",
       "      <td>Ferido Leve</td>\n",
       "      <td>52.0</td>\n",
       "      <td>Feminino</td>\n",
       "      <td>NaN</td>\n",
       "      <td>NaN</td>\n",
       "      <td>NaN</td>\n",
       "      <td>NaN</td>\n",
       "      <td>NaN</td>\n",
       "      <td>NaN</td>\n",
       "    </tr>\n",
       "    <tr>\n",
       "      <th>4</th>\n",
       "      <td>83298220.0</td>\n",
       "      <td>5090792.0</td>\n",
       "      <td>01/01/2015</td>\n",
       "      <td>Janeiro</td>\n",
       "      <td>Quinta</td>\n",
       "      <td>01:45:00</td>\n",
       "      <td>RJ</td>\n",
       "      <td>BR-40</td>\n",
       "      <td>KM-64</td>\n",
       "      <td>PETROPOLIS</td>\n",
       "      <td>...</td>\n",
       "      <td>Condutor</td>\n",
       "      <td>Ileso</td>\n",
       "      <td>33.0</td>\n",
       "      <td>Feminino</td>\n",
       "      <td>NaN</td>\n",
       "      <td>NaN</td>\n",
       "      <td>NaN</td>\n",
       "      <td>NaN</td>\n",
       "      <td>NaN</td>\n",
       "      <td>NaN</td>\n",
       "    </tr>\n",
       "  </tbody>\n",
       "</table>\n",
       "<p>5 rows × 30 columns</p>\n",
       "</div>"
      ],
      "text/plain": [
       "           id      pesid data_inversa      mes dia_semana   horario  uf  \\\n",
       "0  83298209.0  5085680.0   01/01/2015  Janeiro    Quinta   00:05:00  RJ   \n",
       "1  83298209.0  5085683.0   01/01/2015  Janeiro    Quinta   00:05:00  RJ   \n",
       "2  83298218.0  5085748.0   01/01/2015  Janeiro    Quinta   01:20:00  MS   \n",
       "3  83298218.0  5085750.0   01/01/2015  Janeiro    Quinta   01:20:00  MS   \n",
       "4  83298220.0  5090792.0   01/01/2015  Janeiro    Quinta   01:45:00  RJ   \n",
       "\n",
       "       br      km     municipio  ... tipo_envolvido estado_fisico idade  \\\n",
       "0  BR-101  KM-327       NITEROI  ...       Condutor  Ileso         31.0   \n",
       "1  BR-101  KM-327       NITEROI  ...       Condutor  Ileso         54.0   \n",
       "2  BR-163  KM-434  CAMPO GRANDE  ...       Condutor  Ileso         45.0   \n",
       "3  BR-163  KM-434  CAMPO GRANDE  ...     Passageiro  Ferido Leve   52.0   \n",
       "4   BR-40   KM-64    PETROPOLIS  ...       Condutor  Ileso         33.0   \n",
       "\n",
       "        sexo ilesos feridos_leves feridos_graves mortos latitude longitude  \n",
       "0   Feminino    NaN           NaN            NaN    NaN      NaN       NaN  \n",
       "1  Masculino    NaN           NaN            NaN    NaN      NaN       NaN  \n",
       "2  Masculino    NaN           NaN            NaN    NaN      NaN       NaN  \n",
       "3   Feminino    NaN           NaN            NaN    NaN      NaN       NaN  \n",
       "4   Feminino    NaN           NaN            NaN    NaN      NaN       NaN  \n",
       "\n",
       "[5 rows x 30 columns]"
      ]
     },
     "execution_count": 99,
     "metadata": {},
     "output_type": "execute_result"
    }
   ],
   "source": [
    "column_name = \"mes\"\n",
    "months = {\n",
    "    \"January\": \"Janeiro\",\n",
    "    \"February\": \"Fevereiro\",\n",
    "    \"March\": \"Março\",\n",
    "    \"April\": \"Abril\",\n",
    "    \"May\": \"Maio\",\n",
    "    \"June\": \"Junho\",\n",
    "    \"July\": \"Julho\",\n",
    "    \"August\": \"Agosto\",\n",
    "    \"September\": \"Setembro\",\n",
    "    \"October\": \"Outubro\",\n",
    "    \"November\": \"Novembro\",\n",
    "    \"December\": \"Dezembro\",\n",
    "}\n",
    "if column_name in df_accidents.columns:\n",
    "    df_accidents.pop(column_name)\n",
    "df_accidents.insert(3, column_name, pd.to_datetime(\n",
    "    df_accidents[\"data_inversa\"], format='%d/%m/%Y').dt.strftime('%B').map(months))\n",
    "df_accidents.head()"
   ]
  },
  {
   "cell_type": "markdown",
   "metadata": {},
   "source": [
    "#### Verificando informações da coluna mes após sua inserção"
   ]
  },
  {
   "cell_type": "code",
   "execution_count": 100,
   "metadata": {},
   "outputs": [
    {
     "data": {
      "text/plain": [
       "mes\n",
       "Janeiro      124018\n",
       "Março        111120\n",
       "Maio         109401\n",
       "Dezembro     108934\n",
       "Fevereiro    108681\n",
       "Abril        107251\n",
       "Junho        106435\n",
       "Julho         94848\n",
       "Outubro       93645\n",
       "Agosto        91021\n",
       "Setembro      90067\n",
       "Novembro      89940\n",
       "Name: count, dtype: int64"
      ]
     },
     "execution_count": 100,
     "metadata": {},
     "output_type": "execute_result"
    }
   ],
   "source": [
    "df_accidents[\"mes\"].value_counts()"
   ]
  },
  {
   "cell_type": "markdown",
   "metadata": {},
   "source": [
    "#### Criando coluna auxiliar ano para facilitar análise futura"
   ]
  },
  {
   "cell_type": "code",
   "execution_count": 102,
   "metadata": {},
   "outputs": [
    {
     "data": {
      "text/html": [
       "<div>\n",
       "<style scoped>\n",
       "    .dataframe tbody tr th:only-of-type {\n",
       "        vertical-align: middle;\n",
       "    }\n",
       "\n",
       "    .dataframe tbody tr th {\n",
       "        vertical-align: top;\n",
       "    }\n",
       "\n",
       "    .dataframe thead th {\n",
       "        text-align: right;\n",
       "    }\n",
       "</style>\n",
       "<table border=\"1\" class=\"dataframe\">\n",
       "  <thead>\n",
       "    <tr style=\"text-align: right;\">\n",
       "      <th></th>\n",
       "      <th>id</th>\n",
       "      <th>pesid</th>\n",
       "      <th>data_inversa</th>\n",
       "      <th>mes</th>\n",
       "      <th>ano</th>\n",
       "      <th>dia_semana</th>\n",
       "      <th>horario</th>\n",
       "      <th>uf</th>\n",
       "      <th>br</th>\n",
       "      <th>km</th>\n",
       "      <th>...</th>\n",
       "      <th>tipo_envolvido</th>\n",
       "      <th>estado_fisico</th>\n",
       "      <th>idade</th>\n",
       "      <th>sexo</th>\n",
       "      <th>ilesos</th>\n",
       "      <th>feridos_leves</th>\n",
       "      <th>feridos_graves</th>\n",
       "      <th>mortos</th>\n",
       "      <th>latitude</th>\n",
       "      <th>longitude</th>\n",
       "    </tr>\n",
       "  </thead>\n",
       "  <tbody>\n",
       "    <tr>\n",
       "      <th>1235356</th>\n",
       "      <td>374024.0</td>\n",
       "      <td>833912.0</td>\n",
       "      <td>28/06/2021</td>\n",
       "      <td>Junho</td>\n",
       "      <td>2021</td>\n",
       "      <td>segunda-feira</td>\n",
       "      <td>10:50:00</td>\n",
       "      <td>PR</td>\n",
       "      <td>BR-277</td>\n",
       "      <td>KM-576</td>\n",
       "      <td>...</td>\n",
       "      <td>Condutor</td>\n",
       "      <td>Ileso</td>\n",
       "      <td>24.0</td>\n",
       "      <td>Masculino</td>\n",
       "      <td>1.0</td>\n",
       "      <td>0.0</td>\n",
       "      <td>0.0</td>\n",
       "      <td>0.0</td>\n",
       "      <td>-24,98692731</td>\n",
       "      <td>-53,33030208</td>\n",
       "    </tr>\n",
       "    <tr>\n",
       "      <th>1235357</th>\n",
       "      <td>374224.0</td>\n",
       "      <td>834254.0</td>\n",
       "      <td>13/06/2021</td>\n",
       "      <td>Junho</td>\n",
       "      <td>2021</td>\n",
       "      <td>domingo</td>\n",
       "      <td>02:50:00</td>\n",
       "      <td>SP</td>\n",
       "      <td>BR-116</td>\n",
       "      <td>Desconhecido</td>\n",
       "      <td>...</td>\n",
       "      <td>Condutor</td>\n",
       "      <td>Lesões Leves</td>\n",
       "      <td>40.0</td>\n",
       "      <td>Masculino</td>\n",
       "      <td>0.0</td>\n",
       "      <td>1.0</td>\n",
       "      <td>0.0</td>\n",
       "      <td>0.0</td>\n",
       "      <td>-22,99497994</td>\n",
       "      <td>-45,48951403</td>\n",
       "    </tr>\n",
       "    <tr>\n",
       "      <th>1235358</th>\n",
       "      <td>374239.0</td>\n",
       "      <td>834287.0</td>\n",
       "      <td>02/06/2021</td>\n",
       "      <td>Junho</td>\n",
       "      <td>2021</td>\n",
       "      <td>quarta-feira</td>\n",
       "      <td>08:45:00</td>\n",
       "      <td>RN</td>\n",
       "      <td>BR-101</td>\n",
       "      <td>KM-85</td>\n",
       "      <td>...</td>\n",
       "      <td>Condutor</td>\n",
       "      <td>Lesões Graves</td>\n",
       "      <td>NaN</td>\n",
       "      <td>Masculino</td>\n",
       "      <td>0.0</td>\n",
       "      <td>0.0</td>\n",
       "      <td>1.0</td>\n",
       "      <td>0.0</td>\n",
       "      <td>-5,777664</td>\n",
       "      <td>-35,24937</td>\n",
       "    </tr>\n",
       "    <tr>\n",
       "      <th>1235359</th>\n",
       "      <td>374239.0</td>\n",
       "      <td>834286.0</td>\n",
       "      <td>02/06/2021</td>\n",
       "      <td>Junho</td>\n",
       "      <td>2021</td>\n",
       "      <td>quarta-feira</td>\n",
       "      <td>08:45:00</td>\n",
       "      <td>RN</td>\n",
       "      <td>BR-101</td>\n",
       "      <td>KM-85</td>\n",
       "      <td>...</td>\n",
       "      <td>Condutor</td>\n",
       "      <td>Ileso</td>\n",
       "      <td>45.0</td>\n",
       "      <td>Masculino</td>\n",
       "      <td>1.0</td>\n",
       "      <td>0.0</td>\n",
       "      <td>0.0</td>\n",
       "      <td>0.0</td>\n",
       "      <td>-5,777664</td>\n",
       "      <td>-35,24937</td>\n",
       "    </tr>\n",
       "    <tr>\n",
       "      <th>1235360</th>\n",
       "      <td>374253.0</td>\n",
       "      <td>834310.0</td>\n",
       "      <td>01/01/2021</td>\n",
       "      <td>Janeiro</td>\n",
       "      <td>2021</td>\n",
       "      <td>sexta-feira</td>\n",
       "      <td>17:40:00</td>\n",
       "      <td>RN</td>\n",
       "      <td>BR-101</td>\n",
       "      <td>Desconhecido</td>\n",
       "      <td>...</td>\n",
       "      <td>Condutor</td>\n",
       "      <td>Lesões Graves</td>\n",
       "      <td>34.0</td>\n",
       "      <td>Masculino</td>\n",
       "      <td>0.0</td>\n",
       "      <td>0.0</td>\n",
       "      <td>1.0</td>\n",
       "      <td>0.0</td>\n",
       "      <td>-5,74071896</td>\n",
       "      <td>-35,29021064</td>\n",
       "    </tr>\n",
       "  </tbody>\n",
       "</table>\n",
       "<p>5 rows × 31 columns</p>\n",
       "</div>"
      ],
      "text/plain": [
       "               id     pesid data_inversa      mes   ano     dia_semana  \\\n",
       "1235356  374024.0  833912.0   28/06/2021    Junho  2021  segunda-feira   \n",
       "1235357  374224.0  834254.0   13/06/2021    Junho  2021        domingo   \n",
       "1235358  374239.0  834287.0   02/06/2021    Junho  2021   quarta-feira   \n",
       "1235359  374239.0  834286.0   02/06/2021    Junho  2021   quarta-feira   \n",
       "1235360  374253.0  834310.0   01/01/2021  Janeiro  2021    sexta-feira   \n",
       "\n",
       "          horario  uf      br            km  ... tipo_envolvido  \\\n",
       "1235356  10:50:00  PR  BR-277        KM-576  ...       Condutor   \n",
       "1235357  02:50:00  SP  BR-116  Desconhecido  ...       Condutor   \n",
       "1235358  08:45:00  RN  BR-101         KM-85  ...       Condutor   \n",
       "1235359  08:45:00  RN  BR-101         KM-85  ...       Condutor   \n",
       "1235360  17:40:00  RN  BR-101  Desconhecido  ...       Condutor   \n",
       "\n",
       "         estado_fisico idade       sexo ilesos feridos_leves feridos_graves  \\\n",
       "1235356          Ileso  24.0  Masculino    1.0           0.0            0.0   \n",
       "1235357   Lesões Leves  40.0  Masculino    0.0           1.0            0.0   \n",
       "1235358  Lesões Graves   NaN  Masculino    0.0           0.0            1.0   \n",
       "1235359          Ileso  45.0  Masculino    1.0           0.0            0.0   \n",
       "1235360  Lesões Graves  34.0  Masculino    0.0           0.0            1.0   \n",
       "\n",
       "        mortos      latitude     longitude  \n",
       "1235356    0.0  -24,98692731  -53,33030208  \n",
       "1235357    0.0  -22,99497994  -45,48951403  \n",
       "1235358    0.0     -5,777664     -35,24937  \n",
       "1235359    0.0     -5,777664     -35,24937  \n",
       "1235360    0.0   -5,74071896  -35,29021064  \n",
       "\n",
       "[5 rows x 31 columns]"
      ]
     },
     "execution_count": 102,
     "metadata": {},
     "output_type": "execute_result"
    }
   ],
   "source": [
    "column_name = \"ano\"\n",
    "if column_name in df_accidents.columns:\n",
    "    df_accidents.pop(column_name)\n",
    "df_accidents.insert(4, column_name, pd.to_datetime(\n",
    "    df_accidents[\"data_inversa\"], format='%d/%m/%Y').dt.year)\n",
    "df_accidents.tail()"
   ]
  },
  {
   "cell_type": "markdown",
   "metadata": {},
   "source": [
    "#### Verificando informações da coluna ano após sua inserção"
   ]
  },
  {
   "cell_type": "code",
   "execution_count": 103,
   "metadata": {},
   "outputs": [
    {
     "data": {
      "text/plain": [
       "ano\n",
       "2015    269052\n",
       "2016    216261\n",
       "2017    204395\n",
       "2018    164802\n",
       "2019    162273\n",
       "2020    147642\n",
       "2021     70936\n",
       "Name: count, dtype: int64"
      ]
     },
     "execution_count": 103,
     "metadata": {},
     "output_type": "execute_result"
    }
   ],
   "source": [
    "df_accidents[\"ano\"].value_counts()"
   ]
  },
  {
   "cell_type": "markdown",
   "metadata": {},
   "source": [
    "#### Salvando os dados em um novo CSV após o tratamento de dados da coluna \"km\" acima para ter uma base mais limpa"
   ]
  },
  {
   "cell_type": "code",
   "execution_count": null,
   "metadata": {},
   "outputs": [],
   "source": [
    "with open(\"../databases/acidentes2015_2021_tratado_v1.csv\", \"w\") as f:\n",
    "    df_accidents.to_csv(f, index=False)"
   ]
  }
 ],
 "metadata": {
  "kernelspec": {
   "display_name": "venv",
   "language": "python",
   "name": "python3"
  },
  "language_info": {
   "codemirror_mode": {
    "name": "ipython",
    "version": 3
   },
   "file_extension": ".py",
   "mimetype": "text/x-python",
   "name": "python",
   "nbconvert_exporter": "python",
   "pygments_lexer": "ipython3",
   "version": "3.13.2"
  }
 },
 "nbformat": 4,
 "nbformat_minor": 2
}
