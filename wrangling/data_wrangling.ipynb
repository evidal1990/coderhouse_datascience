{
 "cells": [
  {
   "cell_type": "markdown",
   "metadata": {},
   "source": [
    "#### Adicionando o caminho do projeto ao path"
   ]
  },
  {
   "cell_type": "code",
   "execution_count": 770,
   "metadata": {},
   "outputs": [],
   "source": [
    "import os\n",
    "os.chdir('/Users/edithvidal/Documents/Github/data_science_analysis/')"
   ]
  },
  {
   "cell_type": "markdown",
   "metadata": {},
   "source": [
    "#### Importando as bibliotecas necessárias para iniciar a leitura dos arquivos"
   ]
  },
  {
   "cell_type": "code",
   "execution_count": 771,
   "metadata": {},
   "outputs": [
    {
     "name": "stdout",
     "output_type": "stream",
     "text": [
      "Requirement already satisfied: missingno in ./venv/lib/python3.13/site-packages (0.5.2)\n",
      "Requirement already satisfied: numpy in ./venv/lib/python3.13/site-packages (from missingno) (2.2.2)\n",
      "Requirement already satisfied: matplotlib in ./venv/lib/python3.13/site-packages (from missingno) (3.10.0)\n",
      "Requirement already satisfied: scipy in ./venv/lib/python3.13/site-packages (from missingno) (1.15.2)\n",
      "Requirement already satisfied: seaborn in ./venv/lib/python3.13/site-packages (from missingno) (0.13.2)\n",
      "Requirement already satisfied: contourpy>=1.0.1 in ./venv/lib/python3.13/site-packages (from matplotlib->missingno) (1.3.1)\n",
      "Requirement already satisfied: cycler>=0.10 in ./venv/lib/python3.13/site-packages (from matplotlib->missingno) (0.12.1)\n",
      "Requirement already satisfied: fonttools>=4.22.0 in ./venv/lib/python3.13/site-packages (from matplotlib->missingno) (4.56.0)\n",
      "Requirement already satisfied: kiwisolver>=1.3.1 in ./venv/lib/python3.13/site-packages (from matplotlib->missingno) (1.4.8)\n",
      "Requirement already satisfied: packaging>=20.0 in ./venv/lib/python3.13/site-packages (from matplotlib->missingno) (24.2)\n",
      "Requirement already satisfied: pillow>=8 in ./venv/lib/python3.13/site-packages (from matplotlib->missingno) (11.1.0)\n",
      "Requirement already satisfied: pyparsing>=2.3.1 in ./venv/lib/python3.13/site-packages (from matplotlib->missingno) (3.2.1)\n",
      "Requirement already satisfied: python-dateutil>=2.7 in ./venv/lib/python3.13/site-packages (from matplotlib->missingno) (2.9.0.post0)\n",
      "Requirement already satisfied: pandas>=1.2 in ./venv/lib/python3.13/site-packages (from seaborn->missingno) (2.2.3)\n",
      "Requirement already satisfied: pytz>=2020.1 in ./venv/lib/python3.13/site-packages (from pandas>=1.2->seaborn->missingno) (2025.1)\n",
      "Requirement already satisfied: tzdata>=2022.7 in ./venv/lib/python3.13/site-packages (from pandas>=1.2->seaborn->missingno) (2025.1)\n",
      "Requirement already satisfied: six>=1.5 in ./venv/lib/python3.13/site-packages (from python-dateutil>=2.7->matplotlib->missingno) (1.17.0)\n",
      "\n",
      "\u001b[1m[\u001b[0m\u001b[34;49mnotice\u001b[0m\u001b[1;39;49m]\u001b[0m\u001b[39;49m A new release of pip is available: \u001b[0m\u001b[31;49m24.3.1\u001b[0m\u001b[39;49m -> \u001b[0m\u001b[32;49m25.1.1\u001b[0m\n",
      "\u001b[1m[\u001b[0m\u001b[34;49mnotice\u001b[0m\u001b[1;39;49m]\u001b[0m\u001b[39;49m To update, run: \u001b[0m\u001b[32;49mpip install --upgrade pip\u001b[0m\n",
      "Note: you may need to restart the kernel to use updated packages.\n",
      "Requirement already satisfied: requests in ./venv/lib/python3.13/site-packages (2.32.3)\n",
      "Requirement already satisfied: charset-normalizer<4,>=2 in ./venv/lib/python3.13/site-packages (from requests) (3.4.1)\n",
      "Requirement already satisfied: idna<4,>=2.5 in ./venv/lib/python3.13/site-packages (from requests) (3.10)\n",
      "Requirement already satisfied: urllib3<3,>=1.21.1 in ./venv/lib/python3.13/site-packages (from requests) (2.3.0)\n",
      "Requirement already satisfied: certifi>=2017.4.17 in ./venv/lib/python3.13/site-packages (from requests) (2025.1.31)\n",
      "\n",
      "\u001b[1m[\u001b[0m\u001b[34;49mnotice\u001b[0m\u001b[1;39;49m]\u001b[0m\u001b[39;49m A new release of pip is available: \u001b[0m\u001b[31;49m24.3.1\u001b[0m\u001b[39;49m -> \u001b[0m\u001b[32;49m25.1.1\u001b[0m\n",
      "\u001b[1m[\u001b[0m\u001b[34;49mnotice\u001b[0m\u001b[1;39;49m]\u001b[0m\u001b[39;49m To update, run: \u001b[0m\u001b[32;49mpip install --upgrade pip\u001b[0m\n",
      "Note: you may need to restart the kernel to use updated packages.\n"
     ]
    }
   ],
   "source": [
    "%pip install missingno\n",
    "%pip install requests\n",
    "%matplotlib inline\n",
    "\n",
    "import numpy as np\n",
    "import pandas as pd\n",
    "import missingno as msno\n",
    "import requests\n",
    "import json\n",
    "import matplotlib.pyplot as plt\n",
    "import seaborn as sns"
   ]
  },
  {
   "cell_type": "markdown",
   "metadata": {},
   "source": [
    "#### Lendo os dados da base única de 2018 a 2024"
   ]
  },
  {
   "cell_type": "code",
   "execution_count": 856,
   "metadata": {},
   "outputs": [
    {
     "name": "stdout",
     "output_type": "stream",
     "text": [
      "<class 'pandas.core.frame.DataFrame'>\n",
      "RangeIndex: 436718 entries, 0 to 436717\n",
      "Data columns (total 21 columns):\n",
      " #   Column                  Non-Null Count   Dtype  \n",
      "---  ------                  --------------   -----  \n",
      " 0   id                      436718 non-null  float64\n",
      " 1   data_inversa            436718 non-null  object \n",
      " 2   dia_semana              436718 non-null  object \n",
      " 3   horario                 436718 non-null  object \n",
      " 4   uf                      436718 non-null  object \n",
      " 5   br                      436267 non-null  float64\n",
      " 6   km                      436267 non-null  object \n",
      " 7   causa_acidente          436718 non-null  object \n",
      " 8   tipo_acidente           436718 non-null  object \n",
      " 9   classificacao_acidente  436715 non-null  object \n",
      " 10  fase_dia                436718 non-null  object \n",
      " 11  sentido_via             436718 non-null  object \n",
      " 12  condicao_metereologica  436718 non-null  object \n",
      " 13  tipo_pista              436718 non-null  object \n",
      " 14  tracado_via             436718 non-null  object \n",
      " 15  uso_solo                436718 non-null  object \n",
      " 16  pessoas                 436718 non-null  int64  \n",
      " 17  mortos                  436718 non-null  int64  \n",
      " 18  ilesos                  436718 non-null  int64  \n",
      " 19  feridos                 436718 non-null  int64  \n",
      " 20  veiculos                436718 non-null  int64  \n",
      "dtypes: float64(2), int64(5), object(14)\n",
      "memory usage: 70.0+ MB\n"
     ]
    }
   ],
   "source": [
    "df_accidents = pd.read_csv(\n",
    "    \"acquisition/datatran2018_2024_v0.csv\"\n",
    ")\n",
    "df_accidents.info()"
   ]
  },
  {
   "cell_type": "markdown",
   "metadata": {},
   "source": [
    "#### Verificando os dados faltantes de cada coluna para ter uma visão geral da base"
   ]
  },
  {
   "cell_type": "code",
   "execution_count": 773,
   "metadata": {},
   "outputs": [
    {
     "data": {
      "text/plain": [
       "<Axes: >"
      ]
     },
     "execution_count": 773,
     "metadata": {},
     "output_type": "execute_result"
    },
    {
     "data": {
      "image/png": "[encoded data removed]",
      "text/plain": [
       "<Figure size 2500x1000 with 2 Axes>"
      ]
     },
     "metadata": {},
     "output_type": "display_data"
    }
   ],
   "source": [
    "msno.matrix(df=df_accidents)"
   ]
  },
  {
   "cell_type": "markdown",
   "metadata": {},
   "source": [
    "#### Criando funções auxiliares para tratar o dataframe"
   ]
  },
  {
   "cell_type": "code",
   "execution_count": 774,
   "metadata": {},
   "outputs": [],
   "source": [
    "def capitalize(df):\n",
    "    return df.apply(lambda data: data.capitalize())"
   ]
  },
  {
   "cell_type": "markdown",
   "metadata": {},
   "source": [
    "#### Verificando informações da coluna \"br\" para identificar dados faltantes"
   ]
  },
  {
   "cell_type": "code",
   "execution_count": 775,
   "metadata": {},
   "outputs": [
    {
     "name": "stdout",
     "output_type": "stream",
     "text": [
      "<class 'pandas.core.series.Series'>\n",
      "RangeIndex: 436718 entries, 0 to 436717\n",
      "Series name: br\n",
      "Non-Null Count   Dtype  \n",
      "--------------   -----  \n",
      "436267 non-null  float64\n",
      "dtypes: float64(1)\n",
      "memory usage: 3.3 MB\n"
     ]
    }
   ],
   "source": [
    "df_accidents[\"br\"].info(verbose=True)"
   ]
  },
  {
   "cell_type": "markdown",
   "metadata": {},
   "source": [
    "#### Verificando dados estatísticos da coluna \"br\"para avaliar a necessidade de tratamento dos dados"
   ]
  },
  {
   "cell_type": "code",
   "execution_count": 776,
   "metadata": {},
   "outputs": [
    {
     "data": {
      "text/plain": [
       "count    436267.000000\n",
       "mean        212.121939\n",
       "std         130.577461\n",
       "min           0.000000\n",
       "25%         101.000000\n",
       "50%         158.000000\n",
       "75%         324.000000\n",
       "max         498.000000\n",
       "Name: br, dtype: float64"
      ]
     },
     "execution_count": 776,
     "metadata": {},
     "output_type": "execute_result"
    }
   ],
   "source": [
    "df_accidents[\"br\"].describe()"
   ]
  },
  {
   "cell_type": "markdown",
   "metadata": {},
   "source": [
    "#### Verificando dados faltantes na coluna \"br\" para avaliar a necessidade de tratamento dos dados"
   ]
  },
  {
   "cell_type": "code",
   "execution_count": 777,
   "metadata": {},
   "outputs": [
    {
     "name": "stdout",
     "output_type": "stream",
     "text": [
      "br\n",
      "False    436267\n",
      "True        451\n",
      "Name: count, dtype: int64\n",
      "Dados preenchidos com zero: 545\n"
     ]
    }
   ],
   "source": [
    "df = df_accidents.copy()\n",
    "print(df[\"br\"].isna().value_counts())\n",
    "print(f'Dados preenchidos com zero: {df[df[\"br\"] == 0].value_counts().sum()}')"
   ]
  },
  {
   "cell_type": "markdown",
   "metadata": {},
   "source": [
    "#### Tratando os dados para serem do tipo string e tratando dados faltantes como \"Desconhecido\" na coluna \"br\""
   ]
  },
  {
   "cell_type": "code",
   "execution_count": 778,
   "metadata": {},
   "outputs": [],
   "source": [
    "df_accidents.dropna(subset=[\"br\"], inplace=True)\n",
    "df_accidents.drop(df_accidents[df_accidents['br'] == 0].index, inplace=True)"
   ]
  },
  {
   "cell_type": "markdown",
   "metadata": {},
   "source": [
    "#### Verificando dados estatísticos da coluna \"br\" após o tratamento dos dados"
   ]
  },
  {
   "cell_type": "code",
   "execution_count": 779,
   "metadata": {},
   "outputs": [
    {
     "data": {
      "text/html": [
       "<div>\n",
       "<style scoped>\n",
       "    .dataframe tbody tr th:only-of-type {\n",
       "        vertical-align: middle;\n",
       "    }\n",
       "\n",
       "    .dataframe tbody tr th {\n",
       "        vertical-align: top;\n",
       "    }\n",
       "\n",
       "    .dataframe thead th {\n",
       "        text-align: right;\n",
       "    }\n",
       "</style>\n",
       "<table border=\"1\" class=\"dataframe\">\n",
       "  <thead>\n",
       "    <tr style=\"text-align: right;\">\n",
       "      <th></th>\n",
       "      <th>frequência</th>\n",
       "      <th>percentual</th>\n",
       "    </tr>\n",
       "    <tr>\n",
       "      <th>br</th>\n",
       "      <th></th>\n",
       "      <th></th>\n",
       "    </tr>\n",
       "  </thead>\n",
       "  <tbody>\n",
       "    <tr>\n",
       "      <th>101.0</th>\n",
       "      <td>73787</td>\n",
       "      <td>16.9</td>\n",
       "    </tr>\n",
       "    <tr>\n",
       "      <th>116.0</th>\n",
       "      <td>65465</td>\n",
       "      <td>15.0</td>\n",
       "    </tr>\n",
       "    <tr>\n",
       "      <th>381.0</th>\n",
       "      <td>21030</td>\n",
       "      <td>4.8</td>\n",
       "    </tr>\n",
       "    <tr>\n",
       "      <th>40.0</th>\n",
       "      <td>20747</td>\n",
       "      <td>4.8</td>\n",
       "    </tr>\n",
       "    <tr>\n",
       "      <th>153.0</th>\n",
       "      <td>16902</td>\n",
       "      <td>3.9</td>\n",
       "    </tr>\n",
       "    <tr>\n",
       "      <th>...</th>\n",
       "      <td>...</td>\n",
       "      <td>...</td>\n",
       "    </tr>\n",
       "    <tr>\n",
       "      <th>486.0</th>\n",
       "      <td>1</td>\n",
       "      <td>0.0</td>\n",
       "    </tr>\n",
       "    <tr>\n",
       "      <th>494.0</th>\n",
       "      <td>1</td>\n",
       "      <td>0.0</td>\n",
       "    </tr>\n",
       "    <tr>\n",
       "      <th>466.0</th>\n",
       "      <td>1</td>\n",
       "      <td>0.0</td>\n",
       "    </tr>\n",
       "    <tr>\n",
       "      <th>363.0</th>\n",
       "      <td>1</td>\n",
       "      <td>0.0</td>\n",
       "    </tr>\n",
       "    <tr>\n",
       "      <th>307.0</th>\n",
       "      <td>1</td>\n",
       "      <td>0.0</td>\n",
       "    </tr>\n",
       "  </tbody>\n",
       "</table>\n",
       "<p>131 rows × 2 columns</p>\n",
       "</div>"
      ],
      "text/plain": [
       "       frequência  percentual\n",
       "br                           \n",
       "101.0       73787        16.9\n",
       "116.0       65465        15.0\n",
       "381.0       21030         4.8\n",
       "40.0        20747         4.8\n",
       "153.0       16902         3.9\n",
       "...           ...         ...\n",
       "486.0           1         0.0\n",
       "494.0           1         0.0\n",
       "466.0           1         0.0\n",
       "363.0           1         0.0\n",
       "307.0           1         0.0\n",
       "\n",
       "[131 rows x 2 columns]"
      ]
     },
     "execution_count": 779,
     "metadata": {},
     "output_type": "execute_result"
    }
   ],
   "source": [
    "df = df_accidents[\"br\"].value_counts()\n",
    "df_top_br = pd.DataFrame({\n",
    "    \"frequência\": df,\n",
    "    \"percentual\": ((df / df.sum()) * 100).round(1)\n",
    "})\n",
    "df_top_br"
   ]
  },
  {
   "cell_type": "markdown",
   "metadata": {},
   "source": [
    "#### Distribuição dos acidentes por rodovia (BR)"
   ]
  },
  {
   "cell_type": "code",
   "execution_count": 780,
   "metadata": {},
   "outputs": [
    {
     "data": {
      "image/png": "[encoded data removed]",
      "text/plain": [
       "<Figure size 1000x600 with 1 Axes>"
      ]
     },
     "metadata": {},
     "output_type": "display_data"
    }
   ],
   "source": [
    "plt.figure(figsize=(10, 6))\n",
    "sns.boxplot(y=df_accidents[\"br\"])\n",
    "plt.ylabel(\"Rodovias (BR)\")\n",
    "plt.grid(True, axis=\"y\", linestyle=\"--\", alpha=0.5)\n",
    "plt.tight_layout()\n",
    "plt.show()"
   ]
  },
  {
   "cell_type": "markdown",
   "metadata": {},
   "source": [
    "#### Verificando informações da coluna \"km\" para identificar dados faltantes"
   ]
  },
  {
   "cell_type": "code",
   "execution_count": 781,
   "metadata": {},
   "outputs": [
    {
     "name": "stdout",
     "output_type": "stream",
     "text": [
      "<class 'pandas.core.series.Series'>\n",
      "Index: 435722 entries, 0 to 436717\n",
      "Series name: km\n",
      "Non-Null Count   Dtype \n",
      "--------------   ----- \n",
      "435722 non-null  object\n",
      "dtypes: object(1)\n",
      "memory usage: 6.6+ MB\n"
     ]
    }
   ],
   "source": [
    "df_accidents[\"km\"].info()"
   ]
  },
  {
   "cell_type": "markdown",
   "metadata": {},
   "source": [
    "#### Verificando dados estatísticos da coluna \"km\"para avaliar a necessidade de tratamento dos dados"
   ]
  },
  {
   "cell_type": "code",
   "execution_count": 782,
   "metadata": {},
   "outputs": [
    {
     "data": {
      "text/plain": [
       "count     435722\n",
       "unique      9740\n",
       "top            1\n",
       "freq        1911\n",
       "Name: km, dtype: object"
      ]
     },
     "execution_count": 782,
     "metadata": {},
     "output_type": "execute_result"
    }
   ],
   "source": [
    "df_accidents[\"km\"].describe()"
   ]
  },
  {
   "cell_type": "markdown",
   "metadata": {},
   "source": [
    "#### Verificando dados faltantes na coluna \"km\" para avaliar a necessidade de tratamento dos dados"
   ]
  },
  {
   "cell_type": "code",
   "execution_count": 783,
   "metadata": {},
   "outputs": [
    {
     "data": {
      "text/plain": [
       "km\n",
       "False    435722\n",
       "Name: count, dtype: int64"
      ]
     },
     "execution_count": 783,
     "metadata": {},
     "output_type": "execute_result"
    }
   ],
   "source": [
    "df_accidents[\"km\"].isna().value_counts()"
   ]
  },
  {
   "cell_type": "markdown",
   "metadata": {},
   "source": [
    "#### Verificando dados estatísticos da coluna \"km\" após o tratamento dos dados"
   ]
  },
  {
   "cell_type": "code",
   "execution_count": 784,
   "metadata": {},
   "outputs": [
    {
     "data": {
      "text/plain": [
       "count     435722\n",
       "unique      9740\n",
       "top            1\n",
       "freq        1911\n",
       "Name: km, dtype: object"
      ]
     },
     "execution_count": 784,
     "metadata": {},
     "output_type": "execute_result"
    }
   ],
   "source": [
    "df_accidents[\"km\"].describe()"
   ]
  },
  {
   "cell_type": "markdown",
   "metadata": {},
   "source": [
    "#### Agrupando os dados por br e km para identificar a quais rodovias pertencem os kms com mais acidentes"
   ]
  },
  {
   "cell_type": "code",
   "execution_count": 785,
   "metadata": {},
   "outputs": [
    {
     "name": "stdout",
     "output_type": "stream",
     "text": [
      "        km     br  frequência  percentual\n",
      "27690  219  116.0         377        13.1\n",
      "25560  206  101.0         301        10.4\n",
      "25703  207  101.0         292        10.1\n",
      "29760  230  116.0         289        10.0\n",
      "29218  228  116.0         274         9.5\n",
      "28551  223  116.0         272         9.4\n",
      "28411  222  116.0         272         9.4\n",
      "29092  227  116.0         272         9.4\n",
      "26434  210  101.0         270         9.4\n",
      "25841  208  101.0         264         9.2\n"
     ]
    }
   ],
   "source": [
    "df = df_accidents.copy()\n",
    "df = df.groupby([\"km\", \"br\"]).size().reset_index(\n",
    "    name=\"frequência\").sort_values(\"frequência\", ascending=False).head(10)\n",
    "\n",
    "df[\"percentual\"] = (df[\"frequência\"] / df[\"frequência\"].sum()) * 100\n",
    "df[\"percentual\"] = df[\"percentual\"].round(1)\n",
    "\n",
    "print(df)"
   ]
  },
  {
   "cell_type": "markdown",
   "metadata": {},
   "source": [
    "#### Verificando informações da coluna \"data_inversa\""
   ]
  },
  {
   "cell_type": "code",
   "execution_count": 786,
   "metadata": {},
   "outputs": [
    {
     "name": "stdout",
     "output_type": "stream",
     "text": [
      "<class 'pandas.core.series.Series'>\n",
      "Index: 435722 entries, 0 to 436717\n",
      "Series name: data_inversa\n",
      "Non-Null Count   Dtype \n",
      "--------------   ----- \n",
      "435722 non-null  object\n",
      "dtypes: object(1)\n",
      "memory usage: 6.6+ MB\n"
     ]
    }
   ],
   "source": [
    "df_accidents[\"data_inversa\"].info()"
   ]
  },
  {
   "cell_type": "markdown",
   "metadata": {},
   "source": [
    "#### Verificando dados estatísticos da coluna \"data_inversa\"para avaliar a necessidade de tratamento dos dados"
   ]
  },
  {
   "cell_type": "code",
   "execution_count": 787,
   "metadata": {},
   "outputs": [
    {
     "data": {
      "text/plain": [
       "data_inversa\n",
       "2018-02-10    325\n",
       "2018-12-22    324\n",
       "2024-12-21    319\n",
       "2018-02-09    312\n",
       "2023-12-23    303\n",
       "             ... \n",
       "2018-05-26     83\n",
       "2020-03-26     77\n",
       "2018-05-29     74\n",
       "2020-03-25     72\n",
       "2020-03-23     69\n",
       "Name: count, Length: 2373, dtype: int64"
      ]
     },
     "execution_count": 787,
     "metadata": {},
     "output_type": "execute_result"
    }
   ],
   "source": [
    "df_accidents[\"data_inversa\"].value_counts()\n"
   ]
  },
  {
   "cell_type": "code",
   "execution_count": 788,
   "metadata": {},
   "outputs": [
    {
     "data": {
      "text/plain": [
       "count         435722\n",
       "unique          2373\n",
       "top       2018-02-10\n",
       "freq             325\n",
       "Name: data_inversa, dtype: object"
      ]
     },
     "execution_count": 788,
     "metadata": {},
     "output_type": "execute_result"
    }
   ],
   "source": [
    "df_accidents[\"data_inversa\"].describe()"
   ]
  },
  {
   "cell_type": "markdown",
   "metadata": {},
   "source": [
    "#### Verificando a frequência dos valores da coluna \"data_inversa\" para avaliar a necessidade de tratamento dos dados"
   ]
  },
  {
   "cell_type": "code",
   "execution_count": 789,
   "metadata": {},
   "outputs": [
    {
     "data": {
      "text/plain": [
       "data_inversa\n",
       "2018-02-10    325\n",
       "2018-12-22    324\n",
       "2024-12-21    319\n",
       "2018-02-09    312\n",
       "2023-12-23    303\n",
       "Name: count, dtype: int64"
      ]
     },
     "execution_count": 789,
     "metadata": {},
     "output_type": "execute_result"
    }
   ],
   "source": [
    "df_accidents[\"data_inversa\"].value_counts().head()"
   ]
  },
  {
   "cell_type": "markdown",
   "metadata": {},
   "source": [
    "#### Convertendo a coluna data_inversa para Datetime"
   ]
  },
  {
   "cell_type": "code",
   "execution_count": 790,
   "metadata": {},
   "outputs": [
    {
     "data": {
      "text/plain": [
       "id                               float64\n",
       "data_inversa              datetime64[ns]\n",
       "dia_semana                        object\n",
       "horario                           object\n",
       "uf                                object\n",
       "br                               float64\n",
       "km                                object\n",
       "causa_acidente                    object\n",
       "tipo_acidente                     object\n",
       "classificacao_acidente            object\n",
       "fase_dia                          object\n",
       "sentido_via                       object\n",
       "condicao_metereologica            object\n",
       "tipo_pista                        object\n",
       "tracado_via                       object\n",
       "uso_solo                          object\n",
       "pessoas                            int64\n",
       "mortos                             int64\n",
       "ilesos                             int64\n",
       "feridos                            int64\n",
       "veiculos                           int64\n",
       "dtype: object"
      ]
     },
     "execution_count": 790,
     "metadata": {},
     "output_type": "execute_result"
    }
   ],
   "source": [
    "df_accidents[\"data_inversa\"] = pd.to_datetime(\n",
    "    df_accidents[\"data_inversa\"], format=\"%Y-%m-%d\")\n",
    "df_accidents.dtypes"
   ]
  },
  {
   "cell_type": "markdown",
   "metadata": {},
   "source": [
    "#### Ordenando o dataframe por data (crescente)"
   ]
  },
  {
   "cell_type": "code",
   "execution_count": 791,
   "metadata": {},
   "outputs": [
    {
     "data": {
      "text/plain": [
       "data_inversa\n",
       "2018-02-10    325\n",
       "2018-12-22    324\n",
       "2024-12-21    319\n",
       "2018-02-09    312\n",
       "2023-12-23    303\n",
       "2019-12-21    298\n",
       "2020-12-19    289\n",
       "2020-10-10    285\n",
       "2024-10-20    282\n",
       "2024-12-22    281\n",
       "Name: count, dtype: int64"
      ]
     },
     "execution_count": 791,
     "metadata": {},
     "output_type": "execute_result"
    }
   ],
   "source": [
    "df_accidents = df_accidents.sort_values(by=\"data_inversa\")\n",
    "df_accidents[\"data_inversa\"].value_counts().nlargest(10)"
   ]
  },
  {
   "cell_type": "markdown",
   "metadata": {},
   "source": [
    "#### Verificando dados estatísticos da coluna \"data_inversa\" após do tratamento dos dados"
   ]
  },
  {
   "cell_type": "code",
   "execution_count": 792,
   "metadata": {},
   "outputs": [
    {
     "data": {
      "text/plain": [
       "count                           435722\n",
       "mean     2021-07-08 18:49:27.334217216\n",
       "min                2018-01-01 00:00:00\n",
       "25%                2019-08-10 00:00:00\n",
       "50%                2021-04-18 00:00:00\n",
       "75%                2023-06-26 00:00:00\n",
       "max                2024-12-31 00:00:00\n",
       "Name: data_inversa, dtype: object"
      ]
     },
     "execution_count": 792,
     "metadata": {},
     "output_type": "execute_result"
    }
   ],
   "source": [
    "df_accidents[\"data_inversa\"].describe()"
   ]
  },
  {
   "cell_type": "markdown",
   "metadata": {},
   "source": [
    "#### Criando coluna auxiliar mes_ano para facilitar análise futura"
   ]
  },
  {
   "cell_type": "code",
   "execution_count": 793,
   "metadata": {},
   "outputs": [
    {
     "data": {
      "text/plain": [
       "mes_ano\n",
       "2018-01    6934\n",
       "2018-02    6180\n",
       "2018-03    6672\n",
       "2018-04    5516\n",
       "2018-05    4812\n",
       "           ... \n",
       "2024-08    6155\n",
       "2024-09    6207\n",
       "2024-10    6388\n",
       "2024-11    6115\n",
       "2024-12    6574\n",
       "Freq: M, Name: count, Length: 78, dtype: int64"
      ]
     },
     "execution_count": 793,
     "metadata": {},
     "output_type": "execute_result"
    }
   ],
   "source": [
    "df_accidents[\"mes_ano\"] = df_accidents[\"data_inversa\"].dt.to_period(\"M\")\n",
    "df_accidents[\"mes_ano\"].value_counts().sort_index()"
   ]
  },
  {
   "cell_type": "code",
   "execution_count": 794,
   "metadata": {},
   "outputs": [
    {
     "data": {
      "text/plain": [
       "0         2018\n",
       "141       2018\n",
       "142       2018\n",
       "143       2018\n",
       "144       2018\n",
       "          ... \n",
       "381926    2024\n",
       "381925    2024\n",
       "381924    2024\n",
       "436404    2024\n",
       "436366    2024\n",
       "Name: mes_ano, Length: 435722, dtype: int64"
      ]
     },
     "execution_count": 794,
     "metadata": {},
     "output_type": "execute_result"
    }
   ],
   "source": [
    "df_accidents[\"mes_ano\"].dt.year"
   ]
  },
  {
   "cell_type": "markdown",
   "metadata": {},
   "source": [
    "#### Obtendo lista de feriados obtida de uma base de dados externa"
   ]
  },
  {
   "cell_type": "code",
   "execution_count": 795,
   "metadata": {},
   "outputs": [],
   "source": [
    "from datetime import datetime\n",
    "\n",
    "\n",
    "def get_holidays(year):\n",
    "    try:\n",
    "        response = requests.get(\n",
    "            f\"https://brasilapi.com.br/api/feriados/v1/{year}\")\n",
    "        response.raise_for_status()\n",
    "        return [{\n",
    "            \"date\": datetime.strptime(data[\"date\"], \"%Y-%m-%d\").strftime(\"%Y-%m-%d\"),\n",
    "            \"name\": data[\"name\"]\n",
    "        } for data in response.json()]\n",
    "    except requests.exceptions.RequestException as e:\n",
    "        print(f\"Erro ao buscar feriados de {year}: {e}\")\n",
    "        return []"
   ]
  },
  {
   "cell_type": "markdown",
   "metadata": {},
   "source": [
    "#### Criando coluna feriado preenchendo os registros com o nome do feriado ou dia útil à partir de uma lista de feriados obtida de uma base de dados externa"
   ]
  },
  {
   "cell_type": "code",
   "execution_count": 796,
   "metadata": {},
   "outputs": [
    {
     "data": {
      "text/plain": [
       "tipo_data\n",
       "Dia útil                    420821\n",
       "Confraternização mundial      1437\n",
       "Tiradentes                    1278\n",
       "Dia do trabalho               1272\n",
       "Proclamação da República      1262\n",
       "Nossa Senhora Aparecida       1257\n",
       "Independência do Brasil       1248\n",
       "Páscoa                        1233\n",
       "Corpus Christi                1217\n",
       "Carnaval                      1195\n",
       "Natal                         1155\n",
       "Sexta-feira Santa             1130\n",
       "Finados                       1064\n",
       "Dia da consciência negra       153\n",
       "Name: count, dtype: int64"
      ]
     },
     "execution_count": 796,
     "metadata": {},
     "output_type": "execute_result"
    }
   ],
   "source": [
    "def get_holidays_for_years(years):\n",
    "    holidays_dict = {}\n",
    "    for year in years:\n",
    "        holidays = get_holidays(year)\n",
    "        holidays_dict.update({\n",
    "            pd.to_datetime(holiday[\"date\"]).date(): holiday[\"name\"] for holiday in holidays\n",
    "        })\n",
    "\n",
    "    return holidays_dict\n",
    "\n",
    "\n",
    "df_accidents[\"tipo_data\"] = df_accidents[\"data_inversa\"].map(\n",
    "    get_holidays_for_years([\n",
    "        2018,\n",
    "        2019,\n",
    "        2020,\n",
    "        2021,\n",
    "        2022,\n",
    "        2023,\n",
    "        2024]\n",
    "    )).fillna(\"Dia útil\")\n",
    "df_accidents[\"tipo_data\"].value_counts()"
   ]
  },
  {
   "cell_type": "markdown",
   "metadata": {},
   "source": [
    "#### Verificando informações da coluna \"dia_semana\""
   ]
  },
  {
   "cell_type": "code",
   "execution_count": 797,
   "metadata": {},
   "outputs": [
    {
     "name": "stdout",
     "output_type": "stream",
     "text": [
      "<class 'pandas.core.series.Series'>\n",
      "Index: 435722 entries, 0 to 436366\n",
      "Series name: dia_semana\n",
      "Non-Null Count   Dtype \n",
      "--------------   ----- \n",
      "435722 non-null  object\n",
      "dtypes: object(1)\n",
      "memory usage: 6.6+ MB\n"
     ]
    }
   ],
   "source": [
    "df_accidents[\"dia_semana\"].info()"
   ]
  },
  {
   "cell_type": "markdown",
   "metadata": {},
   "source": [
    "#### Verificando dados estatísticos da coluna \"dia_semana\"para avaliar a necessidade de tratamento dos dados"
   ]
  },
  {
   "cell_type": "code",
   "execution_count": 798,
   "metadata": {},
   "outputs": [
    {
     "data": {
      "text/plain": [
       "count      435722\n",
       "unique          7\n",
       "top       domingo\n",
       "freq        71949\n",
       "Name: dia_semana, dtype: object"
      ]
     },
     "execution_count": 798,
     "metadata": {},
     "output_type": "execute_result"
    }
   ],
   "source": [
    "df_accidents[\"dia_semana\"].describe()"
   ]
  },
  {
   "cell_type": "markdown",
   "metadata": {},
   "source": [
    "#### Verificando a frequência dos valores da coluna \"dia_semana\" para avaliar a necessidade de tratamento dos dados"
   ]
  },
  {
   "cell_type": "code",
   "execution_count": 799,
   "metadata": {},
   "outputs": [
    {
     "data": {
      "text/plain": [
       "dia_semana\n",
       "domingo          71949\n",
       "sábado           71724\n",
       "sexta-feira      67124\n",
       "segunda-feira    59373\n",
       "quinta-feira     56613\n",
       "quarta-feira     54973\n",
       "terça-feira      53966\n",
       "Name: count, dtype: int64"
      ]
     },
     "execution_count": 799,
     "metadata": {},
     "output_type": "execute_result"
    }
   ],
   "source": [
    "df_accidents[\"dia_semana\"].value_counts()"
   ]
  },
  {
   "cell_type": "markdown",
   "metadata": {},
   "source": [
    "#### Tratamento da coluna \"dia_semana\" para corrigir codificação"
   ]
  },
  {
   "cell_type": "code",
   "execution_count": 800,
   "metadata": {},
   "outputs": [
    {
     "data": {
      "text/plain": [
       "dia_semana\n",
       "Domingo          71949\n",
       "Sábado           71724\n",
       "Sexta-feira      67124\n",
       "Segunda-feira    59373\n",
       "Quinta-feira     56613\n",
       "Quarta-feira     54973\n",
       "Terça-feira      53966\n",
       "Name: count, dtype: int64"
      ]
     },
     "execution_count": 800,
     "metadata": {},
     "output_type": "execute_result"
    }
   ],
   "source": [
    "df_accidents[\"dia_semana\"] = pd.to_datetime(\n",
    "    df_accidents[\"data_inversa\"], format='%Y/%m/%d').dt.day_of_week.map({\n",
    "        0: \"Segunda-feira\",\n",
    "        1: \"Terça-feira\",\n",
    "        2: \"Quarta-feira\",\n",
    "        3: \"Quinta-feira\",\n",
    "        4: \"Sexta-feira\",\n",
    "        5: \"Sábado\",\n",
    "        6: \"Domingo\"\n",
    "    })\n",
    "df_accidents[\"dia_semana\"].value_counts()"
   ]
  },
  {
   "cell_type": "markdown",
   "metadata": {},
   "source": [
    "#### Verificando informações da coluna \"causa_acidente\""
   ]
  },
  {
   "cell_type": "code",
   "execution_count": 956,
   "metadata": {},
   "outputs": [
    {
     "name": "stdout",
     "output_type": "stream",
     "text": [
      "<class 'pandas.core.series.Series'>\n",
      "RangeIndex: 436718 entries, 0 to 436717\n",
      "Series name: causa_acidente\n",
      "Non-Null Count   Dtype \n",
      "--------------   ----- \n",
      "436718 non-null  object\n",
      "dtypes: object(1)\n",
      "memory usage: 3.3+ MB\n"
     ]
    }
   ],
   "source": [
    "df_accidents[\"causa_acidente\"].info()"
   ]
  },
  {
   "cell_type": "markdown",
   "metadata": {},
   "source": [
    "#### Verificando dados estatísticos da coluna \"causa_acidente\"para avaliar a necessidade de tratamento dos dados"
   ]
  },
  {
   "cell_type": "code",
   "execution_count": 957,
   "metadata": {},
   "outputs": [
    {
     "data": {
      "text/plain": [
       "count                          436718\n",
       "unique                             91\n",
       "top       Falta de Atenção à Condução\n",
       "freq                            73231\n",
       "Name: causa_acidente, dtype: object"
      ]
     },
     "execution_count": 957,
     "metadata": {},
     "output_type": "execute_result"
    }
   ],
   "source": [
    "df_accidents[\"causa_acidente\"].describe()"
   ]
  },
  {
   "cell_type": "markdown",
   "metadata": {},
   "source": [
    "#### Verificando a frequência dos valores da coluna \"causa_acidente\" para avaliar a necessidade de tratamento dos dados"
   ]
  },
  {
   "cell_type": "code",
   "execution_count": 958,
   "metadata": {},
   "outputs": [
    {
     "data": {
      "text/plain": [
       "causa_acidente\n",
       "Falta de Atenção à Condução                          73231\n",
       "Velocidade Incompatível                              35819\n",
       "Reação tardia ou ineficiente do condutor             32348\n",
       "Ausência de reação do condutor                       29866\n",
       "Desobediência às normas de trânsito pelo condutor    24089\n",
       "                                                     ...  \n",
       "Redutor de velocidade em desacordo                      28\n",
       "Faróis desregulados                                     24\n",
       "Sinalização encoberta                                   16\n",
       "Obstrução Via tentativa Assalto                         10\n",
       "Sistema de drenagem ineficiente                          7\n",
       "Name: count, Length: 91, dtype: int64"
      ]
     },
     "execution_count": 958,
     "metadata": {},
     "output_type": "execute_result"
    }
   ],
   "source": [
    "df_accidents[\"causa_acidente\"].value_counts()"
   ]
  },
  {
   "cell_type": "markdown",
   "metadata": {},
   "source": [
    "#### Tratamento da coluna causa_acidente para unificar causas de acidentes similares"
   ]
  },
  {
   "cell_type": "code",
   "execution_count": 985,
   "metadata": {},
   "outputs": [
    {
     "data": {
      "text/plain": [
       "causa_acidente\n",
       "Falta de atenção à condução                        73231\n",
       "Velocidade incompatível                            35819\n",
       "Reação tardia ou ineficiente do condutor           32348\n",
       "Ingestão de álcool e/ou substâncias psicoativas    30087\n",
       "Ausência de reação do condutor                     29866\n",
       "                                                   ...  \n",
       "Redutor de velocidade em desacordo                    28\n",
       "Faróis desregulados                                   24\n",
       "Sinalização encoberta                                 16\n",
       "Obstrução via tentativa assalto                       10\n",
       "Sistema de drenagem ineficiente                        7\n",
       "Name: count, Length: 81, dtype: int64"
      ]
     },
     "execution_count": 985,
     "metadata": {},
     "output_type": "execute_result"
    }
   ],
   "source": [
    "def get_causes():\n",
    "    try:\n",
    "        with open(\"wrangling/causas_acidentes.json\", \"r\", encoding=\"utf-8\") as file:\n",
    "            return json.load(file)\n",
    "    except Exception as exception:\n",
    "        print(exception)\n",
    "        return {}\n",
    "\n",
    "\n",
    "def get_condition_to_make_changes(causes):\n",
    "    return df_accidents[\"causa_acidente\"].isin(\n",
    "        causes.keys())\n",
    "\n",
    "\n",
    "def get_value_if_match(causes):\n",
    "    return df_accidents[\"causa_acidente\"].map(\n",
    "        lambda cause: causes.get(cause, cause).capitalize())\n",
    "\n",
    "\n",
    "def get_value_if_not_match():\n",
    "    return df_accidents[\"causa_acidente\"].str.capitalize()\n",
    "\n",
    "\n",
    "causes = get_causes()\n",
    "df_accidents[\"causa_acidente\"] = np.where(\n",
    "    get_condition_to_make_changes(causes), get_value_if_match(causes), get_value_if_not_match())\n",
    "df_accidents[\"causa_acidente\"].dropna()\n",
    "df_accidents[\"causa_acidente\"].value_counts()"
   ]
  },
  {
   "cell_type": "markdown",
   "metadata": {},
   "source": [
    "#### Verificando informações da coluna \"tipo_acidente\""
   ]
  },
  {
   "cell_type": "code",
   "execution_count": 805,
   "metadata": {},
   "outputs": [
    {
     "name": "stdout",
     "output_type": "stream",
     "text": [
      "<class 'pandas.core.series.Series'>\n",
      "Index: 435722 entries, 0 to 436366\n",
      "Series name: tipo_acidente\n",
      "Non-Null Count   Dtype \n",
      "--------------   ----- \n",
      "435722 non-null  object\n",
      "dtypes: object(1)\n",
      "memory usage: 6.6+ MB\n"
     ]
    }
   ],
   "source": [
    "df_accidents[\"tipo_acidente\"].info()"
   ]
  },
  {
   "cell_type": "markdown",
   "metadata": {},
   "source": [
    "#### Verificando dados estatísticos da coluna \"tipo_acidente\"para avaliar a necessidade de tratamento dos dados"
   ]
  },
  {
   "cell_type": "code",
   "execution_count": 806,
   "metadata": {},
   "outputs": [
    {
     "data": {
      "text/plain": [
       "count               435722\n",
       "unique                  21\n",
       "top       Colisão traseira\n",
       "freq                 82185\n",
       "Name: tipo_acidente, dtype: object"
      ]
     },
     "execution_count": 806,
     "metadata": {},
     "output_type": "execute_result"
    }
   ],
   "source": [
    "df_accidents[\"tipo_acidente\"].describe()"
   ]
  },
  {
   "cell_type": "markdown",
   "metadata": {},
   "source": [
    "#### Verificando a frequência dos valores da coluna \"tipo_acidente\" para avaliar a necessidade de tratamento dos dados"
   ]
  },
  {
   "cell_type": "code",
   "execution_count": 807,
   "metadata": {},
   "outputs": [
    {
     "data": {
      "text/plain": [
       "tipo_acidente\n",
       "Colisão traseira                   82185\n",
       "Saída de leito carroçável          68602\n",
       "Colisão transversal                54785\n",
       "Tombamento                         36223\n",
       "Colisão frontal                    29421\n",
       "Colisão lateral                    24750\n",
       "Colisão lateral mesmo sentido      23486\n",
       "Atropelamento de Pedestre          20276\n",
       "Queda de ocupante de veículo       19596\n",
       "Colisão com objeto                 16950\n",
       "Colisão com objeto estático        14328\n",
       "Capotamento                        12307\n",
       "Incêndio                            8244\n",
       "Atropelamento de Animal             7562\n",
       "Engavetamento                       6780\n",
       "Colisão lateral sentido oposto      6548\n",
       "Derramamento de carga               1043\n",
       "Eventos atípicos                    1034\n",
       "Colisão com objeto em movimento      965\n",
       "Danos eventuais                      625\n",
       "Sinistro pessoal de trânsito          12\n",
       "Name: count, dtype: int64"
      ]
     },
     "execution_count": 807,
     "metadata": {},
     "output_type": "execute_result"
    }
   ],
   "source": [
    "df_accidents[\"tipo_acidente\"].value_counts()"
   ]
  },
  {
   "cell_type": "markdown",
   "metadata": {},
   "source": [
    "#### Tratamento da coluna \"tipo_acidente\" para remover os dados que são outliers"
   ]
  },
  {
   "cell_type": "code",
   "execution_count": 808,
   "metadata": {},
   "outputs": [
    {
     "data": {
      "text/plain": [
       "tipo_acidente\n",
       "Colisão traseira                   82185\n",
       "Saída de leito carroçável          68602\n",
       "Colisão transversal                54785\n",
       "Tombamento                         36223\n",
       "Colisão frontal                    29421\n",
       "Colisão lateral                    24750\n",
       "Colisão lateral mesmo sentido      23486\n",
       "Atropelamento de Pedestre          20276\n",
       "Queda de ocupante de veículo       19596\n",
       "Colisão com objeto                 16950\n",
       "Colisão com objeto estático        14328\n",
       "Capotamento                        12307\n",
       "Incêndio                            8244\n",
       "Atropelamento de Animal             7562\n",
       "Engavetamento                       6780\n",
       "Colisão lateral sentido oposto      6548\n",
       "Derramamento de carga               1043\n",
       "Eventos atípicos                    1034\n",
       "Colisão com objeto em movimento      965\n",
       "Danos eventuais                      625\n",
       "Name: count, dtype: int64"
      ]
     },
     "execution_count": 808,
     "metadata": {},
     "output_type": "execute_result"
    }
   ],
   "source": [
    "df = df_accidents.copy()\n",
    "df = df[~df[\"tipo_acidente\"].isin(\n",
    "    [\n",
    "        \"Sinistro pessoal de trânsito\"\n",
    "    ]\n",
    ")]\n",
    "df_accidents = df\n",
    "df_accidents[\"tipo_acidente\"].value_counts()"
   ]
  },
  {
   "cell_type": "markdown",
   "metadata": {},
   "source": [
    "#### Tratamento da coluna \"tipo_acidente\" para capitalizar os dados"
   ]
  },
  {
   "cell_type": "code",
   "execution_count": 809,
   "metadata": {},
   "outputs": [
    {
     "data": {
      "text/plain": [
       "tipo_acidente\n",
       "Colisão traseira             82185\n",
       "Saída de leito carroçável    68602\n",
       "Colisão transversal          54785\n",
       "Tombamento                   36223\n",
       "Colisão frontal              29421\n",
       "Name: count, dtype: int64"
      ]
     },
     "execution_count": 809,
     "metadata": {},
     "output_type": "execute_result"
    }
   ],
   "source": [
    "df_accidents[\"tipo_acidente\"] = capitalize(\n",
    "    df_accidents[\"tipo_acidente\"])\n",
    "df_accidents[\"tipo_acidente\"].value_counts().head()"
   ]
  },
  {
   "cell_type": "markdown",
   "metadata": {},
   "source": [
    "#### Tratamento da coluna \"tipo_acidente\" para unificar tipos semelhantes de colisão"
   ]
  },
  {
   "cell_type": "code",
   "execution_count": 810,
   "metadata": {},
   "outputs": [
    {
     "data": {
      "text/plain": [
       "tipo_acidente\n",
       "Colisão traseira                82185\n",
       "Saída de leito carroçável       68602\n",
       "Colisão transversal             54785\n",
       "Colisão lateral                 54784\n",
       "Tombamento                      36223\n",
       "Colisão com objeto              32243\n",
       "Colisão frontal                 29421\n",
       "Atropelamento de pedestre       20276\n",
       "Queda de ocupante de veículo    19596\n",
       "Capotamento                     12307\n",
       "Incêndio                         8244\n",
       "Atropelamento de animal          7562\n",
       "Engavetamento                    6780\n",
       "Derramamento de carga            1043\n",
       "Eventos atípicos                 1034\n",
       "Danos eventuais                   625\n",
       "Name: count, dtype: int64"
      ]
     },
     "execution_count": 810,
     "metadata": {},
     "output_type": "execute_result"
    }
   ],
   "source": [
    "df_accidents['tipo_acidente'] = df_accidents['tipo_acidente'].replace({\n",
    "    r'^Colisão lateral.*': 'Colisão lateral',\n",
    "    r'^Colisão com objeto.*': 'Colisão com objeto'\n",
    "}, regex=True)\n",
    "df_accidents['tipo_acidente'].value_counts()"
   ]
  },
  {
   "cell_type": "code",
   "execution_count": 811,
   "metadata": {},
   "outputs": [
    {
     "name": "stdout",
     "output_type": "stream",
     "text": [
      "Média 27232\n",
      "Mediana 19936\n"
     ]
    }
   ],
   "source": [
    "print(f'Média {df[\"tipo_acidente\"].value_counts().mean():.0f}')\n",
    "print(f'Mediana {df[\"tipo_acidente\"].value_counts().median():.0f}')"
   ]
  },
  {
   "cell_type": "markdown",
   "metadata": {},
   "source": [
    "#### Verificando informações da coluna \"classificacao_acidente\""
   ]
  },
  {
   "cell_type": "code",
   "execution_count": 812,
   "metadata": {},
   "outputs": [
    {
     "name": "stdout",
     "output_type": "stream",
     "text": [
      "<class 'pandas.core.series.Series'>\n",
      "Index: 435710 entries, 0 to 436366\n",
      "Series name: classificacao_acidente\n",
      "Non-Null Count   Dtype \n",
      "--------------   ----- \n",
      "435707 non-null  object\n",
      "dtypes: object(1)\n",
      "memory usage: 6.6+ MB\n"
     ]
    }
   ],
   "source": [
    "df_accidents[\"classificacao_acidente\"].info()"
   ]
  },
  {
   "cell_type": "markdown",
   "metadata": {},
   "source": [
    "#### Verificando dados estatísticos da coluna \"classificacao_acidente\" para avaliar a necessidade de tratamento dos dados"
   ]
  },
  {
   "cell_type": "code",
   "execution_count": 813,
   "metadata": {},
   "outputs": [
    {
     "data": {
      "text/plain": [
       "count                  435707\n",
       "unique                      3\n",
       "top       Com Vítimas Feridas\n",
       "freq                   327461\n",
       "Name: classificacao_acidente, dtype: object"
      ]
     },
     "execution_count": 813,
     "metadata": {},
     "output_type": "execute_result"
    }
   ],
   "source": [
    "df_accidents[\"classificacao_acidente\"].describe()"
   ]
  },
  {
   "cell_type": "markdown",
   "metadata": {},
   "source": [
    "#### Verificando a frequência dos valores da coluna \"classificacao_acidente\" para avaliar a necessidade de tratamento dos dados"
   ]
  },
  {
   "cell_type": "code",
   "execution_count": 814,
   "metadata": {},
   "outputs": [
    {
     "data": {
      "text/plain": [
       "classificacao_acidente\n",
       "Com Vítimas Feridas    327461\n",
       "Sem Vítimas             77728\n",
       "Com Vítimas Fatais      30518\n",
       "Name: count, dtype: int64"
      ]
     },
     "execution_count": 814,
     "metadata": {},
     "output_type": "execute_result"
    }
   ],
   "source": [
    "df_accidents[\"classificacao_acidente\"].value_counts()"
   ]
  },
  {
   "cell_type": "markdown",
   "metadata": {},
   "source": [
    "#### Tratamento da coluna \"classificacao_acidente\" para definir dados faltantes como \"Sem classificação\""
   ]
  },
  {
   "cell_type": "code",
   "execution_count": null,
   "metadata": {},
   "outputs": [
    {
     "data": {
      "text/plain": [
       "classificacao_acidente\n",
       "Com vítimas feridas    327461\n",
       "Sem vítimas             77728\n",
       "Com vítimas fatais      30518\n",
       "Name: count, dtype: int64"
      ]
     },
     "execution_count": 815,
     "metadata": {},
     "output_type": "execute_result"
    }
   ],
   "source": [
    "df_accidents.drop(\n",
    "    df_accidents[df_accidents['classificacao_acidente'].isna()].index, inplace=True)\n",
    "\n",
    "df_accidents[\"classificacao_acidente\"] = capitalize(\n",
    "    df_accidents[\"classificacao_acidente\"])\n",
    "df_accidents[\"classificacao_acidente\"].value_counts()"
   ]
  },
  {
   "cell_type": "markdown",
   "metadata": {},
   "source": [
    "#### Acidentes com feridos e sem mortos e sem ilesos"
   ]
  },
  {
   "cell_type": "code",
   "execution_count": 951,
   "metadata": {},
   "outputs": [
    {
     "name": "stdout",
     "output_type": "stream",
     "text": [
      "Somente feridos (140617, 21)\n"
     ]
    }
   ],
   "source": [
    "df = df_accidents.copy()\n",
    "df = df_accidents[(df_accidents[\"feridos\"] != 0) & (df_accidents[\"ilesos\"] == 0) & (df_accidents[\"mortos\"] == 0)]\n",
    "print(f'Somente feridos {df.shape}')"
   ]
  },
  {
   "cell_type": "markdown",
   "metadata": {},
   "source": [
    "#### Acidentes com mortos e sem feridos e sem ilesos"
   ]
  },
  {
   "cell_type": "code",
   "execution_count": 950,
   "metadata": {},
   "outputs": [
    {
     "name": "stdout",
     "output_type": "stream",
     "text": [
      "Somente mortos (7461, 21)\n"
     ]
    }
   ],
   "source": [
    "df = df_accidents.copy()\n",
    "df = df_accidents[(df_accidents[\"mortos\"] != 0) & (df_accidents[\"feridos\"] == 0) & (df_accidents[\"ilesos\"] == 0)]\n",
    "print(f'Somente mortos {df.shape}')"
   ]
  },
  {
   "cell_type": "markdown",
   "metadata": {},
   "source": [
    "#### Acidentes com mortos e com feridos e sem ilesos"
   ]
  },
  {
   "cell_type": "code",
   "execution_count": 949,
   "metadata": {},
   "outputs": [
    {
     "name": "stdout",
     "output_type": "stream",
     "text": [
      "Somente mortos e feridos (6634, 21)\n"
     ]
    }
   ],
   "source": [
    "df = df_accidents.copy()\n",
    "df = df_accidents[(df_accidents[\"mortos\"] != 0) & (df_accidents[\"feridos\"] != 0) & (df_accidents[\"ilesos\"] == 0)]\n",
    "print(f'Somente mortos e feridos {df.shape}')"
   ]
  },
  {
   "cell_type": "code",
   "execution_count": 952,
   "metadata": {},
   "outputs": [
    {
     "name": "stdout",
     "output_type": "stream",
     "text": [
      "Somente ilesos (69860, 21)\n"
     ]
    }
   ],
   "source": [
    "df = df_accidents.copy()\n",
    "df = df_accidents[(df_accidents[\"ilesos\"] != 0) & (df_accidents[\"feridos\"] == 0) & (df_accidents[\"mortos\"] == 0)]\n",
    "print(f'Somente ilesos {df.shape}')"
   ]
  },
  {
   "cell_type": "markdown",
   "metadata": {},
   "source": [
    "#### Acidentes com ilesos e com feridos e sem mortos"
   ]
  },
  {
   "cell_type": "code",
   "execution_count": 953,
   "metadata": {},
   "outputs": [
    {
     "name": "stdout",
     "output_type": "stream",
     "text": [
      "Somente ilesos (187260, 21)\n"
     ]
    }
   ],
   "source": [
    "df = df_accidents.copy()\n",
    "df = df_accidents[(df_accidents[\"ilesos\"] != 0) & (df_accidents[\"feridos\"] != 0) & (df_accidents[\"mortos\"] == 0)]\n",
    "print(f'Somente ilesos {df.shape}')"
   ]
  },
  {
   "cell_type": "markdown",
   "metadata": {},
   "source": [
    "#### Acidentes com ilesos e com mortos e sem feridos"
   ]
  },
  {
   "cell_type": "code",
   "execution_count": 954,
   "metadata": {},
   "outputs": [
    {
     "name": "stdout",
     "output_type": "stream",
     "text": [
      "Somente ilesos (11663, 21)\n"
     ]
    }
   ],
   "source": [
    "df = df_accidents.copy()\n",
    "df = df_accidents[(df_accidents[\"ilesos\"] != 0) & (df_accidents[\"feridos\"] == 0) & (df_accidents[\"mortos\"] != 0)]\n",
    "print(f'Somente ilesos {df.shape}')"
   ]
  },
  {
   "cell_type": "markdown",
   "metadata": {},
   "source": [
    "#### Acidentes com ilesos e com feridos e com mortos"
   ]
  },
  {
   "cell_type": "code",
   "execution_count": 955,
   "metadata": {},
   "outputs": [
    {
     "name": "stdout",
     "output_type": "stream",
     "text": [
      "Somente ilesos (4782, 21)\n"
     ]
    }
   ],
   "source": [
    "df = df_accidents.copy()\n",
    "df = df_accidents[(df_accidents[\"ilesos\"] != 0) & (df_accidents[\"feridos\"] != 0) & (df_accidents[\"mortos\"] != 0)]\n",
    "print(f'Somente ilesos {df.shape}')"
   ]
  },
  {
   "cell_type": "markdown",
   "metadata": {},
   "source": [
    "#### Verificando informações da coluna \"fase_dia\""
   ]
  },
  {
   "cell_type": "code",
   "execution_count": 818,
   "metadata": {},
   "outputs": [
    {
     "name": "stdout",
     "output_type": "stream",
     "text": [
      "<class 'pandas.core.series.Series'>\n",
      "Index: 435707 entries, 0 to 436366\n",
      "Series name: fase_dia\n",
      "Non-Null Count   Dtype \n",
      "--------------   ----- \n",
      "435707 non-null  object\n",
      "dtypes: object(1)\n",
      "memory usage: 6.6+ MB\n"
     ]
    }
   ],
   "source": [
    "df_accidents[\"fase_dia\"].info()"
   ]
  },
  {
   "cell_type": "markdown",
   "metadata": {},
   "source": [
    "#### Verificando dados estatísticos da coluna \"fase_dia\" para avaliar a necessidade de tratamento dos dados"
   ]
  },
  {
   "cell_type": "code",
   "execution_count": 819,
   "metadata": {},
   "outputs": [
    {
     "data": {
      "text/plain": [
       "count        435707\n",
       "unique            4\n",
       "top       Pleno dia\n",
       "freq         238334\n",
       "Name: fase_dia, dtype: object"
      ]
     },
     "execution_count": 819,
     "metadata": {},
     "output_type": "execute_result"
    }
   ],
   "source": [
    "df_accidents[\"fase_dia\"].describe()"
   ]
  },
  {
   "cell_type": "markdown",
   "metadata": {},
   "source": [
    "#### Verificando a frequência dos valores da coluna \"fase_dia\" para avaliar a necessidade de tratamento dos dados"
   ]
  },
  {
   "cell_type": "code",
   "execution_count": 820,
   "metadata": {},
   "outputs": [
    {
     "data": {
      "text/plain": [
       "fase_dia\n",
       "Pleno dia      238334\n",
       "Plena Noite    152333\n",
       "Anoitecer       24018\n",
       "Amanhecer       21022\n",
       "Name: count, dtype: int64"
      ]
     },
     "execution_count": 820,
     "metadata": {},
     "output_type": "execute_result"
    }
   ],
   "source": [
    "df_accidents[\"fase_dia\"].value_counts()"
   ]
  },
  {
   "cell_type": "markdown",
   "metadata": {},
   "source": [
    "#### Tratamento da coluna \"fase_dia\" para capitalizar os dados"
   ]
  },
  {
   "cell_type": "code",
   "execution_count": 821,
   "metadata": {},
   "outputs": [
    {
     "data": {
      "text/plain": [
       "fase_dia\n",
       "12h às 18h (tarde)        133607\n",
       "18h às 00h (noite)        126190\n",
       "06h às 12h (manhã)        121226\n",
       "00h às 06h (madrugada)     54684\n",
       "Name: count, dtype: int64"
      ]
     },
     "execution_count": 821,
     "metadata": {},
     "output_type": "execute_result"
    }
   ],
   "source": [
    "periods = {\n",
    "    \"00h às 06h (madrugada)\": (0, 5),\n",
    "    \"06h às 12h (manhã)\": (6, 11),\n",
    "    \"12h às 18h (tarde)\": (12, 17),\n",
    "    \"18h às 00h (noite)\": (18, 23)\n",
    "}\n",
    "\n",
    "\n",
    "def group_by_hour(df):\n",
    "    return df[df[\"horario\"].notna()][\"horario\"]\n",
    "\n",
    "\n",
    "def to_datetime(df):\n",
    "    return pd.to_datetime(df, format=\"%H:%M:%S\").dt.hour\n",
    "\n",
    "\n",
    "df = group_by_hour(df_accidents)\n",
    "df = to_datetime(df)\n",
    "df_accidents[\"fase_dia\"] = df.apply(\n",
    "    lambda hour: next(period for period, (start, end)\n",
    "                      in periods.items() if start <= hour <= end)\n",
    ")\n",
    "df = df_accidents[\"fase_dia\"].value_counts()\n",
    "df.head()"
   ]
  },
  {
   "cell_type": "markdown",
   "metadata": {},
   "source": [
    "#### Verificando informações da coluna \"condicao_metereologica\""
   ]
  },
  {
   "cell_type": "code",
   "execution_count": 822,
   "metadata": {},
   "outputs": [
    {
     "name": "stdout",
     "output_type": "stream",
     "text": [
      "<class 'pandas.core.series.Series'>\n",
      "Index: 435707 entries, 0 to 436366\n",
      "Series name: condicao_metereologica\n",
      "Non-Null Count   Dtype \n",
      "--------------   ----- \n",
      "435707 non-null  object\n",
      "dtypes: object(1)\n",
      "memory usage: 6.6+ MB\n"
     ]
    }
   ],
   "source": [
    "df_accidents[\"condicao_metereologica\"].info()"
   ]
  },
  {
   "cell_type": "markdown",
   "metadata": {},
   "source": [
    "#### Verificando dados estatísticos da coluna \"condicao_metereologica\" para avaliar a necessidade de tratamento dos dados"
   ]
  },
  {
   "cell_type": "code",
   "execution_count": 823,
   "metadata": {},
   "outputs": [
    {
     "data": {
      "text/plain": [
       "count        435707\n",
       "unique           10\n",
       "top       Céu Claro\n",
       "freq         262210\n",
       "Name: condicao_metereologica, dtype: object"
      ]
     },
     "execution_count": 823,
     "metadata": {},
     "output_type": "execute_result"
    }
   ],
   "source": [
    "df_accidents[\"condicao_metereologica\"].describe()"
   ]
  },
  {
   "cell_type": "markdown",
   "metadata": {},
   "source": [
    "#### Verificando a frequência dos valores da coluna \"condicao_metereologica\" para avaliar a necessidade de tratamento dos dados"
   ]
  },
  {
   "cell_type": "code",
   "execution_count": 824,
   "metadata": {},
   "outputs": [
    {
     "data": {
      "text/plain": [
       "condicao_metereologica\n",
       "Céu Claro           262210\n",
       "Nublado              71610\n",
       "Chuva                47200\n",
       "Sol                  29043\n",
       "Garoa/Chuvisco       15254\n",
       "Ignorado              5876\n",
       "Nevoeiro/Neblina      3666\n",
       "Vento                  824\n",
       "Granizo                 17\n",
       "Neve                     7\n",
       "Name: count, dtype: int64"
      ]
     },
     "execution_count": 824,
     "metadata": {},
     "output_type": "execute_result"
    }
   ],
   "source": [
    "df_accidents[\"condicao_metereologica\"].value_counts()"
   ]
  },
  {
   "cell_type": "markdown",
   "metadata": {},
   "source": [
    "#### Tratamento da coluna \"condicao_metereologica\" para remover valor \"Ignorado\""
   ]
  },
  {
   "cell_type": "code",
   "execution_count": 825,
   "metadata": {},
   "outputs": [
    {
     "data": {
      "text/plain": [
       "condicao_metereologica\n",
       "Céu Claro           262210\n",
       "Nublado              71610\n",
       "Chuva                47200\n",
       "Sol                  29043\n",
       "Garoa/Chuvisco       15254\n",
       "Nevoeiro/Neblina      3666\n",
       "Vento                  824\n",
       "Granizo                 17\n",
       "Neve                     7\n",
       "Name: count, dtype: int64"
      ]
     },
     "execution_count": 825,
     "metadata": {},
     "output_type": "execute_result"
    }
   ],
   "source": [
    "def get_condition():\n",
    "    return df_accidents[df_accidents['condicao_metereologica'] == \"Ignorado\"]\n",
    "\n",
    "\n",
    "df_accidents.drop(get_condition().index, inplace=True)\n",
    "df_accidents[\"condicao_metereologica\"].value_counts()"
   ]
  },
  {
   "cell_type": "markdown",
   "metadata": {},
   "source": [
    "#### Removendo condições meteorológicas não representativas"
   ]
  },
  {
   "cell_type": "code",
   "execution_count": 826,
   "metadata": {},
   "outputs": [
    {
     "data": {
      "text/plain": [
       "condicao_metereologica\n",
       "Céu Claro           262210\n",
       "Nublado              71610\n",
       "Chuva                47200\n",
       "Sol                  29043\n",
       "Garoa/Chuvisco       15254\n",
       "Nevoeiro/Neblina      3666\n",
       "Vento                  824\n",
       "Name: count, dtype: int64"
      ]
     },
     "execution_count": 826,
     "metadata": {},
     "output_type": "execute_result"
    }
   ],
   "source": [
    "df = df_accidents.copy()\n",
    "df = df[~df[\"condicao_metereologica\"].isin(\n",
    "    [\n",
    "        \"Granizo\",\n",
    "        \"Neve\"\n",
    "    ]\n",
    ")]\n",
    "df_accidents = df\n",
    "df_accidents[\"condicao_metereologica\"].value_counts()"
   ]
  },
  {
   "cell_type": "markdown",
   "metadata": {},
   "source": [
    "#### Verificando informações da coluna \"uso_solo\""
   ]
  },
  {
   "cell_type": "code",
   "execution_count": 827,
   "metadata": {},
   "outputs": [
    {
     "name": "stdout",
     "output_type": "stream",
     "text": [
      "<class 'pandas.core.series.Series'>\n",
      "Index: 429807 entries, 0 to 436366\n",
      "Series name: uso_solo\n",
      "Non-Null Count   Dtype \n",
      "--------------   ----- \n",
      "429807 non-null  object\n",
      "dtypes: object(1)\n",
      "memory usage: 6.6+ MB\n"
     ]
    }
   ],
   "source": [
    "df_accidents[\"uso_solo\"].info()"
   ]
  },
  {
   "cell_type": "markdown",
   "metadata": {},
   "source": [
    "#### Verificando dados estatísticos da coluna \"uso_solo\" para avaliar a necessidade de tratamento dos dados"
   ]
  },
  {
   "cell_type": "code",
   "execution_count": 828,
   "metadata": {},
   "outputs": [
    {
     "data": {
      "text/plain": [
       "count     429807\n",
       "unique         2\n",
       "top          Não\n",
       "freq      241812\n",
       "Name: uso_solo, dtype: object"
      ]
     },
     "execution_count": 828,
     "metadata": {},
     "output_type": "execute_result"
    }
   ],
   "source": [
    "df_accidents[\"uso_solo\"].describe()"
   ]
  },
  {
   "cell_type": "markdown",
   "metadata": {},
   "source": [
    "#### Verificando a frequência dos valores da coluna \"uso_solo\" para avaliar a necessidade de tratamento dos dados"
   ]
  },
  {
   "cell_type": "code",
   "execution_count": 829,
   "metadata": {},
   "outputs": [
    {
     "data": {
      "text/plain": [
       "uso_solo\n",
       "Não    241812\n",
       "Sim    187995\n",
       "Name: count, dtype: int64"
      ]
     },
     "execution_count": 829,
     "metadata": {},
     "output_type": "execute_result"
    }
   ],
   "source": [
    "df_accidents[\"uso_solo\"].value_counts()"
   ]
  },
  {
   "cell_type": "markdown",
   "metadata": {},
   "source": [
    "#### Tratamento da coluna \"uso_solo\" para alterar para \"Urbano\" quando \"Sim\" e \"Rural\" quando \"Não\""
   ]
  },
  {
   "cell_type": "code",
   "execution_count": 830,
   "metadata": {},
   "outputs": [
    {
     "data": {
      "text/plain": [
       "uso_solo\n",
       "Rural     241812\n",
       "Urbano    187995\n",
       "Name: count, dtype: int64"
      ]
     },
     "execution_count": 830,
     "metadata": {},
     "output_type": "execute_result"
    }
   ],
   "source": [
    "df_accidents[\"uso_solo\"] = np.where(\n",
    "    df_accidents[\"uso_solo\"] == \"Sim\", \"Urbano\", \"Rural\")\n",
    "\n",
    "df_accidents[\"uso_solo\"].value_counts().head()"
   ]
  },
  {
   "cell_type": "markdown",
   "metadata": {},
   "source": [
    "#### Verificando informações da coluna \"tipo_pista\""
   ]
  },
  {
   "cell_type": "code",
   "execution_count": 831,
   "metadata": {},
   "outputs": [
    {
     "name": "stdout",
     "output_type": "stream",
     "text": [
      "<class 'pandas.core.series.Series'>\n",
      "Index: 429807 entries, 0 to 436366\n",
      "Series name: tipo_pista\n",
      "Non-Null Count   Dtype \n",
      "--------------   ----- \n",
      "429807 non-null  object\n",
      "dtypes: object(1)\n",
      "memory usage: 6.6+ MB\n"
     ]
    }
   ],
   "source": [
    "df_accidents[\"tipo_pista\"].info()"
   ]
  },
  {
   "cell_type": "markdown",
   "metadata": {},
   "source": [
    "#### Verificando dados estatísticos da coluna \"tipo_pista\" para avaliar a necessidade de tratamento dos dados"
   ]
  },
  {
   "cell_type": "code",
   "execution_count": 832,
   "metadata": {},
   "outputs": [
    {
     "data": {
      "text/plain": [
       "count      429807\n",
       "unique          3\n",
       "top       Simples\n",
       "freq       213830\n",
       "Name: tipo_pista, dtype: object"
      ]
     },
     "execution_count": 832,
     "metadata": {},
     "output_type": "execute_result"
    }
   ],
   "source": [
    "df_accidents[\"tipo_pista\"].describe()"
   ]
  },
  {
   "cell_type": "markdown",
   "metadata": {},
   "source": [
    "#### Verificando a frequência dos valores da coluna \"tipo_pista\" para avaliar a necessidade de tratamento dos dados"
   ]
  },
  {
   "cell_type": "code",
   "execution_count": 833,
   "metadata": {},
   "outputs": [
    {
     "data": {
      "text/plain": [
       "tipo_pista\n",
       "Simples     213830\n",
       "Dupla       178428\n",
       "Múltipla     37549\n",
       "Name: count, dtype: int64"
      ]
     },
     "execution_count": 833,
     "metadata": {},
     "output_type": "execute_result"
    }
   ],
   "source": [
    "df_accidents[\"tipo_pista\"].value_counts()"
   ]
  },
  {
   "cell_type": "markdown",
   "metadata": {},
   "source": [
    "#### Verificando informações da coluna \"sentido_via\""
   ]
  },
  {
   "cell_type": "code",
   "execution_count": 834,
   "metadata": {},
   "outputs": [
    {
     "name": "stdout",
     "output_type": "stream",
     "text": [
      "<class 'pandas.core.series.Series'>\n",
      "Index: 429807 entries, 0 to 436366\n",
      "Series name: sentido_via\n",
      "Non-Null Count   Dtype \n",
      "--------------   ----- \n",
      "429807 non-null  object\n",
      "dtypes: object(1)\n",
      "memory usage: 6.6+ MB\n"
     ]
    }
   ],
   "source": [
    "df_accidents[\"sentido_via\"].info()"
   ]
  },
  {
   "cell_type": "markdown",
   "metadata": {},
   "source": [
    "#### Verificando dados estatísticos da coluna \"sentido_via\" para avaliar a necessidade de tratamento dos dados"
   ]
  },
  {
   "cell_type": "code",
   "execution_count": 835,
   "metadata": {},
   "outputs": [
    {
     "data": {
      "text/plain": [
       "count        429807\n",
       "unique            2\n",
       "top       Crescente\n",
       "freq         230458\n",
       "Name: sentido_via, dtype: object"
      ]
     },
     "execution_count": 835,
     "metadata": {},
     "output_type": "execute_result"
    }
   ],
   "source": [
    "df_accidents[\"sentido_via\"].describe()"
   ]
  },
  {
   "cell_type": "markdown",
   "metadata": {},
   "source": [
    "#### Verificando a frequência dos valores da coluna \"sentido_via\" para avaliar a necessidade de tratamento dos dados"
   ]
  },
  {
   "cell_type": "code",
   "execution_count": 836,
   "metadata": {},
   "outputs": [
    {
     "data": {
      "text/plain": [
       "sentido_via\n",
       "Crescente      230458\n",
       "Decrescente    199349\n",
       "Name: count, dtype: int64"
      ]
     },
     "execution_count": 836,
     "metadata": {},
     "output_type": "execute_result"
    }
   ],
   "source": [
    "df_accidents[\"sentido_via\"].value_counts()"
   ]
  },
  {
   "cell_type": "markdown",
   "metadata": {},
   "source": [
    "#### Tratamento da coluna \"sentido_via\" para remover dados com valor \"Não Informado\""
   ]
  },
  {
   "cell_type": "code",
   "execution_count": 837,
   "metadata": {},
   "outputs": [
    {
     "data": {
      "text/plain": [
       "sentido_via\n",
       "Crescente      230458\n",
       "Decrescente    199349\n",
       "Name: count, dtype: int64"
      ]
     },
     "execution_count": 837,
     "metadata": {},
     "output_type": "execute_result"
    }
   ],
   "source": [
    "def get_condition():\n",
    "    return df_accidents[df_accidents['sentido_via'] == \"Não Informado\"]\n",
    "\n",
    "\n",
    "df_accidents.drop(get_condition().index, inplace=True)\n",
    "df_accidents[\"sentido_via\"].value_counts()"
   ]
  },
  {
   "cell_type": "markdown",
   "metadata": {},
   "source": [
    "#### Verificando informações da coluna \"tracado_via\""
   ]
  },
  {
   "cell_type": "code",
   "execution_count": 838,
   "metadata": {},
   "outputs": [
    {
     "name": "stdout",
     "output_type": "stream",
     "text": [
      "<class 'pandas.core.series.Series'>\n",
      "Index: 429807 entries, 0 to 436366\n",
      "Series name: tracado_via\n",
      "Non-Null Count   Dtype \n",
      "--------------   ----- \n",
      "429807 non-null  object\n",
      "dtypes: object(1)\n",
      "memory usage: 6.6+ MB\n"
     ]
    }
   ],
   "source": [
    "df_accidents[\"tracado_via\"].info()"
   ]
  },
  {
   "cell_type": "markdown",
   "metadata": {},
   "source": [
    "#### Verificando dados estatísticos da coluna \"tracado_via\" para avaliar a necessidade de tratamento dos dados"
   ]
  },
  {
   "cell_type": "code",
   "execution_count": 839,
   "metadata": {},
   "outputs": [
    {
     "data": {
      "text/plain": [
       "count     429807\n",
       "unique       969\n",
       "top         Reta\n",
       "freq      253857\n",
       "Name: tracado_via, dtype: object"
      ]
     },
     "execution_count": 839,
     "metadata": {},
     "output_type": "execute_result"
    }
   ],
   "source": [
    "df_accidents[\"tracado_via\"].describe()"
   ]
  },
  {
   "cell_type": "markdown",
   "metadata": {},
   "source": [
    "#### Verificando a frequência dos valores da coluna \"tracado_via\" para avaliar a necessidade de tratamento dos dados"
   ]
  },
  {
   "cell_type": "code",
   "execution_count": 840,
   "metadata": {},
   "outputs": [
    {
     "data": {
      "text/html": [
       "<div>\n",
       "<style scoped>\n",
       "    .dataframe tbody tr th:only-of-type {\n",
       "        vertical-align: middle;\n",
       "    }\n",
       "\n",
       "    .dataframe tbody tr th {\n",
       "        vertical-align: top;\n",
       "    }\n",
       "\n",
       "    .dataframe thead th {\n",
       "        text-align: right;\n",
       "    }\n",
       "</style>\n",
       "<table border=\"1\" class=\"dataframe\">\n",
       "  <thead>\n",
       "    <tr style=\"text-align: right;\">\n",
       "      <th></th>\n",
       "      <th>tracado_via</th>\n",
       "      <th>count</th>\n",
       "    </tr>\n",
       "  </thead>\n",
       "  <tbody>\n",
       "    <tr>\n",
       "      <th>0</th>\n",
       "      <td>Reta</td>\n",
       "      <td>253857</td>\n",
       "    </tr>\n",
       "    <tr>\n",
       "      <th>1</th>\n",
       "      <td>Curva</td>\n",
       "      <td>61752</td>\n",
       "    </tr>\n",
       "    <tr>\n",
       "      <th>2</th>\n",
       "      <td>Não Informado</td>\n",
       "      <td>25192</td>\n",
       "    </tr>\n",
       "    <tr>\n",
       "      <th>3</th>\n",
       "      <td>Interseção de vias</td>\n",
       "      <td>10542</td>\n",
       "    </tr>\n",
       "    <tr>\n",
       "      <th>4</th>\n",
       "      <td>Rotatória</td>\n",
       "      <td>7719</td>\n",
       "    </tr>\n",
       "    <tr>\n",
       "      <th>...</th>\n",
       "      <td>...</td>\n",
       "      <td>...</td>\n",
       "    </tr>\n",
       "    <tr>\n",
       "      <th>964</th>\n",
       "      <td>Viaduto;Declive;Em Obras</td>\n",
       "      <td>1</td>\n",
       "    </tr>\n",
       "    <tr>\n",
       "      <th>965</th>\n",
       "      <td>Interseção de Vias;Aclive;Reta;Retorno Regulam...</td>\n",
       "      <td>1</td>\n",
       "    </tr>\n",
       "    <tr>\n",
       "      <th>966</th>\n",
       "      <td>Curva;Ponte;Interseção de Vias;Aclive;Em Obras...</td>\n",
       "      <td>1</td>\n",
       "    </tr>\n",
       "    <tr>\n",
       "      <th>967</th>\n",
       "      <td>Curva;Túnel;Viaduto</td>\n",
       "      <td>1</td>\n",
       "    </tr>\n",
       "    <tr>\n",
       "      <th>968</th>\n",
       "      <td>Retorno Regulamentado;Curva;Interseção de Vias...</td>\n",
       "      <td>1</td>\n",
       "    </tr>\n",
       "  </tbody>\n",
       "</table>\n",
       "<p>969 rows × 2 columns</p>\n",
       "</div>"
      ],
      "text/plain": [
       "                                           tracado_via   count\n",
       "0                                                 Reta  253857\n",
       "1                                                Curva   61752\n",
       "2                                        Não Informado   25192\n",
       "3                                   Interseção de vias   10542\n",
       "4                                            Rotatória    7719\n",
       "..                                                 ...     ...\n",
       "964                           Viaduto;Declive;Em Obras       1\n",
       "965  Interseção de Vias;Aclive;Reta;Retorno Regulam...       1\n",
       "966  Curva;Ponte;Interseção de Vias;Aclive;Em Obras...       1\n",
       "967                                Curva;Túnel;Viaduto       1\n",
       "968  Retorno Regulamentado;Curva;Interseção de Vias...       1\n",
       "\n",
       "[969 rows x 2 columns]"
      ]
     },
     "execution_count": 840,
     "metadata": {},
     "output_type": "execute_result"
    }
   ],
   "source": [
    "tracado_via = df_accidents[\"tracado_via\"].value_counts().reset_index()\n",
    "tracado_via"
   ]
  },
  {
   "cell_type": "markdown",
   "metadata": {},
   "source": [
    "#### Exportando os traçados de via encontrados (973) para um arquivo para analisar como fazer o tratamento"
   ]
  },
  {
   "cell_type": "code",
   "execution_count": 841,
   "metadata": {},
   "outputs": [],
   "source": [
    "tracado_via.index.to_frame(\n",
    "    name=\"tracado_via\").to_csv(\"wrangling/tracado_via.csv\", index=False)"
   ]
  },
  {
   "cell_type": "markdown",
   "metadata": {},
   "source": [
    "#### Removendo a coluna tracado_via, pois seus dados estão muito complexos para serem agrupados. Em alguns casos existem dados com Ponte;Reta e Reta;Ponte. Dessa forma, não é possível saber qual o valor correto. A remoção desta coluna não deve influenciar nas análises posteriores"
   ]
  },
  {
   "cell_type": "code",
   "execution_count": 842,
   "metadata": {},
   "outputs": [
    {
     "data": {
      "text/html": [
       "<div>\n",
       "<style scoped>\n",
       "    .dataframe tbody tr th:only-of-type {\n",
       "        vertical-align: middle;\n",
       "    }\n",
       "\n",
       "    .dataframe tbody tr th {\n",
       "        vertical-align: top;\n",
       "    }\n",
       "\n",
       "    .dataframe thead th {\n",
       "        text-align: right;\n",
       "    }\n",
       "</style>\n",
       "<table border=\"1\" class=\"dataframe\">\n",
       "  <thead>\n",
       "    <tr style=\"text-align: right;\">\n",
       "      <th></th>\n",
       "      <th>id</th>\n",
       "      <th>data_inversa</th>\n",
       "      <th>dia_semana</th>\n",
       "      <th>horario</th>\n",
       "      <th>uf</th>\n",
       "      <th>br</th>\n",
       "      <th>km</th>\n",
       "      <th>causa_acidente</th>\n",
       "      <th>tipo_acidente</th>\n",
       "      <th>classificacao_acidente</th>\n",
       "      <th>...</th>\n",
       "      <th>condicao_metereologica</th>\n",
       "      <th>tipo_pista</th>\n",
       "      <th>uso_solo</th>\n",
       "      <th>pessoas</th>\n",
       "      <th>mortos</th>\n",
       "      <th>ilesos</th>\n",
       "      <th>feridos</th>\n",
       "      <th>veiculos</th>\n",
       "      <th>mes_ano</th>\n",
       "      <th>tipo_data</th>\n",
       "    </tr>\n",
       "  </thead>\n",
       "  <tbody>\n",
       "    <tr>\n",
       "      <th>0</th>\n",
       "      <td>99973.0</td>\n",
       "      <td>2018-01-01</td>\n",
       "      <td>Segunda-feira</td>\n",
       "      <td>00:20:00</td>\n",
       "      <td>RJ</td>\n",
       "      <td>116.0</td>\n",
       "      <td>303,5</td>\n",
       "      <td>Condutor dormindo</td>\n",
       "      <td>Saída de leito carroçável</td>\n",
       "      <td>Com vítimas feridas</td>\n",
       "      <td>...</td>\n",
       "      <td>Nublado</td>\n",
       "      <td>Múltipla</td>\n",
       "      <td>Urbano</td>\n",
       "      <td>5</td>\n",
       "      <td>0</td>\n",
       "      <td>1</td>\n",
       "      <td>4</td>\n",
       "      <td>1</td>\n",
       "      <td>2018-01</td>\n",
       "      <td>Confraternização mundial</td>\n",
       "    </tr>\n",
       "    <tr>\n",
       "      <th>141</th>\n",
       "      <td>100138.0</td>\n",
       "      <td>2018-01-01</td>\n",
       "      <td>Segunda-feira</td>\n",
       "      <td>16:32:00</td>\n",
       "      <td>RO</td>\n",
       "      <td>364.0</td>\n",
       "      <td>228,1</td>\n",
       "      <td>Falta de atenção à condução</td>\n",
       "      <td>Colisão traseira</td>\n",
       "      <td>Sem vítimas</td>\n",
       "      <td>...</td>\n",
       "      <td>Nublado</td>\n",
       "      <td>Simples</td>\n",
       "      <td>Rural</td>\n",
       "      <td>2</td>\n",
       "      <td>0</td>\n",
       "      <td>1</td>\n",
       "      <td>0</td>\n",
       "      <td>2</td>\n",
       "      <td>2018-01</td>\n",
       "      <td>Confraternização mundial</td>\n",
       "    </tr>\n",
       "    <tr>\n",
       "      <th>142</th>\n",
       "      <td>100139.0</td>\n",
       "      <td>2018-01-01</td>\n",
       "      <td>Segunda-feira</td>\n",
       "      <td>18:20:00</td>\n",
       "      <td>RS</td>\n",
       "      <td>392.0</td>\n",
       "      <td>83</td>\n",
       "      <td>Condutor deixou de manter distância do veículo...</td>\n",
       "      <td>Engavetamento</td>\n",
       "      <td>Sem vítimas</td>\n",
       "      <td>...</td>\n",
       "      <td>Céu Claro</td>\n",
       "      <td>Simples</td>\n",
       "      <td>Rural</td>\n",
       "      <td>3</td>\n",
       "      <td>0</td>\n",
       "      <td>2</td>\n",
       "      <td>0</td>\n",
       "      <td>3</td>\n",
       "      <td>2018-01</td>\n",
       "      <td>Confraternização mundial</td>\n",
       "    </tr>\n",
       "    <tr>\n",
       "      <th>143</th>\n",
       "      <td>100140.0</td>\n",
       "      <td>2018-01-01</td>\n",
       "      <td>Segunda-feira</td>\n",
       "      <td>18:20:00</td>\n",
       "      <td>SC</td>\n",
       "      <td>101.0</td>\n",
       "      <td>82,8</td>\n",
       "      <td>Falta de atenção à condução</td>\n",
       "      <td>Colisão lateral</td>\n",
       "      <td>Com vítimas feridas</td>\n",
       "      <td>...</td>\n",
       "      <td>Céu Claro</td>\n",
       "      <td>Dupla</td>\n",
       "      <td>Rural</td>\n",
       "      <td>5</td>\n",
       "      <td>0</td>\n",
       "      <td>2</td>\n",
       "      <td>2</td>\n",
       "      <td>2</td>\n",
       "      <td>2018-01</td>\n",
       "      <td>Confraternização mundial</td>\n",
       "    </tr>\n",
       "    <tr>\n",
       "      <th>144</th>\n",
       "      <td>100141.0</td>\n",
       "      <td>2018-01-01</td>\n",
       "      <td>Segunda-feira</td>\n",
       "      <td>17:35:00</td>\n",
       "      <td>PB</td>\n",
       "      <td>230.0</td>\n",
       "      <td>28</td>\n",
       "      <td>Falta de atenção à condução</td>\n",
       "      <td>Colisão traseira</td>\n",
       "      <td>Com vítimas feridas</td>\n",
       "      <td>...</td>\n",
       "      <td>Céu Claro</td>\n",
       "      <td>Dupla</td>\n",
       "      <td>Urbano</td>\n",
       "      <td>3</td>\n",
       "      <td>0</td>\n",
       "      <td>2</td>\n",
       "      <td>1</td>\n",
       "      <td>2</td>\n",
       "      <td>2018-01</td>\n",
       "      <td>Confraternização mundial</td>\n",
       "    </tr>\n",
       "  </tbody>\n",
       "</table>\n",
       "<p>5 rows × 22 columns</p>\n",
       "</div>"
      ],
      "text/plain": [
       "           id data_inversa     dia_semana   horario  uf     br     km  \\\n",
       "0     99973.0   2018-01-01  Segunda-feira  00:20:00  RJ  116.0  303,5   \n",
       "141  100138.0   2018-01-01  Segunda-feira  16:32:00  RO  364.0  228,1   \n",
       "142  100139.0   2018-01-01  Segunda-feira  18:20:00  RS  392.0     83   \n",
       "143  100140.0   2018-01-01  Segunda-feira  18:20:00  SC  101.0   82,8   \n",
       "144  100141.0   2018-01-01  Segunda-feira  17:35:00  PB  230.0     28   \n",
       "\n",
       "                                        causa_acidente  \\\n",
       "0                                    Condutor dormindo   \n",
       "141                        Falta de atenção à condução   \n",
       "142  Condutor deixou de manter distância do veículo...   \n",
       "143                        Falta de atenção à condução   \n",
       "144                        Falta de atenção à condução   \n",
       "\n",
       "                 tipo_acidente classificacao_acidente  ...  \\\n",
       "0    Saída de leito carroçável    Com vítimas feridas  ...   \n",
       "141           Colisão traseira            Sem vítimas  ...   \n",
       "142              Engavetamento            Sem vítimas  ...   \n",
       "143            Colisão lateral    Com vítimas feridas  ...   \n",
       "144           Colisão traseira    Com vítimas feridas  ...   \n",
       "\n",
       "    condicao_metereologica tipo_pista uso_solo pessoas mortos  ilesos  \\\n",
       "0                  Nublado   Múltipla   Urbano       5      0       1   \n",
       "141                Nublado    Simples    Rural       2      0       1   \n",
       "142              Céu Claro    Simples    Rural       3      0       2   \n",
       "143              Céu Claro      Dupla    Rural       5      0       2   \n",
       "144              Céu Claro      Dupla   Urbano       3      0       2   \n",
       "\n",
       "     feridos  veiculos  mes_ano                 tipo_data  \n",
       "0          4         1  2018-01  Confraternização mundial  \n",
       "141        0         2  2018-01  Confraternização mundial  \n",
       "142        0         3  2018-01  Confraternização mundial  \n",
       "143        2         2  2018-01  Confraternização mundial  \n",
       "144        1         2  2018-01  Confraternização mundial  \n",
       "\n",
       "[5 rows x 22 columns]"
      ]
     },
     "execution_count": 842,
     "metadata": {},
     "output_type": "execute_result"
    }
   ],
   "source": [
    "df_accidents = df_accidents.drop(columns=[\n",
    "    \"tracado_via\"\n",
    "])\n",
    "df_accidents.head()"
   ]
  },
  {
   "cell_type": "markdown",
   "metadata": {},
   "source": [
    "#### Verificando informações da coluna \"pessoas\""
   ]
  },
  {
   "cell_type": "code",
   "execution_count": 843,
   "metadata": {},
   "outputs": [
    {
     "name": "stdout",
     "output_type": "stream",
     "text": [
      "<class 'pandas.core.series.Series'>\n",
      "Index: 429807 entries, 0 to 436366\n",
      "Series name: pessoas\n",
      "Non-Null Count   Dtype\n",
      "--------------   -----\n",
      "429807 non-null  int64\n",
      "dtypes: int64(1)\n",
      "memory usage: 6.6 MB\n"
     ]
    }
   ],
   "source": [
    "df_accidents[\"pessoas\"].info()"
   ]
  },
  {
   "cell_type": "markdown",
   "metadata": {},
   "source": [
    "#### Verificando dados estatísticos da coluna \"pessoas\" para avaliar a necessidade de tratamento dos dados"
   ]
  },
  {
   "cell_type": "code",
   "execution_count": 844,
   "metadata": {},
   "outputs": [
    {
     "data": {
      "text/plain": [
       "count    429807.000000\n",
       "mean          2.472112\n",
       "std           2.034471\n",
       "min           1.000000\n",
       "25%           2.000000\n",
       "50%           2.000000\n",
       "75%           3.000000\n",
       "max          95.000000\n",
       "Name: pessoas, dtype: float64"
      ]
     },
     "execution_count": 844,
     "metadata": {},
     "output_type": "execute_result"
    }
   ],
   "source": [
    "df_accidents[\"pessoas\"].describe()"
   ]
  },
  {
   "cell_type": "markdown",
   "metadata": {},
   "source": [
    "#### Verificando a frequência dos valores da coluna \"pessoas\" para avaliar a necessidade de tratamento dos dados"
   ]
  },
  {
   "cell_type": "code",
   "execution_count": 845,
   "metadata": {},
   "outputs": [
    {
     "data": {
      "text/plain": [
       "pessoas\n",
       "1     105103\n",
       "2     176533\n",
       "3      80534\n",
       "4      33887\n",
       "5      16892\n",
       "       ...  \n",
       "75         1\n",
       "77         1\n",
       "80         2\n",
       "93         1\n",
       "95         1\n",
       "Name: count, Length: 74, dtype: int64"
      ]
     },
     "execution_count": 845,
     "metadata": {},
     "output_type": "execute_result"
    }
   ],
   "source": [
    "df_accidents[\"pessoas\"].value_counts().sort_index()"
   ]
  },
  {
   "cell_type": "markdown",
   "metadata": {},
   "source": [
    "#### Tratamento da coluna \"pessoas\" para remover linhas, onde a frequência da quantidade de pessoas envolvidas, em um acidente, é menor que 7 (menos de 1 ocorrência por ano)"
   ]
  },
  {
   "cell_type": "code",
   "execution_count": 846,
   "metadata": {},
   "outputs": [
    {
     "name": "stdout",
     "output_type": "stream",
     "text": [
      "Índices a serem removidos: Index([   173,  12501,    251,    479,   1812,   1315,   1157,   1274,   1616,\n",
      "         4637,\n",
      "       ...\n",
      "       381599, 381626, 435428, 435454, 381749, 435935, 381762, 381808, 435808,\n",
      "       436043],\n",
      "      dtype='int64', length=1048)\n"
     ]
    },
    {
     "data": {
      "text/plain": [
       "count    428759.000000\n",
       "mean          2.407317\n",
       "std           1.411963\n",
       "min           1.000000\n",
       "25%           2.000000\n",
       "50%           2.000000\n",
       "75%           3.000000\n",
       "max          14.000000\n",
       "Name: pessoas, dtype: float64"
      ]
     },
     "execution_count": 846,
     "metadata": {},
     "output_type": "execute_result"
    }
   ],
   "source": [
    "def get_condition():\n",
    "    df = df_accidents[\"pessoas\"].value_counts()\n",
    "    return df[df <= 99].index\n",
    "\n",
    "\n",
    "def get_indexes():\n",
    "    return df_accidents[df_accidents[\"pessoas\"].isin(get_condition())].index\n",
    "\n",
    "\n",
    "print(f'Índices a serem removidos: {get_indexes()}')\n",
    "\n",
    "df_accidents.drop(get_indexes(), inplace=True)\n",
    "df_accidents['pessoas'].describe()"
   ]
  },
  {
   "cell_type": "markdown",
   "metadata": {},
   "source": [
    "#### Verificando informações da coluna \"veiculos\""
   ]
  },
  {
   "cell_type": "code",
   "execution_count": 847,
   "metadata": {},
   "outputs": [
    {
     "name": "stdout",
     "output_type": "stream",
     "text": [
      "<class 'pandas.core.series.Series'>\n",
      "Index: 428759 entries, 0 to 436366\n",
      "Series name: veiculos\n",
      "Non-Null Count   Dtype\n",
      "--------------   -----\n",
      "428759 non-null  int64\n",
      "dtypes: int64(1)\n",
      "memory usage: 6.5 MB\n"
     ]
    }
   ],
   "source": [
    "df_accidents[\"veiculos\"].info()"
   ]
  },
  {
   "cell_type": "markdown",
   "metadata": {},
   "source": [
    "#### Verificando dados estatísticos da coluna \"veiculos\" para avaliar a necessidade de tratamento dos dados"
   ]
  },
  {
   "cell_type": "code",
   "execution_count": 848,
   "metadata": {},
   "outputs": [
    {
     "data": {
      "text/plain": [
       "count    428759.000000\n",
       "mean          1.807852\n",
       "std           0.924065\n",
       "min           1.000000\n",
       "25%           1.000000\n",
       "50%           2.000000\n",
       "75%           2.000000\n",
       "max          28.000000\n",
       "Name: veiculos, dtype: float64"
      ]
     },
     "execution_count": 848,
     "metadata": {},
     "output_type": "execute_result"
    }
   ],
   "source": [
    "df_accidents[\"veiculos\"].describe()"
   ]
  },
  {
   "cell_type": "markdown",
   "metadata": {},
   "source": [
    "#### Verificando a frequência dos valores da coluna \"veiculos\" para avaliar a necessidade de tratamento dos dados"
   ]
  },
  {
   "cell_type": "code",
   "execution_count": 849,
   "metadata": {},
   "outputs": [
    {
     "data": {
      "text/plain": [
       "veiculos\n",
       "7     683\n",
       "8     320\n",
       "9     157\n",
       "10    104\n",
       "11     56\n",
       "12     48\n",
       "13     37\n",
       "14     23\n",
       "15     14\n",
       "16      6\n",
       "17      4\n",
       "18      1\n",
       "19      1\n",
       "20      1\n",
       "28      1\n",
       "Name: count, dtype: int64"
      ]
     },
     "execution_count": 849,
     "metadata": {},
     "output_type": "execute_result"
    }
   ],
   "source": [
    "df_accidents[\"veiculos\"].value_counts().sort_index().tail(15)"
   ]
  },
  {
   "cell_type": "code",
   "execution_count": 850,
   "metadata": {},
   "outputs": [
    {
     "name": "stdout",
     "output_type": "stream",
     "text": [
      "Índices a serem removidos: Index([ 26214,  31692,  42052,  45008,  69045,  67704,  79051,  81228,  86021,\n",
      "       114097,\n",
      "       ...\n",
      "       377363, 377447, 377974, 378037, 378453, 379125, 380033, 380121, 380543,\n",
      "       381766],\n",
      "      dtype='int64', length=192)\n",
      "count    428567.000000\n",
      "mean          1.802936\n",
      "std           0.893562\n",
      "min           1.000000\n",
      "25%           1.000000\n",
      "50%           2.000000\n",
      "75%           2.000000\n",
      "max          10.000000\n",
      "Name: veiculos, dtype: float64\n",
      "veiculos\n",
      "2     202422\n",
      "1     170546\n",
      "3      37107\n",
      "4      11473\n",
      "5       4248\n",
      "6       1507\n",
      "7        683\n",
      "8        320\n",
      "9        157\n",
      "10       104\n",
      "Name: count, dtype: int64\n"
     ]
    }
   ],
   "source": [
    "def get_condition():\n",
    "    df = df_accidents[\"veiculos\"].value_counts()\n",
    "    return df[df <= 99].index\n",
    "\n",
    "\n",
    "def get_indexes():\n",
    "    return df_accidents[df_accidents[\"veiculos\"].isin(get_condition())].index\n",
    "\n",
    "\n",
    "print(f'Índices a serem removidos: {get_indexes()}')\n",
    "\n",
    "df_accidents.drop(get_indexes(), inplace=True)\n",
    "print(df_accidents['veiculos'].describe())\n",
    "print(df_accidents['veiculos'].value_counts())"
   ]
  },
  {
   "cell_type": "markdown",
   "metadata": {},
   "source": [
    "#### Análise inicial da coluna uf"
   ]
  },
  {
   "cell_type": "code",
   "execution_count": 851,
   "metadata": {},
   "outputs": [
    {
     "name": "stdout",
     "output_type": "stream",
     "text": [
      "uf\n",
      "MG    55467\n",
      "SC    51272\n",
      "PR    47421\n",
      "RJ    31760\n",
      "RS    30106\n",
      "SP    28595\n",
      "BA    22865\n",
      "GO    20683\n",
      "PE    17822\n",
      "ES    16037\n",
      "MT    14611\n",
      "MS    10182\n",
      "PB    10097\n",
      "CE     9780\n",
      "RO     9345\n",
      "RN     8939\n",
      "PI     8202\n",
      "MA     7151\n",
      "DF     6347\n",
      "PA     5861\n",
      "AL     4081\n",
      "TO     3776\n",
      "SE     3568\n",
      "AC     1559\n",
      "RR     1307\n",
      "AP      978\n",
      "AM      755\n",
      "Name: count, dtype: int64\n",
      "Média 15873\n",
      "Mediana 9780\n"
     ]
    }
   ],
   "source": [
    "df = df_accidents.copy()\n",
    "print(df[\"uf\"].value_counts())\n",
    "print(f'Média {df[\"uf\"].value_counts().mean():.0f}')\n",
    "print(f'Mediana {df[\"uf\"].value_counts().median():.0f}')"
   ]
  },
  {
   "cell_type": "markdown",
   "metadata": {},
   "source": [
    "#### Reordenando o dataframe antes de salvar"
   ]
  },
  {
   "cell_type": "code",
   "execution_count": null,
   "metadata": {},
   "outputs": [
    {
     "name": "stdout",
     "output_type": "stream",
     "text": [
      "<class 'pandas.core.frame.DataFrame'>\n",
      "Index: 428567 entries, 0 to 436366\n",
      "Data columns (total 19 columns):\n",
      " #   Column                  Non-Null Count   Dtype         \n",
      "---  ------                  --------------   -----         \n",
      " 0   id                      428567 non-null  float64       \n",
      " 1   data_inversa            428567 non-null  datetime64[ns]\n",
      " 2   tipo_data               428567 non-null  object        \n",
      " 3   mes_ano                 428567 non-null  period[M]     \n",
      " 4   dia_semana              428567 non-null  object        \n",
      " 5   horario                 428567 non-null  object        \n",
      " 6   fase_dia                428567 non-null  object        \n",
      " 7   condicao_metereologica  428567 non-null  object        \n",
      " 8   uf                      428567 non-null  object        \n",
      " 9   br                      428567 non-null  float64       \n",
      " 10  km                      428567 non-null  object        \n",
      " 11  uso_solo                428567 non-null  object        \n",
      " 12  tipo_pista              428567 non-null  object        \n",
      " 13  sentido_via             428567 non-null  object        \n",
      " 14  tipo_acidente           428567 non-null  object        \n",
      " 15  causa_acidente          428567 non-null  object        \n",
      " 16  classificacao_acidente  428567 non-null  object        \n",
      " 17  pessoas                 428567 non-null  int64         \n",
      " 18  veiculos                428567 non-null  int64         \n",
      "dtypes: datetime64[ns](1), float64(2), int64(2), object(13), period[M](1)\n",
      "memory usage: 65.4+ MB\n"
     ]
    }
   ],
   "source": [
    "df_accidents = df_accidents[[\n",
    "    \"id\",\n",
    "    \"data_inversa\",\n",
    "    \"tipo_data\",\n",
    "    'mes_ano',\n",
    "    \"dia_semana\",\n",
    "    \"horario\",\n",
    "    \"fase_dia\",\n",
    "    \"condicao_metereologica\",\n",
    "    \"uf\",\n",
    "    \"br\",\n",
    "    \"km\",\n",
    "    \"uso_solo\",\n",
    "    \"tipo_pista\",\n",
    "    \"sentido_via\",\n",
    "    \"tipo_acidente\",\n",
    "    \"causa_acidente\",\n",
    "    \"classificacao_acidente\",\n",
    "    \"pessoas\",\n",
    "    \"veiculos\",\n",
    "    \"feridos\",\n",
    "    \"ilesos\",\n",
    "    \"mortos\"\n",
    "]]\n",
    "df_accidents.info()"
   ]
  },
  {
   "cell_type": "markdown",
   "metadata": {},
   "source": [
    "#### Salvando os dados em um novo CSV após o tratamento de dados"
   ]
  },
  {
   "cell_type": "code",
   "execution_count": 853,
   "metadata": {},
   "outputs": [],
   "source": [
    "df_accidents.to_csv(\n",
    "    path_or_buf=\"wrangling/datatran2018_2024_v1.csv\",\n",
    "    index=False\n",
    ")"
   ]
  }
 ],
 "metadata": {
  "kernelspec": {
   "display_name": "venv",
   "language": "python",
   "name": "python3"
  },
  "language_info": {
   "codemirror_mode": {
    "name": "ipython",
    "version": 3
   },
   "file_extension": ".py",
   "mimetype": "text/x-python",
   "name": "python",
   "nbconvert_exporter": "python",
   "pygments_lexer": "ipython3",
   "version": "3.13.2"
  }
 },
 "nbformat": 4,
 "nbformat_minor": 2
}
