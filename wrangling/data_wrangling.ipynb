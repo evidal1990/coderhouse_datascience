{
 "cells": [
  {
   "cell_type": "markdown",
   "metadata": {},
   "source": [
    "### Importando as bibliotecas necessárias para iniciar a leitura dos arquivos"
   ]
  },
  {
   "cell_type": "code",
   "execution_count": 1,
   "metadata": {},
   "outputs": [
    {
     "name": "stdout",
     "output_type": "stream",
     "text": [
      "Requirement already satisfied: missingno in /Users/edithvidal/Documents/Github/data_science_analysis/venv/lib/python3.13/site-packages (0.5.2)\n",
      "Requirement already satisfied: numpy in /Users/edithvidal/Documents/Github/data_science_analysis/venv/lib/python3.13/site-packages (from missingno) (2.2.2)\n",
      "Requirement already satisfied: matplotlib in /Users/edithvidal/Documents/Github/data_science_analysis/venv/lib/python3.13/site-packages (from missingno) (3.10.0)\n",
      "Requirement already satisfied: scipy in /Users/edithvidal/Documents/Github/data_science_analysis/venv/lib/python3.13/site-packages (from missingno) (1.15.2)\n",
      "Requirement already satisfied: seaborn in /Users/edithvidal/Documents/Github/data_science_analysis/venv/lib/python3.13/site-packages (from missingno) (0.13.2)\n",
      "Requirement already satisfied: contourpy>=1.0.1 in /Users/edithvidal/Documents/Github/data_science_analysis/venv/lib/python3.13/site-packages (from matplotlib->missingno) (1.3.1)\n",
      "Requirement already satisfied: cycler>=0.10 in /Users/edithvidal/Documents/Github/data_science_analysis/venv/lib/python3.13/site-packages (from matplotlib->missingno) (0.12.1)\n",
      "Requirement already satisfied: fonttools>=4.22.0 in /Users/edithvidal/Documents/Github/data_science_analysis/venv/lib/python3.13/site-packages (from matplotlib->missingno) (4.56.0)\n",
      "Requirement already satisfied: kiwisolver>=1.3.1 in /Users/edithvidal/Documents/Github/data_science_analysis/venv/lib/python3.13/site-packages (from matplotlib->missingno) (1.4.8)\n",
      "Requirement already satisfied: packaging>=20.0 in /Users/edithvidal/Documents/Github/data_science_analysis/venv/lib/python3.13/site-packages (from matplotlib->missingno) (24.2)\n",
      "Requirement already satisfied: pillow>=8 in /Users/edithvidal/Documents/Github/data_science_analysis/venv/lib/python3.13/site-packages (from matplotlib->missingno) (11.1.0)\n",
      "Requirement already satisfied: pyparsing>=2.3.1 in /Users/edithvidal/Documents/Github/data_science_analysis/venv/lib/python3.13/site-packages (from matplotlib->missingno) (3.2.1)\n",
      "Requirement already satisfied: python-dateutil>=2.7 in /Users/edithvidal/Documents/Github/data_science_analysis/venv/lib/python3.13/site-packages (from matplotlib->missingno) (2.9.0.post0)\n",
      "Requirement already satisfied: pandas>=1.2 in /Users/edithvidal/Documents/Github/data_science_analysis/venv/lib/python3.13/site-packages (from seaborn->missingno) (2.2.3)\n",
      "Requirement already satisfied: pytz>=2020.1 in /Users/edithvidal/Documents/Github/data_science_analysis/venv/lib/python3.13/site-packages (from pandas>=1.2->seaborn->missingno) (2025.1)\n",
      "Requirement already satisfied: tzdata>=2022.7 in /Users/edithvidal/Documents/Github/data_science_analysis/venv/lib/python3.13/site-packages (from pandas>=1.2->seaborn->missingno) (2025.1)\n",
      "Requirement already satisfied: six>=1.5 in /Users/edithvidal/Documents/Github/data_science_analysis/venv/lib/python3.13/site-packages (from python-dateutil>=2.7->matplotlib->missingno) (1.17.0)\n",
      "Note: you may need to restart the kernel to use updated packages.\n",
      "Requirement already satisfied: requests in /Users/edithvidal/Documents/Github/data_science_analysis/venv/lib/python3.13/site-packages (2.32.3)\n",
      "Requirement already satisfied: charset-normalizer<4,>=2 in /Users/edithvidal/Documents/Github/data_science_analysis/venv/lib/python3.13/site-packages (from requests) (3.4.1)\n",
      "Requirement already satisfied: idna<4,>=2.5 in /Users/edithvidal/Documents/Github/data_science_analysis/venv/lib/python3.13/site-packages (from requests) (3.10)\n",
      "Requirement already satisfied: urllib3<3,>=1.21.1 in /Users/edithvidal/Documents/Github/data_science_analysis/venv/lib/python3.13/site-packages (from requests) (2.3.0)\n",
      "Requirement already satisfied: certifi>=2017.4.17 in /Users/edithvidal/Documents/Github/data_science_analysis/venv/lib/python3.13/site-packages (from requests) (2025.1.31)\n",
      "Note: you may need to restart the kernel to use updated packages.\n"
     ]
    }
   ],
   "source": [
    "%pip install missingno\n",
    "%pip install requests\n",
    "\n",
    "import numpy as np\n",
    "import pandas as pd\n",
    "import missingno as msno\n",
    "import requests\n",
    "import json\n",
    "\n",
    "%matplotlib inline"
   ]
  },
  {
   "cell_type": "markdown",
   "metadata": {},
   "source": [
    "#### Lendo os dados da base única de 2018 a 2024"
   ]
  },
  {
   "cell_type": "code",
   "execution_count": 2,
   "metadata": {},
   "outputs": [
    {
     "name": "stderr",
     "output_type": "stream",
     "text": [
      "/var/folders/z1/3syxl8gd5ks431s8c9n9mrs00000gn/T/ipykernel_99151/3303668057.py:1: DtypeWarning: Columns (25,26) have mixed types. Specify dtype option on import or set low_memory=False.\n",
      "  df_accidents = pd.read_csv(\n"
     ]
    },
    {
     "name": "stdout",
     "output_type": "stream",
     "text": [
      "<class 'pandas.core.frame.DataFrame'>\n",
      "RangeIndex: 436718 entries, 0 to 436717\n",
      "Data columns (total 27 columns):\n",
      " #   Column                  Non-Null Count   Dtype  \n",
      "---  ------                  --------------   -----  \n",
      " 0   id                      436718 non-null  float64\n",
      " 1   data_inversa            436718 non-null  object \n",
      " 2   dia_semana              436718 non-null  object \n",
      " 3   horario                 436718 non-null  object \n",
      " 4   uf                      436718 non-null  object \n",
      " 5   br                      436267 non-null  float64\n",
      " 6   km                      436267 non-null  object \n",
      " 7   municipio               436718 non-null  object \n",
      " 8   causa_acidente          436718 non-null  object \n",
      " 9   tipo_acidente           436718 non-null  object \n",
      " 10  classificacao_acidente  436715 non-null  object \n",
      " 11  fase_dia                436718 non-null  object \n",
      " 12  sentido_via             436718 non-null  object \n",
      " 13  condicao_metereologica  436718 non-null  object \n",
      " 14  tipo_pista              436718 non-null  object \n",
      " 15  tracado_via             436718 non-null  object \n",
      " 16  uso_solo                436718 non-null  object \n",
      " 17  pessoas                 436718 non-null  int64  \n",
      " 18  mortos                  436718 non-null  int64  \n",
      " 19  feridos_leves           436718 non-null  int64  \n",
      " 20  feridos_graves          436718 non-null  int64  \n",
      " 21  ilesos                  436718 non-null  int64  \n",
      " 22  ignorados               436718 non-null  int64  \n",
      " 23  feridos                 436718 non-null  int64  \n",
      " 24  veiculos                436718 non-null  int64  \n",
      " 25  latitude                436718 non-null  object \n",
      " 26  longitude               436718 non-null  object \n",
      "dtypes: float64(2), int64(8), object(17)\n",
      "memory usage: 90.0+ MB\n"
     ]
    }
   ],
   "source": [
    "df_accidents = pd.read_csv(\n",
    "    \"../acquisition/datatran2018_2024.csv\"\n",
    ")\n",
    "df_accidents.info()"
   ]
  },
  {
   "cell_type": "markdown",
   "metadata": {},
   "source": [
    "#### Verificando os dados faltantes de cada coluna para ter uma visão geral da base"
   ]
  },
  {
   "cell_type": "code",
   "execution_count": 3,
   "metadata": {},
   "outputs": [
    {
     "data": {
      "text/plain": [
       "<Axes: >"
      ]
     },
     "execution_count": 3,
     "metadata": {},
     "output_type": "execute_result"
    },
    {
     "data": {
      "image/png": "[encoded data removed]",
      "text/plain": [
       "<Figure size 2500x1000 with 2 Axes>"
      ]
     },
     "metadata": {},
     "output_type": "display_data"
    }
   ],
   "source": [
    "msno.matrix(df=df_accidents)"
   ]
  },
  {
   "cell_type": "markdown",
   "metadata": {},
   "source": [
    "#### Verificando informações da coluna \"br\" para identificar dados faltantes"
   ]
  },
  {
   "cell_type": "code",
   "execution_count": 4,
   "metadata": {},
   "outputs": [
    {
     "name": "stdout",
     "output_type": "stream",
     "text": [
      "<class 'pandas.core.series.Series'>\n",
      "RangeIndex: 436718 entries, 0 to 436717\n",
      "Series name: br\n",
      "Non-Null Count   Dtype  \n",
      "--------------   -----  \n",
      "436267 non-null  float64\n",
      "dtypes: float64(1)\n",
      "memory usage: 3.3 MB\n"
     ]
    }
   ],
   "source": [
    "df_accidents[\"br\"].info()"
   ]
  },
  {
   "cell_type": "markdown",
   "metadata": {},
   "source": [
    "#### Verificando dados estatísticos da coluna \"br\"para avaliar a necessidade de tratamento dos dados"
   ]
  },
  {
   "cell_type": "code",
   "execution_count": 5,
   "metadata": {},
   "outputs": [
    {
     "data": {
      "text/plain": [
       "count    436267.000000\n",
       "mean        212.121939\n",
       "std         130.577461\n",
       "min           0.000000\n",
       "25%         101.000000\n",
       "50%         158.000000\n",
       "75%         324.000000\n",
       "max         498.000000\n",
       "Name: br, dtype: float64"
      ]
     },
     "execution_count": 5,
     "metadata": {},
     "output_type": "execute_result"
    }
   ],
   "source": [
    "df_accidents[\"br\"].describe()"
   ]
  },
  {
   "cell_type": "markdown",
   "metadata": {},
   "source": [
    "#### Verificando dados faltantes na coluna \"br\" para avaliar a necessidade de tratamento dos dados"
   ]
  },
  {
   "cell_type": "code",
   "execution_count": 6,
   "metadata": {},
   "outputs": [
    {
     "data": {
      "text/plain": [
       "br\n",
       "101.0    73787\n",
       "116.0    65465\n",
       "381.0    21030\n",
       "40.0     20747\n",
       "153.0    16902\n",
       "Name: count, dtype: int64"
      ]
     },
     "execution_count": 6,
     "metadata": {},
     "output_type": "execute_result"
    }
   ],
   "source": [
    "df_accidents[\"br\"].value_counts().head()"
   ]
  },
  {
   "cell_type": "markdown",
   "metadata": {},
   "source": [
    "#### Tratando os dados para serem do tipo string e tratando dados faltantes como \"Desconhecido\" na coluna \"br\""
   ]
  },
  {
   "cell_type": "code",
   "execution_count": 7,
   "metadata": {},
   "outputs": [
    {
     "data": {
      "text/plain": [
       "br\n",
       "101    73787\n",
       "116    65465\n",
       "381    21030\n",
       "40     20747\n",
       "153    16902\n",
       "Name: count, dtype: int64"
      ]
     },
     "execution_count": 7,
     "metadata": {},
     "output_type": "execute_result"
    }
   ],
   "source": [
    "df_accidents[\"br\"] = pd.to_numeric(\n",
    "    df_accidents[\"br\"], errors=\"coerce\").fillna(0).astype(int)\n",
    "\n",
    "df_accidents[\"br\"] = np.where(\n",
    "    df_accidents[\"br\"] != 0, df_accidents[\"br\"].astype(str), \"Desconhecido\")\n",
    "\n",
    "df_accidents[\"br\"].value_counts().head()"
   ]
  },
  {
   "cell_type": "markdown",
   "metadata": {},
   "source": [
    "#### Verificando dados estatísticos da coluna \"br\" após o tratamento dos dados"
   ]
  },
  {
   "cell_type": "code",
   "execution_count": 8,
   "metadata": {},
   "outputs": [
    {
     "data": {
      "text/plain": [
       "count     436718\n",
       "unique       132\n",
       "top          101\n",
       "freq       73787\n",
       "Name: br, dtype: object"
      ]
     },
     "execution_count": 8,
     "metadata": {},
     "output_type": "execute_result"
    }
   ],
   "source": [
    "df_accidents[\"br\"].describe()"
   ]
  },
  {
   "cell_type": "markdown",
   "metadata": {},
   "source": [
    "#### Verificando informações da coluna \"km\" para identificar dados faltantes"
   ]
  },
  {
   "cell_type": "code",
   "execution_count": 9,
   "metadata": {},
   "outputs": [
    {
     "name": "stdout",
     "output_type": "stream",
     "text": [
      "<class 'pandas.core.series.Series'>\n",
      "RangeIndex: 436718 entries, 0 to 436717\n",
      "Series name: km\n",
      "Non-Null Count   Dtype \n",
      "--------------   ----- \n",
      "436267 non-null  object\n",
      "dtypes: object(1)\n",
      "memory usage: 3.3+ MB\n"
     ]
    }
   ],
   "source": [
    "df_accidents[\"km\"].info()"
   ]
  },
  {
   "cell_type": "markdown",
   "metadata": {},
   "source": [
    "#### Verificando dados estatísticos da coluna \"km\"para avaliar a necessidade de tratamento dos dados"
   ]
  },
  {
   "cell_type": "code",
   "execution_count": 10,
   "metadata": {},
   "outputs": [
    {
     "data": {
      "text/plain": [
       "count     436267\n",
       "unique      9740\n",
       "top            1\n",
       "freq        1911\n",
       "Name: km, dtype: object"
      ]
     },
     "execution_count": 10,
     "metadata": {},
     "output_type": "execute_result"
    }
   ],
   "source": [
    "df_accidents[\"km\"].describe()"
   ]
  },
  {
   "cell_type": "markdown",
   "metadata": {},
   "source": [
    "#### Tratando os dados para serem do tipo string e tratando dados faltantes como \"Desconhecido\" na coluna \"km\""
   ]
  },
  {
   "cell_type": "code",
   "execution_count": 11,
   "metadata": {},
   "outputs": [
    {
     "data": {
      "text/plain": [
       "km\n",
       "Desconhecido    191360\n",
       "1                 1911\n",
       "3                 1760\n",
       "2                 1755\n",
       "5                 1637\n",
       "Name: count, dtype: int64"
      ]
     },
     "execution_count": 11,
     "metadata": {},
     "output_type": "execute_result"
    }
   ],
   "source": [
    "df_accidents[\"km\"] = pd.to_numeric(\n",
    "    df_accidents[\"km\"], errors=\"coerce\").fillna(0).astype(int)\n",
    "\n",
    "df_accidents[\"km\"] = np.where(\n",
    "    df_accidents[\"km\"] != 0, df_accidents[\"km\"].astype(str), \"Desconhecido\")\n",
    "\n",
    "df_accidents[\"km\"].value_counts().head()"
   ]
  },
  {
   "cell_type": "markdown",
   "metadata": {},
   "source": [
    "#### Verificando dados estatísticos da coluna \"km\" após o tratamento dos dados"
   ]
  },
  {
   "cell_type": "code",
   "execution_count": 12,
   "metadata": {},
   "outputs": [
    {
     "data": {
      "text/plain": [
       "count           436718\n",
       "unique            1198\n",
       "top       Desconhecido\n",
       "freq            191360\n",
       "Name: km, dtype: object"
      ]
     },
     "execution_count": 12,
     "metadata": {},
     "output_type": "execute_result"
    }
   ],
   "source": [
    "df_accidents[\"km\"].describe()"
   ]
  },
  {
   "cell_type": "markdown",
   "metadata": {},
   "source": [
    "#### Verificando informações da coluna \"data_inversa\""
   ]
  },
  {
   "cell_type": "code",
   "execution_count": 13,
   "metadata": {},
   "outputs": [
    {
     "name": "stdout",
     "output_type": "stream",
     "text": [
      "<class 'pandas.core.series.Series'>\n",
      "RangeIndex: 436718 entries, 0 to 436717\n",
      "Series name: data_inversa\n",
      "Non-Null Count   Dtype \n",
      "--------------   ----- \n",
      "436718 non-null  object\n",
      "dtypes: object(1)\n",
      "memory usage: 3.3+ MB\n"
     ]
    }
   ],
   "source": [
    "df_accidents[\"data_inversa\"].info()"
   ]
  },
  {
   "cell_type": "markdown",
   "metadata": {},
   "source": [
    "#### Verificando dados estatísticos da coluna \"data_inversa\"para avaliar a necessidade de tratamento dos dados"
   ]
  },
  {
   "cell_type": "code",
   "execution_count": 14,
   "metadata": {},
   "outputs": [
    {
     "data": {
      "text/plain": [
       "count         436718\n",
       "unique          2373\n",
       "top       2018-02-10\n",
       "freq             325\n",
       "Name: data_inversa, dtype: object"
      ]
     },
     "execution_count": 14,
     "metadata": {},
     "output_type": "execute_result"
    }
   ],
   "source": [
    "df_accidents[\"data_inversa\"].describe()"
   ]
  },
  {
   "cell_type": "markdown",
   "metadata": {},
   "source": [
    "#### Verificando a frequência dos valores da coluna \"data_inversa\" para avaliar a necessidade de tratamento dos dados"
   ]
  },
  {
   "cell_type": "code",
   "execution_count": 15,
   "metadata": {},
   "outputs": [
    {
     "data": {
      "text/plain": [
       "data_inversa\n",
       "2018-02-10    325\n",
       "2018-12-22    325\n",
       "2024-12-21    319\n",
       "2018-02-09    313\n",
       "2023-12-23    303\n",
       "Name: count, dtype: int64"
      ]
     },
     "execution_count": 15,
     "metadata": {},
     "output_type": "execute_result"
    }
   ],
   "source": [
    "df_accidents[\"data_inversa\"].value_counts().head()"
   ]
  },
  {
   "cell_type": "markdown",
   "metadata": {},
   "source": [
    "#### Padronizando o formato da data do campo data_inversa para dd/MM/yyyy"
   ]
  },
  {
   "cell_type": "code",
   "execution_count": 16,
   "metadata": {},
   "outputs": [
    {
     "data": {
      "text/plain": [
       "data_inversa\n",
       "10/02/2018    325\n",
       "22/12/2018    325\n",
       "21/12/2024    319\n",
       "09/02/2018    313\n",
       "23/12/2023    303\n",
       "Name: count, dtype: int64"
      ]
     },
     "execution_count": 16,
     "metadata": {},
     "output_type": "execute_result"
    }
   ],
   "source": [
    "df_accidents[\"data_inversa\"] = pd.to_datetime(\n",
    "    df_accidents[\"data_inversa\"], format='mixed', dayfirst=True).dt.strftime('%d/%m/%Y').to_frame()\n",
    "\n",
    "df_accidents[\"data_inversa\"].value_counts().head()"
   ]
  },
  {
   "cell_type": "markdown",
   "metadata": {},
   "source": [
    "#### Verificando dados estatísticos da coluna \"data_inversa\" após do tratamento dos dados"
   ]
  },
  {
   "cell_type": "code",
   "execution_count": 17,
   "metadata": {},
   "outputs": [
    {
     "data": {
      "text/plain": [
       "count         436718\n",
       "unique          2373\n",
       "top       10/02/2018\n",
       "freq             325\n",
       "Name: data_inversa, dtype: object"
      ]
     },
     "execution_count": 17,
     "metadata": {},
     "output_type": "execute_result"
    }
   ],
   "source": [
    "df_accidents[\"data_inversa\"].describe()"
   ]
  },
  {
   "cell_type": "markdown",
   "metadata": {},
   "source": [
    "#### Criando coluna auxiliar mês para facilitar análise futura"
   ]
  },
  {
   "cell_type": "code",
   "execution_count": 18,
   "metadata": {},
   "outputs": [
    {
     "data": {
      "text/plain": [
       "mes\n",
       "Janeiro      39072\n",
       "Março        38549\n",
       "Junho        38248\n",
       "Dezembro     37824\n",
       "Maio         37747\n",
       "Fevereiro    36495\n",
       "Abril        36472\n",
       "Outubro      35369\n",
       "Setembro     34423\n",
       "Julho        34378\n",
       "Agosto       34178\n",
       "Novembro     33963\n",
       "Name: count, dtype: int64"
      ]
     },
     "execution_count": 18,
     "metadata": {},
     "output_type": "execute_result"
    }
   ],
   "source": [
    "months = {\n",
    "    1: \"Janeiro\",\n",
    "    2: \"Fevereiro\",\n",
    "    3: \"Março\",\n",
    "    4: \"Abril\",\n",
    "    5: \"Maio\",\n",
    "    6: \"Junho\",\n",
    "    7: \"Julho\",\n",
    "    8: \"Agosto\",\n",
    "    9: \"Setembro\",\n",
    "    10: \"Outubro\",\n",
    "    11: \"Novembro\",\n",
    "    12: \"Dezembro\",\n",
    "}\n",
    "\n",
    "formatted_month = pd.to_datetime(\n",
    "    df_accidents[\"data_inversa\"], format='%d/%m/%Y').dt.month.map(months)\n",
    "\n",
    "if \"mes\" in df_accidents.columns:\n",
    "    df_accidents[\"mes\"] = formatted_month\n",
    "else:\n",
    "    df_accidents = df_accidents.assign(**{\"mes\": formatted_month})\n",
    "df_accidents[\"mes\"].value_counts()"
   ]
  },
  {
   "cell_type": "markdown",
   "metadata": {},
   "source": [
    "#### Criando coluna auxiliar ano para facilitar análise futura"
   ]
  },
  {
   "cell_type": "code",
   "execution_count": 19,
   "metadata": {},
   "outputs": [
    {
     "data": {
      "text/plain": [
       "ano\n",
       "2024    73156\n",
       "2018    69295\n",
       "2023    67766\n",
       "2019    67446\n",
       "2022    64606\n",
       "Name: count, dtype: int64"
      ]
     },
     "execution_count": 19,
     "metadata": {},
     "output_type": "execute_result"
    }
   ],
   "source": [
    "formatted_year = pd.to_datetime(\n",
    "    df_accidents[\"data_inversa\"], format='%d/%m/%Y').dt.year\n",
    "\n",
    "if \"ano\" in df_accidents.columns:\n",
    "    df_accidents[\"ano\"] = formatted_year\n",
    "else:\n",
    "    df_accidents = df_accidents.assign(**{\"ano\": formatted_year})\n",
    "\n",
    "df_accidents[\"ano\"].value_counts().head()"
   ]
  },
  {
   "cell_type": "markdown",
   "metadata": {},
   "source": [
    "#### Obtendo lista de feriados à partir de um determinado ano"
   ]
  },
  {
   "cell_type": "code",
   "execution_count": 20,
   "metadata": {},
   "outputs": [
    {
     "data": {
      "text/plain": [
       "[{'date': '01/01/2018', 'name': 'Confraternização mundial'},\n",
       " {'date': '13/02/2018', 'name': 'Carnaval'},\n",
       " {'date': '30/03/2018', 'name': 'Sexta-feira Santa'},\n",
       " {'date': '01/04/2018', 'name': 'Páscoa'},\n",
       " {'date': '21/04/2018', 'name': 'Tiradentes'},\n",
       " {'date': '01/05/2018', 'name': 'Dia do trabalho'},\n",
       " {'date': '31/05/2018', 'name': 'Corpus Christi'},\n",
       " {'date': '07/09/2018', 'name': 'Independência do Brasil'},\n",
       " {'date': '12/10/2018', 'name': 'Nossa Senhora Aparecida'},\n",
       " {'date': '02/11/2018', 'name': 'Finados'},\n",
       " {'date': '15/11/2018', 'name': 'Proclamação da República'},\n",
       " {'date': '25/12/2018', 'name': 'Natal'},\n",
       " {'date': '01/01/2019', 'name': 'Confraternização mundial'},\n",
       " {'date': '05/03/2019', 'name': 'Carnaval'},\n",
       " {'date': '19/04/2019', 'name': 'Sexta-feira Santa'},\n",
       " {'date': '21/04/2019', 'name': 'Páscoa'},\n",
       " {'date': '21/04/2019', 'name': 'Tiradentes'},\n",
       " {'date': '01/05/2019', 'name': 'Dia do trabalho'},\n",
       " {'date': '20/06/2019', 'name': 'Corpus Christi'},\n",
       " {'date': '07/09/2019', 'name': 'Independência do Brasil'},\n",
       " {'date': '12/10/2019', 'name': 'Nossa Senhora Aparecida'},\n",
       " {'date': '02/11/2019', 'name': 'Finados'},\n",
       " {'date': '15/11/2019', 'name': 'Proclamação da República'},\n",
       " {'date': '25/12/2019', 'name': 'Natal'},\n",
       " {'date': '01/01/2020', 'name': 'Confraternização mundial'},\n",
       " {'date': '25/02/2020', 'name': 'Carnaval'},\n",
       " {'date': '10/04/2020', 'name': 'Sexta-feira Santa'},\n",
       " {'date': '12/04/2020', 'name': 'Páscoa'},\n",
       " {'date': '21/04/2020', 'name': 'Tiradentes'},\n",
       " {'date': '01/05/2020', 'name': 'Dia do trabalho'},\n",
       " {'date': '11/06/2020', 'name': 'Corpus Christi'},\n",
       " {'date': '07/09/2020', 'name': 'Independência do Brasil'},\n",
       " {'date': '12/10/2020', 'name': 'Nossa Senhora Aparecida'},\n",
       " {'date': '02/11/2020', 'name': 'Finados'},\n",
       " {'date': '15/11/2020', 'name': 'Proclamação da República'},\n",
       " {'date': '25/12/2020', 'name': 'Natal'},\n",
       " {'date': '01/01/2021', 'name': 'Confraternização mundial'},\n",
       " {'date': '16/02/2021', 'name': 'Carnaval'},\n",
       " {'date': '02/04/2021', 'name': 'Sexta-feira Santa'},\n",
       " {'date': '04/04/2021', 'name': 'Páscoa'},\n",
       " {'date': '21/04/2021', 'name': 'Tiradentes'},\n",
       " {'date': '01/05/2021', 'name': 'Dia do trabalho'},\n",
       " {'date': '03/06/2021', 'name': 'Corpus Christi'},\n",
       " {'date': '07/09/2021', 'name': 'Independência do Brasil'},\n",
       " {'date': '12/10/2021', 'name': 'Nossa Senhora Aparecida'},\n",
       " {'date': '02/11/2021', 'name': 'Finados'},\n",
       " {'date': '15/11/2021', 'name': 'Proclamação da República'},\n",
       " {'date': '25/12/2021', 'name': 'Natal'},\n",
       " {'date': '01/01/2022', 'name': 'Confraternização mundial'},\n",
       " {'date': '01/03/2022', 'name': 'Carnaval'},\n",
       " {'date': '15/04/2022', 'name': 'Sexta-feira Santa'},\n",
       " {'date': '17/04/2022', 'name': 'Páscoa'},\n",
       " {'date': '21/04/2022', 'name': 'Tiradentes'},\n",
       " {'date': '01/05/2022', 'name': 'Dia do trabalho'},\n",
       " {'date': '16/06/2022', 'name': 'Corpus Christi'},\n",
       " {'date': '07/09/2022', 'name': 'Independência do Brasil'},\n",
       " {'date': '12/10/2022', 'name': 'Nossa Senhora Aparecida'},\n",
       " {'date': '02/11/2022', 'name': 'Finados'},\n",
       " {'date': '15/11/2022', 'name': 'Proclamação da República'},\n",
       " {'date': '25/12/2022', 'name': 'Natal'},\n",
       " {'date': '01/01/2023', 'name': 'Confraternização mundial'},\n",
       " {'date': '21/02/2023', 'name': 'Carnaval'},\n",
       " {'date': '07/04/2023', 'name': 'Sexta-feira Santa'},\n",
       " {'date': '09/04/2023', 'name': 'Páscoa'},\n",
       " {'date': '21/04/2023', 'name': 'Tiradentes'},\n",
       " {'date': '01/05/2023', 'name': 'Dia do trabalho'},\n",
       " {'date': '08/06/2023', 'name': 'Corpus Christi'},\n",
       " {'date': '07/09/2023', 'name': 'Independência do Brasil'},\n",
       " {'date': '12/10/2023', 'name': 'Nossa Senhora Aparecida'},\n",
       " {'date': '02/11/2023', 'name': 'Finados'},\n",
       " {'date': '15/11/2023', 'name': 'Proclamação da República'},\n",
       " {'date': '25/12/2023', 'name': 'Natal'},\n",
       " {'date': '01/01/2024', 'name': 'Confraternização mundial'},\n",
       " {'date': '13/02/2024', 'name': 'Carnaval'},\n",
       " {'date': '29/03/2024', 'name': 'Sexta-feira Santa'},\n",
       " {'date': '31/03/2024', 'name': 'Páscoa'},\n",
       " {'date': '21/04/2024', 'name': 'Tiradentes'},\n",
       " {'date': '01/05/2024', 'name': 'Dia do trabalho'},\n",
       " {'date': '30/05/2024', 'name': 'Corpus Christi'},\n",
       " {'date': '07/09/2024', 'name': 'Independência do Brasil'},\n",
       " {'date': '12/10/2024', 'name': 'Nossa Senhora Aparecida'},\n",
       " {'date': '02/11/2024', 'name': 'Finados'},\n",
       " {'date': '15/11/2024', 'name': 'Proclamação da República'},\n",
       " {'date': '20/11/2024', 'name': 'Dia da consciência negra'},\n",
       " {'date': '25/12/2024', 'name': 'Natal'}]"
      ]
     },
     "execution_count": 20,
     "metadata": {},
     "output_type": "execute_result"
    }
   ],
   "source": [
    "from datetime import datetime\n",
    "\n",
    "holidays = []\n",
    "\n",
    "for year in [2018, 2019, 2020, 2021, 2022, 2023, 2024]:\n",
    "    try:\n",
    "        response = requests.get(\n",
    "            f\"https://brasilapi.com.br/api/feriados/v1/{year}\")\n",
    "        response.raise_for_status()\n",
    "        holidays.extend([{\n",
    "            \"date\": datetime.strptime(data[\"date\"], \"%Y-%m-%d\").strftime(\"%d/%m/%Y\"),\n",
    "            \"name\": data[\"name\"]\n",
    "        } for data in response.json()])\n",
    "    except requests.exceptions.RequestException as e:\n",
    "        print(f\"Erro ao buscar feriados de {year}: {e}\")\n",
    "\n",
    "holidays"
   ]
  },
  {
   "cell_type": "markdown",
   "metadata": {},
   "source": [
    "#### Criando coluna feriado preenchendo os registros com o nome do feriado ou dia útil"
   ]
  },
  {
   "cell_type": "code",
   "execution_count": 21,
   "metadata": {},
   "outputs": [
    {
     "data": {
      "text/plain": [
       "tipo_data\n",
       "Dia útil                    421780\n",
       "Confraternização mundial      1439\n",
       "Tiradentes                    1282\n",
       "Dia do trabalho               1276\n",
       "Proclamação da República      1265\n",
       "Name: count, dtype: int64"
      ]
     },
     "execution_count": 21,
     "metadata": {},
     "output_type": "execute_result"
    }
   ],
   "source": [
    "holidays_dict = {holiday[\"date\"]: holiday[\"name\"] for holiday in holidays}\n",
    "\n",
    "df_accidents[\"tipo_data\"] = df_accidents[\"data_inversa\"].map(\n",
    "    holidays_dict).fillna(\"Dia útil\")\n",
    "\n",
    "df_accidents[\"tipo_data\"].value_counts().head()"
   ]
  },
  {
   "cell_type": "markdown",
   "metadata": {},
   "source": [
    "#### Verificando informações da coluna \"dia_semana\""
   ]
  },
  {
   "cell_type": "code",
   "execution_count": 22,
   "metadata": {},
   "outputs": [
    {
     "name": "stdout",
     "output_type": "stream",
     "text": [
      "<class 'pandas.core.series.Series'>\n",
      "RangeIndex: 436718 entries, 0 to 436717\n",
      "Series name: dia_semana\n",
      "Non-Null Count   Dtype \n",
      "--------------   ----- \n",
      "436718 non-null  object\n",
      "dtypes: object(1)\n",
      "memory usage: 3.3+ MB\n"
     ]
    }
   ],
   "source": [
    "df_accidents[\"dia_semana\"].info()"
   ]
  },
  {
   "cell_type": "markdown",
   "metadata": {},
   "source": [
    "#### Verificando dados estatísticos da coluna \"dia_semana\"para avaliar a necessidade de tratamento dos dados"
   ]
  },
  {
   "cell_type": "code",
   "execution_count": 23,
   "metadata": {},
   "outputs": [
    {
     "data": {
      "text/plain": [
       "count      436718\n",
       "unique          7\n",
       "top       domingo\n",
       "freq        72073\n",
       "Name: dia_semana, dtype: object"
      ]
     },
     "execution_count": 23,
     "metadata": {},
     "output_type": "execute_result"
    }
   ],
   "source": [
    "df_accidents[\"dia_semana\"].describe()"
   ]
  },
  {
   "cell_type": "markdown",
   "metadata": {},
   "source": [
    "#### Verificando a frequência dos valores da coluna \"dia_semana\" para avaliar a necessidade de tratamento dos dados"
   ]
  },
  {
   "cell_type": "code",
   "execution_count": 24,
   "metadata": {},
   "outputs": [
    {
     "data": {
      "text/plain": [
       "dia_semana\n",
       "domingo          72073\n",
       "sábado           71853\n",
       "sexta-feira      67288\n",
       "segunda-feira    59522\n",
       "quinta-feira     56770\n",
       "quarta-feira     55104\n",
       "terça-feira      54108\n",
       "Name: count, dtype: int64"
      ]
     },
     "execution_count": 24,
     "metadata": {},
     "output_type": "execute_result"
    }
   ],
   "source": [
    "df_accidents[\"dia_semana\"].value_counts()"
   ]
  },
  {
   "cell_type": "markdown",
   "metadata": {},
   "source": [
    "#### Tratamento da coluna \"dia_semana\" para corrigir codificação"
   ]
  },
  {
   "cell_type": "code",
   "execution_count": 25,
   "metadata": {},
   "outputs": [
    {
     "data": {
      "text/plain": [
       "dia_semana\n",
       "Domingo          72073\n",
       "Sábado           71853\n",
       "Sexta-feira      67288\n",
       "Segunda-feira    59522\n",
       "Quinta-feira     56770\n",
       "Name: count, dtype: int64"
      ]
     },
     "execution_count": 25,
     "metadata": {},
     "output_type": "execute_result"
    }
   ],
   "source": [
    "days_of_week = {\n",
    "    0: \"Segunda-feira\",\n",
    "    1: \"Terça-feira\",\n",
    "    2: \"Quarta-feira\",\n",
    "    3: \"Quinta-feira\",\n",
    "    4: \"Sexta-feira\",\n",
    "    5: \"Sábado\",\n",
    "    6: \"Domingo\"\n",
    "}\n",
    "\n",
    "df_accidents[\"dia_semana\"] = pd.to_datetime(\n",
    "    df_accidents[\"data_inversa\"], format='%d/%m/%Y').dt.day_of_week.map(days_of_week)\n",
    "\n",
    "df_accidents[\"dia_semana\"].value_counts().head()"
   ]
  },
  {
   "cell_type": "markdown",
   "metadata": {},
   "source": [
    "#### Verificando informações da coluna \"causa_acidente\""
   ]
  },
  {
   "cell_type": "code",
   "execution_count": 26,
   "metadata": {},
   "outputs": [
    {
     "name": "stdout",
     "output_type": "stream",
     "text": [
      "<class 'pandas.core.series.Series'>\n",
      "RangeIndex: 436718 entries, 0 to 436717\n",
      "Series name: causa_acidente\n",
      "Non-Null Count   Dtype \n",
      "--------------   ----- \n",
      "436718 non-null  object\n",
      "dtypes: object(1)\n",
      "memory usage: 3.3+ MB\n"
     ]
    }
   ],
   "source": [
    "df_accidents[\"causa_acidente\"].info()"
   ]
  },
  {
   "cell_type": "markdown",
   "metadata": {},
   "source": [
    "#### Verificando dados estatísticos da coluna \"causa_acidente\"para avaliar a necessidade de tratamento dos dados"
   ]
  },
  {
   "cell_type": "code",
   "execution_count": 27,
   "metadata": {},
   "outputs": [
    {
     "data": {
      "text/plain": [
       "count                          436718\n",
       "unique                             91\n",
       "top       Falta de Atenção à Condução\n",
       "freq                            73231\n",
       "Name: causa_acidente, dtype: object"
      ]
     },
     "execution_count": 27,
     "metadata": {},
     "output_type": "execute_result"
    }
   ],
   "source": [
    "df_accidents[\"causa_acidente\"].describe()"
   ]
  },
  {
   "cell_type": "markdown",
   "metadata": {},
   "source": [
    "#### Verificando a frequência dos valores da coluna \"causa_acidente\" para avaliar a necessidade de tratamento dos dados"
   ]
  },
  {
   "cell_type": "code",
   "execution_count": 28,
   "metadata": {},
   "outputs": [
    {
     "data": {
      "text/plain": [
       "causa_acidente\n",
       "Falta de Atenção à Condução                          73231\n",
       "Velocidade Incompatível                              35819\n",
       "Reação tardia ou ineficiente do condutor             32348\n",
       "Ausência de reação do condutor                       29866\n",
       "Desobediência às normas de trânsito pelo condutor    24089\n",
       "                                                     ...  \n",
       "Redutor de velocidade em desacordo                      28\n",
       "Faróis desregulados                                     24\n",
       "Sinalização encoberta                                   16\n",
       "Obstrução Via tentativa Assalto                         10\n",
       "Sistema de drenagem ineficiente                          7\n",
       "Name: count, Length: 91, dtype: int64"
      ]
     },
     "execution_count": 28,
     "metadata": {},
     "output_type": "execute_result"
    }
   ],
   "source": [
    "df_accidents[\"causa_acidente\"].value_counts()"
   ]
  },
  {
   "cell_type": "code",
   "execution_count": 29,
   "metadata": {},
   "outputs": [
    {
     "data": {
      "text/plain": [
       "causa_acidente\n",
       "Falta de atenção à condução                                      73231\n",
       "Velocidade incompatível                                          35819\n",
       "Reação tardia ou ineficiente do condutor                         32348\n",
       "Ausência de reação do condutor                                   29866\n",
       "Ingestão de álcool e/ou substâncias psicoativas pelo condutor    29622\n",
       "Name: count, dtype: int64"
      ]
     },
     "execution_count": 29,
     "metadata": {},
     "output_type": "execute_result"
    }
   ],
   "source": [
    "try:\n",
    "    with open(\"../wrangling/causas_acidentes.json\", \"r\", encoding=\"utf-8\") as file:\n",
    "        cause_of_accidents = json.load(file)\n",
    "\n",
    "        condition = df_accidents[\"causa_acidente\"].isin(\n",
    "            cause_of_accidents.keys())\n",
    "\n",
    "        value_match_true = df_accidents[\"causa_acidente\"].map(\n",
    "            lambda cause: cause_of_accidents.get(cause, cause).capitalize())\n",
    "\n",
    "        value_match_false = df_accidents[\"causa_acidente\"].str.capitalize()\n",
    "\n",
    "        df_accidents[\"causa_acidente\"] = np.where(\n",
    "            condition, value_match_true, value_match_false)\n",
    "except Exception as exception:\n",
    "    print(exception)\n",
    "\n",
    "df_accidents[\"causa_acidente\"].value_counts().head()"
   ]
  },
  {
   "cell_type": "markdown",
   "metadata": {},
   "source": [
    "#### Verificando informações da coluna \"tipo_acidente\""
   ]
  },
  {
   "cell_type": "code",
   "execution_count": 30,
   "metadata": {},
   "outputs": [
    {
     "name": "stdout",
     "output_type": "stream",
     "text": [
      "<class 'pandas.core.series.Series'>\n",
      "RangeIndex: 436718 entries, 0 to 436717\n",
      "Series name: tipo_acidente\n",
      "Non-Null Count   Dtype \n",
      "--------------   ----- \n",
      "436718 non-null  object\n",
      "dtypes: object(1)\n",
      "memory usage: 3.3+ MB\n"
     ]
    }
   ],
   "source": [
    "df_accidents[\"tipo_acidente\"].info()"
   ]
  },
  {
   "cell_type": "markdown",
   "metadata": {},
   "source": [
    "#### Verificando dados estatísticos da coluna \"tipo_acidente\"para avaliar a necessidade de tratamento dos dados"
   ]
  },
  {
   "cell_type": "code",
   "execution_count": 31,
   "metadata": {},
   "outputs": [
    {
     "data": {
      "text/plain": [
       "count               436718\n",
       "unique                  21\n",
       "top       Colisão traseira\n",
       "freq                 82354\n",
       "Name: tipo_acidente, dtype: object"
      ]
     },
     "execution_count": 31,
     "metadata": {},
     "output_type": "execute_result"
    }
   ],
   "source": [
    "df_accidents[\"tipo_acidente\"].describe()"
   ]
  },
  {
   "cell_type": "markdown",
   "metadata": {},
   "source": [
    "#### Verificando a frequência dos valores da coluna \"tipo_acidente\" para avaliar a necessidade de tratamento dos dados"
   ]
  },
  {
   "cell_type": "code",
   "execution_count": 32,
   "metadata": {},
   "outputs": [
    {
     "data": {
      "text/plain": [
       "tipo_acidente\n",
       "Colisão traseira                   82354\n",
       "Saída de leito carroçável          68689\n",
       "Colisão transversal                54937\n",
       "Tombamento                         36266\n",
       "Colisão frontal                    29477\n",
       "Colisão lateral                    24809\n",
       "Colisão lateral mesmo sentido      23563\n",
       "Atropelamento de Pedestre          20296\n",
       "Queda de ocupante de veículo       19623\n",
       "Colisão com objeto                 17080\n",
       "Colisão com objeto estático        14404\n",
       "Capotamento                        12324\n",
       "Incêndio                            8259\n",
       "Atropelamento de Animal             7579\n",
       "Engavetamento                       6782\n",
       "Colisão lateral sentido oposto      6564\n",
       "Eventos atípicos                    1054\n",
       "Derramamento de carga               1044\n",
       "Colisão com objeto em movimento      967\n",
       "Danos eventuais                      635\n",
       "Sinistro pessoal de trânsito          12\n",
       "Name: count, dtype: int64"
      ]
     },
     "execution_count": 32,
     "metadata": {},
     "output_type": "execute_result"
    }
   ],
   "source": [
    "df_accidents[\"tipo_acidente\"].value_counts()"
   ]
  },
  {
   "cell_type": "markdown",
   "metadata": {},
   "source": [
    "#### Tratamento da coluna \"tipo_acidente\" para capitalizar os dados"
   ]
  },
  {
   "cell_type": "code",
   "execution_count": 33,
   "metadata": {},
   "outputs": [
    {
     "data": {
      "text/plain": [
       "tipo_acidente\n",
       "Colisão traseira             82354\n",
       "Saída de leito carroçável    68689\n",
       "Colisão transversal          54937\n",
       "Tombamento                   36266\n",
       "Colisão frontal              29477\n",
       "Name: count, dtype: int64"
      ]
     },
     "execution_count": 33,
     "metadata": {},
     "output_type": "execute_result"
    }
   ],
   "source": [
    "df_accidents[\"tipo_acidente\"] = df_accidents[\"tipo_acidente\"].apply(\n",
    "    lambda data: data.capitalize())\n",
    "\n",
    "df_accidents[\"tipo_acidente\"].value_counts().head()"
   ]
  },
  {
   "cell_type": "markdown",
   "metadata": {},
   "source": [
    "#### Verificando informações da coluna \"classificacao_acidente\""
   ]
  },
  {
   "cell_type": "code",
   "execution_count": 34,
   "metadata": {},
   "outputs": [
    {
     "name": "stdout",
     "output_type": "stream",
     "text": [
      "<class 'pandas.core.series.Series'>\n",
      "RangeIndex: 436718 entries, 0 to 436717\n",
      "Series name: classificacao_acidente\n",
      "Non-Null Count   Dtype \n",
      "--------------   ----- \n",
      "436715 non-null  object\n",
      "dtypes: object(1)\n",
      "memory usage: 3.3+ MB\n"
     ]
    }
   ],
   "source": [
    "df_accidents[\"classificacao_acidente\"].info()"
   ]
  },
  {
   "cell_type": "markdown",
   "metadata": {},
   "source": [
    "#### Verificando dados estatísticos da coluna \"classificacao_acidente\" para avaliar a necessidade de tratamento dos dados"
   ]
  },
  {
   "cell_type": "code",
   "execution_count": 35,
   "metadata": {},
   "outputs": [
    {
     "data": {
      "text/plain": [
       "count                  436715\n",
       "unique                      3\n",
       "top       Com Vítimas Feridas\n",
       "freq                   327874\n",
       "Name: classificacao_acidente, dtype: object"
      ]
     },
     "execution_count": 35,
     "metadata": {},
     "output_type": "execute_result"
    }
   ],
   "source": [
    "df_accidents[\"classificacao_acidente\"].describe()"
   ]
  },
  {
   "cell_type": "markdown",
   "metadata": {},
   "source": [
    "#### Verificando a frequência dos valores da coluna \"classificacao_acidente\" para avaliar a necessidade de tratamento dos dados"
   ]
  },
  {
   "cell_type": "code",
   "execution_count": 36,
   "metadata": {},
   "outputs": [
    {
     "data": {
      "text/plain": [
       "classificacao_acidente\n",
       "Com Vítimas Feridas    327874\n",
       "Sem Vítimas             78301\n",
       "Com Vítimas Fatais      30540\n",
       "Name: count, dtype: int64"
      ]
     },
     "execution_count": 36,
     "metadata": {},
     "output_type": "execute_result"
    }
   ],
   "source": [
    "df_accidents[\"classificacao_acidente\"].value_counts()"
   ]
  },
  {
   "cell_type": "markdown",
   "metadata": {},
   "source": [
    "#### Tratamento da coluna \"classificacao_acidente\" para definir dados faltantes como \"Sem classificação\""
   ]
  },
  {
   "cell_type": "code",
   "execution_count": 37,
   "metadata": {},
   "outputs": [
    {
     "data": {
      "text/plain": [
       "classificacao_acidente\n",
       "Com vítimas feridas    327874\n",
       "Sem vítimas             78301\n",
       "Com vítimas fatais      30540\n",
       "Sem classificação           3\n",
       "Name: count, dtype: int64"
      ]
     },
     "execution_count": 37,
     "metadata": {},
     "output_type": "execute_result"
    }
   ],
   "source": [
    "df_accidents[\"classificacao_acidente\"] = df_accidents[\"classificacao_acidente\"].fillna(\n",
    "    \"Sem classificação\")\n",
    "\n",
    "df_accidents[\"classificacao_acidente\"] = df_accidents[\"classificacao_acidente\"].apply(\n",
    "    lambda data: data.capitalize())\n",
    "df_accidents[\"classificacao_acidente\"].value_counts()"
   ]
  },
  {
   "cell_type": "markdown",
   "metadata": {},
   "source": [
    "#### Verificando informações da coluna \"fase_dia\""
   ]
  },
  {
   "cell_type": "code",
   "execution_count": 40,
   "metadata": {},
   "outputs": [
    {
     "name": "stdout",
     "output_type": "stream",
     "text": [
      "<class 'pandas.core.series.Series'>\n",
      "RangeIndex: 436718 entries, 0 to 436717\n",
      "Series name: fase_dia\n",
      "Non-Null Count   Dtype \n",
      "--------------   ----- \n",
      "436718 non-null  object\n",
      "dtypes: object(1)\n",
      "memory usage: 3.3+ MB\n"
     ]
    }
   ],
   "source": [
    "df_accidents[\"fase_dia\"].info()"
   ]
  },
  {
   "cell_type": "markdown",
   "metadata": {},
   "source": [
    "#### Verificando dados estatísticos da coluna \"fase_dia\" para avaliar a necessidade de tratamento dos dados"
   ]
  },
  {
   "cell_type": "code",
   "execution_count": 41,
   "metadata": {},
   "outputs": [
    {
     "data": {
      "text/plain": [
       "count        436718\n",
       "unique            4\n",
       "top       Pleno dia\n",
       "freq         238933\n",
       "Name: fase_dia, dtype: object"
      ]
     },
     "execution_count": 41,
     "metadata": {},
     "output_type": "execute_result"
    }
   ],
   "source": [
    "df_accidents[\"fase_dia\"].describe()"
   ]
  },
  {
   "cell_type": "markdown",
   "metadata": {},
   "source": [
    "#### Verificando a frequência dos valores da coluna \"fase_dia\" para avaliar a necessidade de tratamento dos dados"
   ]
  },
  {
   "cell_type": "code",
   "execution_count": 42,
   "metadata": {},
   "outputs": [
    {
     "data": {
      "text/plain": [
       "fase_dia\n",
       "Pleno dia      238933\n",
       "Plena Noite    152663\n",
       "Anoitecer       24066\n",
       "Amanhecer       21056\n",
       "Name: count, dtype: int64"
      ]
     },
     "execution_count": 42,
     "metadata": {},
     "output_type": "execute_result"
    }
   ],
   "source": [
    "df_accidents[\"fase_dia\"].value_counts()"
   ]
  },
  {
   "cell_type": "markdown",
   "metadata": {},
   "source": [
    "#### Tratamento da coluna \"fase_dia\" para capitalizar os dados"
   ]
  },
  {
   "cell_type": "code",
   "execution_count": 43,
   "metadata": {},
   "outputs": [
    {
     "data": {
      "text/plain": [
       "fase_dia\n",
       "Pleno dia      238933\n",
       "Plena noite    152663\n",
       "Anoitecer       24066\n",
       "Amanhecer       21056\n",
       "Name: count, dtype: int64"
      ]
     },
     "execution_count": 43,
     "metadata": {},
     "output_type": "execute_result"
    }
   ],
   "source": [
    "df_accidents[\"fase_dia\"] = df_accidents[\"fase_dia\"].apply(\n",
    "    lambda data: data.capitalize())\n",
    "\n",
    "df_accidents[\"fase_dia\"].value_counts().head()"
   ]
  },
  {
   "cell_type": "markdown",
   "metadata": {},
   "source": [
    "#### Verificando informações da coluna \"condicao_metereologica\""
   ]
  },
  {
   "cell_type": "code",
   "execution_count": 44,
   "metadata": {},
   "outputs": [
    {
     "name": "stdout",
     "output_type": "stream",
     "text": [
      "<class 'pandas.core.series.Series'>\n",
      "RangeIndex: 436718 entries, 0 to 436717\n",
      "Series name: condicao_metereologica\n",
      "Non-Null Count   Dtype \n",
      "--------------   ----- \n",
      "436718 non-null  object\n",
      "dtypes: object(1)\n",
      "memory usage: 3.3+ MB\n"
     ]
    }
   ],
   "source": [
    "df_accidents[\"condicao_metereologica\"].info()"
   ]
  },
  {
   "cell_type": "markdown",
   "metadata": {},
   "source": [
    "#### Verificando dados estatísticos da coluna \"condicao_metereologica\" para avaliar a necessidade de tratamento dos dados"
   ]
  },
  {
   "cell_type": "code",
   "execution_count": 45,
   "metadata": {},
   "outputs": [
    {
     "data": {
      "text/plain": [
       "count        436718\n",
       "unique           10\n",
       "top       Céu Claro\n",
       "freq         262859\n",
       "Name: condicao_metereologica, dtype: object"
      ]
     },
     "execution_count": 45,
     "metadata": {},
     "output_type": "execute_result"
    }
   ],
   "source": [
    "df_accidents[\"condicao_metereologica\"].describe()"
   ]
  },
  {
   "cell_type": "markdown",
   "metadata": {},
   "source": [
    "#### Verificando a frequência dos valores da coluna \"condicao_metereologica\" para avaliar a necessidade de tratamento dos dados"
   ]
  },
  {
   "cell_type": "code",
   "execution_count": 46,
   "metadata": {},
   "outputs": [
    {
     "data": {
      "text/plain": [
       "condicao_metereologica\n",
       "Céu Claro           262859\n",
       "Nublado              71755\n",
       "Chuva                47270\n",
       "Sol                  29126\n",
       "Garoa/Chuvisco       15289\n",
       "Ignorado              5899\n",
       "Nevoeiro/Neblina      3671\n",
       "Vento                  825\n",
       "Granizo                 17\n",
       "Neve                     7\n",
       "Name: count, dtype: int64"
      ]
     },
     "execution_count": 46,
     "metadata": {},
     "output_type": "execute_result"
    }
   ],
   "source": [
    "df_accidents[\"condicao_metereologica\"].value_counts()"
   ]
  },
  {
   "cell_type": "markdown",
   "metadata": {},
   "source": [
    "#### Verificando informações da coluna \"uso_solo\""
   ]
  },
  {
   "cell_type": "code",
   "execution_count": 47,
   "metadata": {},
   "outputs": [
    {
     "name": "stdout",
     "output_type": "stream",
     "text": [
      "<class 'pandas.core.series.Series'>\n",
      "RangeIndex: 436718 entries, 0 to 436717\n",
      "Series name: uso_solo\n",
      "Non-Null Count   Dtype \n",
      "--------------   ----- \n",
      "436718 non-null  object\n",
      "dtypes: object(1)\n",
      "memory usage: 3.3+ MB\n"
     ]
    }
   ],
   "source": [
    "df_accidents[\"uso_solo\"].info()"
   ]
  },
  {
   "cell_type": "markdown",
   "metadata": {},
   "source": [
    "#### Verificando dados estatísticos da coluna \"uso_solo\" para avaliar a necessidade de tratamento dos dados"
   ]
  },
  {
   "cell_type": "code",
   "execution_count": 50,
   "metadata": {},
   "outputs": [
    {
     "data": {
      "text/plain": [
       "count     436718\n",
       "unique         2\n",
       "top          Não\n",
       "freq      245773\n",
       "Name: uso_solo, dtype: object"
      ]
     },
     "execution_count": 50,
     "metadata": {},
     "output_type": "execute_result"
    }
   ],
   "source": [
    "df_accidents[\"uso_solo\"].describe()"
   ]
  },
  {
   "cell_type": "markdown",
   "metadata": {},
   "source": [
    "#### Verificando a frequência dos valores da coluna \"uso_solo\" para avaliar a necessidade de tratamento dos dados"
   ]
  },
  {
   "cell_type": "code",
   "execution_count": 51,
   "metadata": {},
   "outputs": [
    {
     "data": {
      "text/plain": [
       "uso_solo\n",
       "Não    245773\n",
       "Sim    190945\n",
       "Name: count, dtype: int64"
      ]
     },
     "execution_count": 51,
     "metadata": {},
     "output_type": "execute_result"
    }
   ],
   "source": [
    "df_accidents[\"uso_solo\"].value_counts()"
   ]
  },
  {
   "cell_type": "markdown",
   "metadata": {},
   "source": [
    "#### Tratamento da coluna \"uso_solo\" para alterar para \"Urbano\" quando \"Sim\" e \"Rural\" quando \"Não\""
   ]
  },
  {
   "cell_type": "code",
   "execution_count": 54,
   "metadata": {},
   "outputs": [
    {
     "data": {
      "text/plain": [
       "uso_solo\n",
       "Rural     245773\n",
       "Urbano    190945\n",
       "Name: count, dtype: int64"
      ]
     },
     "execution_count": 54,
     "metadata": {},
     "output_type": "execute_result"
    }
   ],
   "source": [
    "df_accidents[\"uso_solo\"] = np.where(\n",
    "    df_accidents[\"uso_solo\"] == \"Sim\", \"Urbano\", \"Rural\")\n",
    "\n",
    "df_accidents[\"uso_solo\"].value_counts().head()"
   ]
  },
  {
   "cell_type": "markdown",
   "metadata": {},
   "source": [
    "#### Verificando informações da coluna \"tipo_pista\""
   ]
  },
  {
   "cell_type": "code",
   "execution_count": 55,
   "metadata": {},
   "outputs": [
    {
     "name": "stdout",
     "output_type": "stream",
     "text": [
      "<class 'pandas.core.series.Series'>\n",
      "RangeIndex: 436718 entries, 0 to 436717\n",
      "Series name: tipo_pista\n",
      "Non-Null Count   Dtype \n",
      "--------------   ----- \n",
      "436718 non-null  object\n",
      "dtypes: object(1)\n",
      "memory usage: 3.3+ MB\n"
     ]
    }
   ],
   "source": [
    "df_accidents[\"tipo_pista\"].info()"
   ]
  },
  {
   "cell_type": "markdown",
   "metadata": {},
   "source": [
    "#### Verificando dados estatísticos da coluna \"tipo_pista\" para avaliar a necessidade de tratamento dos dados"
   ]
  },
  {
   "cell_type": "code",
   "execution_count": 56,
   "metadata": {},
   "outputs": [
    {
     "data": {
      "text/plain": [
       "count      436718\n",
       "unique          3\n",
       "top       Simples\n",
       "freq       217959\n",
       "Name: tipo_pista, dtype: object"
      ]
     },
     "execution_count": 56,
     "metadata": {},
     "output_type": "execute_result"
    }
   ],
   "source": [
    "df_accidents[\"tipo_pista\"].describe()"
   ]
  },
  {
   "cell_type": "markdown",
   "metadata": {},
   "source": [
    "#### Verificando a frequência dos valores da coluna \"tipo_pista\" para avaliar a necessidade de tratamento dos dados"
   ]
  },
  {
   "cell_type": "code",
   "execution_count": 57,
   "metadata": {},
   "outputs": [
    {
     "data": {
      "text/plain": [
       "tipo_pista\n",
       "Simples     217959\n",
       "Dupla       180760\n",
       "Múltipla     37999\n",
       "Name: count, dtype: int64"
      ]
     },
     "execution_count": 57,
     "metadata": {},
     "output_type": "execute_result"
    }
   ],
   "source": [
    "df_accidents[\"tipo_pista\"].value_counts()"
   ]
  },
  {
   "cell_type": "markdown",
   "metadata": {},
   "source": [
    "#### Verificando informações da coluna \"sentido_via\""
   ]
  },
  {
   "cell_type": "code",
   "execution_count": 58,
   "metadata": {},
   "outputs": [
    {
     "name": "stdout",
     "output_type": "stream",
     "text": [
      "<class 'pandas.core.series.Series'>\n",
      "RangeIndex: 436718 entries, 0 to 436717\n",
      "Series name: sentido_via\n",
      "Non-Null Count   Dtype \n",
      "--------------   ----- \n",
      "436718 non-null  object\n",
      "dtypes: object(1)\n",
      "memory usage: 3.3+ MB\n"
     ]
    }
   ],
   "source": [
    "df_accidents[\"sentido_via\"].info()"
   ]
  },
  {
   "cell_type": "markdown",
   "metadata": {},
   "source": [
    "#### Verificando dados estatísticos da coluna \"sentido_via\" para avaliar a necessidade de tratamento dos dados"
   ]
  },
  {
   "cell_type": "code",
   "execution_count": 59,
   "metadata": {},
   "outputs": [
    {
     "data": {
      "text/plain": [
       "count        436718\n",
       "unique            3\n",
       "top       Crescente\n",
       "freq         233661\n",
       "Name: sentido_via, dtype: object"
      ]
     },
     "execution_count": 59,
     "metadata": {},
     "output_type": "execute_result"
    }
   ],
   "source": [
    "df_accidents[\"sentido_via\"].describe()"
   ]
  },
  {
   "cell_type": "markdown",
   "metadata": {},
   "source": [
    "#### Verificando a frequência dos valores da coluna \"sentido_via\" para avaliar a necessidade de tratamento dos dados"
   ]
  },
  {
   "cell_type": "code",
   "execution_count": 60,
   "metadata": {},
   "outputs": [
    {
     "data": {
      "text/plain": [
       "sentido_via\n",
       "Crescente        233661\n",
       "Decrescente      202061\n",
       "Não Informado       996\n",
       "Name: count, dtype: int64"
      ]
     },
     "execution_count": 60,
     "metadata": {},
     "output_type": "execute_result"
    }
   ],
   "source": [
    "df_accidents[\"sentido_via\"].value_counts()"
   ]
  },
  {
   "cell_type": "markdown",
   "metadata": {},
   "source": [
    "#### Verificando informações da coluna \"tracado_via\""
   ]
  },
  {
   "cell_type": "code",
   "execution_count": 61,
   "metadata": {},
   "outputs": [
    {
     "name": "stdout",
     "output_type": "stream",
     "text": [
      "<class 'pandas.core.series.Series'>\n",
      "RangeIndex: 436718 entries, 0 to 436717\n",
      "Series name: tracado_via\n",
      "Non-Null Count   Dtype \n",
      "--------------   ----- \n",
      "436718 non-null  object\n",
      "dtypes: object(1)\n",
      "memory usage: 3.3+ MB\n"
     ]
    }
   ],
   "source": [
    "df_accidents[\"tracado_via\"].info()"
   ]
  },
  {
   "cell_type": "markdown",
   "metadata": {},
   "source": [
    "#### Verificando dados estatísticos da coluna \"tracado_via\" para avaliar a necessidade de tratamento dos dados"
   ]
  },
  {
   "cell_type": "code",
   "execution_count": 62,
   "metadata": {},
   "outputs": [
    {
     "data": {
      "text/plain": [
       "count     436718\n",
       "unique       973\n",
       "top         Reta\n",
       "freq      258186\n",
       "Name: tracado_via, dtype: object"
      ]
     },
     "execution_count": 62,
     "metadata": {},
     "output_type": "execute_result"
    }
   ],
   "source": [
    "df_accidents[\"tracado_via\"].describe()"
   ]
  },
  {
   "cell_type": "markdown",
   "metadata": {},
   "source": [
    "#### Verificando a frequência dos valores da coluna \"tracado_via\" para avaliar a necessidade de tratamento dos dados"
   ]
  },
  {
   "cell_type": "code",
   "execution_count": 73,
   "metadata": {},
   "outputs": [
    {
     "data": {
      "text/plain": [
       "tracado_via\n",
       "Reta                                                                258186\n",
       "Curva                                                                62709\n",
       "Não Informado                                                        25504\n",
       "Interseção de vias                                                   10724\n",
       "Rotatória                                                             7849\n",
       "                                                                     ...  \n",
       "Desvio Temporário;Aclive;Em Obras;Reta                                   1\n",
       "Reta;Interseção de Vias;Aclive;Retorno Regulamentado                     1\n",
       "Retorno Regulamentado;Curva;Interseção de Vias;Aclive                    1\n",
       "Reta;Interseção de Vias;Em Obras;Aclive                                  1\n",
       "Interseção de Vias;Rotatória;Reta;Em Obras;Retorno Regulamentado         1\n",
       "Name: count, Length: 973, dtype: int64"
      ]
     },
     "execution_count": 73,
     "metadata": {},
     "output_type": "execute_result"
    }
   ],
   "source": [
    "tracado_via = df_accidents[\"tracado_via\"].value_counts()\n",
    "tracado_via"
   ]
  },
  {
   "cell_type": "markdown",
   "metadata": {},
   "source": [
    "#### Exportando os traçados de via encontrados (973) para um arquivo para analisar como fazer o tratamento"
   ]
  },
  {
   "cell_type": "code",
   "execution_count": 74,
   "metadata": {},
   "outputs": [],
   "source": [
    "tracado_via.index.to_frame(\n",
    "    name=\"tracado_via\").to_csv(\"../wrangling/tracado_via.csv\", index=False)"
   ]
  },
  {
   "cell_type": "markdown",
   "metadata": {},
   "source": [
    "#### Removendo a coluna tracado_via, pois seus dados estão muito complexos para serem agrupados. Em alguns casos existem dados com Ponte;Reta e Reta;Ponte. Dessa forma, não é possível saber qual o valor correto. A remoção desta coluna não deve influenciar nas análises posteriores"
   ]
  },
  {
   "cell_type": "code",
   "execution_count": 77,
   "metadata": {},
   "outputs": [
    {
     "data": {
      "text/html": [
       "<div>\n",
       "<style scoped>\n",
       "    .dataframe tbody tr th:only-of-type {\n",
       "        vertical-align: middle;\n",
       "    }\n",
       "\n",
       "    .dataframe tbody tr th {\n",
       "        vertical-align: top;\n",
       "    }\n",
       "\n",
       "    .dataframe thead th {\n",
       "        text-align: right;\n",
       "    }\n",
       "</style>\n",
       "<table border=\"1\" class=\"dataframe\">\n",
       "  <thead>\n",
       "    <tr style=\"text-align: right;\">\n",
       "      <th></th>\n",
       "      <th>id</th>\n",
       "      <th>data_inversa</th>\n",
       "      <th>tipo_data</th>\n",
       "      <th>ano</th>\n",
       "      <th>mes</th>\n",
       "      <th>dia_semana</th>\n",
       "      <th>horario</th>\n",
       "      <th>fase_dia</th>\n",
       "      <th>condicao_metereologica</th>\n",
       "      <th>uf</th>\n",
       "      <th>...</th>\n",
       "      <th>causa_acidente</th>\n",
       "      <th>classificacao_acidente</th>\n",
       "      <th>ilesos</th>\n",
       "      <th>feridos_leves</th>\n",
       "      <th>feridos_graves</th>\n",
       "      <th>ignorados</th>\n",
       "      <th>veiculos</th>\n",
       "      <th>mortos</th>\n",
       "      <th>latitude</th>\n",
       "      <th>longitude</th>\n",
       "    </tr>\n",
       "  </thead>\n",
       "  <tbody>\n",
       "    <tr>\n",
       "      <th>0</th>\n",
       "      <td>99973.0</td>\n",
       "      <td>01/01/2018</td>\n",
       "      <td>Confraternização mundial</td>\n",
       "      <td>2018</td>\n",
       "      <td>Janeiro</td>\n",
       "      <td>Segunda-feira</td>\n",
       "      <td>00:20:00</td>\n",
       "      <td>Plena noite</td>\n",
       "      <td>Nublado</td>\n",
       "      <td>RJ</td>\n",
       "      <td>...</td>\n",
       "      <td>Condutor dormindo</td>\n",
       "      <td>Com vítimas feridas</td>\n",
       "      <td>1</td>\n",
       "      <td>0</td>\n",
       "      <td>4</td>\n",
       "      <td>0</td>\n",
       "      <td>1</td>\n",
       "      <td>0</td>\n",
       "      <td>-22,46937</td>\n",
       "      <td>-44,44705</td>\n",
       "    </tr>\n",
       "    <tr>\n",
       "      <th>1</th>\n",
       "      <td>99976.0</td>\n",
       "      <td>01/01/2018</td>\n",
       "      <td>Confraternização mundial</td>\n",
       "      <td>2018</td>\n",
       "      <td>Janeiro</td>\n",
       "      <td>Segunda-feira</td>\n",
       "      <td>00:40:00</td>\n",
       "      <td>Plena noite</td>\n",
       "      <td>Céu Claro</td>\n",
       "      <td>SC</td>\n",
       "      <td>...</td>\n",
       "      <td>Condutor deixou de manter distância do veículo...</td>\n",
       "      <td>Com vítimas feridas</td>\n",
       "      <td>1</td>\n",
       "      <td>0</td>\n",
       "      <td>2</td>\n",
       "      <td>0</td>\n",
       "      <td>2</td>\n",
       "      <td>0</td>\n",
       "      <td>-27,59971687</td>\n",
       "      <td>-48,57565694</td>\n",
       "    </tr>\n",
       "    <tr>\n",
       "      <th>2</th>\n",
       "      <td>99977.0</td>\n",
       "      <td>01/01/2018</td>\n",
       "      <td>Confraternização mundial</td>\n",
       "      <td>2018</td>\n",
       "      <td>Janeiro</td>\n",
       "      <td>Segunda-feira</td>\n",
       "      <td>00:30:00</td>\n",
       "      <td>Plena noite</td>\n",
       "      <td>Nublado</td>\n",
       "      <td>RJ</td>\n",
       "      <td>...</td>\n",
       "      <td>Ultrapassagem indevida</td>\n",
       "      <td>Com vítimas feridas</td>\n",
       "      <td>3</td>\n",
       "      <td>1</td>\n",
       "      <td>0</td>\n",
       "      <td>1</td>\n",
       "      <td>3</td>\n",
       "      <td>0</td>\n",
       "      <td>-22,763901</td>\n",
       "      <td>-42,927532</td>\n",
       "    </tr>\n",
       "    <tr>\n",
       "      <th>3</th>\n",
       "      <td>99981.0</td>\n",
       "      <td>01/01/2018</td>\n",
       "      <td>Confraternização mundial</td>\n",
       "      <td>2018</td>\n",
       "      <td>Janeiro</td>\n",
       "      <td>Segunda-feira</td>\n",
       "      <td>01:15:00</td>\n",
       "      <td>Pleno dia</td>\n",
       "      <td>Céu Claro</td>\n",
       "      <td>RS</td>\n",
       "      <td>...</td>\n",
       "      <td>Ingestão de álcool e/ou substâncias psicoativa...</td>\n",
       "      <td>Sem vítimas</td>\n",
       "      <td>2</td>\n",
       "      <td>0</td>\n",
       "      <td>0</td>\n",
       "      <td>0</td>\n",
       "      <td>2</td>\n",
       "      <td>0</td>\n",
       "      <td>-27,953636</td>\n",
       "      <td>-52,916374</td>\n",
       "    </tr>\n",
       "    <tr>\n",
       "      <th>4</th>\n",
       "      <td>99982.0</td>\n",
       "      <td>01/01/2018</td>\n",
       "      <td>Confraternização mundial</td>\n",
       "      <td>2018</td>\n",
       "      <td>Janeiro</td>\n",
       "      <td>Segunda-feira</td>\n",
       "      <td>00:20:00</td>\n",
       "      <td>Plena noite</td>\n",
       "      <td>Nublado</td>\n",
       "      <td>RS</td>\n",
       "      <td>...</td>\n",
       "      <td>Falta de atenção à condução</td>\n",
       "      <td>Com vítimas feridas</td>\n",
       "      <td>0</td>\n",
       "      <td>0</td>\n",
       "      <td>1</td>\n",
       "      <td>0</td>\n",
       "      <td>1</td>\n",
       "      <td>0</td>\n",
       "      <td>-31,395214</td>\n",
       "      <td>-53,78391174</td>\n",
       "    </tr>\n",
       "  </tbody>\n",
       "</table>\n",
       "<p>5 rows × 27 columns</p>\n",
       "</div>"
      ],
      "text/plain": [
       "        id data_inversa                 tipo_data   ano      mes  \\\n",
       "0  99973.0   01/01/2018  Confraternização mundial  2018  Janeiro   \n",
       "1  99976.0   01/01/2018  Confraternização mundial  2018  Janeiro   \n",
       "2  99977.0   01/01/2018  Confraternização mundial  2018  Janeiro   \n",
       "3  99981.0   01/01/2018  Confraternização mundial  2018  Janeiro   \n",
       "4  99982.0   01/01/2018  Confraternização mundial  2018  Janeiro   \n",
       "\n",
       "      dia_semana   horario     fase_dia condicao_metereologica  uf  ...  \\\n",
       "0  Segunda-feira  00:20:00  Plena noite                Nublado  RJ  ...   \n",
       "1  Segunda-feira  00:40:00  Plena noite              Céu Claro  SC  ...   \n",
       "2  Segunda-feira  00:30:00  Plena noite                Nublado  RJ  ...   \n",
       "3  Segunda-feira  01:15:00    Pleno dia              Céu Claro  RS  ...   \n",
       "4  Segunda-feira  00:20:00  Plena noite                Nublado  RS  ...   \n",
       "\n",
       "                                      causa_acidente classificacao_acidente  \\\n",
       "0                                  Condutor dormindo    Com vítimas feridas   \n",
       "1  Condutor deixou de manter distância do veículo...    Com vítimas feridas   \n",
       "2                             Ultrapassagem indevida    Com vítimas feridas   \n",
       "3  Ingestão de álcool e/ou substâncias psicoativa...            Sem vítimas   \n",
       "4                        Falta de atenção à condução    Com vítimas feridas   \n",
       "\n",
       "  ilesos feridos_leves feridos_graves ignorados veiculos mortos      latitude  \\\n",
       "0      1             0              4         0        1      0     -22,46937   \n",
       "1      1             0              2         0        2      0  -27,59971687   \n",
       "2      3             1              0         1        3      0    -22,763901   \n",
       "3      2             0              0         0        2      0    -27,953636   \n",
       "4      0             0              1         0        1      0    -31,395214   \n",
       "\n",
       "      longitude  \n",
       "0     -44,44705  \n",
       "1  -48,57565694  \n",
       "2    -42,927532  \n",
       "3    -52,916374  \n",
       "4  -53,78391174  \n",
       "\n",
       "[5 rows x 27 columns]"
      ]
     },
     "execution_count": 77,
     "metadata": {},
     "output_type": "execute_result"
    }
   ],
   "source": [
    "df_accidents = df_accidents.drop(columns=[\n",
    "    \"tracado_via\"\n",
    "])\n",
    "df_accidents.head()"
   ]
  },
  {
   "cell_type": "markdown",
   "metadata": {},
   "source": [
    "#### Reordenando o dataframe antes de salvar"
   ]
  },
  {
   "cell_type": "code",
   "execution_count": 78,
   "metadata": {},
   "outputs": [
    {
     "data": {
      "text/html": [
       "<div>\n",
       "<style scoped>\n",
       "    .dataframe tbody tr th:only-of-type {\n",
       "        vertical-align: middle;\n",
       "    }\n",
       "\n",
       "    .dataframe tbody tr th {\n",
       "        vertical-align: top;\n",
       "    }\n",
       "\n",
       "    .dataframe thead th {\n",
       "        text-align: right;\n",
       "    }\n",
       "</style>\n",
       "<table border=\"1\" class=\"dataframe\">\n",
       "  <thead>\n",
       "    <tr style=\"text-align: right;\">\n",
       "      <th></th>\n",
       "      <th>id</th>\n",
       "      <th>data_inversa</th>\n",
       "      <th>tipo_data</th>\n",
       "      <th>ano</th>\n",
       "      <th>mes</th>\n",
       "      <th>dia_semana</th>\n",
       "      <th>horario</th>\n",
       "      <th>fase_dia</th>\n",
       "      <th>condicao_metereologica</th>\n",
       "      <th>uf</th>\n",
       "      <th>...</th>\n",
       "      <th>causa_acidente</th>\n",
       "      <th>classificacao_acidente</th>\n",
       "      <th>ilesos</th>\n",
       "      <th>feridos_leves</th>\n",
       "      <th>feridos_graves</th>\n",
       "      <th>ignorados</th>\n",
       "      <th>veiculos</th>\n",
       "      <th>mortos</th>\n",
       "      <th>latitude</th>\n",
       "      <th>longitude</th>\n",
       "    </tr>\n",
       "  </thead>\n",
       "  <tbody>\n",
       "    <tr>\n",
       "      <th>0</th>\n",
       "      <td>99973.0</td>\n",
       "      <td>01/01/2018</td>\n",
       "      <td>Confraternização mundial</td>\n",
       "      <td>2018</td>\n",
       "      <td>Janeiro</td>\n",
       "      <td>Segunda-feira</td>\n",
       "      <td>00:20:00</td>\n",
       "      <td>Plena noite</td>\n",
       "      <td>Nublado</td>\n",
       "      <td>RJ</td>\n",
       "      <td>...</td>\n",
       "      <td>Condutor dormindo</td>\n",
       "      <td>Com vítimas feridas</td>\n",
       "      <td>1</td>\n",
       "      <td>0</td>\n",
       "      <td>4</td>\n",
       "      <td>0</td>\n",
       "      <td>1</td>\n",
       "      <td>0</td>\n",
       "      <td>-22,46937</td>\n",
       "      <td>-44,44705</td>\n",
       "    </tr>\n",
       "    <tr>\n",
       "      <th>1</th>\n",
       "      <td>99976.0</td>\n",
       "      <td>01/01/2018</td>\n",
       "      <td>Confraternização mundial</td>\n",
       "      <td>2018</td>\n",
       "      <td>Janeiro</td>\n",
       "      <td>Segunda-feira</td>\n",
       "      <td>00:40:00</td>\n",
       "      <td>Plena noite</td>\n",
       "      <td>Céu Claro</td>\n",
       "      <td>SC</td>\n",
       "      <td>...</td>\n",
       "      <td>Condutor deixou de manter distância do veículo...</td>\n",
       "      <td>Com vítimas feridas</td>\n",
       "      <td>1</td>\n",
       "      <td>0</td>\n",
       "      <td>2</td>\n",
       "      <td>0</td>\n",
       "      <td>2</td>\n",
       "      <td>0</td>\n",
       "      <td>-27,59971687</td>\n",
       "      <td>-48,57565694</td>\n",
       "    </tr>\n",
       "    <tr>\n",
       "      <th>2</th>\n",
       "      <td>99977.0</td>\n",
       "      <td>01/01/2018</td>\n",
       "      <td>Confraternização mundial</td>\n",
       "      <td>2018</td>\n",
       "      <td>Janeiro</td>\n",
       "      <td>Segunda-feira</td>\n",
       "      <td>00:30:00</td>\n",
       "      <td>Plena noite</td>\n",
       "      <td>Nublado</td>\n",
       "      <td>RJ</td>\n",
       "      <td>...</td>\n",
       "      <td>Ultrapassagem indevida</td>\n",
       "      <td>Com vítimas feridas</td>\n",
       "      <td>3</td>\n",
       "      <td>1</td>\n",
       "      <td>0</td>\n",
       "      <td>1</td>\n",
       "      <td>3</td>\n",
       "      <td>0</td>\n",
       "      <td>-22,763901</td>\n",
       "      <td>-42,927532</td>\n",
       "    </tr>\n",
       "    <tr>\n",
       "      <th>3</th>\n",
       "      <td>99981.0</td>\n",
       "      <td>01/01/2018</td>\n",
       "      <td>Confraternização mundial</td>\n",
       "      <td>2018</td>\n",
       "      <td>Janeiro</td>\n",
       "      <td>Segunda-feira</td>\n",
       "      <td>01:15:00</td>\n",
       "      <td>Pleno dia</td>\n",
       "      <td>Céu Claro</td>\n",
       "      <td>RS</td>\n",
       "      <td>...</td>\n",
       "      <td>Ingestão de álcool e/ou substâncias psicoativa...</td>\n",
       "      <td>Sem vítimas</td>\n",
       "      <td>2</td>\n",
       "      <td>0</td>\n",
       "      <td>0</td>\n",
       "      <td>0</td>\n",
       "      <td>2</td>\n",
       "      <td>0</td>\n",
       "      <td>-27,953636</td>\n",
       "      <td>-52,916374</td>\n",
       "    </tr>\n",
       "    <tr>\n",
       "      <th>4</th>\n",
       "      <td>99982.0</td>\n",
       "      <td>01/01/2018</td>\n",
       "      <td>Confraternização mundial</td>\n",
       "      <td>2018</td>\n",
       "      <td>Janeiro</td>\n",
       "      <td>Segunda-feira</td>\n",
       "      <td>00:20:00</td>\n",
       "      <td>Plena noite</td>\n",
       "      <td>Nublado</td>\n",
       "      <td>RS</td>\n",
       "      <td>...</td>\n",
       "      <td>Falta de atenção à condução</td>\n",
       "      <td>Com vítimas feridas</td>\n",
       "      <td>0</td>\n",
       "      <td>0</td>\n",
       "      <td>1</td>\n",
       "      <td>0</td>\n",
       "      <td>1</td>\n",
       "      <td>0</td>\n",
       "      <td>-31,395214</td>\n",
       "      <td>-53,78391174</td>\n",
       "    </tr>\n",
       "  </tbody>\n",
       "</table>\n",
       "<p>5 rows × 27 columns</p>\n",
       "</div>"
      ],
      "text/plain": [
       "        id data_inversa                 tipo_data   ano      mes  \\\n",
       "0  99973.0   01/01/2018  Confraternização mundial  2018  Janeiro   \n",
       "1  99976.0   01/01/2018  Confraternização mundial  2018  Janeiro   \n",
       "2  99977.0   01/01/2018  Confraternização mundial  2018  Janeiro   \n",
       "3  99981.0   01/01/2018  Confraternização mundial  2018  Janeiro   \n",
       "4  99982.0   01/01/2018  Confraternização mundial  2018  Janeiro   \n",
       "\n",
       "      dia_semana   horario     fase_dia condicao_metereologica  uf  ...  \\\n",
       "0  Segunda-feira  00:20:00  Plena noite                Nublado  RJ  ...   \n",
       "1  Segunda-feira  00:40:00  Plena noite              Céu Claro  SC  ...   \n",
       "2  Segunda-feira  00:30:00  Plena noite                Nublado  RJ  ...   \n",
       "3  Segunda-feira  01:15:00    Pleno dia              Céu Claro  RS  ...   \n",
       "4  Segunda-feira  00:20:00  Plena noite                Nublado  RS  ...   \n",
       "\n",
       "                                      causa_acidente classificacao_acidente  \\\n",
       "0                                  Condutor dormindo    Com vítimas feridas   \n",
       "1  Condutor deixou de manter distância do veículo...    Com vítimas feridas   \n",
       "2                             Ultrapassagem indevida    Com vítimas feridas   \n",
       "3  Ingestão de álcool e/ou substâncias psicoativa...            Sem vítimas   \n",
       "4                        Falta de atenção à condução    Com vítimas feridas   \n",
       "\n",
       "  ilesos feridos_leves feridos_graves ignorados veiculos mortos      latitude  \\\n",
       "0      1             0              4         0        1      0     -22,46937   \n",
       "1      1             0              2         0        2      0  -27,59971687   \n",
       "2      3             1              0         1        3      0    -22,763901   \n",
       "3      2             0              0         0        2      0    -27,953636   \n",
       "4      0             0              1         0        1      0    -31,395214   \n",
       "\n",
       "      longitude  \n",
       "0     -44,44705  \n",
       "1  -48,57565694  \n",
       "2    -42,927532  \n",
       "3    -52,916374  \n",
       "4  -53,78391174  \n",
       "\n",
       "[5 rows x 27 columns]"
      ]
     },
     "execution_count": 78,
     "metadata": {},
     "output_type": "execute_result"
    }
   ],
   "source": [
    "df_accidents = df_accidents[[\n",
    "    \"id\",\n",
    "    \"data_inversa\",\n",
    "    \"tipo_data\",\n",
    "    \"ano\",\n",
    "    \"mes\",\n",
    "    \"dia_semana\",\n",
    "    \"horario\",\n",
    "    \"fase_dia\",\n",
    "    \"condicao_metereologica\",\n",
    "    \"uf\",\n",
    "    \"municipio\",\n",
    "    \"br\",\n",
    "    \"km\",\n",
    "    \"uso_solo\",\n",
    "    \"tipo_pista\",\n",
    "    \"sentido_via\",\n",
    "    \"tipo_acidente\",\n",
    "    \"causa_acidente\",\n",
    "    \"classificacao_acidente\",\n",
    "    \"ilesos\",\n",
    "    \"feridos_leves\",\n",
    "    \"feridos_graves\",\n",
    "    \"ignorados\",\n",
    "    \"veiculos\",\n",
    "    \"mortos\",\n",
    "    \"latitude\",\n",
    "    \"longitude\"\n",
    "]]\n",
    "df_accidents.head()"
   ]
  },
  {
   "cell_type": "markdown",
   "metadata": {},
   "source": [
    "#### Salvando os dados em um novo CSV após o tratamento de dados"
   ]
  },
  {
   "cell_type": "code",
   "execution_count": 79,
   "metadata": {},
   "outputs": [],
   "source": [
    "df_accidents.to_csv(\n",
    "    path_or_buf=\"../wrangling/datatran2018_2024_dados_tratados.csv\",\n",
    "    index=False\n",
    ")"
   ]
  }
 ],
 "metadata": {
  "kernelspec": {
   "display_name": "venv",
   "language": "python",
   "name": "python3"
  },
  "language_info": {
   "codemirror_mode": {
    "name": "ipython",
    "version": 3
   },
   "file_extension": ".py",
   "mimetype": "text/x-python",
   "name": "python",
   "nbconvert_exporter": "python",
   "pygments_lexer": "ipython3",
   "version": "3.13.2"
  }
 },
 "nbformat": 4,
 "nbformat_minor": 2
}
