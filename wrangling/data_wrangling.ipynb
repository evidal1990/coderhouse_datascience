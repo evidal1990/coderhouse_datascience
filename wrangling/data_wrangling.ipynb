{
 "cells": [
  {
   "cell_type": "markdown",
   "metadata": {},
   "source": [
    "#### Adicionando o caminho do projeto ao path"
   ]
  },
  {
   "cell_type": "code",
   "execution_count": 39,
   "metadata": {},
   "outputs": [],
   "source": [
    "import os\n",
    "os.chdir('/Users/edithvidal/Documents/Github/data_science_analysis/')"
   ]
  },
  {
   "cell_type": "markdown",
   "metadata": {},
   "source": [
    "#### Importando as bibliotecas necessárias para iniciar a leitura dos arquivos"
   ]
  },
  {
   "cell_type": "code",
   "execution_count": 40,
   "metadata": {},
   "outputs": [
    {
     "name": "stdout",
     "output_type": "stream",
     "text": [
      "Requirement already satisfied: missingno in ./venv/lib/python3.13/site-packages (0.5.2)\n",
      "Requirement already satisfied: numpy in ./venv/lib/python3.13/site-packages (from missingno) (2.2.2)\n",
      "Requirement already satisfied: matplotlib in ./venv/lib/python3.13/site-packages (from missingno) (3.10.0)\n",
      "Requirement already satisfied: scipy in ./venv/lib/python3.13/site-packages (from missingno) (1.15.2)\n",
      "Requirement already satisfied: seaborn in ./venv/lib/python3.13/site-packages (from missingno) (0.13.2)\n",
      "Requirement already satisfied: contourpy>=1.0.1 in ./venv/lib/python3.13/site-packages (from matplotlib->missingno) (1.3.1)\n",
      "Requirement already satisfied: cycler>=0.10 in ./venv/lib/python3.13/site-packages (from matplotlib->missingno) (0.12.1)\n",
      "Requirement already satisfied: fonttools>=4.22.0 in ./venv/lib/python3.13/site-packages (from matplotlib->missingno) (4.56.0)\n",
      "Requirement already satisfied: kiwisolver>=1.3.1 in ./venv/lib/python3.13/site-packages (from matplotlib->missingno) (1.4.8)\n",
      "Requirement already satisfied: packaging>=20.0 in ./venv/lib/python3.13/site-packages (from matplotlib->missingno) (24.2)\n",
      "Requirement already satisfied: pillow>=8 in ./venv/lib/python3.13/site-packages (from matplotlib->missingno) (11.1.0)\n",
      "Requirement already satisfied: pyparsing>=2.3.1 in ./venv/lib/python3.13/site-packages (from matplotlib->missingno) (3.2.1)\n",
      "Requirement already satisfied: python-dateutil>=2.7 in ./venv/lib/python3.13/site-packages (from matplotlib->missingno) (2.9.0.post0)\n",
      "Requirement already satisfied: pandas>=1.2 in ./venv/lib/python3.13/site-packages (from seaborn->missingno) (2.2.3)\n",
      "Requirement already satisfied: pytz>=2020.1 in ./venv/lib/python3.13/site-packages (from pandas>=1.2->seaborn->missingno) (2025.1)\n",
      "Requirement already satisfied: tzdata>=2022.7 in ./venv/lib/python3.13/site-packages (from pandas>=1.2->seaborn->missingno) (2025.1)\n",
      "Requirement already satisfied: six>=1.5 in ./venv/lib/python3.13/site-packages (from python-dateutil>=2.7->matplotlib->missingno) (1.17.0)\n",
      "\n",
      "\u001b[1m[\u001b[0m\u001b[34;49mnotice\u001b[0m\u001b[1;39;49m]\u001b[0m\u001b[39;49m A new release of pip is available: \u001b[0m\u001b[31;49m24.3.1\u001b[0m\u001b[39;49m -> \u001b[0m\u001b[32;49m25.0.1\u001b[0m\n",
      "\u001b[1m[\u001b[0m\u001b[34;49mnotice\u001b[0m\u001b[1;39;49m]\u001b[0m\u001b[39;49m To update, run: \u001b[0m\u001b[32;49mpip install --upgrade pip\u001b[0m\n",
      "Note: you may need to restart the kernel to use updated packages.\n",
      "Requirement already satisfied: requests in ./venv/lib/python3.13/site-packages (2.32.3)\n",
      "Requirement already satisfied: charset-normalizer<4,>=2 in ./venv/lib/python3.13/site-packages (from requests) (3.4.1)\n",
      "Requirement already satisfied: idna<4,>=2.5 in ./venv/lib/python3.13/site-packages (from requests) (3.10)\n",
      "Requirement already satisfied: urllib3<3,>=1.21.1 in ./venv/lib/python3.13/site-packages (from requests) (2.3.0)\n",
      "Requirement already satisfied: certifi>=2017.4.17 in ./venv/lib/python3.13/site-packages (from requests) (2025.1.31)\n",
      "\n",
      "\u001b[1m[\u001b[0m\u001b[34;49mnotice\u001b[0m\u001b[1;39;49m]\u001b[0m\u001b[39;49m A new release of pip is available: \u001b[0m\u001b[31;49m24.3.1\u001b[0m\u001b[39;49m -> \u001b[0m\u001b[32;49m25.0.1\u001b[0m\n",
      "\u001b[1m[\u001b[0m\u001b[34;49mnotice\u001b[0m\u001b[1;39;49m]\u001b[0m\u001b[39;49m To update, run: \u001b[0m\u001b[32;49mpip install --upgrade pip\u001b[0m\n",
      "Note: you may need to restart the kernel to use updated packages.\n"
     ]
    }
   ],
   "source": [
    "%pip install missingno\n",
    "%pip install requests\n",
    "\n",
    "\n",
    "import numpy as np\n",
    "import pandas as pd\n",
    "import missingno as msno\n",
    "import requests\n",
    "import json\n",
    "import helper.graph_helper as graph\n",
    "\n",
    "%matplotlib inline"
   ]
  },
  {
   "cell_type": "markdown",
   "metadata": {},
   "source": [
    "#### Lendo os dados da base única de 2018 a 2024"
   ]
  },
  {
   "cell_type": "code",
   "execution_count": 41,
   "metadata": {},
   "outputs": [
    {
     "name": "stderr",
     "output_type": "stream",
     "text": [
      "/var/folders/z1/3syxl8gd5ks431s8c9n9mrs00000gn/T/ipykernel_1247/1068564677.py:1: DtypeWarning: Columns (20,21) have mixed types. Specify dtype option on import or set low_memory=False.\n",
      "  df_accidents = pd.read_csv(\n"
     ]
    },
    {
     "name": "stdout",
     "output_type": "stream",
     "text": [
      "<class 'pandas.core.frame.DataFrame'>\n",
      "RangeIndex: 436718 entries, 0 to 436717\n",
      "Data columns (total 22 columns):\n",
      " #   Column                  Non-Null Count   Dtype  \n",
      "---  ------                  --------------   -----  \n",
      " 0   id                      436718 non-null  float64\n",
      " 1   data_inversa            436718 non-null  object \n",
      " 2   dia_semana              436718 non-null  object \n",
      " 3   horario                 436718 non-null  object \n",
      " 4   uf                      436718 non-null  object \n",
      " 5   br                      436267 non-null  float64\n",
      " 6   km                      436267 non-null  object \n",
      " 7   municipio               436718 non-null  object \n",
      " 8   causa_acidente          436718 non-null  object \n",
      " 9   tipo_acidente           436718 non-null  object \n",
      " 10  classificacao_acidente  436715 non-null  object \n",
      " 11  fase_dia                436718 non-null  object \n",
      " 12  sentido_via             436718 non-null  object \n",
      " 13  condicao_metereologica  436718 non-null  object \n",
      " 14  tipo_pista              436718 non-null  object \n",
      " 15  tracado_via             436718 non-null  object \n",
      " 16  uso_solo                436718 non-null  object \n",
      " 17  pessoas                 436718 non-null  int64  \n",
      " 18  feridos                 436718 non-null  int64  \n",
      " 19  veiculos                436718 non-null  int64  \n",
      " 20  latitude                436718 non-null  object \n",
      " 21  longitude               436718 non-null  object \n",
      "dtypes: float64(2), int64(3), object(17)\n",
      "memory usage: 73.3+ MB\n"
     ]
    }
   ],
   "source": [
    "df_accidents = pd.read_csv(\n",
    "    \"acquisition/datatran2018_2024_v0.csv\"\n",
    ")\n",
    "df_accidents.info()"
   ]
  },
  {
   "cell_type": "markdown",
   "metadata": {},
   "source": [
    "#### Verificando os dados faltantes de cada coluna para ter uma visão geral da base"
   ]
  },
  {
   "cell_type": "code",
   "execution_count": 42,
   "metadata": {},
   "outputs": [
    {
     "data": {
      "text/plain": [
       "<Axes: >"
      ]
     },
     "execution_count": 42,
     "metadata": {},
     "output_type": "execute_result"
    },
    {
     "data": {
      "image/png": "[encoded data removed]",
      "text/plain": [
       "<Figure size 2500x1000 with 2 Axes>"
      ]
     },
     "metadata": {},
     "output_type": "display_data"
    }
   ],
   "source": [
    "msno.matrix(df=df_accidents)"
   ]
  },
  {
   "cell_type": "markdown",
   "metadata": {},
   "source": [
    "#### Criando funções auxiliares para tratar o dataframe"
   ]
  },
  {
   "cell_type": "code",
   "execution_count": 43,
   "metadata": {},
   "outputs": [],
   "source": [
    "def fill_na_numerical(df, value):\n",
    "    df = pd.to_numeric(\n",
    "        df, errors=\"coerce\").fillna(0).astype(int)\n",
    "\n",
    "    return np.where(df != 0, df.astype(str), value)\n",
    "\n",
    "\n",
    "def capitalize(df):\n",
    "    return df.apply(lambda data: data.capitalize())\n",
    "\n",
    "\n",
    "def drop_rows(df, column, frequency):\n",
    "    counts = df[column].value_counts()\n",
    "    counts = counts[counts <= frequency].index\n",
    "\n",
    "    indexes = df[df[column].isin(counts)].index\n",
    "    print(f'Índices a serem removidos: {indexes}')\n",
    "\n",
    "    return df.drop(indexes)"
   ]
  },
  {
   "cell_type": "markdown",
   "metadata": {},
   "source": [
    "#### Verificando informações da coluna \"br\" para identificar dados faltantes"
   ]
  },
  {
   "cell_type": "code",
   "execution_count": 44,
   "metadata": {},
   "outputs": [
    {
     "name": "stdout",
     "output_type": "stream",
     "text": [
      "<class 'pandas.core.series.Series'>\n",
      "RangeIndex: 436718 entries, 0 to 436717\n",
      "Series name: br\n",
      "Non-Null Count   Dtype  \n",
      "--------------   -----  \n",
      "436267 non-null  float64\n",
      "dtypes: float64(1)\n",
      "memory usage: 3.3 MB\n"
     ]
    }
   ],
   "source": [
    "df_accidents[\"br\"].info()"
   ]
  },
  {
   "cell_type": "markdown",
   "metadata": {},
   "source": [
    "#### Verificando dados estatísticos da coluna \"br\"para avaliar a necessidade de tratamento dos dados"
   ]
  },
  {
   "cell_type": "code",
   "execution_count": 45,
   "metadata": {},
   "outputs": [
    {
     "data": {
      "text/plain": [
       "count    436267.000000\n",
       "mean        212.121939\n",
       "std         130.577461\n",
       "min           0.000000\n",
       "25%         101.000000\n",
       "50%         158.000000\n",
       "75%         324.000000\n",
       "max         498.000000\n",
       "Name: br, dtype: float64"
      ]
     },
     "execution_count": 45,
     "metadata": {},
     "output_type": "execute_result"
    }
   ],
   "source": [
    "df_accidents[\"br\"].describe()"
   ]
  },
  {
   "cell_type": "markdown",
   "metadata": {},
   "source": [
    "#### Verificando dados faltantes na coluna \"br\" para avaliar a necessidade de tratamento dos dados"
   ]
  },
  {
   "cell_type": "code",
   "execution_count": 46,
   "metadata": {},
   "outputs": [
    {
     "data": {
      "text/plain": [
       "br\n",
       "101.0    73787\n",
       "116.0    65465\n",
       "381.0    21030\n",
       "40.0     20747\n",
       "153.0    16902\n",
       "Name: count, dtype: int64"
      ]
     },
     "execution_count": 46,
     "metadata": {},
     "output_type": "execute_result"
    }
   ],
   "source": [
    "df_accidents[\"br\"].value_counts().head()"
   ]
  },
  {
   "cell_type": "markdown",
   "metadata": {},
   "source": [
    "#### Tratando os dados para serem do tipo string e tratando dados faltantes como \"Desconhecido\" na coluna \"br\""
   ]
  },
  {
   "cell_type": "code",
   "execution_count": 47,
   "metadata": {},
   "outputs": [
    {
     "data": {
      "text/plain": [
       "br\n",
       "101    73787\n",
       "116    65465\n",
       "381    21030\n",
       "40     20747\n",
       "153    16902\n",
       "Name: count, dtype: int64"
      ]
     },
     "execution_count": 47,
     "metadata": {},
     "output_type": "execute_result"
    }
   ],
   "source": [
    "df_accidents[\"br\"] = fill_na_numerical(\n",
    "    df_accidents[\"br\"], \"Desconhecido\")\n",
    "df_accidents[\"br\"].value_counts().head()"
   ]
  },
  {
   "cell_type": "markdown",
   "metadata": {},
   "source": [
    "#### Verificando dados estatísticos da coluna \"br\" após o tratamento dos dados"
   ]
  },
  {
   "cell_type": "code",
   "execution_count": 48,
   "metadata": {},
   "outputs": [
    {
     "data": {
      "text/plain": [
       "count     436718\n",
       "unique       132\n",
       "top          101\n",
       "freq       73787\n",
       "Name: br, dtype: object"
      ]
     },
     "execution_count": 48,
     "metadata": {},
     "output_type": "execute_result"
    }
   ],
   "source": [
    "df_accidents[\"br\"].describe()"
   ]
  },
  {
   "cell_type": "markdown",
   "metadata": {},
   "source": [
    "#### Verificando informações da coluna \"km\" para identificar dados faltantes"
   ]
  },
  {
   "cell_type": "code",
   "execution_count": 49,
   "metadata": {},
   "outputs": [
    {
     "name": "stdout",
     "output_type": "stream",
     "text": [
      "<class 'pandas.core.series.Series'>\n",
      "RangeIndex: 436718 entries, 0 to 436717\n",
      "Series name: km\n",
      "Non-Null Count   Dtype \n",
      "--------------   ----- \n",
      "436267 non-null  object\n",
      "dtypes: object(1)\n",
      "memory usage: 3.3+ MB\n"
     ]
    }
   ],
   "source": [
    "df_accidents[\"km\"].info()"
   ]
  },
  {
   "cell_type": "markdown",
   "metadata": {},
   "source": [
    "#### Verificando dados estatísticos da coluna \"km\"para avaliar a necessidade de tratamento dos dados"
   ]
  },
  {
   "cell_type": "code",
   "execution_count": 50,
   "metadata": {},
   "outputs": [
    {
     "data": {
      "text/plain": [
       "count     436267\n",
       "unique      9740\n",
       "top            1\n",
       "freq        1911\n",
       "Name: km, dtype: object"
      ]
     },
     "execution_count": 50,
     "metadata": {},
     "output_type": "execute_result"
    }
   ],
   "source": [
    "df_accidents[\"km\"].describe()"
   ]
  },
  {
   "cell_type": "markdown",
   "metadata": {},
   "source": [
    "#### Tratando os dados para serem do tipo string e tratando dados faltantes como \"Desconhecido\" na coluna \"km\""
   ]
  },
  {
   "cell_type": "code",
   "execution_count": 51,
   "metadata": {},
   "outputs": [
    {
     "data": {
      "text/plain": [
       "km\n",
       "Desconhecido    191360\n",
       "1                 1911\n",
       "3                 1760\n",
       "2                 1755\n",
       "5                 1637\n",
       "Name: count, dtype: int64"
      ]
     },
     "execution_count": 51,
     "metadata": {},
     "output_type": "execute_result"
    }
   ],
   "source": [
    "df_accidents[\"km\"] = fill_na_numerical(\n",
    "    df_accidents[\"km\"], \"Desconhecido\")\n",
    "df_accidents[\"km\"].value_counts().head()"
   ]
  },
  {
   "cell_type": "markdown",
   "metadata": {},
   "source": [
    "#### Verificando dados estatísticos da coluna \"km\" após o tratamento dos dados"
   ]
  },
  {
   "cell_type": "code",
   "execution_count": 52,
   "metadata": {},
   "outputs": [
    {
     "data": {
      "text/plain": [
       "count           436718\n",
       "unique            1198\n",
       "top       Desconhecido\n",
       "freq            191360\n",
       "Name: km, dtype: object"
      ]
     },
     "execution_count": 52,
     "metadata": {},
     "output_type": "execute_result"
    }
   ],
   "source": [
    "df_accidents[\"km\"].describe()"
   ]
  },
  {
   "cell_type": "markdown",
   "metadata": {},
   "source": [
    "#### Verificando informações da coluna \"data_inversa\""
   ]
  },
  {
   "cell_type": "code",
   "execution_count": 53,
   "metadata": {},
   "outputs": [
    {
     "name": "stdout",
     "output_type": "stream",
     "text": [
      "<class 'pandas.core.series.Series'>\n",
      "RangeIndex: 436718 entries, 0 to 436717\n",
      "Series name: data_inversa\n",
      "Non-Null Count   Dtype \n",
      "--------------   ----- \n",
      "436718 non-null  object\n",
      "dtypes: object(1)\n",
      "memory usage: 3.3+ MB\n"
     ]
    }
   ],
   "source": [
    "df_accidents[\"data_inversa\"].info()"
   ]
  },
  {
   "cell_type": "markdown",
   "metadata": {},
   "source": [
    "#### Verificando dados estatísticos da coluna \"data_inversa\"para avaliar a necessidade de tratamento dos dados"
   ]
  },
  {
   "cell_type": "code",
   "execution_count": 54,
   "metadata": {},
   "outputs": [
    {
     "data": {
      "text/plain": [
       "count         436718\n",
       "unique          2373\n",
       "top       2018-02-10\n",
       "freq             325\n",
       "Name: data_inversa, dtype: object"
      ]
     },
     "execution_count": 54,
     "metadata": {},
     "output_type": "execute_result"
    }
   ],
   "source": [
    "df_accidents[\"data_inversa\"].describe()"
   ]
  },
  {
   "cell_type": "markdown",
   "metadata": {},
   "source": [
    "#### Verificando a frequência dos valores da coluna \"data_inversa\" para avaliar a necessidade de tratamento dos dados"
   ]
  },
  {
   "cell_type": "code",
   "execution_count": 55,
   "metadata": {},
   "outputs": [
    {
     "data": {
      "text/plain": [
       "data_inversa\n",
       "2018-02-10    325\n",
       "2018-12-22    325\n",
       "2024-12-21    319\n",
       "2018-02-09    313\n",
       "2023-12-23    303\n",
       "Name: count, dtype: int64"
      ]
     },
     "execution_count": 55,
     "metadata": {},
     "output_type": "execute_result"
    }
   ],
   "source": [
    "df_accidents[\"data_inversa\"].value_counts().head()"
   ]
  },
  {
   "cell_type": "markdown",
   "metadata": {},
   "source": [
    "#### Convertendo a coluna data_inversa para Datetime"
   ]
  },
  {
   "cell_type": "code",
   "execution_count": 56,
   "metadata": {},
   "outputs": [
    {
     "data": {
      "text/plain": [
       "id                               float64\n",
       "data_inversa              datetime64[ns]\n",
       "dia_semana                        object\n",
       "horario                           object\n",
       "uf                                object\n",
       "br                                object\n",
       "km                                object\n",
       "municipio                         object\n",
       "causa_acidente                    object\n",
       "tipo_acidente                     object\n",
       "classificacao_acidente            object\n",
       "fase_dia                          object\n",
       "sentido_via                       object\n",
       "condicao_metereologica            object\n",
       "tipo_pista                        object\n",
       "tracado_via                       object\n",
       "uso_solo                          object\n",
       "pessoas                            int64\n",
       "feridos                            int64\n",
       "veiculos                           int64\n",
       "latitude                          object\n",
       "longitude                         object\n",
       "dtype: object"
      ]
     },
     "execution_count": 56,
     "metadata": {},
     "output_type": "execute_result"
    }
   ],
   "source": [
    "df_accidents[\"data_inversa\"] = pd.to_datetime(\n",
    "    df_accidents[\"data_inversa\"], format=\"%Y-%m-%d\")\n",
    "df_accidents.dtypes"
   ]
  },
  {
   "cell_type": "markdown",
   "metadata": {},
   "source": [
    "#### Ordenando o dataframe por data (crescente)"
   ]
  },
  {
   "cell_type": "code",
   "execution_count": 57,
   "metadata": {},
   "outputs": [
    {
     "data": {
      "text/html": [
       "<div>\n",
       "<style scoped>\n",
       "    .dataframe tbody tr th:only-of-type {\n",
       "        vertical-align: middle;\n",
       "    }\n",
       "\n",
       "    .dataframe tbody tr th {\n",
       "        vertical-align: top;\n",
       "    }\n",
       "\n",
       "    .dataframe thead th {\n",
       "        text-align: right;\n",
       "    }\n",
       "</style>\n",
       "<table border=\"1\" class=\"dataframe\">\n",
       "  <thead>\n",
       "    <tr style=\"text-align: right;\">\n",
       "      <th></th>\n",
       "      <th>id</th>\n",
       "      <th>data_inversa</th>\n",
       "      <th>dia_semana</th>\n",
       "      <th>horario</th>\n",
       "      <th>uf</th>\n",
       "      <th>br</th>\n",
       "      <th>km</th>\n",
       "      <th>municipio</th>\n",
       "      <th>causa_acidente</th>\n",
       "      <th>tipo_acidente</th>\n",
       "      <th>...</th>\n",
       "      <th>sentido_via</th>\n",
       "      <th>condicao_metereologica</th>\n",
       "      <th>tipo_pista</th>\n",
       "      <th>tracado_via</th>\n",
       "      <th>uso_solo</th>\n",
       "      <th>pessoas</th>\n",
       "      <th>feridos</th>\n",
       "      <th>veiculos</th>\n",
       "      <th>latitude</th>\n",
       "      <th>longitude</th>\n",
       "    </tr>\n",
       "  </thead>\n",
       "  <tbody>\n",
       "    <tr>\n",
       "      <th>0</th>\n",
       "      <td>99973.0</td>\n",
       "      <td>2018-01-01</td>\n",
       "      <td>segunda-feira</td>\n",
       "      <td>00:20:00</td>\n",
       "      <td>RJ</td>\n",
       "      <td>116</td>\n",
       "      <td>Desconhecido</td>\n",
       "      <td>RESENDE</td>\n",
       "      <td>Condutor Dormindo</td>\n",
       "      <td>Saída de leito carroçável</td>\n",
       "      <td>...</td>\n",
       "      <td>Decrescente</td>\n",
       "      <td>Nublado</td>\n",
       "      <td>Múltipla</td>\n",
       "      <td>Reta</td>\n",
       "      <td>Sim</td>\n",
       "      <td>5</td>\n",
       "      <td>4</td>\n",
       "      <td>1</td>\n",
       "      <td>-22,46937</td>\n",
       "      <td>-44,44705</td>\n",
       "    </tr>\n",
       "    <tr>\n",
       "      <th>141</th>\n",
       "      <td>100138.0</td>\n",
       "      <td>2018-01-01</td>\n",
       "      <td>segunda-feira</td>\n",
       "      <td>16:32:00</td>\n",
       "      <td>RO</td>\n",
       "      <td>364</td>\n",
       "      <td>Desconhecido</td>\n",
       "      <td>CACOAL</td>\n",
       "      <td>Falta de Atenção à Condução</td>\n",
       "      <td>Colisão traseira</td>\n",
       "      <td>...</td>\n",
       "      <td>Crescente</td>\n",
       "      <td>Nublado</td>\n",
       "      <td>Simples</td>\n",
       "      <td>Reta</td>\n",
       "      <td>Não</td>\n",
       "      <td>2</td>\n",
       "      <td>0</td>\n",
       "      <td>2</td>\n",
       "      <td>-11,48946231</td>\n",
       "      <td>-61,38111376</td>\n",
       "    </tr>\n",
       "    <tr>\n",
       "      <th>142</th>\n",
       "      <td>100139.0</td>\n",
       "      <td>2018-01-01</td>\n",
       "      <td>segunda-feira</td>\n",
       "      <td>18:20:00</td>\n",
       "      <td>RS</td>\n",
       "      <td>392</td>\n",
       "      <td>83</td>\n",
       "      <td>PELOTAS</td>\n",
       "      <td>Não guardar distância de segurança</td>\n",
       "      <td>Engavetamento</td>\n",
       "      <td>...</td>\n",
       "      <td>Decrescente</td>\n",
       "      <td>Céu Claro</td>\n",
       "      <td>Simples</td>\n",
       "      <td>Não Informado</td>\n",
       "      <td>Não</td>\n",
       "      <td>3</td>\n",
       "      <td>0</td>\n",
       "      <td>3</td>\n",
       "      <td>-31,653152</td>\n",
       "      <td>-52,471169</td>\n",
       "    </tr>\n",
       "    <tr>\n",
       "      <th>143</th>\n",
       "      <td>100140.0</td>\n",
       "      <td>2018-01-01</td>\n",
       "      <td>segunda-feira</td>\n",
       "      <td>18:20:00</td>\n",
       "      <td>SC</td>\n",
       "      <td>101</td>\n",
       "      <td>Desconhecido</td>\n",
       "      <td>BARRA VELHA</td>\n",
       "      <td>Falta de Atenção à Condução</td>\n",
       "      <td>Colisão lateral</td>\n",
       "      <td>...</td>\n",
       "      <td>Decrescente</td>\n",
       "      <td>Céu Claro</td>\n",
       "      <td>Dupla</td>\n",
       "      <td>Não Informado</td>\n",
       "      <td>Não</td>\n",
       "      <td>5</td>\n",
       "      <td>2</td>\n",
       "      <td>2</td>\n",
       "      <td>-26,62039854</td>\n",
       "      <td>-48,71735305</td>\n",
       "    </tr>\n",
       "    <tr>\n",
       "      <th>144</th>\n",
       "      <td>100141.0</td>\n",
       "      <td>2018-01-01</td>\n",
       "      <td>segunda-feira</td>\n",
       "      <td>17:35:00</td>\n",
       "      <td>PB</td>\n",
       "      <td>230</td>\n",
       "      <td>28</td>\n",
       "      <td>JOAO PESSOA</td>\n",
       "      <td>Falta de Atenção à Condução</td>\n",
       "      <td>Colisão traseira</td>\n",
       "      <td>...</td>\n",
       "      <td>Crescente</td>\n",
       "      <td>Céu Claro</td>\n",
       "      <td>Dupla</td>\n",
       "      <td>Reta</td>\n",
       "      <td>Sim</td>\n",
       "      <td>3</td>\n",
       "      <td>1</td>\n",
       "      <td>2</td>\n",
       "      <td>-7,1651</td>\n",
       "      <td>-34,8941</td>\n",
       "    </tr>\n",
       "  </tbody>\n",
       "</table>\n",
       "<p>5 rows × 22 columns</p>\n",
       "</div>"
      ],
      "text/plain": [
       "           id data_inversa     dia_semana   horario  uf   br            km  \\\n",
       "0     99973.0   2018-01-01  segunda-feira  00:20:00  RJ  116  Desconhecido   \n",
       "141  100138.0   2018-01-01  segunda-feira  16:32:00  RO  364  Desconhecido   \n",
       "142  100139.0   2018-01-01  segunda-feira  18:20:00  RS  392            83   \n",
       "143  100140.0   2018-01-01  segunda-feira  18:20:00  SC  101  Desconhecido   \n",
       "144  100141.0   2018-01-01  segunda-feira  17:35:00  PB  230            28   \n",
       "\n",
       "       municipio                      causa_acidente  \\\n",
       "0        RESENDE                   Condutor Dormindo   \n",
       "141       CACOAL         Falta de Atenção à Condução   \n",
       "142      PELOTAS  Não guardar distância de segurança   \n",
       "143  BARRA VELHA         Falta de Atenção à Condução   \n",
       "144  JOAO PESSOA         Falta de Atenção à Condução   \n",
       "\n",
       "                 tipo_acidente  ...  sentido_via condicao_metereologica  \\\n",
       "0    Saída de leito carroçável  ...  Decrescente                Nublado   \n",
       "141           Colisão traseira  ...    Crescente                Nublado   \n",
       "142              Engavetamento  ...  Decrescente              Céu Claro   \n",
       "143            Colisão lateral  ...  Decrescente              Céu Claro   \n",
       "144           Colisão traseira  ...    Crescente              Céu Claro   \n",
       "\n",
       "    tipo_pista    tracado_via uso_solo pessoas feridos  veiculos  \\\n",
       "0     Múltipla           Reta      Sim       5       4         1   \n",
       "141    Simples           Reta      Não       2       0         2   \n",
       "142    Simples  Não Informado      Não       3       0         3   \n",
       "143      Dupla  Não Informado      Não       5       2         2   \n",
       "144      Dupla           Reta      Sim       3       1         2   \n",
       "\n",
       "         latitude     longitude  \n",
       "0       -22,46937     -44,44705  \n",
       "141  -11,48946231  -61,38111376  \n",
       "142    -31,653152    -52,471169  \n",
       "143  -26,62039854  -48,71735305  \n",
       "144       -7,1651      -34,8941  \n",
       "\n",
       "[5 rows x 22 columns]"
      ]
     },
     "execution_count": 57,
     "metadata": {},
     "output_type": "execute_result"
    }
   ],
   "source": [
    "df_accidents = df_accidents.sort_values(by=\"data_inversa\")\n",
    "df_accidents.head()"
   ]
  },
  {
   "cell_type": "markdown",
   "metadata": {},
   "source": [
    "#### Verificando dados estatísticos da coluna \"data_inversa\" após do tratamento dos dados"
   ]
  },
  {
   "cell_type": "code",
   "execution_count": 58,
   "metadata": {},
   "outputs": [
    {
     "data": {
      "text/plain": [
       "count                           436718\n",
       "mean     2021-07-09 01:52:49.666466560\n",
       "min                2018-01-01 00:00:00\n",
       "25%                2019-08-11 00:00:00\n",
       "50%                2021-04-18 00:00:00\n",
       "75%                2023-06-26 00:00:00\n",
       "max                2024-12-31 00:00:00\n",
       "Name: data_inversa, dtype: object"
      ]
     },
     "execution_count": 58,
     "metadata": {},
     "output_type": "execute_result"
    }
   ],
   "source": [
    "df_accidents[\"data_inversa\"].describe()"
   ]
  },
  {
   "cell_type": "markdown",
   "metadata": {},
   "source": [
    "#### Criando coluna auxiliar mes_ano para facilitar análise futura"
   ]
  },
  {
   "cell_type": "code",
   "execution_count": 59,
   "metadata": {},
   "outputs": [
    {
     "data": {
      "text/plain": [
       "mes_ano\n",
       "2018-01    6940\n",
       "2018-02    6192\n",
       "2018-03    6684\n",
       "2018-04    5530\n",
       "2018-05    4818\n",
       "           ... \n",
       "2024-08    6167\n",
       "2024-09    6222\n",
       "2024-10    6406\n",
       "2024-11    6135\n",
       "2024-12    6587\n",
       "Freq: M, Name: count, Length: 78, dtype: int64"
      ]
     },
     "execution_count": 59,
     "metadata": {},
     "output_type": "execute_result"
    }
   ],
   "source": [
    "df_accidents[\"mes_ano\"] = df_accidents[\"data_inversa\"].dt.to_period(\"M\")\n",
    "df_accidents[\"mes_ano\"].value_counts().sort_index()"
   ]
  },
  {
   "cell_type": "code",
   "execution_count": 60,
   "metadata": {},
   "outputs": [
    {
     "data": {
      "text/plain": [
       "0         2018\n",
       "141       2018\n",
       "142       2018\n",
       "143       2018\n",
       "144       2018\n",
       "          ... \n",
       "381928    2024\n",
       "381927    2024\n",
       "381926    2024\n",
       "381924    2024\n",
       "436366    2024\n",
       "Name: mes_ano, Length: 436718, dtype: int64"
      ]
     },
     "execution_count": 60,
     "metadata": {},
     "output_type": "execute_result"
    }
   ],
   "source": [
    "df_accidents[\"mes_ano\"].dt.year"
   ]
  },
  {
   "cell_type": "markdown",
   "metadata": {},
   "source": [
    "#### Obtendo lista de feriados obtida de uma base de dados externa"
   ]
  },
  {
   "cell_type": "code",
   "execution_count": 61,
   "metadata": {},
   "outputs": [],
   "source": [
    "from datetime import datetime\n",
    "\n",
    "\n",
    "def get_holidays(year):\n",
    "    try:\n",
    "        response = requests.get(\n",
    "            f\"https://brasilapi.com.br/api/feriados/v1/{year}\")\n",
    "        response.raise_for_status()\n",
    "        return [{\n",
    "            \"date\": datetime.strptime(data[\"date\"], \"%Y-%m-%d\").strftime(\"%Y-%m-%d\"),\n",
    "            \"name\": data[\"name\"]\n",
    "        } for data in response.json()]\n",
    "    except requests.exceptions.RequestException as e:\n",
    "        print(f\"Erro ao buscar feriados de {year}: {e}\")\n",
    "        return []"
   ]
  },
  {
   "cell_type": "markdown",
   "metadata": {},
   "source": [
    "#### Criando coluna feriado preenchendo os registros com o nome do feriado ou dia útil à partir de uma lista de feriados obtida de uma base de dados externa"
   ]
  },
  {
   "cell_type": "code",
   "execution_count": 62,
   "metadata": {},
   "outputs": [
    {
     "data": {
      "text/plain": [
       "tipo_data\n",
       "Dia útil                    421780\n",
       "Confraternização mundial      1439\n",
       "Tiradentes                    1282\n",
       "Dia do trabalho               1276\n",
       "Proclamação da República      1265\n",
       "Nossa Senhora Aparecida       1260\n",
       "Independência do Brasil       1253\n",
       "Páscoa                        1237\n",
       "Corpus Christi                1218\n",
       "Carnaval                      1199\n",
       "Natal                         1158\n",
       "Sexta-feira Santa             1131\n",
       "Finados                       1065\n",
       "Dia da consciência negra       155\n",
       "Name: count, dtype: int64"
      ]
     },
     "execution_count": 62,
     "metadata": {},
     "output_type": "execute_result"
    }
   ],
   "source": [
    "def get_holidays_for_years(years):\n",
    "    holidays_dict = {}\n",
    "    for year in years:\n",
    "        holidays = get_holidays(year)\n",
    "        holidays_dict.update({\n",
    "            pd.to_datetime(holiday[\"date\"]).date(): holiday[\"name\"] for holiday in holidays\n",
    "        })\n",
    "\n",
    "    return holidays_dict\n",
    "\n",
    "\n",
    "df_accidents[\"tipo_data\"] = df_accidents[\"data_inversa\"].map(\n",
    "    get_holidays_for_years([\n",
    "        2018,\n",
    "        2019,\n",
    "        2020,\n",
    "        2021,\n",
    "        2022,\n",
    "        2023,\n",
    "        2024]\n",
    "    )).fillna(\"Dia útil\")\n",
    "df_accidents[\"tipo_data\"].value_counts()"
   ]
  },
  {
   "cell_type": "markdown",
   "metadata": {},
   "source": [
    "#### Verificando informações da coluna \"dia_semana\""
   ]
  },
  {
   "cell_type": "code",
   "execution_count": 63,
   "metadata": {},
   "outputs": [
    {
     "name": "stdout",
     "output_type": "stream",
     "text": [
      "<class 'pandas.core.series.Series'>\n",
      "Index: 436718 entries, 0 to 436366\n",
      "Series name: dia_semana\n",
      "Non-Null Count   Dtype \n",
      "--------------   ----- \n",
      "436718 non-null  object\n",
      "dtypes: object(1)\n",
      "memory usage: 6.7+ MB\n"
     ]
    }
   ],
   "source": [
    "df_accidents[\"dia_semana\"].info()"
   ]
  },
  {
   "cell_type": "markdown",
   "metadata": {},
   "source": [
    "#### Verificando dados estatísticos da coluna \"dia_semana\"para avaliar a necessidade de tratamento dos dados"
   ]
  },
  {
   "cell_type": "code",
   "execution_count": 64,
   "metadata": {},
   "outputs": [
    {
     "data": {
      "text/plain": [
       "count      436718\n",
       "unique          7\n",
       "top       domingo\n",
       "freq        72073\n",
       "Name: dia_semana, dtype: object"
      ]
     },
     "execution_count": 64,
     "metadata": {},
     "output_type": "execute_result"
    }
   ],
   "source": [
    "df_accidents[\"dia_semana\"].describe()"
   ]
  },
  {
   "cell_type": "markdown",
   "metadata": {},
   "source": [
    "#### Verificando a frequência dos valores da coluna \"dia_semana\" para avaliar a necessidade de tratamento dos dados"
   ]
  },
  {
   "cell_type": "code",
   "execution_count": 65,
   "metadata": {},
   "outputs": [
    {
     "data": {
      "text/plain": [
       "dia_semana\n",
       "domingo          72073\n",
       "sábado           71853\n",
       "sexta-feira      67288\n",
       "segunda-feira    59522\n",
       "quinta-feira     56770\n",
       "quarta-feira     55104\n",
       "terça-feira      54108\n",
       "Name: count, dtype: int64"
      ]
     },
     "execution_count": 65,
     "metadata": {},
     "output_type": "execute_result"
    }
   ],
   "source": [
    "df_accidents[\"dia_semana\"].value_counts()"
   ]
  },
  {
   "cell_type": "markdown",
   "metadata": {},
   "source": [
    "#### Tratamento da coluna \"dia_semana\" para corrigir codificação"
   ]
  },
  {
   "cell_type": "code",
   "execution_count": 66,
   "metadata": {},
   "outputs": [
    {
     "data": {
      "text/plain": [
       "dia_semana\n",
       "Domingo          72073\n",
       "Sábado           71853\n",
       "Sexta-feira      67288\n",
       "Segunda-feira    59522\n",
       "Quinta-feira     56770\n",
       "Name: count, dtype: int64"
      ]
     },
     "execution_count": 66,
     "metadata": {},
     "output_type": "execute_result"
    }
   ],
   "source": [
    "df_accidents[\"dia_semana\"] = pd.to_datetime(\n",
    "    df_accidents[\"data_inversa\"], format='%Y/%m/%d').dt.day_of_week.map({\n",
    "        0: \"Segunda-feira\",\n",
    "        1: \"Terça-feira\",\n",
    "        2: \"Quarta-feira\",\n",
    "        3: \"Quinta-feira\",\n",
    "        4: \"Sexta-feira\",\n",
    "        5: \"Sábado\",\n",
    "        6: \"Domingo\"\n",
    "    })\n",
    "df_accidents[\"dia_semana\"].value_counts().head()"
   ]
  },
  {
   "cell_type": "markdown",
   "metadata": {},
   "source": [
    "#### Verificando informações da coluna \"causa_acidente\""
   ]
  },
  {
   "cell_type": "code",
   "execution_count": 67,
   "metadata": {},
   "outputs": [
    {
     "name": "stdout",
     "output_type": "stream",
     "text": [
      "<class 'pandas.core.series.Series'>\n",
      "Index: 436718 entries, 0 to 436366\n",
      "Series name: causa_acidente\n",
      "Non-Null Count   Dtype \n",
      "--------------   ----- \n",
      "436718 non-null  object\n",
      "dtypes: object(1)\n",
      "memory usage: 6.7+ MB\n"
     ]
    }
   ],
   "source": [
    "df_accidents[\"causa_acidente\"].info()"
   ]
  },
  {
   "cell_type": "markdown",
   "metadata": {},
   "source": [
    "#### Verificando dados estatísticos da coluna \"causa_acidente\"para avaliar a necessidade de tratamento dos dados"
   ]
  },
  {
   "cell_type": "code",
   "execution_count": 68,
   "metadata": {},
   "outputs": [
    {
     "data": {
      "text/plain": [
       "count                          436718\n",
       "unique                             91\n",
       "top       Falta de Atenção à Condução\n",
       "freq                            73231\n",
       "Name: causa_acidente, dtype: object"
      ]
     },
     "execution_count": 68,
     "metadata": {},
     "output_type": "execute_result"
    }
   ],
   "source": [
    "df_accidents[\"causa_acidente\"].describe()"
   ]
  },
  {
   "cell_type": "markdown",
   "metadata": {},
   "source": [
    "#### Verificando a frequência dos valores da coluna \"causa_acidente\" para avaliar a necessidade de tratamento dos dados"
   ]
  },
  {
   "cell_type": "code",
   "execution_count": 69,
   "metadata": {},
   "outputs": [
    {
     "data": {
      "text/plain": [
       "causa_acidente\n",
       "Falta de Atenção à Condução                          73231\n",
       "Velocidade Incompatível                              35819\n",
       "Reação tardia ou ineficiente do condutor             32348\n",
       "Ausência de reação do condutor                       29866\n",
       "Desobediência às normas de trânsito pelo condutor    24089\n",
       "                                                     ...  \n",
       "Redutor de velocidade em desacordo                      28\n",
       "Faróis desregulados                                     24\n",
       "Sinalização encoberta                                   16\n",
       "Obstrução Via tentativa Assalto                         10\n",
       "Sistema de drenagem ineficiente                          7\n",
       "Name: count, Length: 91, dtype: int64"
      ]
     },
     "execution_count": 69,
     "metadata": {},
     "output_type": "execute_result"
    }
   ],
   "source": [
    "df_accidents[\"causa_acidente\"].value_counts()"
   ]
  },
  {
   "cell_type": "markdown",
   "metadata": {},
   "source": [
    "#### Tratamento da coluna causa_acidente para unificar causas de acidentes similares"
   ]
  },
  {
   "cell_type": "code",
   "execution_count": 70,
   "metadata": {},
   "outputs": [
    {
     "data": {
      "text/plain": [
       "causa_acidente\n",
       "Falta de atenção à condução                                      73231\n",
       "Velocidade incompatível                                          35819\n",
       "Reação tardia ou ineficiente do condutor                         32348\n",
       "Ausência de reação do condutor                                   29866\n",
       "Ingestão de álcool e/ou substâncias psicoativas pelo condutor    29622\n",
       "Name: count, dtype: int64"
      ]
     },
     "execution_count": 70,
     "metadata": {},
     "output_type": "execute_result"
    }
   ],
   "source": [
    "def get_causes():\n",
    "    try:\n",
    "        with open(\"wrangling/causas_acidentes.json\", \"r\", encoding=\"utf-8\") as file:\n",
    "            return json.load(file)\n",
    "    except Exception as exception:\n",
    "        print(exception)\n",
    "        return {}\n",
    "\n",
    "\n",
    "def get_condition_to_make_changes(causes):\n",
    "    return df_accidents[\"causa_acidente\"].isin(\n",
    "        causes.keys())\n",
    "\n",
    "\n",
    "def get_value_if_match(causes):\n",
    "    return df_accidents[\"causa_acidente\"].map(\n",
    "        lambda cause: causes.get(cause, cause).capitalize())\n",
    "\n",
    "\n",
    "def get_value_if_not_match():\n",
    "    return df_accidents[\"causa_acidente\"].str.capitalize()\n",
    "\n",
    "\n",
    "causes = get_causes()\n",
    "df_accidents[\"causa_acidente\"] = np.where(\n",
    "    get_condition_to_make_changes(causes), get_value_if_match(causes), get_value_if_not_match())\n",
    "df_accidents[\"causa_acidente\"].value_counts().head()"
   ]
  },
  {
   "cell_type": "markdown",
   "metadata": {},
   "source": [
    "#### Verificando informações da coluna \"tipo_acidente\""
   ]
  },
  {
   "cell_type": "code",
   "execution_count": 71,
   "metadata": {},
   "outputs": [
    {
     "name": "stdout",
     "output_type": "stream",
     "text": [
      "<class 'pandas.core.series.Series'>\n",
      "Index: 436718 entries, 0 to 436366\n",
      "Series name: tipo_acidente\n",
      "Non-Null Count   Dtype \n",
      "--------------   ----- \n",
      "436718 non-null  object\n",
      "dtypes: object(1)\n",
      "memory usage: 6.7+ MB\n"
     ]
    }
   ],
   "source": [
    "df_accidents[\"tipo_acidente\"].info()"
   ]
  },
  {
   "cell_type": "markdown",
   "metadata": {},
   "source": [
    "#### Verificando dados estatísticos da coluna \"tipo_acidente\"para avaliar a necessidade de tratamento dos dados"
   ]
  },
  {
   "cell_type": "code",
   "execution_count": 72,
   "metadata": {},
   "outputs": [
    {
     "data": {
      "text/plain": [
       "count               436718\n",
       "unique                  21\n",
       "top       Colisão traseira\n",
       "freq                 82354\n",
       "Name: tipo_acidente, dtype: object"
      ]
     },
     "execution_count": 72,
     "metadata": {},
     "output_type": "execute_result"
    }
   ],
   "source": [
    "df_accidents[\"tipo_acidente\"].describe()"
   ]
  },
  {
   "cell_type": "markdown",
   "metadata": {},
   "source": [
    "#### Verificando a frequência dos valores da coluna \"tipo_acidente\" para avaliar a necessidade de tratamento dos dados"
   ]
  },
  {
   "cell_type": "code",
   "execution_count": 73,
   "metadata": {},
   "outputs": [
    {
     "data": {
      "text/plain": [
       "tipo_acidente\n",
       "Colisão traseira                   82354\n",
       "Saída de leito carroçável          68689\n",
       "Colisão transversal                54937\n",
       "Tombamento                         36266\n",
       "Colisão frontal                    29477\n",
       "Colisão lateral                    24809\n",
       "Colisão lateral mesmo sentido      23563\n",
       "Atropelamento de Pedestre          20296\n",
       "Queda de ocupante de veículo       19623\n",
       "Colisão com objeto                 17080\n",
       "Colisão com objeto estático        14404\n",
       "Capotamento                        12324\n",
       "Incêndio                            8259\n",
       "Atropelamento de Animal             7579\n",
       "Engavetamento                       6782\n",
       "Colisão lateral sentido oposto      6564\n",
       "Eventos atípicos                    1054\n",
       "Derramamento de carga               1044\n",
       "Colisão com objeto em movimento      967\n",
       "Danos eventuais                      635\n",
       "Sinistro pessoal de trânsito          12\n",
       "Name: count, dtype: int64"
      ]
     },
     "execution_count": 73,
     "metadata": {},
     "output_type": "execute_result"
    }
   ],
   "source": [
    "df_accidents[\"tipo_acidente\"].value_counts()"
   ]
  },
  {
   "cell_type": "markdown",
   "metadata": {},
   "source": [
    "#### Tratamento da coluna \"tipo_acidente\" para capitalizar os dados"
   ]
  },
  {
   "cell_type": "code",
   "execution_count": 74,
   "metadata": {},
   "outputs": [
    {
     "data": {
      "text/plain": [
       "tipo_acidente\n",
       "Colisão traseira             82354\n",
       "Saída de leito carroçável    68689\n",
       "Colisão transversal          54937\n",
       "Tombamento                   36266\n",
       "Colisão frontal              29477\n",
       "Name: count, dtype: int64"
      ]
     },
     "execution_count": 74,
     "metadata": {},
     "output_type": "execute_result"
    }
   ],
   "source": [
    "df_accidents[\"tipo_acidente\"] = capitalize(\n",
    "    df_accidents[\"tipo_acidente\"])\n",
    "df_accidents[\"tipo_acidente\"].value_counts().head()"
   ]
  },
  {
   "cell_type": "markdown",
   "metadata": {},
   "source": [
    "#### Verificando informações da coluna \"classificacao_acidente\""
   ]
  },
  {
   "cell_type": "code",
   "execution_count": 75,
   "metadata": {},
   "outputs": [
    {
     "name": "stdout",
     "output_type": "stream",
     "text": [
      "<class 'pandas.core.series.Series'>\n",
      "Index: 436718 entries, 0 to 436366\n",
      "Series name: classificacao_acidente\n",
      "Non-Null Count   Dtype \n",
      "--------------   ----- \n",
      "436715 non-null  object\n",
      "dtypes: object(1)\n",
      "memory usage: 6.7+ MB\n"
     ]
    }
   ],
   "source": [
    "df_accidents[\"classificacao_acidente\"].info()"
   ]
  },
  {
   "cell_type": "markdown",
   "metadata": {},
   "source": [
    "#### Verificando dados estatísticos da coluna \"classificacao_acidente\" para avaliar a necessidade de tratamento dos dados"
   ]
  },
  {
   "cell_type": "code",
   "execution_count": 76,
   "metadata": {},
   "outputs": [
    {
     "data": {
      "text/plain": [
       "count                  436715\n",
       "unique                      3\n",
       "top       Com Vítimas Feridas\n",
       "freq                   327874\n",
       "Name: classificacao_acidente, dtype: object"
      ]
     },
     "execution_count": 76,
     "metadata": {},
     "output_type": "execute_result"
    }
   ],
   "source": [
    "df_accidents[\"classificacao_acidente\"].describe()"
   ]
  },
  {
   "cell_type": "markdown",
   "metadata": {},
   "source": [
    "#### Verificando a frequência dos valores da coluna \"classificacao_acidente\" para avaliar a necessidade de tratamento dos dados"
   ]
  },
  {
   "cell_type": "code",
   "execution_count": 77,
   "metadata": {},
   "outputs": [
    {
     "data": {
      "text/plain": [
       "classificacao_acidente\n",
       "Com Vítimas Feridas    327874\n",
       "Sem Vítimas             78301\n",
       "Com Vítimas Fatais      30540\n",
       "Name: count, dtype: int64"
      ]
     },
     "execution_count": 77,
     "metadata": {},
     "output_type": "execute_result"
    }
   ],
   "source": [
    "df_accidents[\"classificacao_acidente\"].value_counts()"
   ]
  },
  {
   "cell_type": "markdown",
   "metadata": {},
   "source": [
    "#### Tratamento da coluna \"classificacao_acidente\" para definir dados faltantes como \"Sem classificação\""
   ]
  },
  {
   "cell_type": "code",
   "execution_count": 78,
   "metadata": {},
   "outputs": [
    {
     "data": {
      "text/plain": [
       "classificacao_acidente\n",
       "Com vítimas feridas    327874\n",
       "Sem vítimas             78301\n",
       "Com vítimas fatais      30540\n",
       "Name: count, dtype: int64"
      ]
     },
     "execution_count": 78,
     "metadata": {},
     "output_type": "execute_result"
    }
   ],
   "source": [
    "def get_condition():\n",
    "    return df_accidents[df_accidents['classificacao_acidente'].isna()]\n",
    "\n",
    "\n",
    "df_accidents.drop(get_condition().index, inplace=True)\n",
    "\n",
    "df_accidents[\"classificacao_acidente\"] = capitalize(\n",
    "    df_accidents[\"classificacao_acidente\"])\n",
    "df_accidents[\"classificacao_acidente\"].value_counts()"
   ]
  },
  {
   "cell_type": "markdown",
   "metadata": {},
   "source": [
    "#### Verificando informações da coluna \"fase_dia\""
   ]
  },
  {
   "cell_type": "code",
   "execution_count": 79,
   "metadata": {},
   "outputs": [
    {
     "name": "stdout",
     "output_type": "stream",
     "text": [
      "<class 'pandas.core.series.Series'>\n",
      "Index: 436715 entries, 0 to 436366\n",
      "Series name: fase_dia\n",
      "Non-Null Count   Dtype \n",
      "--------------   ----- \n",
      "436715 non-null  object\n",
      "dtypes: object(1)\n",
      "memory usage: 6.7+ MB\n"
     ]
    }
   ],
   "source": [
    "df_accidents[\"fase_dia\"].info()"
   ]
  },
  {
   "cell_type": "markdown",
   "metadata": {},
   "source": [
    "#### Verificando dados estatísticos da coluna \"fase_dia\" para avaliar a necessidade de tratamento dos dados"
   ]
  },
  {
   "cell_type": "code",
   "execution_count": 80,
   "metadata": {},
   "outputs": [
    {
     "data": {
      "text/plain": [
       "count        436715\n",
       "unique            4\n",
       "top       Pleno dia\n",
       "freq         238933\n",
       "Name: fase_dia, dtype: object"
      ]
     },
     "execution_count": 80,
     "metadata": {},
     "output_type": "execute_result"
    }
   ],
   "source": [
    "df_accidents[\"fase_dia\"].describe()"
   ]
  },
  {
   "cell_type": "markdown",
   "metadata": {},
   "source": [
    "#### Verificando a frequência dos valores da coluna \"fase_dia\" para avaliar a necessidade de tratamento dos dados"
   ]
  },
  {
   "cell_type": "code",
   "execution_count": 81,
   "metadata": {},
   "outputs": [
    {
     "data": {
      "text/plain": [
       "fase_dia\n",
       "Pleno dia      238933\n",
       "Plena Noite    152660\n",
       "Anoitecer       24066\n",
       "Amanhecer       21056\n",
       "Name: count, dtype: int64"
      ]
     },
     "execution_count": 81,
     "metadata": {},
     "output_type": "execute_result"
    }
   ],
   "source": [
    "df_accidents[\"fase_dia\"].value_counts()"
   ]
  },
  {
   "cell_type": "markdown",
   "metadata": {},
   "source": [
    "#### Tratamento da coluna \"fase_dia\" para capitalizar os dados"
   ]
  },
  {
   "cell_type": "code",
   "execution_count": 82,
   "metadata": {},
   "outputs": [
    {
     "data": {
      "text/plain": [
       "fase_dia\n",
       "12h às 18h (tarde)        133961\n",
       "18h às 00h (noite)        126481\n",
       "06h às 12h (manhã)        121502\n",
       "00h às 06h (madrugada)     54771\n",
       "Name: count, dtype: int64"
      ]
     },
     "execution_count": 82,
     "metadata": {},
     "output_type": "execute_result"
    }
   ],
   "source": [
    "periods = {\n",
    "    \"00h às 06h (madrugada)\": (0, 5),\n",
    "    \"06h às 12h (manhã)\": (6, 11),\n",
    "    \"12h às 18h (tarde)\": (12, 17),\n",
    "    \"18h às 00h (noite)\": (18, 23)\n",
    "}\n",
    "\n",
    "\n",
    "def group_by_hour(df):\n",
    "    return df[df[\"horario\"].notna()][\"horario\"]\n",
    "\n",
    "\n",
    "def to_datetime(df):\n",
    "    return pd.to_datetime(df, format=\"%H:%M:%S\").dt.hour\n",
    "\n",
    "\n",
    "df = group_by_hour(df_accidents)\n",
    "df = to_datetime(df)\n",
    "df_accidents[\"fase_dia\"] = df.apply(\n",
    "    lambda hour: next(period for period, (start, end)\n",
    "                      in periods.items() if start <= hour <= end)\n",
    ")\n",
    "df = df_accidents[\"fase_dia\"].value_counts()\n",
    "df.head()"
   ]
  },
  {
   "cell_type": "markdown",
   "metadata": {},
   "source": [
    "#### Verificando informações da coluna \"condicao_metereologica\""
   ]
  },
  {
   "cell_type": "code",
   "execution_count": 83,
   "metadata": {},
   "outputs": [
    {
     "name": "stdout",
     "output_type": "stream",
     "text": [
      "<class 'pandas.core.series.Series'>\n",
      "Index: 436715 entries, 0 to 436366\n",
      "Series name: condicao_metereologica\n",
      "Non-Null Count   Dtype \n",
      "--------------   ----- \n",
      "436715 non-null  object\n",
      "dtypes: object(1)\n",
      "memory usage: 6.7+ MB\n"
     ]
    }
   ],
   "source": [
    "df_accidents[\"condicao_metereologica\"].info()"
   ]
  },
  {
   "cell_type": "markdown",
   "metadata": {},
   "source": [
    "#### Verificando dados estatísticos da coluna \"condicao_metereologica\" para avaliar a necessidade de tratamento dos dados"
   ]
  },
  {
   "cell_type": "code",
   "execution_count": 84,
   "metadata": {},
   "outputs": [
    {
     "data": {
      "text/plain": [
       "count        436715\n",
       "unique           10\n",
       "top       Céu Claro\n",
       "freq         262858\n",
       "Name: condicao_metereologica, dtype: object"
      ]
     },
     "execution_count": 84,
     "metadata": {},
     "output_type": "execute_result"
    }
   ],
   "source": [
    "df_accidents[\"condicao_metereologica\"].describe()"
   ]
  },
  {
   "cell_type": "markdown",
   "metadata": {},
   "source": [
    "#### Verificando a frequência dos valores da coluna \"condicao_metereologica\" para avaliar a necessidade de tratamento dos dados"
   ]
  },
  {
   "cell_type": "code",
   "execution_count": 85,
   "metadata": {},
   "outputs": [
    {
     "data": {
      "text/plain": [
       "condicao_metereologica\n",
       "Céu Claro           262858\n",
       "Nublado              71754\n",
       "Chuva                47270\n",
       "Sol                  29126\n",
       "Garoa/Chuvisco       15289\n",
       "Ignorado              5898\n",
       "Nevoeiro/Neblina      3671\n",
       "Vento                  825\n",
       "Granizo                 17\n",
       "Neve                     7\n",
       "Name: count, dtype: int64"
      ]
     },
     "execution_count": 85,
     "metadata": {},
     "output_type": "execute_result"
    }
   ],
   "source": [
    "df_accidents[\"condicao_metereologica\"].value_counts()"
   ]
  },
  {
   "cell_type": "markdown",
   "metadata": {},
   "source": [
    "#### Tratamento da coluna \"condicao_metereologica\" para remover valor \"Ignorado\""
   ]
  },
  {
   "cell_type": "code",
   "execution_count": 86,
   "metadata": {},
   "outputs": [
    {
     "data": {
      "text/plain": [
       "condicao_metereologica\n",
       "Céu Claro           262858\n",
       "Nublado              71754\n",
       "Chuva                47270\n",
       "Sol                  29126\n",
       "Garoa/Chuvisco       15289\n",
       "Nevoeiro/Neblina      3671\n",
       "Vento                  825\n",
       "Granizo                 17\n",
       "Neve                     7\n",
       "Name: count, dtype: int64"
      ]
     },
     "execution_count": 86,
     "metadata": {},
     "output_type": "execute_result"
    }
   ],
   "source": [
    "def get_condition():\n",
    "    return df_accidents[df_accidents['condicao_metereologica'] == \"Ignorado\"]\n",
    "\n",
    "\n",
    "df_accidents.drop(get_condition().index, inplace=True)\n",
    "df_accidents[\"condicao_metereologica\"].value_counts()"
   ]
  },
  {
   "cell_type": "markdown",
   "metadata": {},
   "source": [
    "#### Verificando informações da coluna \"uso_solo\""
   ]
  },
  {
   "cell_type": "code",
   "execution_count": 87,
   "metadata": {},
   "outputs": [
    {
     "name": "stdout",
     "output_type": "stream",
     "text": [
      "<class 'pandas.core.series.Series'>\n",
      "Index: 430817 entries, 0 to 436366\n",
      "Series name: uso_solo\n",
      "Non-Null Count   Dtype \n",
      "--------------   ----- \n",
      "430817 non-null  object\n",
      "dtypes: object(1)\n",
      "memory usage: 6.6+ MB\n"
     ]
    }
   ],
   "source": [
    "df_accidents[\"uso_solo\"].info()"
   ]
  },
  {
   "cell_type": "markdown",
   "metadata": {},
   "source": [
    "#### Verificando dados estatísticos da coluna \"uso_solo\" para avaliar a necessidade de tratamento dos dados"
   ]
  },
  {
   "cell_type": "code",
   "execution_count": 88,
   "metadata": {},
   "outputs": [
    {
     "data": {
      "text/plain": [
       "count     430817\n",
       "unique         2\n",
       "top          Não\n",
       "freq      242154\n",
       "Name: uso_solo, dtype: object"
      ]
     },
     "execution_count": 88,
     "metadata": {},
     "output_type": "execute_result"
    }
   ],
   "source": [
    "df_accidents[\"uso_solo\"].describe()"
   ]
  },
  {
   "cell_type": "markdown",
   "metadata": {},
   "source": [
    "#### Verificando a frequência dos valores da coluna \"uso_solo\" para avaliar a necessidade de tratamento dos dados"
   ]
  },
  {
   "cell_type": "code",
   "execution_count": 89,
   "metadata": {},
   "outputs": [
    {
     "data": {
      "text/plain": [
       "uso_solo\n",
       "Não    242154\n",
       "Sim    188663\n",
       "Name: count, dtype: int64"
      ]
     },
     "execution_count": 89,
     "metadata": {},
     "output_type": "execute_result"
    }
   ],
   "source": [
    "df_accidents[\"uso_solo\"].value_counts()"
   ]
  },
  {
   "cell_type": "markdown",
   "metadata": {},
   "source": [
    "#### Tratamento da coluna \"uso_solo\" para alterar para \"Urbano\" quando \"Sim\" e \"Rural\" quando \"Não\""
   ]
  },
  {
   "cell_type": "code",
   "execution_count": 90,
   "metadata": {},
   "outputs": [
    {
     "data": {
      "text/plain": [
       "uso_solo\n",
       "Rural     242154\n",
       "Urbano    188663\n",
       "Name: count, dtype: int64"
      ]
     },
     "execution_count": 90,
     "metadata": {},
     "output_type": "execute_result"
    }
   ],
   "source": [
    "df_accidents[\"uso_solo\"] = np.where(\n",
    "    df_accidents[\"uso_solo\"] == \"Sim\", \"Urbano\", \"Rural\")\n",
    "\n",
    "df_accidents[\"uso_solo\"].value_counts().head()"
   ]
  },
  {
   "cell_type": "markdown",
   "metadata": {},
   "source": [
    "#### Verificando informações da coluna \"tipo_pista\""
   ]
  },
  {
   "cell_type": "code",
   "execution_count": 91,
   "metadata": {},
   "outputs": [
    {
     "name": "stdout",
     "output_type": "stream",
     "text": [
      "<class 'pandas.core.series.Series'>\n",
      "Index: 430817 entries, 0 to 436366\n",
      "Series name: tipo_pista\n",
      "Non-Null Count   Dtype \n",
      "--------------   ----- \n",
      "430817 non-null  object\n",
      "dtypes: object(1)\n",
      "memory usage: 6.6+ MB\n"
     ]
    }
   ],
   "source": [
    "df_accidents[\"tipo_pista\"].info()"
   ]
  },
  {
   "cell_type": "markdown",
   "metadata": {},
   "source": [
    "#### Verificando dados estatísticos da coluna \"tipo_pista\" para avaliar a necessidade de tratamento dos dados"
   ]
  },
  {
   "cell_type": "code",
   "execution_count": 92,
   "metadata": {},
   "outputs": [
    {
     "data": {
      "text/plain": [
       "count      430817\n",
       "unique          3\n",
       "top       Simples\n",
       "freq       214535\n",
       "Name: tipo_pista, dtype: object"
      ]
     },
     "execution_count": 92,
     "metadata": {},
     "output_type": "execute_result"
    }
   ],
   "source": [
    "df_accidents[\"tipo_pista\"].describe()"
   ]
  },
  {
   "cell_type": "markdown",
   "metadata": {},
   "source": [
    "#### Verificando a frequência dos valores da coluna \"tipo_pista\" para avaliar a necessidade de tratamento dos dados"
   ]
  },
  {
   "cell_type": "code",
   "execution_count": 93,
   "metadata": {},
   "outputs": [
    {
     "data": {
      "text/plain": [
       "tipo_pista\n",
       "Simples     214535\n",
       "Dupla       178675\n",
       "Múltipla     37607\n",
       "Name: count, dtype: int64"
      ]
     },
     "execution_count": 93,
     "metadata": {},
     "output_type": "execute_result"
    }
   ],
   "source": [
    "df_accidents[\"tipo_pista\"].value_counts()"
   ]
  },
  {
   "cell_type": "markdown",
   "metadata": {},
   "source": [
    "#### Verificando informações da coluna \"sentido_via\""
   ]
  },
  {
   "cell_type": "code",
   "execution_count": 94,
   "metadata": {},
   "outputs": [
    {
     "name": "stdout",
     "output_type": "stream",
     "text": [
      "<class 'pandas.core.series.Series'>\n",
      "Index: 430817 entries, 0 to 436366\n",
      "Series name: sentido_via\n",
      "Non-Null Count   Dtype \n",
      "--------------   ----- \n",
      "430817 non-null  object\n",
      "dtypes: object(1)\n",
      "memory usage: 6.6+ MB\n"
     ]
    }
   ],
   "source": [
    "df_accidents[\"sentido_via\"].info()"
   ]
  },
  {
   "cell_type": "markdown",
   "metadata": {},
   "source": [
    "#### Verificando dados estatísticos da coluna \"sentido_via\" para avaliar a necessidade de tratamento dos dados"
   ]
  },
  {
   "cell_type": "code",
   "execution_count": 95,
   "metadata": {},
   "outputs": [
    {
     "data": {
      "text/plain": [
       "count        430817\n",
       "unique            3\n",
       "top       Crescente\n",
       "freq         230480\n",
       "Name: sentido_via, dtype: object"
      ]
     },
     "execution_count": 95,
     "metadata": {},
     "output_type": "execute_result"
    }
   ],
   "source": [
    "df_accidents[\"sentido_via\"].describe()"
   ]
  },
  {
   "cell_type": "markdown",
   "metadata": {},
   "source": [
    "#### Verificando a frequência dos valores da coluna \"sentido_via\" para avaliar a necessidade de tratamento dos dados"
   ]
  },
  {
   "cell_type": "code",
   "execution_count": 96,
   "metadata": {},
   "outputs": [
    {
     "data": {
      "text/plain": [
       "sentido_via\n",
       "Crescente        230480\n",
       "Decrescente      199363\n",
       "Não Informado       974\n",
       "Name: count, dtype: int64"
      ]
     },
     "execution_count": 96,
     "metadata": {},
     "output_type": "execute_result"
    }
   ],
   "source": [
    "df_accidents[\"sentido_via\"].value_counts()"
   ]
  },
  {
   "cell_type": "markdown",
   "metadata": {},
   "source": [
    "#### Verificando informações da coluna \"tracado_via\""
   ]
  },
  {
   "cell_type": "code",
   "execution_count": 97,
   "metadata": {},
   "outputs": [
    {
     "name": "stdout",
     "output_type": "stream",
     "text": [
      "<class 'pandas.core.series.Series'>\n",
      "Index: 430817 entries, 0 to 436366\n",
      "Series name: tracado_via\n",
      "Non-Null Count   Dtype \n",
      "--------------   ----- \n",
      "430817 non-null  object\n",
      "dtypes: object(1)\n",
      "memory usage: 6.6+ MB\n"
     ]
    }
   ],
   "source": [
    "df_accidents[\"tracado_via\"].info()"
   ]
  },
  {
   "cell_type": "markdown",
   "metadata": {},
   "source": [
    "#### Verificando dados estatísticos da coluna \"tracado_via\" para avaliar a necessidade de tratamento dos dados"
   ]
  },
  {
   "cell_type": "code",
   "execution_count": 98,
   "metadata": {},
   "outputs": [
    {
     "data": {
      "text/plain": [
       "count     430817\n",
       "unique       969\n",
       "top         Reta\n",
       "freq      254389\n",
       "Name: tracado_via, dtype: object"
      ]
     },
     "execution_count": 98,
     "metadata": {},
     "output_type": "execute_result"
    }
   ],
   "source": [
    "df_accidents[\"tracado_via\"].describe()"
   ]
  },
  {
   "cell_type": "markdown",
   "metadata": {},
   "source": [
    "#### Verificando a frequência dos valores da coluna \"tracado_via\" para avaliar a necessidade de tratamento dos dados"
   ]
  },
  {
   "cell_type": "code",
   "execution_count": 99,
   "metadata": {},
   "outputs": [
    {
     "data": {
      "text/plain": [
       "tracado_via\n",
       "Reta                                                              254389\n",
       "Curva                                                              61897\n",
       "Não Informado                                                      25231\n",
       "Interseção de vias                                                 10597\n",
       "Rotatória                                                           7737\n",
       "                                                                   ...  \n",
       "Viaduto;Declive;Em Obras                                               1\n",
       "Interseção de Vias;Aclive;Reta;Retorno Regulamentado;Rotatória         1\n",
       "Curva;Ponte;Interseção de Vias;Aclive;Em Obras;Viaduto                 1\n",
       "Curva;Túnel;Viaduto                                                    1\n",
       "Retorno Regulamentado;Curva;Interseção de Vias;Viaduto                 1\n",
       "Name: count, Length: 969, dtype: int64"
      ]
     },
     "execution_count": 99,
     "metadata": {},
     "output_type": "execute_result"
    }
   ],
   "source": [
    "tracado_via = df_accidents[\"tracado_via\"].value_counts()\n",
    "tracado_via"
   ]
  },
  {
   "cell_type": "markdown",
   "metadata": {},
   "source": [
    "#### Exportando os traçados de via encontrados (973) para um arquivo para analisar como fazer o tratamento"
   ]
  },
  {
   "cell_type": "code",
   "execution_count": 100,
   "metadata": {},
   "outputs": [],
   "source": [
    "tracado_via.index.to_frame(\n",
    "    name=\"tracado_via\").to_csv(\"wrangling/tracado_via.csv\", index=False)"
   ]
  },
  {
   "cell_type": "markdown",
   "metadata": {},
   "source": [
    "#### Removendo a coluna tracado_via, pois seus dados estão muito complexos para serem agrupados. Em alguns casos existem dados com Ponte;Reta e Reta;Ponte. Dessa forma, não é possível saber qual o valor correto. A remoção desta coluna não deve influenciar nas análises posteriores"
   ]
  },
  {
   "cell_type": "code",
   "execution_count": 101,
   "metadata": {},
   "outputs": [
    {
     "data": {
      "text/html": [
       "<div>\n",
       "<style scoped>\n",
       "    .dataframe tbody tr th:only-of-type {\n",
       "        vertical-align: middle;\n",
       "    }\n",
       "\n",
       "    .dataframe tbody tr th {\n",
       "        vertical-align: top;\n",
       "    }\n",
       "\n",
       "    .dataframe thead th {\n",
       "        text-align: right;\n",
       "    }\n",
       "</style>\n",
       "<table border=\"1\" class=\"dataframe\">\n",
       "  <thead>\n",
       "    <tr style=\"text-align: right;\">\n",
       "      <th></th>\n",
       "      <th>id</th>\n",
       "      <th>data_inversa</th>\n",
       "      <th>dia_semana</th>\n",
       "      <th>horario</th>\n",
       "      <th>uf</th>\n",
       "      <th>br</th>\n",
       "      <th>km</th>\n",
       "      <th>municipio</th>\n",
       "      <th>causa_acidente</th>\n",
       "      <th>tipo_acidente</th>\n",
       "      <th>...</th>\n",
       "      <th>condicao_metereologica</th>\n",
       "      <th>tipo_pista</th>\n",
       "      <th>uso_solo</th>\n",
       "      <th>pessoas</th>\n",
       "      <th>feridos</th>\n",
       "      <th>veiculos</th>\n",
       "      <th>latitude</th>\n",
       "      <th>longitude</th>\n",
       "      <th>mes_ano</th>\n",
       "      <th>tipo_data</th>\n",
       "    </tr>\n",
       "  </thead>\n",
       "  <tbody>\n",
       "    <tr>\n",
       "      <th>0</th>\n",
       "      <td>99973.0</td>\n",
       "      <td>2018-01-01</td>\n",
       "      <td>Segunda-feira</td>\n",
       "      <td>00:20:00</td>\n",
       "      <td>RJ</td>\n",
       "      <td>116</td>\n",
       "      <td>Desconhecido</td>\n",
       "      <td>RESENDE</td>\n",
       "      <td>Condutor dormindo</td>\n",
       "      <td>Saída de leito carroçável</td>\n",
       "      <td>...</td>\n",
       "      <td>Nublado</td>\n",
       "      <td>Múltipla</td>\n",
       "      <td>Urbano</td>\n",
       "      <td>5</td>\n",
       "      <td>4</td>\n",
       "      <td>1</td>\n",
       "      <td>-22,46937</td>\n",
       "      <td>-44,44705</td>\n",
       "      <td>2018-01</td>\n",
       "      <td>Confraternização mundial</td>\n",
       "    </tr>\n",
       "    <tr>\n",
       "      <th>141</th>\n",
       "      <td>100138.0</td>\n",
       "      <td>2018-01-01</td>\n",
       "      <td>Segunda-feira</td>\n",
       "      <td>16:32:00</td>\n",
       "      <td>RO</td>\n",
       "      <td>364</td>\n",
       "      <td>Desconhecido</td>\n",
       "      <td>CACOAL</td>\n",
       "      <td>Falta de atenção à condução</td>\n",
       "      <td>Colisão traseira</td>\n",
       "      <td>...</td>\n",
       "      <td>Nublado</td>\n",
       "      <td>Simples</td>\n",
       "      <td>Rural</td>\n",
       "      <td>2</td>\n",
       "      <td>0</td>\n",
       "      <td>2</td>\n",
       "      <td>-11,48946231</td>\n",
       "      <td>-61,38111376</td>\n",
       "      <td>2018-01</td>\n",
       "      <td>Confraternização mundial</td>\n",
       "    </tr>\n",
       "    <tr>\n",
       "      <th>142</th>\n",
       "      <td>100139.0</td>\n",
       "      <td>2018-01-01</td>\n",
       "      <td>Segunda-feira</td>\n",
       "      <td>18:20:00</td>\n",
       "      <td>RS</td>\n",
       "      <td>392</td>\n",
       "      <td>83</td>\n",
       "      <td>PELOTAS</td>\n",
       "      <td>Condutor deixou de manter distância do veículo...</td>\n",
       "      <td>Engavetamento</td>\n",
       "      <td>...</td>\n",
       "      <td>Céu Claro</td>\n",
       "      <td>Simples</td>\n",
       "      <td>Rural</td>\n",
       "      <td>3</td>\n",
       "      <td>0</td>\n",
       "      <td>3</td>\n",
       "      <td>-31,653152</td>\n",
       "      <td>-52,471169</td>\n",
       "      <td>2018-01</td>\n",
       "      <td>Confraternização mundial</td>\n",
       "    </tr>\n",
       "    <tr>\n",
       "      <th>143</th>\n",
       "      <td>100140.0</td>\n",
       "      <td>2018-01-01</td>\n",
       "      <td>Segunda-feira</td>\n",
       "      <td>18:20:00</td>\n",
       "      <td>SC</td>\n",
       "      <td>101</td>\n",
       "      <td>Desconhecido</td>\n",
       "      <td>BARRA VELHA</td>\n",
       "      <td>Falta de atenção à condução</td>\n",
       "      <td>Colisão lateral</td>\n",
       "      <td>...</td>\n",
       "      <td>Céu Claro</td>\n",
       "      <td>Dupla</td>\n",
       "      <td>Rural</td>\n",
       "      <td>5</td>\n",
       "      <td>2</td>\n",
       "      <td>2</td>\n",
       "      <td>-26,62039854</td>\n",
       "      <td>-48,71735305</td>\n",
       "      <td>2018-01</td>\n",
       "      <td>Confraternização mundial</td>\n",
       "    </tr>\n",
       "    <tr>\n",
       "      <th>144</th>\n",
       "      <td>100141.0</td>\n",
       "      <td>2018-01-01</td>\n",
       "      <td>Segunda-feira</td>\n",
       "      <td>17:35:00</td>\n",
       "      <td>PB</td>\n",
       "      <td>230</td>\n",
       "      <td>28</td>\n",
       "      <td>JOAO PESSOA</td>\n",
       "      <td>Falta de atenção à condução</td>\n",
       "      <td>Colisão traseira</td>\n",
       "      <td>...</td>\n",
       "      <td>Céu Claro</td>\n",
       "      <td>Dupla</td>\n",
       "      <td>Urbano</td>\n",
       "      <td>3</td>\n",
       "      <td>1</td>\n",
       "      <td>2</td>\n",
       "      <td>-7,1651</td>\n",
       "      <td>-34,8941</td>\n",
       "      <td>2018-01</td>\n",
       "      <td>Confraternização mundial</td>\n",
       "    </tr>\n",
       "  </tbody>\n",
       "</table>\n",
       "<p>5 rows × 23 columns</p>\n",
       "</div>"
      ],
      "text/plain": [
       "           id data_inversa     dia_semana   horario  uf   br            km  \\\n",
       "0     99973.0   2018-01-01  Segunda-feira  00:20:00  RJ  116  Desconhecido   \n",
       "141  100138.0   2018-01-01  Segunda-feira  16:32:00  RO  364  Desconhecido   \n",
       "142  100139.0   2018-01-01  Segunda-feira  18:20:00  RS  392            83   \n",
       "143  100140.0   2018-01-01  Segunda-feira  18:20:00  SC  101  Desconhecido   \n",
       "144  100141.0   2018-01-01  Segunda-feira  17:35:00  PB  230            28   \n",
       "\n",
       "       municipio                                     causa_acidente  \\\n",
       "0        RESENDE                                  Condutor dormindo   \n",
       "141       CACOAL                        Falta de atenção à condução   \n",
       "142      PELOTAS  Condutor deixou de manter distância do veículo...   \n",
       "143  BARRA VELHA                        Falta de atenção à condução   \n",
       "144  JOAO PESSOA                        Falta de atenção à condução   \n",
       "\n",
       "                 tipo_acidente  ... condicao_metereologica tipo_pista  \\\n",
       "0    Saída de leito carroçável  ...                Nublado   Múltipla   \n",
       "141           Colisão traseira  ...                Nublado    Simples   \n",
       "142              Engavetamento  ...              Céu Claro    Simples   \n",
       "143            Colisão lateral  ...              Céu Claro      Dupla   \n",
       "144           Colisão traseira  ...              Céu Claro      Dupla   \n",
       "\n",
       "    uso_solo pessoas feridos veiculos      latitude     longitude  mes_ano  \\\n",
       "0     Urbano       5       4        1     -22,46937     -44,44705  2018-01   \n",
       "141    Rural       2       0        2  -11,48946231  -61,38111376  2018-01   \n",
       "142    Rural       3       0        3    -31,653152    -52,471169  2018-01   \n",
       "143    Rural       5       2        2  -26,62039854  -48,71735305  2018-01   \n",
       "144   Urbano       3       1        2       -7,1651      -34,8941  2018-01   \n",
       "\n",
       "                    tipo_data  \n",
       "0    Confraternização mundial  \n",
       "141  Confraternização mundial  \n",
       "142  Confraternização mundial  \n",
       "143  Confraternização mundial  \n",
       "144  Confraternização mundial  \n",
       "\n",
       "[5 rows x 23 columns]"
      ]
     },
     "execution_count": 101,
     "metadata": {},
     "output_type": "execute_result"
    }
   ],
   "source": [
    "df_accidents = df_accidents.drop(columns=[\n",
    "    \"tracado_via\"\n",
    "])\n",
    "df_accidents.head()"
   ]
  },
  {
   "cell_type": "markdown",
   "metadata": {},
   "source": [
    "#### Verificando informações da coluna \"pessoas\""
   ]
  },
  {
   "cell_type": "code",
   "execution_count": 102,
   "metadata": {},
   "outputs": [
    {
     "name": "stdout",
     "output_type": "stream",
     "text": [
      "<class 'pandas.core.series.Series'>\n",
      "Index: 430817 entries, 0 to 436366\n",
      "Series name: pessoas\n",
      "Non-Null Count   Dtype\n",
      "--------------   -----\n",
      "430817 non-null  int64\n",
      "dtypes: int64(1)\n",
      "memory usage: 6.6 MB\n"
     ]
    }
   ],
   "source": [
    "df_accidents[\"pessoas\"].info()"
   ]
  },
  {
   "cell_type": "markdown",
   "metadata": {},
   "source": [
    "#### Verificando dados estatísticos da coluna \"pessoas\" para avaliar a necessidade de tratamento dos dados"
   ]
  },
  {
   "cell_type": "code",
   "execution_count": 103,
   "metadata": {},
   "outputs": [
    {
     "data": {
      "text/plain": [
       "count    430817.000000\n",
       "mean          2.472402\n",
       "std           2.033105\n",
       "min           1.000000\n",
       "25%           2.000000\n",
       "50%           2.000000\n",
       "75%           3.000000\n",
       "max          95.000000\n",
       "Name: pessoas, dtype: float64"
      ]
     },
     "execution_count": 103,
     "metadata": {},
     "output_type": "execute_result"
    }
   ],
   "source": [
    "df_accidents[\"pessoas\"].describe()"
   ]
  },
  {
   "cell_type": "markdown",
   "metadata": {},
   "source": [
    "#### Verificando a frequência dos valores da coluna \"pessoas\" para avaliar a necessidade de tratamento dos dados"
   ]
  },
  {
   "cell_type": "code",
   "execution_count": 104,
   "metadata": {},
   "outputs": [
    {
     "data": {
      "text/plain": [
       "pessoas\n",
       "2     176940\n",
       "1     105275\n",
       "3      80762\n",
       "4      34008\n",
       "5      16946\n",
       "       ...  \n",
       "77         1\n",
       "95         1\n",
       "68         1\n",
       "93         1\n",
       "66         1\n",
       "Name: count, Length: 74, dtype: int64"
      ]
     },
     "execution_count": 104,
     "metadata": {},
     "output_type": "execute_result"
    }
   ],
   "source": [
    "df_accidents[\"pessoas\"].value_counts()"
   ]
  },
  {
   "cell_type": "markdown",
   "metadata": {},
   "source": [
    "#### Tratamento da coluna \"pessoas\" para remover linhas, onde a frequência da quantidade de pessoas envolvidas, em um acidente, é menor que 7 (menos de 1 ocorrência por ano)"
   ]
  },
  {
   "cell_type": "code",
   "execution_count": 105,
   "metadata": {},
   "outputs": [
    {
     "name": "stdout",
     "output_type": "stream",
     "text": [
      "Índices a serem removidos: Index([  1315,   4637,  10614,  37246,  47786,  39216,  68688,  47616,  52107,\n",
      "        63681,  98051,  84793, 109157, 110602, 149317, 149151, 222001, 231264,\n",
      "       268975, 264368, 271017, 280740, 275652, 247206, 298759, 317170, 317400,\n",
      "       298345, 325257, 304309, 339233, 304746, 342025, 313354, 363531, 353276,\n",
      "       310792, 357373, 312723, 383767, 383815, 383818, 406930, 376516, 433389,\n",
      "       436698, 428430, 382047, 381762, 436043],\n",
      "      dtype='int64')\n"
     ]
    },
    {
     "data": {
      "text/plain": [
       "count    430767.000000\n",
       "mean          2.465463\n",
       "std           1.925594\n",
       "min           1.000000\n",
       "25%           2.000000\n",
       "50%           2.000000\n",
       "75%           3.000000\n",
       "max          54.000000\n",
       "Name: pessoas, dtype: float64"
      ]
     },
     "execution_count": 105,
     "metadata": {},
     "output_type": "execute_result"
    }
   ],
   "source": [
    "df_accidents = drop_rows(\n",
    "    df=df_accidents, column=\"pessoas\", frequency=7)\n",
    "df_accidents[\"pessoas\"].describe()"
   ]
  },
  {
   "cell_type": "markdown",
   "metadata": {},
   "source": [
    "#### Gerando histograma para a coluna \"pessoas\" a fim de entender melhor a distribuição de pessoas, visto que foram identificados valores discrepantes na análise anterior"
   ]
  },
  {
   "cell_type": "code",
   "execution_count": 106,
   "metadata": {},
   "outputs": [
    {
     "data": {
      "image/png": "[encoded data removed]",
      "text/plain": [
       "<Figure size 800x500 with 1 Axes>"
      ]
     },
     "metadata": {},
     "output_type": "display_data"
    }
   ],
   "source": [
    "graph.draw_histplot(df=df_accidents[\"pessoas\"])"
   ]
  },
  {
   "cell_type": "markdown",
   "metadata": {},
   "source": [
    "#### Gerando boxplot para a coluna \"pessoas\" a fim de entender melhor a distribuição de pessoas à partir do histograma acima"
   ]
  },
  {
   "cell_type": "code",
   "execution_count": 107,
   "metadata": {},
   "outputs": [
    {
     "data": {
      "image/png": "[encoded data removed]",
      "text/plain": [
       "<Figure size 800x500 with 1 Axes>"
      ]
     },
     "metadata": {},
     "output_type": "display_data"
    }
   ],
   "source": [
    "data = df_accidents[df_accidents[\"pessoas\"] <= 20]\n",
    "graph.draw_boxplot(\n",
    "    df=data[\"pessoas\"], multipleLocator=2) # type: ignore"
   ]
  },
  {
   "cell_type": "markdown",
   "metadata": {},
   "source": [
    "#### Verificando informações da coluna \"veiculos\""
   ]
  },
  {
   "cell_type": "code",
   "execution_count": 108,
   "metadata": {},
   "outputs": [
    {
     "name": "stdout",
     "output_type": "stream",
     "text": [
      "<class 'pandas.core.series.Series'>\n",
      "Index: 430767 entries, 0 to 436366\n",
      "Series name: veiculos\n",
      "Non-Null Count   Dtype\n",
      "--------------   -----\n",
      "430767 non-null  int64\n",
      "dtypes: int64(1)\n",
      "memory usage: 6.6 MB\n"
     ]
    }
   ],
   "source": [
    "df_accidents[\"veiculos\"].info()"
   ]
  },
  {
   "cell_type": "markdown",
   "metadata": {},
   "source": [
    "#### Verificando dados estatísticos da coluna \"veiculos\" para avaliar a necessidade de tratamento dos dados"
   ]
  },
  {
   "cell_type": "code",
   "execution_count": 109,
   "metadata": {},
   "outputs": [
    {
     "data": {
      "text/plain": [
       "count    430767.000000\n",
       "mean          1.810392\n",
       "std           0.935169\n",
       "min           1.000000\n",
       "25%           1.000000\n",
       "50%           2.000000\n",
       "75%           2.000000\n",
       "max          28.000000\n",
       "Name: veiculos, dtype: float64"
      ]
     },
     "execution_count": 109,
     "metadata": {},
     "output_type": "execute_result"
    }
   ],
   "source": [
    "df_accidents[\"veiculos\"].describe()"
   ]
  },
  {
   "cell_type": "markdown",
   "metadata": {},
   "source": [
    "#### Verificando a frequência dos valores da coluna \"veiculos\" para avaliar a necessidade de tratamento dos dados"
   ]
  },
  {
   "cell_type": "code",
   "execution_count": 110,
   "metadata": {},
   "outputs": [
    {
     "data": {
      "text/plain": [
       "veiculos\n",
       "2     203362\n",
       "1     171168\n",
       "3      37328\n",
       "4      11548\n",
       "5       4294\n",
       "6       1530\n",
       "7        707\n",
       "8        330\n",
       "9        165\n",
       "10       109\n",
       "11        61\n",
       "12        53\n",
       "13        41\n",
       "14        31\n",
       "15        16\n",
       "16         7\n",
       "17         5\n",
       "20         3\n",
       "19         2\n",
       "23         1\n",
       "22         1\n",
       "28         1\n",
       "18         1\n",
       "25         1\n",
       "26         1\n",
       "24         1\n",
       "Name: count, dtype: int64"
      ]
     },
     "execution_count": 110,
     "metadata": {},
     "output_type": "execute_result"
    }
   ],
   "source": [
    "df_accidents[\"veiculos\"].value_counts()"
   ]
  },
  {
   "cell_type": "code",
   "execution_count": 111,
   "metadata": {},
   "outputs": [
    {
     "name": "stdout",
     "output_type": "stream",
     "text": [
      "Índices a serem removidos: Index([187092, 236889, 237563, 237997, 241966, 296112, 297764, 300984, 303954,\n",
      "       304795, 306197, 307267, 308142, 311374, 313115, 370324, 369602, 379739,\n",
      "       374491, 376377, 377648, 380328, 380543, 381599],\n",
      "      dtype='int64')\n"
     ]
    },
    {
     "data": {
      "text/plain": [
       "count    430743.000000\n",
       "mean          1.809422\n",
       "std           0.925755\n",
       "min           1.000000\n",
       "25%           1.000000\n",
       "50%           2.000000\n",
       "75%           2.000000\n",
       "max          15.000000\n",
       "Name: veiculos, dtype: float64"
      ]
     },
     "execution_count": 111,
     "metadata": {},
     "output_type": "execute_result"
    }
   ],
   "source": [
    "df_accidents = drop_rows(\n",
    "    df=df_accidents, column=\"veiculos\", frequency=7)\n",
    "df_accidents[\"veiculos\"].describe()"
   ]
  },
  {
   "cell_type": "markdown",
   "metadata": {},
   "source": [
    "#### Gerando histograma para a coluna \"veiculos\" a fim de entender melhor a distribuição de veículos, visto que foram identificados valores discrepantes na análise anterior"
   ]
  },
  {
   "cell_type": "code",
   "execution_count": 112,
   "metadata": {},
   "outputs": [
    {
     "data": {
      "image/png": "[encoded data removed]",
      "text/plain": [
       "<Figure size 800x500 with 1 Axes>"
      ]
     },
     "metadata": {},
     "output_type": "display_data"
    }
   ],
   "source": [
    "graph.draw_histplot(\n",
    "    df=df_accidents[\"veiculos\"], bins=10)"
   ]
  },
  {
   "cell_type": "markdown",
   "metadata": {},
   "source": [
    "#### Gerando boxplot para a coluna \"veiculos\" a fim de entender melhor a distribuição de veículos à partir do histograma acima"
   ]
  },
  {
   "cell_type": "code",
   "execution_count": 113,
   "metadata": {},
   "outputs": [
    {
     "data": {
      "image/png": "[encoded data removed]",
      "text/plain": [
       "<Figure size 800x500 with 1 Axes>"
      ]
     },
     "metadata": {},
     "output_type": "display_data"
    }
   ],
   "source": [
    "data = df_accidents[df_accidents[\"veiculos\"] <= 10]\n",
    "graph.draw_boxplot(\n",
    "    df=data[\"veiculos\"], multipleLocator=2) # type: ignore"
   ]
  },
  {
   "cell_type": "markdown",
   "metadata": {},
   "source": [
    "#### Reordenando o dataframe antes de salvar"
   ]
  },
  {
   "cell_type": "code",
   "execution_count": 114,
   "metadata": {},
   "outputs": [
    {
     "data": {
      "text/html": [
       "<div>\n",
       "<style scoped>\n",
       "    .dataframe tbody tr th:only-of-type {\n",
       "        vertical-align: middle;\n",
       "    }\n",
       "\n",
       "    .dataframe tbody tr th {\n",
       "        vertical-align: top;\n",
       "    }\n",
       "\n",
       "    .dataframe thead th {\n",
       "        text-align: right;\n",
       "    }\n",
       "</style>\n",
       "<table border=\"1\" class=\"dataframe\">\n",
       "  <thead>\n",
       "    <tr style=\"text-align: right;\">\n",
       "      <th></th>\n",
       "      <th>id</th>\n",
       "      <th>data_inversa</th>\n",
       "      <th>tipo_data</th>\n",
       "      <th>mes_ano</th>\n",
       "      <th>dia_semana</th>\n",
       "      <th>horario</th>\n",
       "      <th>fase_dia</th>\n",
       "      <th>condicao_metereologica</th>\n",
       "      <th>uf</th>\n",
       "      <th>municipio</th>\n",
       "      <th>...</th>\n",
       "      <th>uso_solo</th>\n",
       "      <th>tipo_pista</th>\n",
       "      <th>sentido_via</th>\n",
       "      <th>tipo_acidente</th>\n",
       "      <th>causa_acidente</th>\n",
       "      <th>classificacao_acidente</th>\n",
       "      <th>pessoas</th>\n",
       "      <th>veiculos</th>\n",
       "      <th>latitude</th>\n",
       "      <th>longitude</th>\n",
       "    </tr>\n",
       "  </thead>\n",
       "  <tbody>\n",
       "    <tr>\n",
       "      <th>0</th>\n",
       "      <td>99973.0</td>\n",
       "      <td>2018-01-01</td>\n",
       "      <td>Confraternização mundial</td>\n",
       "      <td>2018-01</td>\n",
       "      <td>Segunda-feira</td>\n",
       "      <td>00:20:00</td>\n",
       "      <td>00h às 06h (madrugada)</td>\n",
       "      <td>Nublado</td>\n",
       "      <td>RJ</td>\n",
       "      <td>RESENDE</td>\n",
       "      <td>...</td>\n",
       "      <td>Urbano</td>\n",
       "      <td>Múltipla</td>\n",
       "      <td>Decrescente</td>\n",
       "      <td>Saída de leito carroçável</td>\n",
       "      <td>Condutor dormindo</td>\n",
       "      <td>Com vítimas feridas</td>\n",
       "      <td>5</td>\n",
       "      <td>1</td>\n",
       "      <td>-22,46937</td>\n",
       "      <td>-44,44705</td>\n",
       "    </tr>\n",
       "    <tr>\n",
       "      <th>141</th>\n",
       "      <td>100138.0</td>\n",
       "      <td>2018-01-01</td>\n",
       "      <td>Confraternização mundial</td>\n",
       "      <td>2018-01</td>\n",
       "      <td>Segunda-feira</td>\n",
       "      <td>16:32:00</td>\n",
       "      <td>12h às 18h (tarde)</td>\n",
       "      <td>Nublado</td>\n",
       "      <td>RO</td>\n",
       "      <td>CACOAL</td>\n",
       "      <td>...</td>\n",
       "      <td>Rural</td>\n",
       "      <td>Simples</td>\n",
       "      <td>Crescente</td>\n",
       "      <td>Colisão traseira</td>\n",
       "      <td>Falta de atenção à condução</td>\n",
       "      <td>Sem vítimas</td>\n",
       "      <td>2</td>\n",
       "      <td>2</td>\n",
       "      <td>-11,48946231</td>\n",
       "      <td>-61,38111376</td>\n",
       "    </tr>\n",
       "    <tr>\n",
       "      <th>142</th>\n",
       "      <td>100139.0</td>\n",
       "      <td>2018-01-01</td>\n",
       "      <td>Confraternização mundial</td>\n",
       "      <td>2018-01</td>\n",
       "      <td>Segunda-feira</td>\n",
       "      <td>18:20:00</td>\n",
       "      <td>18h às 00h (noite)</td>\n",
       "      <td>Céu Claro</td>\n",
       "      <td>RS</td>\n",
       "      <td>PELOTAS</td>\n",
       "      <td>...</td>\n",
       "      <td>Rural</td>\n",
       "      <td>Simples</td>\n",
       "      <td>Decrescente</td>\n",
       "      <td>Engavetamento</td>\n",
       "      <td>Condutor deixou de manter distância do veículo...</td>\n",
       "      <td>Sem vítimas</td>\n",
       "      <td>3</td>\n",
       "      <td>3</td>\n",
       "      <td>-31,653152</td>\n",
       "      <td>-52,471169</td>\n",
       "    </tr>\n",
       "    <tr>\n",
       "      <th>143</th>\n",
       "      <td>100140.0</td>\n",
       "      <td>2018-01-01</td>\n",
       "      <td>Confraternização mundial</td>\n",
       "      <td>2018-01</td>\n",
       "      <td>Segunda-feira</td>\n",
       "      <td>18:20:00</td>\n",
       "      <td>18h às 00h (noite)</td>\n",
       "      <td>Céu Claro</td>\n",
       "      <td>SC</td>\n",
       "      <td>BARRA VELHA</td>\n",
       "      <td>...</td>\n",
       "      <td>Rural</td>\n",
       "      <td>Dupla</td>\n",
       "      <td>Decrescente</td>\n",
       "      <td>Colisão lateral</td>\n",
       "      <td>Falta de atenção à condução</td>\n",
       "      <td>Com vítimas feridas</td>\n",
       "      <td>5</td>\n",
       "      <td>2</td>\n",
       "      <td>-26,62039854</td>\n",
       "      <td>-48,71735305</td>\n",
       "    </tr>\n",
       "    <tr>\n",
       "      <th>144</th>\n",
       "      <td>100141.0</td>\n",
       "      <td>2018-01-01</td>\n",
       "      <td>Confraternização mundial</td>\n",
       "      <td>2018-01</td>\n",
       "      <td>Segunda-feira</td>\n",
       "      <td>17:35:00</td>\n",
       "      <td>12h às 18h (tarde)</td>\n",
       "      <td>Céu Claro</td>\n",
       "      <td>PB</td>\n",
       "      <td>JOAO PESSOA</td>\n",
       "      <td>...</td>\n",
       "      <td>Urbano</td>\n",
       "      <td>Dupla</td>\n",
       "      <td>Crescente</td>\n",
       "      <td>Colisão traseira</td>\n",
       "      <td>Falta de atenção à condução</td>\n",
       "      <td>Com vítimas feridas</td>\n",
       "      <td>3</td>\n",
       "      <td>2</td>\n",
       "      <td>-7,1651</td>\n",
       "      <td>-34,8941</td>\n",
       "    </tr>\n",
       "  </tbody>\n",
       "</table>\n",
       "<p>5 rows × 22 columns</p>\n",
       "</div>"
      ],
      "text/plain": [
       "           id data_inversa                 tipo_data  mes_ano     dia_semana  \\\n",
       "0     99973.0   2018-01-01  Confraternização mundial  2018-01  Segunda-feira   \n",
       "141  100138.0   2018-01-01  Confraternização mundial  2018-01  Segunda-feira   \n",
       "142  100139.0   2018-01-01  Confraternização mundial  2018-01  Segunda-feira   \n",
       "143  100140.0   2018-01-01  Confraternização mundial  2018-01  Segunda-feira   \n",
       "144  100141.0   2018-01-01  Confraternização mundial  2018-01  Segunda-feira   \n",
       "\n",
       "      horario                fase_dia condicao_metereologica  uf    municipio  \\\n",
       "0    00:20:00  00h às 06h (madrugada)                Nublado  RJ      RESENDE   \n",
       "141  16:32:00      12h às 18h (tarde)                Nublado  RO       CACOAL   \n",
       "142  18:20:00      18h às 00h (noite)              Céu Claro  RS      PELOTAS   \n",
       "143  18:20:00      18h às 00h (noite)              Céu Claro  SC  BARRA VELHA   \n",
       "144  17:35:00      12h às 18h (tarde)              Céu Claro  PB  JOAO PESSOA   \n",
       "\n",
       "     ... uso_solo tipo_pista  sentido_via              tipo_acidente  \\\n",
       "0    ...   Urbano   Múltipla  Decrescente  Saída de leito carroçável   \n",
       "141  ...    Rural    Simples    Crescente           Colisão traseira   \n",
       "142  ...    Rural    Simples  Decrescente              Engavetamento   \n",
       "143  ...    Rural      Dupla  Decrescente            Colisão lateral   \n",
       "144  ...   Urbano      Dupla    Crescente           Colisão traseira   \n",
       "\n",
       "                                        causa_acidente classificacao_acidente  \\\n",
       "0                                    Condutor dormindo    Com vítimas feridas   \n",
       "141                        Falta de atenção à condução            Sem vítimas   \n",
       "142  Condutor deixou de manter distância do veículo...            Sem vítimas   \n",
       "143                        Falta de atenção à condução    Com vítimas feridas   \n",
       "144                        Falta de atenção à condução    Com vítimas feridas   \n",
       "\n",
       "    pessoas veiculos      latitude     longitude  \n",
       "0         5        1     -22,46937     -44,44705  \n",
       "141       2        2  -11,48946231  -61,38111376  \n",
       "142       3        3    -31,653152    -52,471169  \n",
       "143       5        2  -26,62039854  -48,71735305  \n",
       "144       3        2       -7,1651      -34,8941  \n",
       "\n",
       "[5 rows x 22 columns]"
      ]
     },
     "execution_count": 114,
     "metadata": {},
     "output_type": "execute_result"
    }
   ],
   "source": [
    "df_accidents = df_accidents[[\n",
    "    \"id\",\n",
    "    \"data_inversa\",\n",
    "    \"tipo_data\",\n",
    "    'mes_ano',\n",
    "    \"dia_semana\",\n",
    "    \"horario\",\n",
    "    \"fase_dia\",\n",
    "    \"condicao_metereologica\",\n",
    "    \"uf\",\n",
    "    \"municipio\",\n",
    "    \"br\",\n",
    "    \"km\",\n",
    "    \"uso_solo\",\n",
    "    \"tipo_pista\",\n",
    "    \"sentido_via\",\n",
    "    \"tipo_acidente\",\n",
    "    \"causa_acidente\",\n",
    "    \"classificacao_acidente\",\n",
    "    \"pessoas\",\n",
    "    \"veiculos\",\n",
    "    \"latitude\",\n",
    "    \"longitude\"\n",
    "]]\n",
    "df_accidents.head()"
   ]
  },
  {
   "cell_type": "markdown",
   "metadata": {},
   "source": [
    "#### Salvando os dados em um novo CSV após o tratamento de dados"
   ]
  },
  {
   "cell_type": "code",
   "execution_count": 115,
   "metadata": {},
   "outputs": [],
   "source": [
    "df_accidents.to_csv(\n",
    "    path_or_buf=\"wrangling/datatran2018_2024_v1.csv\",\n",
    "    index=False\n",
    ")"
   ]
  }
 ],
 "metadata": {
  "kernelspec": {
   "display_name": "venv",
   "language": "python",
   "name": "python3"
  },
  "language_info": {
   "codemirror_mode": {
    "name": "ipython",
    "version": 3
   },
   "file_extension": ".py",
   "mimetype": "text/x-python",
   "name": "python",
   "nbconvert_exporter": "python",
   "pygments_lexer": "ipython3",
   "version": "3.13.2"
  }
 },
 "nbformat": 4,
 "nbformat_minor": 2
}
